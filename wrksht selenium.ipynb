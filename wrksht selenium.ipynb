{
 "cells": [
  {
   "cell_type": "code",
   "execution_count": 8,
   "id": "8fd8298f",
   "metadata": {},
   "outputs": [
    {
     "name": "stdout",
     "output_type": "stream",
     "text": [
      "Requirement already satisfied: selenium in c:\\users\\hp\\anaconda3\\lib\\site-packages (4.5.0)\n",
      "Requirement already satisfied: trio-websocket~=0.9 in c:\\users\\hp\\anaconda3\\lib\\site-packages (from selenium) (0.9.2)\n",
      "Requirement already satisfied: certifi>=2021.10.8 in c:\\users\\hp\\anaconda3\\lib\\site-packages (from selenium) (2021.10.8)\n",
      "Requirement already satisfied: trio~=0.17 in c:\\users\\hp\\anaconda3\\lib\\site-packages (from selenium) (0.22.0)\n",
      "Requirement already satisfied: urllib3[socks]~=1.26 in c:\\users\\hp\\anaconda3\\lib\\site-packages (from selenium) (1.26.9)\n",
      "Requirement already satisfied: cffi>=1.14 in c:\\users\\hp\\anaconda3\\lib\\site-packages (from trio~=0.17->selenium) (1.15.0)\n",
      "Requirement already satisfied: sortedcontainers in c:\\users\\hp\\anaconda3\\lib\\site-packages (from trio~=0.17->selenium) (2.4.0)\n",
      "Requirement already satisfied: idna in c:\\users\\hp\\anaconda3\\lib\\site-packages (from trio~=0.17->selenium) (3.3)\n",
      "Requirement already satisfied: async-generator>=1.9 in c:\\users\\hp\\anaconda3\\lib\\site-packages (from trio~=0.17->selenium) (1.10)\n",
      "Requirement already satisfied: exceptiongroup>=1.0.0rc9 in c:\\users\\hp\\anaconda3\\lib\\site-packages (from trio~=0.17->selenium) (1.0.0)\n",
      "Requirement already satisfied: attrs>=19.2.0 in c:\\users\\hp\\anaconda3\\lib\\site-packages (from trio~=0.17->selenium) (21.4.0)\n",
      "Requirement already satisfied: sniffio in c:\\users\\hp\\anaconda3\\lib\\site-packages (from trio~=0.17->selenium) (1.2.0)\n",
      "Requirement already satisfied: outcome in c:\\users\\hp\\anaconda3\\lib\\site-packages (from trio~=0.17->selenium) (1.2.0)\n",
      "Requirement already satisfied: pycparser in c:\\users\\hp\\anaconda3\\lib\\site-packages (from cffi>=1.14->trio~=0.17->selenium) (2.21)\n",
      "Requirement already satisfied: wsproto>=0.14 in c:\\users\\hp\\anaconda3\\lib\\site-packages (from trio-websocket~=0.9->selenium) (1.2.0)\n",
      "Requirement already satisfied: PySocks!=1.5.7,<2.0,>=1.5.6 in c:\\users\\hp\\anaconda3\\lib\\site-packages (from urllib3[socks]~=1.26->selenium) (1.7.1)\n",
      "Requirement already satisfied: h11<1,>=0.9.0 in c:\\users\\hp\\anaconda3\\lib\\site-packages (from wsproto>=0.14->trio-websocket~=0.9->selenium) (0.14.0)\n"
     ]
    }
   ],
   "source": [
    "# installing selenium\n",
    "!pip install selenium"
   ]
  },
  {
   "cell_type": "code",
   "execution_count": 9,
   "id": "2a97b788",
   "metadata": {},
   "outputs": [],
   "source": [
    "# importing necessary libraries\n",
    "import selenium\n",
    "from selenium import webdriver\n",
    "import pandas as pd\n",
    "from selenium.webdriver.common.by import By\n",
    "import warnings\n",
    "warnings.filterwarnings('ignore')\n",
    "import time\n"
   ]
  },
  {
   "cell_type": "code",
   "execution_count": 10,
   "id": "ff723dc6",
   "metadata": {},
   "outputs": [],
   "source": [
    "# first we will connect to the webdriver\n",
    "# then we will open naukri.com website\n",
    "# then finding the first job element and enter'data analyst' in skill,designation,company field"
   ]
  },
  {
   "cell_type": "code",
   "execution_count": 4,
   "id": "056cfb02",
   "metadata": {},
   "outputs": [
    {
     "data": {
      "text/plain": [
       "<selenium.webdriver.chrome.webdriver.WebDriver (session=\"f43d9b4abc6516bf07a47740dafbf0cb\")>"
      ]
     },
     "execution_count": 4,
     "metadata": {},
     "output_type": "execute_result"
    }
   ],
   "source": [
    "driver=webdriver.Chrome(r'C:\\Users\\hp\\Downloads\\chromedriver_win32\\chromedriver.exe')\n",
    "driver"
   ]
  },
  {
   "cell_type": "code",
   "execution_count": 5,
   "id": "d446f586",
   "metadata": {},
   "outputs": [],
   "source": [
    "driver.maximize_window()"
   ]
  },
  {
   "cell_type": "code",
   "execution_count": 6,
   "id": "fe3ff6fe",
   "metadata": {},
   "outputs": [],
   "source": [
    "\n",
    "url='https://www.naukri.com/'\n",
    "driver.get(url)"
   ]
  },
  {
   "cell_type": "code",
   "execution_count": 7,
   "id": "ae084c15",
   "metadata": {},
   "outputs": [],
   "source": [
    "search_job=driver.find_element(By.CLASS_NAME,\"suggestor-input \")\n",
    "search_job.send_keys(\"Data Analyst\")"
   ]
  },
  {
   "cell_type": "code",
   "execution_count": 11,
   "id": "53c65f19",
   "metadata": {},
   "outputs": [],
   "source": [
    "#finding web element for search location using absolute x path and entering bangalore in location field\n",
    "search_locn=driver.find_element(By.XPATH,'/html/body/div[1]/div[6]/div/div/div[5]/div/div/div/input')\n",
    "search_locn.send_keys(\"Bangalore\")"
   ]
  },
  {
   "cell_type": "code",
   "execution_count": 12,
   "id": "453bd06d",
   "metadata": {},
   "outputs": [],
   "source": [
    "#clicking on search button\n",
    "search_btn=driver.find_element(By.CLASS_NAME,\"qsbSubmit\")\n",
    "search_btn.click()"
   ]
  },
  {
   "cell_type": "code",
   "execution_count": 16,
   "id": "b8519bfd",
   "metadata": {},
   "outputs": [
    {
     "data": {
      "text/plain": [
       "['Senior Data Analyst - PLM Data Migration',\n",
       " 'Lead Data Analyst',\n",
       " 'Sr. Data Analyst (SAS Data Management)',\n",
       " 'Data Analyst',\n",
       " 'Data Analyst',\n",
       " 'Senior Data Analyst',\n",
       " 'Sr Data Analyst',\n",
       " 'Senior Analyst - Data Management',\n",
       " 'Data Analyst - Python/Artificial Intelligence',\n",
       " 'CONSULTANT - DATA ANALYST - CRM ERP']"
      ]
     },
     "execution_count": 16,
     "metadata": {},
     "output_type": "execute_result"
    }
   ],
   "source": [
    "#scrapping the data for first ten jobs\n",
    "job_titles=[]\n",
    "title_tags=driver.find_elements(By.XPATH,\"//a[@class='title fw500 ellipsis']\")\n",
    "for i in title_tags[0:10]:\n",
    "    job_titles.append(i.text)\n",
    "len(job_titles)\n",
    "job_titles\n"
   ]
  },
  {
   "cell_type": "code",
   "execution_count": null,
   "id": "a63d78a0",
   "metadata": {},
   "outputs": [],
   "source": []
  },
  {
   "cell_type": "code",
   "execution_count": 17,
   "id": "e8703f61",
   "metadata": {},
   "outputs": [
    {
     "data": {
      "text/plain": [
       "10"
      ]
     },
     "execution_count": 17,
     "metadata": {},
     "output_type": "execute_result"
    }
   ],
   "source": [
    "len(job_titles)"
   ]
  },
  {
   "cell_type": "code",
   "execution_count": 18,
   "id": "06653440",
   "metadata": {},
   "outputs": [
    {
     "data": {
      "text/plain": [
       "['CGI',\n",
       " 'Mobile Premier League (MPL)',\n",
       " 'NMS Consultant',\n",
       " 'IBM',\n",
       " 'IBM',\n",
       " 'Groundtruth',\n",
       " 'Mettox Laboratries',\n",
       " 'Accenture',\n",
       " 'iMindYourBusiness',\n",
       " 'Pratham Books']"
      ]
     },
     "execution_count": 18,
     "metadata": {},
     "output_type": "execute_result"
    }
   ],
   "source": [
    "# extracting company names\n",
    "company_names=[]\n",
    "company_tags=driver.find_elements(By.XPATH,'//a[@class=\"subTitle ellipsis fleft\"]')\n",
    "for i in company_tags[0:10]:\n",
    "    company_names.append(i.text)\n",
    "company_names"
   ]
  },
  {
   "cell_type": "code",
   "execution_count": 19,
   "id": "2128f681",
   "metadata": {},
   "outputs": [
    {
     "data": {
      "text/plain": [
       "10"
      ]
     },
     "execution_count": 19,
     "metadata": {},
     "output_type": "execute_result"
    }
   ],
   "source": [
    "len(company_names)"
   ]
  },
  {
   "cell_type": "code",
   "execution_count": 20,
   "id": "2a5090b3",
   "metadata": {},
   "outputs": [
    {
     "data": {
      "text/plain": [
       "['3-6 Yrs',\n",
       " '4-7 Yrs',\n",
       " '5-10 Yrs',\n",
       " '3-4 Yrs',\n",
       " '3-4 Yrs',\n",
       " '5-8 Yrs',\n",
       " '3-8 Yrs',\n",
       " '5-8 Yrs',\n",
       " '0-2 Yrs',\n",
       " '14-20 Yrs']"
      ]
     },
     "execution_count": 20,
     "metadata": {},
     "output_type": "execute_result"
    }
   ],
   "source": [
    "#extracting experience\n",
    "experience=[]\n",
    "exp_tags=driver.find_elements(By.XPATH,'//li[@class=\"fleft grey-text br2 placeHolderLi experience\"]')\n",
    "for i in exp_tags[0:10]:\n",
    "    experience.append(i.text)\n",
    "experience"
   ]
  },
  {
   "cell_type": "code",
   "execution_count": 21,
   "id": "7285a45a",
   "metadata": {},
   "outputs": [
    {
     "data": {
      "text/plain": [
       "10"
      ]
     },
     "execution_count": 21,
     "metadata": {},
     "output_type": "execute_result"
    }
   ],
   "source": [
    "len(experience)"
   ]
  },
  {
   "cell_type": "code",
   "execution_count": 22,
   "id": "6f718a00",
   "metadata": {},
   "outputs": [
    {
     "data": {
      "text/plain": [
       "['Bangalore/Bengaluru',\n",
       " 'Bangalore/Bengaluru',\n",
       " 'Bangalore/Bengaluru, New Delhi',\n",
       " 'Bangalore/Bengaluru',\n",
       " 'Bangalore/Bengaluru',\n",
       " 'Hybrid - Bangalore/Bengaluru, Gurgaon/Gurugram',\n",
       " 'Bangalore/Bengaluru',\n",
       " 'Bangalore/Bengaluru',\n",
       " 'Bangalore/Bengaluru, Kolkata, Mumbai, Visakhapatnam, Hyderabad/Secunderabad, Pune, Chennai, Ahmedabad, Delhi / NCR',\n",
       " 'Bangalore/Bengaluru']"
      ]
     },
     "execution_count": 22,
     "metadata": {},
     "output_type": "execute_result"
    }
   ],
   "source": [
    "# extracting location\n",
    "location=[]\n",
    "locn_tags=driver.find_elements(By.XPATH,'//li[@class=\"fleft grey-text br2 placeHolderLi location\"]')\n",
    "for i in locn_tags[0:10]:\n",
    "    location.append(i.text)\n",
    "location"
   ]
  },
  {
   "cell_type": "code",
   "execution_count": 23,
   "id": "6eb8c851",
   "metadata": {},
   "outputs": [
    {
     "data": {
      "text/plain": [
       "10"
      ]
     },
     "execution_count": 23,
     "metadata": {},
     "output_type": "execute_result"
    }
   ],
   "source": [
    "len(location)"
   ]
  },
  {
   "cell_type": "code",
   "execution_count": 25,
   "id": "db8682a7",
   "metadata": {},
   "outputs": [
    {
     "data": {
      "text/html": [
       "<div>\n",
       "<style scoped>\n",
       "    .dataframe tbody tr th:only-of-type {\n",
       "        vertical-align: middle;\n",
       "    }\n",
       "\n",
       "    .dataframe tbody tr th {\n",
       "        vertical-align: top;\n",
       "    }\n",
       "\n",
       "    .dataframe thead th {\n",
       "        text-align: right;\n",
       "    }\n",
       "</style>\n",
       "<table border=\"1\" class=\"dataframe\">\n",
       "  <thead>\n",
       "    <tr style=\"text-align: right;\">\n",
       "      <th></th>\n",
       "      <th>Job Title</th>\n",
       "      <th>Company</th>\n",
       "      <th>Experience</th>\n",
       "      <th>Location</th>\n",
       "    </tr>\n",
       "  </thead>\n",
       "  <tbody>\n",
       "    <tr>\n",
       "      <th>0</th>\n",
       "      <td>Senior Data Analyst - PLM Data Migration</td>\n",
       "      <td>CGI</td>\n",
       "      <td>3-6 Yrs</td>\n",
       "      <td>Bangalore/Bengaluru</td>\n",
       "    </tr>\n",
       "    <tr>\n",
       "      <th>1</th>\n",
       "      <td>Lead Data Analyst</td>\n",
       "      <td>Mobile Premier League (MPL)</td>\n",
       "      <td>4-7 Yrs</td>\n",
       "      <td>Bangalore/Bengaluru</td>\n",
       "    </tr>\n",
       "    <tr>\n",
       "      <th>2</th>\n",
       "      <td>Sr. Data Analyst (SAS Data Management)</td>\n",
       "      <td>NMS Consultant</td>\n",
       "      <td>5-10 Yrs</td>\n",
       "      <td>Bangalore/Bengaluru, New Delhi</td>\n",
       "    </tr>\n",
       "    <tr>\n",
       "      <th>3</th>\n",
       "      <td>Data Analyst</td>\n",
       "      <td>IBM</td>\n",
       "      <td>3-4 Yrs</td>\n",
       "      <td>Bangalore/Bengaluru</td>\n",
       "    </tr>\n",
       "    <tr>\n",
       "      <th>4</th>\n",
       "      <td>Data Analyst</td>\n",
       "      <td>IBM</td>\n",
       "      <td>3-4 Yrs</td>\n",
       "      <td>Bangalore/Bengaluru</td>\n",
       "    </tr>\n",
       "    <tr>\n",
       "      <th>5</th>\n",
       "      <td>Senior Data Analyst</td>\n",
       "      <td>Groundtruth</td>\n",
       "      <td>5-8 Yrs</td>\n",
       "      <td>Hybrid - Bangalore/Bengaluru, Gurgaon/Gurugram</td>\n",
       "    </tr>\n",
       "    <tr>\n",
       "      <th>6</th>\n",
       "      <td>Sr Data Analyst</td>\n",
       "      <td>Mettox Laboratries</td>\n",
       "      <td>3-8 Yrs</td>\n",
       "      <td>Bangalore/Bengaluru</td>\n",
       "    </tr>\n",
       "    <tr>\n",
       "      <th>7</th>\n",
       "      <td>Senior Analyst - Data Management</td>\n",
       "      <td>Accenture</td>\n",
       "      <td>5-8 Yrs</td>\n",
       "      <td>Bangalore/Bengaluru</td>\n",
       "    </tr>\n",
       "    <tr>\n",
       "      <th>8</th>\n",
       "      <td>Data Analyst - Python/Artificial Intelligence</td>\n",
       "      <td>iMindYourBusiness</td>\n",
       "      <td>0-2 Yrs</td>\n",
       "      <td>Bangalore/Bengaluru, Kolkata, Mumbai, Visakhap...</td>\n",
       "    </tr>\n",
       "    <tr>\n",
       "      <th>9</th>\n",
       "      <td>CONSULTANT - DATA ANALYST - CRM ERP</td>\n",
       "      <td>Pratham Books</td>\n",
       "      <td>14-20 Yrs</td>\n",
       "      <td>Bangalore/Bengaluru</td>\n",
       "    </tr>\n",
       "  </tbody>\n",
       "</table>\n",
       "</div>"
      ],
      "text/plain": [
       "                                       Job Title                      Company  \\\n",
       "0       Senior Data Analyst - PLM Data Migration                          CGI   \n",
       "1                              Lead Data Analyst  Mobile Premier League (MPL)   \n",
       "2         Sr. Data Analyst (SAS Data Management)               NMS Consultant   \n",
       "3                                   Data Analyst                          IBM   \n",
       "4                                   Data Analyst                          IBM   \n",
       "5                            Senior Data Analyst                  Groundtruth   \n",
       "6                                Sr Data Analyst           Mettox Laboratries   \n",
       "7               Senior Analyst - Data Management                    Accenture   \n",
       "8  Data Analyst - Python/Artificial Intelligence            iMindYourBusiness   \n",
       "9            CONSULTANT - DATA ANALYST - CRM ERP                Pratham Books   \n",
       "\n",
       "  Experience                                           Location  \n",
       "0    3-6 Yrs                                Bangalore/Bengaluru  \n",
       "1    4-7 Yrs                                Bangalore/Bengaluru  \n",
       "2   5-10 Yrs                     Bangalore/Bengaluru, New Delhi  \n",
       "3    3-4 Yrs                                Bangalore/Bengaluru  \n",
       "4    3-4 Yrs                                Bangalore/Bengaluru  \n",
       "5    5-8 Yrs     Hybrid - Bangalore/Bengaluru, Gurgaon/Gurugram  \n",
       "6    3-8 Yrs                                Bangalore/Bengaluru  \n",
       "7    5-8 Yrs                                Bangalore/Bengaluru  \n",
       "8    0-2 Yrs  Bangalore/Bengaluru, Kolkata, Mumbai, Visakhap...  \n",
       "9  14-20 Yrs                                Bangalore/Bengaluru  "
      ]
     },
     "execution_count": 25,
     "metadata": {},
     "output_type": "execute_result"
    }
   ],
   "source": [
    "# creating DataFrame\n",
    "jobs=pd.DataFrame()\n",
    "jobs['Job Title']=job_titles\n",
    "jobs['Company']=company_names\n",
    "jobs['Experience']=experience\n",
    "jobs['Location']=location\n",
    "jobs"
   ]
  },
  {
   "cell_type": "code",
   "execution_count": 27,
   "id": "c56395f4",
   "metadata": {},
   "outputs": [],
   "source": [
    "# Q2 scrap the data for data scientist\n",
    "driver.close()"
   ]
  },
  {
   "cell_type": "code",
   "execution_count": 28,
   "id": "42ad28d3",
   "metadata": {},
   "outputs": [
    {
     "data": {
      "text/plain": [
       "<selenium.webdriver.chrome.webdriver.WebDriver (session=\"70a68aefe2fe47d12e9daba92aa1bd49\")>"
      ]
     },
     "execution_count": 28,
     "metadata": {},
     "output_type": "execute_result"
    }
   ],
   "source": [
    "# opening the chrome window\n",
    "driver=webdriver.Chrome(r'C:\\Users\\hp\\Downloads\\chromedriver_win32\\chromedriver.exe')\n",
    "driver"
   ]
  },
  {
   "cell_type": "code",
   "execution_count": 29,
   "id": "d91e9c85",
   "metadata": {},
   "outputs": [],
   "source": [
    "driver.maximize_window()"
   ]
  },
  {
   "cell_type": "code",
   "execution_count": 30,
   "id": "e69a1988",
   "metadata": {},
   "outputs": [],
   "source": [
    "# opening naukri.com website\n",
    "url='https://www.naukri.com/'\n",
    "driver.get(url)"
   ]
  },
  {
   "cell_type": "code",
   "execution_count": 31,
   "id": "6654671f",
   "metadata": {},
   "outputs": [],
   "source": [
    "#searching the web element and entering 'Data scientist' in skill designation and company field\n",
    "search_job=driver.find_element(By.CLASS_NAME,\"suggestor-input \")\n",
    "search_job.send_keys(\"Data Scientist\")"
   ]
  },
  {
   "cell_type": "code",
   "execution_count": 32,
   "id": "3b5020ce",
   "metadata": {},
   "outputs": [],
   "source": [
    "# finding web element for search location and entering bangalore in location\n",
    "search_locn=driver.find_element(By.XPATH,'/html/body/div[1]/div[6]/div/div/div[5]/div/div/div/input')\n",
    "search_locn.send_keys(\"Bangalore\")"
   ]
  },
  {
   "cell_type": "code",
   "execution_count": 33,
   "id": "125e4b56",
   "metadata": {},
   "outputs": [],
   "source": [
    "# clicking the search button\n",
    "search_btn=driver.find_element(By.CLASS_NAME,\"qsbSubmit\")\n",
    "search_btn.click()"
   ]
  },
  {
   "cell_type": "code",
   "execution_count": 34,
   "id": "73f81fde",
   "metadata": {},
   "outputs": [],
   "source": [
    "#scrapping the data for first ten jobs\n",
    "# scrapping job titles\n",
    "job_titles=[]\n",
    "title_tags=driver.find_elements(By.XPATH,'//a[@class=\"title fw500 ellipsis\"]')\n",
    "for i in title_tags[0:10]:\n",
    "    job_titles.append(i.text)"
   ]
  },
  {
   "cell_type": "code",
   "execution_count": 35,
   "id": "2fc2cc6b",
   "metadata": {},
   "outputs": [
    {
     "data": {
      "text/plain": [
       "['Analystics & Modeling Specialist',\n",
       " 'Senior Data Scientist',\n",
       " 'Data Scientist - Looking For Immediate Joiners',\n",
       " 'Assistant Manager - Data Science',\n",
       " 'Data Scientist',\n",
       " 'Data Scientist',\n",
       " 'ACN - Applied Intelligence - Data Scientist - 09',\n",
       " 'Data Scientist - 2',\n",
       " 'Data Scientist',\n",
       " 'Assistant Vice President - Data Scientist - KPO']"
      ]
     },
     "execution_count": 35,
     "metadata": {},
     "output_type": "execute_result"
    }
   ],
   "source": [
    "job_titles"
   ]
  },
  {
   "cell_type": "code",
   "execution_count": 36,
   "id": "cee4c3dd",
   "metadata": {},
   "outputs": [
    {
     "data": {
      "text/plain": [
       "10"
      ]
     },
     "execution_count": 36,
     "metadata": {},
     "output_type": "execute_result"
    }
   ],
   "source": [
    "len(job_titles)"
   ]
  },
  {
   "cell_type": "code",
   "execution_count": 37,
   "id": "78c2097b",
   "metadata": {},
   "outputs": [
    {
     "data": {
      "text/plain": [
       "['Accenture',\n",
       " 'Wipro',\n",
       " 'Wipro',\n",
       " 'Citiustech',\n",
       " 'Altair',\n",
       " 'Quest Global',\n",
       " 'Accenture',\n",
       " '24 7 ai',\n",
       " 'HCLTech',\n",
       " 'Huquo Consulting Pvt. Ltd']"
      ]
     },
     "execution_count": 37,
     "metadata": {},
     "output_type": "execute_result"
    }
   ],
   "source": [
    "# extracting company names\n",
    "company_names=[]\n",
    "company_tags=driver.find_elements(By.XPATH,'//a[@class=\"subTitle ellipsis fleft\"]')\n",
    "for i in company_tags[0:10]:\n",
    "    company_names.append(i.text)\n",
    "company_names"
   ]
  },
  {
   "cell_type": "code",
   "execution_count": 38,
   "id": "f8c31717",
   "metadata": {},
   "outputs": [
    {
     "data": {
      "text/plain": [
       "10"
      ]
     },
     "execution_count": 38,
     "metadata": {},
     "output_type": "execute_result"
    }
   ],
   "source": [
    "len(company_names)"
   ]
  },
  {
   "cell_type": "code",
   "execution_count": 39,
   "id": "05233f77",
   "metadata": {},
   "outputs": [
    {
     "data": {
      "text/plain": [
       "['6-8 Yrs',\n",
       " '6-11 Yrs',\n",
       " '5-10 Yrs',\n",
       " '5-9 Yrs',\n",
       " '2-7 Yrs',\n",
       " '5-7 Yrs',\n",
       " '2-6 Yrs',\n",
       " '1-3 Yrs',\n",
       " '4-9 Yrs',\n",
       " '6-11 Yrs']"
      ]
     },
     "execution_count": 39,
     "metadata": {},
     "output_type": "execute_result"
    }
   ],
   "source": [
    "#extracting experience\n",
    "experience=[]\n",
    "exp_tags=driver.find_elements(By.XPATH,'//li[@class=\"fleft grey-text br2 placeHolderLi experience\"]')\n",
    "for i in exp_tags[0:10]:\n",
    "    experience.append(i.text)\n",
    "experience"
   ]
  },
  {
   "cell_type": "code",
   "execution_count": 40,
   "id": "f5550111",
   "metadata": {},
   "outputs": [
    {
     "data": {
      "text/plain": [
       "10"
      ]
     },
     "execution_count": 40,
     "metadata": {},
     "output_type": "execute_result"
    }
   ],
   "source": [
    "len(experience)"
   ]
  },
  {
   "cell_type": "code",
   "execution_count": 41,
   "id": "8f9681b0",
   "metadata": {},
   "outputs": [
    {
     "data": {
      "text/plain": [
       "['Bangalore/Bengaluru, Kolkata, Mumbai, Hyderabad/Secunderabad, Pune, Chennai',\n",
       " 'Hybrid - Bangalore/Bengaluru, Pune, Chennai',\n",
       " 'Hybrid - Bangalore/Bengaluru, Hyderabad/Secunderabad',\n",
       " 'Hybrid - Bangalore/Bengaluru, Mumbai, Pune',\n",
       " 'Bangalore/Bengaluru, Hyderabad/Secunderabad, Pune, Chennai',\n",
       " 'Bangalore/Bengaluru',\n",
       " 'Bangalore/Bengaluru',\n",
       " 'Bangalore/Bengaluru',\n",
       " 'Bangalore/Bengaluru, Noida, Hyderabad/Secunderabad, Chennai',\n",
       " 'Bangalore/Bengaluru, Mumbai, Hyderabad/Secunderabad, Pune, Gurgaon/Gurugram, Chennai, Delhi / NCR']"
      ]
     },
     "execution_count": 41,
     "metadata": {},
     "output_type": "execute_result"
    }
   ],
   "source": [
    "#extracting location\n",
    "location=[]\n",
    "locn_tags=driver.find_elements(By.XPATH,'//li[@class=\"fleft grey-text br2 placeHolderLi location\"]')\n",
    "for i in locn_tags[0:10]:\n",
    "    location.append(i.text)\n",
    "location"
   ]
  },
  {
   "cell_type": "code",
   "execution_count": 42,
   "id": "dfc7eab6",
   "metadata": {},
   "outputs": [
    {
     "data": {
      "text/plain": [
       "10"
      ]
     },
     "execution_count": 42,
     "metadata": {},
     "output_type": "execute_result"
    }
   ],
   "source": [
    "len(location)"
   ]
  },
  {
   "cell_type": "code",
   "execution_count": 43,
   "id": "c2e91175",
   "metadata": {},
   "outputs": [
    {
     "data": {
      "text/html": [
       "<div>\n",
       "<style scoped>\n",
       "    .dataframe tbody tr th:only-of-type {\n",
       "        vertical-align: middle;\n",
       "    }\n",
       "\n",
       "    .dataframe tbody tr th {\n",
       "        vertical-align: top;\n",
       "    }\n",
       "\n",
       "    .dataframe thead th {\n",
       "        text-align: right;\n",
       "    }\n",
       "</style>\n",
       "<table border=\"1\" class=\"dataframe\">\n",
       "  <thead>\n",
       "    <tr style=\"text-align: right;\">\n",
       "      <th></th>\n",
       "      <th>Job_Title</th>\n",
       "      <th>Company</th>\n",
       "      <th>Experience</th>\n",
       "      <th>Location</th>\n",
       "    </tr>\n",
       "  </thead>\n",
       "  <tbody>\n",
       "    <tr>\n",
       "      <th>0</th>\n",
       "      <td>Analystics &amp; Modeling Specialist</td>\n",
       "      <td>Accenture</td>\n",
       "      <td>6-8 Yrs</td>\n",
       "      <td>Bangalore/Bengaluru, Kolkata, Mumbai, Hyderaba...</td>\n",
       "    </tr>\n",
       "    <tr>\n",
       "      <th>1</th>\n",
       "      <td>Senior Data Scientist</td>\n",
       "      <td>Wipro</td>\n",
       "      <td>6-11 Yrs</td>\n",
       "      <td>Hybrid - Bangalore/Bengaluru, Pune, Chennai</td>\n",
       "    </tr>\n",
       "    <tr>\n",
       "      <th>2</th>\n",
       "      <td>Data Scientist - Looking For Immediate Joiners</td>\n",
       "      <td>Wipro</td>\n",
       "      <td>5-10 Yrs</td>\n",
       "      <td>Hybrid - Bangalore/Bengaluru, Hyderabad/Secund...</td>\n",
       "    </tr>\n",
       "    <tr>\n",
       "      <th>3</th>\n",
       "      <td>Assistant Manager - Data Science</td>\n",
       "      <td>Citiustech</td>\n",
       "      <td>5-9 Yrs</td>\n",
       "      <td>Hybrid - Bangalore/Bengaluru, Mumbai, Pune</td>\n",
       "    </tr>\n",
       "    <tr>\n",
       "      <th>4</th>\n",
       "      <td>Data Scientist</td>\n",
       "      <td>Altair</td>\n",
       "      <td>2-7 Yrs</td>\n",
       "      <td>Bangalore/Bengaluru, Hyderabad/Secunderabad, P...</td>\n",
       "    </tr>\n",
       "    <tr>\n",
       "      <th>5</th>\n",
       "      <td>Data Scientist</td>\n",
       "      <td>Quest Global</td>\n",
       "      <td>5-7 Yrs</td>\n",
       "      <td>Bangalore/Bengaluru</td>\n",
       "    </tr>\n",
       "    <tr>\n",
       "      <th>6</th>\n",
       "      <td>ACN - Applied Intelligence - Data Scientist - 09</td>\n",
       "      <td>Accenture</td>\n",
       "      <td>2-6 Yrs</td>\n",
       "      <td>Bangalore/Bengaluru</td>\n",
       "    </tr>\n",
       "    <tr>\n",
       "      <th>7</th>\n",
       "      <td>Data Scientist - 2</td>\n",
       "      <td>24 7 ai</td>\n",
       "      <td>1-3 Yrs</td>\n",
       "      <td>Bangalore/Bengaluru</td>\n",
       "    </tr>\n",
       "    <tr>\n",
       "      <th>8</th>\n",
       "      <td>Data Scientist</td>\n",
       "      <td>HCLTech</td>\n",
       "      <td>4-9 Yrs</td>\n",
       "      <td>Bangalore/Bengaluru, Noida, Hyderabad/Secunder...</td>\n",
       "    </tr>\n",
       "    <tr>\n",
       "      <th>9</th>\n",
       "      <td>Assistant Vice President - Data Scientist - KPO</td>\n",
       "      <td>Huquo Consulting Pvt. Ltd</td>\n",
       "      <td>6-11 Yrs</td>\n",
       "      <td>Bangalore/Bengaluru, Mumbai, Hyderabad/Secunde...</td>\n",
       "    </tr>\n",
       "  </tbody>\n",
       "</table>\n",
       "</div>"
      ],
      "text/plain": [
       "                                          Job_Title  \\\n",
       "0                  Analystics & Modeling Specialist   \n",
       "1                             Senior Data Scientist   \n",
       "2    Data Scientist - Looking For Immediate Joiners   \n",
       "3                  Assistant Manager - Data Science   \n",
       "4                                    Data Scientist   \n",
       "5                                    Data Scientist   \n",
       "6  ACN - Applied Intelligence - Data Scientist - 09   \n",
       "7                                Data Scientist - 2   \n",
       "8                                    Data Scientist   \n",
       "9   Assistant Vice President - Data Scientist - KPO   \n",
       "\n",
       "                     Company Experience  \\\n",
       "0                  Accenture    6-8 Yrs   \n",
       "1                      Wipro   6-11 Yrs   \n",
       "2                      Wipro   5-10 Yrs   \n",
       "3                 Citiustech    5-9 Yrs   \n",
       "4                     Altair    2-7 Yrs   \n",
       "5               Quest Global    5-7 Yrs   \n",
       "6                  Accenture    2-6 Yrs   \n",
       "7                    24 7 ai    1-3 Yrs   \n",
       "8                    HCLTech    4-9 Yrs   \n",
       "9  Huquo Consulting Pvt. Ltd   6-11 Yrs   \n",
       "\n",
       "                                            Location  \n",
       "0  Bangalore/Bengaluru, Kolkata, Mumbai, Hyderaba...  \n",
       "1        Hybrid - Bangalore/Bengaluru, Pune, Chennai  \n",
       "2  Hybrid - Bangalore/Bengaluru, Hyderabad/Secund...  \n",
       "3         Hybrid - Bangalore/Bengaluru, Mumbai, Pune  \n",
       "4  Bangalore/Bengaluru, Hyderabad/Secunderabad, P...  \n",
       "5                                Bangalore/Bengaluru  \n",
       "6                                Bangalore/Bengaluru  \n",
       "7                                Bangalore/Bengaluru  \n",
       "8  Bangalore/Bengaluru, Noida, Hyderabad/Secunder...  \n",
       "9  Bangalore/Bengaluru, Mumbai, Hyderabad/Secunde...  "
      ]
     },
     "execution_count": 43,
     "metadata": {},
     "output_type": "execute_result"
    }
   ],
   "source": [
    "#creating dataframe\n",
    "jobs=pd.DataFrame()\n",
    "jobs['Job_Title']=job_titles\n",
    "jobs['Company']=company_names\n",
    "jobs['Experience']=experience\n",
    "jobs['Location']=location\n",
    "jobs"
   ]
  },
  {
   "cell_type": "code",
   "execution_count": 44,
   "id": "0d359978",
   "metadata": {},
   "outputs": [],
   "source": [
    "driver.close()"
   ]
  },
  {
   "cell_type": "code",
   "execution_count": 5,
   "id": "57504faa",
   "metadata": {},
   "outputs": [
    {
     "data": {
      "text/plain": [
       "<selenium.webdriver.chrome.webdriver.WebDriver (session=\"dec1aad4ecd40ab5692ad915fe951578\")>"
      ]
     },
     "execution_count": 5,
     "metadata": {},
     "output_type": "execute_result"
    }
   ],
   "source": [
    "# lets connect to the driver\n",
    "driver=webdriver.Chrome(r'C:\\Users\\hp\\Downloads\\chromedriver_win32\\chromedriver.exe')\n",
    "driver"
   ]
  },
  {
   "cell_type": "markdown",
   "id": "93e20703",
   "metadata": {},
   "source": []
  },
  {
   "cell_type": "code",
   "execution_count": 2,
   "id": "17e92ee2",
   "metadata": {},
   "outputs": [],
   "source": [
    "# importing necessary libraries\n",
    "import selenium\n",
    "from selenium import webdriver\n",
    "import pandas as pd\n",
    "from selenium.webdriver.common.by import By\n",
    "import warnings\n",
    "warnings.filterwarnings('ignore')\n",
    "import time\n"
   ]
  },
  {
   "cell_type": "code",
   "execution_count": 3,
   "id": "ebdbcade",
   "metadata": {},
   "outputs": [
    {
     "ename": "NameError",
     "evalue": "name 'driver' is not defined",
     "output_type": "error",
     "traceback": [
      "\u001b[1;31m---------------------------------------------------------------------------\u001b[0m",
      "\u001b[1;31mNameError\u001b[0m                                 Traceback (most recent call last)",
      "Input \u001b[1;32mIn [3]\u001b[0m, in \u001b[0;36m<cell line: 2>\u001b[1;34m()\u001b[0m\n\u001b[0;32m      1\u001b[0m \u001b[38;5;66;03m#lets maximize the automated chrome window\u001b[39;00m\n\u001b[1;32m----> 2\u001b[0m \u001b[43mdriver\u001b[49m\u001b[38;5;241m.\u001b[39mmaximize_window()\n",
      "\u001b[1;31mNameError\u001b[0m: name 'driver' is not defined"
     ]
    }
   ],
   "source": [
    "#lets maximize the automated chrome window\n",
    "driver.maximize_window()"
   ]
  },
  {
   "cell_type": "code",
   "execution_count": 8,
   "id": "d820180f",
   "metadata": {},
   "outputs": [],
   "source": [
    "#opening up naukri.com website"
   ]
  },
  {
   "cell_type": "code",
   "execution_count": 7,
   "id": "720510ab",
   "metadata": {},
   "outputs": [],
   "source": [
    "url='https://www.naukri.com/'\n",
    "driver.get(url)"
   ]
  },
  {
   "cell_type": "code",
   "execution_count": 9,
   "id": "6c652dbb",
   "metadata": {},
   "outputs": [],
   "source": [
    "#entering data scientist in skill ,designation and companies field\n",
    "search_job=driver.find_element(By.CLASS_NAME,\"suggestor-input \")\n",
    "search_job.send_keys(\"Data scientist\")"
   ]
  },
  {
   "cell_type": "code",
   "execution_count": 11,
   "id": "66d1753d",
   "metadata": {},
   "outputs": [],
   "source": [
    "# clicking search button\n",
    "search_btn=driver.find_element(By.CLASS_NAME,\"qsbSubmit\")\n",
    "search_btn.click()"
   ]
  },
  {
   "cell_type": "code",
   "execution_count": 4,
   "id": "7b62cbd3",
   "metadata": {},
   "outputs": [
    {
     "data": {
      "text/plain": [
       "<selenium.webdriver.chrome.webdriver.WebDriver (session=\"b3cc12516a7cc5c090e5c7b792dbc066\")>"
      ]
     },
     "execution_count": 4,
     "metadata": {},
     "output_type": "execute_result"
    }
   ],
   "source": [
    "# lets connect to the driver\n",
    "driver=webdriver.Chrome(r'C:\\Users\\hp\\Downloads\\chromedriver_win32\\chromedriver.exe')\n",
    "driver"
   ]
  },
  {
   "cell_type": "code",
   "execution_count": 5,
   "id": "eae3c632",
   "metadata": {},
   "outputs": [],
   "source": [
    "#lets maximize the automated chrome window\n",
    "driver.maximize_window()"
   ]
  },
  {
   "cell_type": "code",
   "execution_count": 6,
   "id": "9d068db8",
   "metadata": {},
   "outputs": [],
   "source": [
    "#q4"
   ]
  },
  {
   "cell_type": "code",
   "execution_count": 8,
   "id": "4823c77c",
   "metadata": {},
   "outputs": [],
   "source": [
    "url='https://www.flipkart.com/'\n",
    "driver.get(url)"
   ]
  },
  {
   "cell_type": "code",
   "execution_count": 10,
   "id": "2c9a48df",
   "metadata": {},
   "outputs": [],
   "source": [
    "#entering the sunglasses in search field"
   ]
  },
  {
   "cell_type": "code",
   "execution_count": 9,
   "id": "44e05c87",
   "metadata": {},
   "outputs": [],
   "source": [
    "sunglasses=driver.find_element(By.CLASS_NAME,\"_3704LK\")\n",
    "sunglasses.send_keys(\"sunglasses\")"
   ]
  },
  {
   "cell_type": "code",
   "execution_count": 11,
   "id": "d43746d5",
   "metadata": {},
   "outputs": [],
   "source": [
    "#clicking the search button\n",
    "search_btn=driver.find_element(By.CLASS_NAME,\"L0Z3Pu\")\n",
    "search_btn.click()"
   ]
  },
  {
   "cell_type": "code",
   "execution_count": 13,
   "id": "5b87fa2a",
   "metadata": {},
   "outputs": [
    {
     "data": {
      "text/plain": [
       "['CRYSTAL CART',\n",
       " 'WILD ZARZA LONDON',\n",
       " 'Fastrack',\n",
       " 'PIRASO',\n",
       " 'Fastrack',\n",
       " 'SUNBEE',\n",
       " 'Fastrack',\n",
       " 'CRYSTAL CART',\n",
       " 'New Specs',\n",
       " 'Fastrack',\n",
       " 'Abreena',\n",
       " 'Abreena',\n",
       " 'Fastrack',\n",
       " 'Sewell',\n",
       " 'VINCENT CHASE',\n",
       " 'PIRASO',\n",
       " 'Abreena',\n",
       " 'Abreena',\n",
       " 'PIRASO',\n",
       " 'Fastrack',\n",
       " 'Abreena',\n",
       " 'Abreena',\n",
       " 'Elligator',\n",
       " 'Fastrack',\n",
       " 'Elligator',\n",
       " 'Fastrack',\n",
       " 'Abreena',\n",
       " 'Abreena',\n",
       " 'Fastrack',\n",
       " 'SHAAH COLLECTIONS',\n",
       " 'Abreena',\n",
       " 'Abreena',\n",
       " 'SRPM',\n",
       " 'ROZZETTA CRAFT',\n",
       " 'DEIXELS',\n",
       " 'Fastrack',\n",
       " 'GANSTA',\n",
       " 'Singco India',\n",
       " 'GANSTA',\n",
       " 'PIRASO']"
      ]
     },
     "execution_count": 13,
     "metadata": {},
     "output_type": "execute_result"
    }
   ],
   "source": [
    "brand_name=[]\n",
    "brand_tags=driver.find_elements(By.XPATH,\"//div[@class='_2WkVRV']\")\n",
    "for i in brand_tags:\n",
    "    brand_name.append(i.text)\n",
    "brand_name"
   ]
  },
  {
   "cell_type": "code",
   "execution_count": 14,
   "id": "601a4d08",
   "metadata": {},
   "outputs": [
    {
     "data": {
      "text/plain": [
       "40"
      ]
     },
     "execution_count": 14,
     "metadata": {},
     "output_type": "execute_result"
    }
   ],
   "source": [
    "len(brand_name)"
   ]
  },
  {
   "cell_type": "code",
   "execution_count": 23,
   "id": "845a7a7e",
   "metadata": {},
   "outputs": [
    {
     "data": {
      "text/plain": [
       "['Mirrored, Night Vision Oval Sunglasses (Free Size)',\n",
       " 'UV Protection Wayfarer Sunglasses (Free Size)',\n",
       " 'UV Protection Rectangular Sunglasses (52)',\n",
       " 'UV Protection Rectangular Sunglasses (Free Size)',\n",
       " 'UV Protection, Polarized Wayfarer Sunglasses (Free Size...',\n",
       " 'Gradient, UV Protection Wayfarer Sunglasses (Free Size)',\n",
       " 'Polarized, UV Protection Retro Square Sunglasses (Free ...',\n",
       " 'UV Protection Rectangular Sunglasses (Free Size)',\n",
       " 'UV Protection Wayfarer Sunglasses (Free Size)',\n",
       " 'UV Protection Shield Sunglasses (Free Size)',\n",
       " 'Mirrored, Night Vision, UV Protection, Riding Glasses S...',\n",
       " 'UV Protection Wayfarer Sunglasses (59)',\n",
       " 'UV Protection Aviator Sunglasses (54)',\n",
       " 'UV Protection Wayfarer Sunglasses (55)',\n",
       " 'Gradient, UV Protection Wayfarer Sunglasses (Free Size)',\n",
       " 'UV Protection Cat-eye, Retro Square, Oval, Round Sungla...',\n",
       " 'Gradient, UV Protection Wayfarer Sunglasses (Free Size)',\n",
       " 'Others Cat-eye, Retro Square, Wayfarer Sunglasses (54)',\n",
       " 'Polarized Retro Square Sunglasses (Free Size)',\n",
       " 'UV Protection Aviator Sunglasses (58)',\n",
       " 'UV Protection, Polarized, Mirrored Rectangular Sunglass...',\n",
       " 'Night Vision, UV Protection Round Sunglasses (54)',\n",
       " 'Polarized, Riding Glasses Sports, Wrap-around Sunglasse...',\n",
       " 'Polarized, UV Protection, Riding Glasses Wayfarer Sungl...',\n",
       " 'UV Protection Aviator Sunglasses (58)',\n",
       " 'Gradient, UV Protection Aviator Sunglasses (57)',\n",
       " 'Gradient, Toughened Glass Lens, UV Protection Retro Squ...',\n",
       " 'UV Protection Retro Square Sunglasses (53)',\n",
       " 'UV Protection Wayfarer Sunglasses (32)']"
      ]
     },
     "execution_count": 23,
     "metadata": {},
     "output_type": "execute_result"
    }
   ],
   "source": [
    "#scrapping the description\n",
    "description=[]\n",
    "desc_tags=driver.find_elements(By.XPATH,'//a[@class=\"IRpwTa\"]')\n",
    "for i in desc_tags:\n",
    "    description.append(i.text)\n",
    "description\n"
   ]
  },
  {
   "cell_type": "code",
   "execution_count": 22,
   "id": "5e9c5a4f",
   "metadata": {},
   "outputs": [
    {
     "data": {
      "text/plain": [
       "29"
      ]
     },
     "execution_count": 22,
     "metadata": {},
     "output_type": "execute_result"
    }
   ],
   "source": [
    "len(description)"
   ]
  },
  {
   "cell_type": "code",
   "execution_count": 17,
   "id": "4a07d7d2",
   "metadata": {},
   "outputs": [
    {
     "data": {
      "text/plain": [
       "['₹209',\n",
       " '₹249',\n",
       " '₹649',\n",
       " '₹199',\n",
       " '₹519',\n",
       " '₹283',\n",
       " '₹579',\n",
       " '₹209',\n",
       " '₹254',\n",
       " '₹629',\n",
       " '₹399',\n",
       " '₹129',\n",
       " '₹649',\n",
       " '₹265',\n",
       " '₹649',\n",
       " '₹251',\n",
       " '₹176',\n",
       " '₹169',\n",
       " '₹251',\n",
       " '₹679',\n",
       " '₹169',\n",
       " '₹149',\n",
       " '₹176',\n",
       " '₹519',\n",
       " '₹197',\n",
       " '₹559',\n",
       " '₹147',\n",
       " '₹162',\n",
       " '₹939',\n",
       " '₹185',\n",
       " '₹155',\n",
       " '₹149',\n",
       " '₹199',\n",
       " '₹474',\n",
       " '₹236',\n",
       " '₹939',\n",
       " '₹296',\n",
       " '₹575',\n",
       " '₹220',\n",
       " '₹209']"
      ]
     },
     "execution_count": 17,
     "metadata": {},
     "output_type": "execute_result"
    }
   ],
   "source": [
    "price=[]\n",
    "price_tags=driver.find_elements(By.XPATH,'//div[@class=\"_30jeq3\"]')\n",
    "for i in price_tags:\n",
    "    price.append(i.text)\n",
    "price"
   ]
  },
  {
   "cell_type": "code",
   "execution_count": 18,
   "id": "6127f31a",
   "metadata": {},
   "outputs": [
    {
     "data": {
      "text/plain": [
       "40"
      ]
     },
     "execution_count": 18,
     "metadata": {},
     "output_type": "execute_result"
    }
   ],
   "source": [
    "len(price)"
   ]
  },
  {
   "cell_type": "code",
   "execution_count": 24,
   "id": "bf418931",
   "metadata": {},
   "outputs": [
    {
     "data": {
      "text/plain": [
       "['65% off',\n",
       " '75% off',\n",
       " '35% off',\n",
       " '87% off',\n",
       " '35% off',\n",
       " '78% off',\n",
       " '35% off',\n",
       " '83% off',\n",
       " '90% off',\n",
       " '30% off',\n",
       " '63% off',\n",
       " '87% off',\n",
       " '27% off',\n",
       " '82% off',\n",
       " '67% off',\n",
       " '84% off',\n",
       " '64% off',\n",
       " '85% off',\n",
       " '84% off',\n",
       " '24% off',\n",
       " '83% off',\n",
       " '75% off',\n",
       " '82% off',\n",
       " '35% off',\n",
       " '83% off',\n",
       " '30% off',\n",
       " '85% off',\n",
       " '83% off',\n",
       " '27% off',\n",
       " '89% off',\n",
       " '77% off',\n",
       " '78% off',\n",
       " '80% off',\n",
       " '76% off',\n",
       " '60% off',\n",
       " '27% off',\n",
       " '85% off',\n",
       " '80% off',\n",
       " '87% off',\n",
       " '86% off']"
      ]
     },
     "execution_count": 24,
     "metadata": {},
     "output_type": "execute_result"
    }
   ],
   "source": [
    "off=[]\n",
    "off_tags=driver.find_elements(By.XPATH,'//div[@class=\"_3Ay6Sb\"]')\n",
    "for i in off_tags:\n",
    "    off.append(i.text)\n",
    "off"
   ]
  },
  {
   "cell_type": "code",
   "execution_count": 25,
   "id": "5356b495",
   "metadata": {},
   "outputs": [
    {
     "data": {
      "text/plain": [
       "40"
      ]
     },
     "execution_count": 25,
     "metadata": {},
     "output_type": "execute_result"
    }
   ],
   "source": [
    "len(off)"
   ]
  },
  {
   "cell_type": "code",
   "execution_count": 33,
   "id": "da324dd7",
   "metadata": {},
   "outputs": [],
   "source": [
    "brand_name=[]\n",
    "start=0\n",
    "end=3\n",
    "for page in range(start,end):\n",
    "    names=driver.find_elements(By.XPATH,'//div[@class=\"_2WkVRV\"]')\n",
    "    for i in names[0:100]:\n",
    "        brand_name.append(i.text)\n",
    "    next_button=driver.find_element(By.XPATH,'//a[@class=\"_1LKTO3\"]')\n",
    "    next_button.click()\n",
    "    time.sleep(5)\n",
    "        "
   ]
  },
  {
   "cell_type": "code",
   "execution_count": 27,
   "id": "e2fe959a",
   "metadata": {},
   "outputs": [
    {
     "data": {
      "text/plain": [
       "120"
      ]
     },
     "execution_count": 27,
     "metadata": {},
     "output_type": "execute_result"
    }
   ],
   "source": [
    "len(brand_name)"
   ]
  },
  {
   "cell_type": "code",
   "execution_count": 30,
   "id": "ee392200",
   "metadata": {},
   "outputs": [],
   "source": [
    "description=[]\n",
    "start=0\n",
    "end=3\n",
    "for page in range(start,end):\n",
    "    desc=driver.find_elements(By.XPATH,'//a[@class=\"IRpwTa\"]')\n",
    "    for i in desc[0:100]:\n",
    "        description.append(i.text)\n",
    "    next_button=driver.find_element(By.XPATH,'//a[@class=\"_1LKTO3\"]')\n",
    "    next_button.click()\n",
    "    time.sleep(5)\n",
    "        "
   ]
  },
  {
   "cell_type": "code",
   "execution_count": 31,
   "id": "a1868993",
   "metadata": {},
   "outputs": [
    {
     "data": {
      "text/plain": [
       "98"
      ]
     },
     "execution_count": 31,
     "metadata": {},
     "output_type": "execute_result"
    }
   ],
   "source": [
    "len(description)"
   ]
  },
  {
   "cell_type": "code",
   "execution_count": 34,
   "id": "84d78ea0",
   "metadata": {},
   "outputs": [],
   "source": [
    "price=[]\n",
    "start=0\n",
    "end=3\n",
    "for page in range(start,end):\n",
    "    rate=driver.find_elements(By.XPATH,'//div[@class=\"_30jeq3\"]')\n",
    "    for i in rate[0:100]:\n",
    "        price.append(i.text)\n",
    "    next_button=driver.find_element(By.XPATH,'//a[@class=\"_1LKTO3\"]')\n",
    "    next_button.click()\n",
    "    time.sleep(5)\n",
    "        "
   ]
  },
  {
   "cell_type": "code",
   "execution_count": 35,
   "id": "d7692e7f",
   "metadata": {},
   "outputs": [
    {
     "data": {
      "text/plain": [
       "120"
      ]
     },
     "execution_count": 35,
     "metadata": {},
     "output_type": "execute_result"
    }
   ],
   "source": [
    "len(price)"
   ]
  },
  {
   "cell_type": "code",
   "execution_count": 36,
   "id": "d9c89ab6",
   "metadata": {},
   "outputs": [],
   "source": [
    "off=[]\n",
    "start=0\n",
    "end=3\n",
    "for page in range(start,end):\n",
    "    offtag=driver.find_elements(By.XPATH,'//div[@class=\"_30jeq3\"]')\n",
    "    for i in offtag[0:100]:\n",
    "        off.append(i.text)\n",
    "    next_button=driver.find_element(By.XPATH,'//a[@class=\"_1LKTO3\"]')\n",
    "    next_button.click()\n",
    "    time.sleep(5)\n",
    "        "
   ]
  },
  {
   "cell_type": "code",
   "execution_count": 37,
   "id": "4b6fa7c5",
   "metadata": {},
   "outputs": [
    {
     "data": {
      "text/plain": [
       "120"
      ]
     },
     "execution_count": 37,
     "metadata": {},
     "output_type": "execute_result"
    }
   ],
   "source": [
    "len(off)"
   ]
  },
  {
   "cell_type": "code",
   "execution_count": 43,
   "id": "65b2b829",
   "metadata": {},
   "outputs": [],
   "source": [
    "#Q4 done closing the window\n",
    "driver.close()"
   ]
  },
  {
   "cell_type": "code",
   "execution_count": 44,
   "id": "62efadf7",
   "metadata": {},
   "outputs": [
    {
     "data": {
      "text/plain": [
       "<selenium.webdriver.chrome.webdriver.WebDriver (session=\"ccfd3639842883e1e9c5fe0c287f5e71\")>"
      ]
     },
     "execution_count": 44,
     "metadata": {},
     "output_type": "execute_result"
    }
   ],
   "source": [
    "# lets connect to the driver again for Q5\n",
    "driver=webdriver.Chrome(r'C:\\Users\\hp\\Downloads\\chromedriver_win32\\chromedriver.exe')\n",
    "driver"
   ]
  },
  {
   "cell_type": "code",
   "execution_count": 45,
   "id": "136a9489",
   "metadata": {},
   "outputs": [],
   "source": [
    "driver.maximize_window()"
   ]
  },
  {
   "cell_type": "code",
   "execution_count": 46,
   "id": "24eab72b",
   "metadata": {},
   "outputs": [],
   "source": [
    "#opening the weburlfor Q6\n",
    "url='https://www.flipkart.com/'\n",
    "driver.get(url)"
   ]
  },
  {
   "cell_type": "code",
   "execution_count": 47,
   "id": "24bb0820",
   "metadata": {},
   "outputs": [],
   "source": [
    "search_product=driver.find_element(By.CLASS_NAME,'_3704LK')\n",
    "search_product.send_keys(\"Sneakers\")\n"
   ]
  },
  {
   "cell_type": "code",
   "execution_count": 49,
   "id": "90cdfad2",
   "metadata": {},
   "outputs": [],
   "source": [
    "#clicking on search button\n",
    "srch_btn=driver.find_element(By.CLASS_NAME,'L0Z3Pu')\n",
    "srch_btn.click()"
   ]
  },
  {
   "cell_type": "code",
   "execution_count": 51,
   "id": "e36cc05d",
   "metadata": {},
   "outputs": [
    {
     "data": {
      "text/plain": [
       "['COOPERWINGS',\n",
       " 'WARMFEET',\n",
       " 'RED TAPE',\n",
       " 'RED TAPE',\n",
       " 'Labbin',\n",
       " 'TR',\n",
       " 'TR',\n",
       " 'WARMFEET',\n",
       " 'Robbie jones',\n",
       " 'Kraasa',\n",
       " 'Afreet',\n",
       " 'El Paso',\n",
       " 'BRUTON',\n",
       " 'PUMA',\n",
       " 'BIRDE',\n",
       " 'Magnolia',\n",
       " 'Afreet',\n",
       " 'Mast & Harbour',\n",
       " 'Robbie jones',\n",
       " 'Deals4you',\n",
       " 'Mast & Harbour',\n",
       " 'WIQZ',\n",
       " 'RapidBox',\n",
       " 'SCATCHITE',\n",
       " 'BRUTON',\n",
       " 'BRUTON',\n",
       " 'Mast & Harbour',\n",
       " 'Layasa',\n",
       " 'World Wear Footwear',\n",
       " 'ASTEROID',\n",
       " 'Skechers',\n",
       " 'Layasa',\n",
       " 'T-ROCK',\n",
       " 'BRUTON',\n",
       " 'Sparx',\n",
       " 'BRUTON',\n",
       " 'Cresswell',\n",
       " 'Skechers',\n",
       " 'GVR',\n",
       " 'HOTSTYLE']"
      ]
     },
     "execution_count": 51,
     "metadata": {},
     "output_type": "execute_result"
    }
   ],
   "source": [
    "#scrapping brand names\n",
    "brand=[]\n",
    "brand_tags=driver.find_elements(By.XPATH,'//div[@class=\"_2WkVRV\"]')\n",
    "for i in brand_tags:\n",
    "    brand.append(i.text)\n",
    "brand"
   ]
  },
  {
   "cell_type": "code",
   "execution_count": 52,
   "id": "e679cdc0",
   "metadata": {},
   "outputs": [
    {
     "data": {
      "text/plain": [
       "40"
      ]
     },
     "execution_count": 52,
     "metadata": {},
     "output_type": "execute_result"
    }
   ],
   "source": [
    "len(brand)"
   ]
  },
  {
   "cell_type": "code",
   "execution_count": 53,
   "id": "d9ec4d2c",
   "metadata": {},
   "outputs": [
    {
     "data": {
      "text/plain": [
       "['₹399',\n",
       " '₹616',\n",
       " '₹1,249',\n",
       " '₹1,349',\n",
       " '₹395',\n",
       " '₹299',\n",
       " '₹299',\n",
       " '₹616',\n",
       " '₹329',\n",
       " '₹499',\n",
       " '₹549',\n",
       " '₹719',\n",
       " '₹199',\n",
       " '₹2,020',\n",
       " '₹379',\n",
       " '₹299',\n",
       " '₹549',\n",
       " '₹899',\n",
       " '₹349',\n",
       " '₹389',\n",
       " '₹998',\n",
       " '₹494',\n",
       " '₹599',\n",
       " '₹360',\n",
       " '₹389',\n",
       " '₹574',\n",
       " '₹998',\n",
       " '₹499',\n",
       " '₹249',\n",
       " '₹499',\n",
       " '₹6,599',\n",
       " '₹499',\n",
       " '₹395',\n",
       " '₹324',\n",
       " '₹849',\n",
       " '₹199',\n",
       " '₹939',\n",
       " '₹4,199',\n",
       " '₹699',\n",
       " '₹249']"
      ]
     },
     "execution_count": 53,
     "metadata": {},
     "output_type": "execute_result"
    }
   ],
   "source": [
    "#scrapping price\n",
    "price=[]\n",
    "price_tags=driver.find_elements(By.XPATH,'//div[@class=\"_30jeq3\"]')\n",
    "for i in price_tags:\n",
    "    price.append(i.text)\n",
    "price"
   ]
  },
  {
   "cell_type": "code",
   "execution_count": 54,
   "id": "6ca9d955",
   "metadata": {},
   "outputs": [
    {
     "data": {
      "text/plain": [
       "40"
      ]
     },
     "execution_count": 54,
     "metadata": {},
     "output_type": "execute_result"
    }
   ],
   "source": [
    "len(price)"
   ]
  },
  {
   "cell_type": "code",
   "execution_count": 55,
   "id": "b1242ef3",
   "metadata": {},
   "outputs": [
    {
     "data": {
      "text/plain": [
       "['Sneakers For Men',\n",
       " 'Fancy Sneakers For Men',\n",
       " 'Sneakers For Men',\n",
       " 'Sneakers For Men',\n",
       " 'Sneakers For Men',\n",
       " 'Casual Sneakers For Men',\n",
       " 'Sneakers For Men',\n",
       " 'Fancy Sneakers For Men',\n",
       " 'Casual Sneakers Canvas Shoes For Men Sneakers For Men',\n",
       " 'Casuals, Canvas, Partywear Sneakers For Men',\n",
       " 'Stylish Casuals Sneakers shoes Sneakers For Men',\n",
       " 'Lightweight Pack Of 1 Trendy Sneakers Sneakers For Men',\n",
       " 'Trinity Sneakers For Men',\n",
       " 'Premium Sports Shoes for Men Sneakers For Men',\n",
       " 'Sneakers For Men',\n",
       " 'Sneakers For Men',\n",
       " 'Sneakers For Men',\n",
       " 'Sneakers For Women',\n",
       " 'Sneakers For Men',\n",
       " 'Sneakers Sneakers For Men',\n",
       " 'Canvas shoes for Men Sneakers For Men',\n",
       " '2 Combo Sneaker Shoes Sneakers For Men',\n",
       " 'Sneakers For Men',\n",
       " 'Sneakers For Women',\n",
       " 'Exclusive Affordable Collection of Trendy & Stylish Cas...',\n",
       " \"Luxury Branded Fashionable Men's Casual Walking Partywe...\",\n",
       " 'NEO-CASUAL - CRESWELL Sneakers For Men',\n",
       " 'Casual Sneakers White Shoes For Girls And Sneakers For ...',\n",
       " 'Stylish White Casual Sneakers shoes Men and Boys Sneake...',\n",
       " 'Exclusive Sneaker Shoes Sneakers For Men',\n",
       " 'SM-671 Sneakers For Men',\n",
       " 'Lightweight Pack Of 1 Trendy Sneakers Sneakers Sneakers...',\n",
       " 'Black-Multicolor Lifestyle Casual Sports/Training Sneak...',\n",
       " 'GO WALK 5 - WARWICK Sneakers For Men',\n",
       " 'Sneakers For Men',\n",
       " 'Sneakers For Men']"
      ]
     },
     "execution_count": 55,
     "metadata": {},
     "output_type": "execute_result"
    }
   ],
   "source": [
    "#scrapping description\n",
    "description=[]\n",
    "desc_tags=driver.find_elements(By.XPATH,'//a[@class=\"IRpwTa\"]')\n",
    "for i in desc_tags:\n",
    "    description.append(i.text)\n",
    "description"
   ]
  },
  {
   "cell_type": "code",
   "execution_count": 56,
   "id": "67698914",
   "metadata": {},
   "outputs": [
    {
     "data": {
      "text/plain": [
       "36"
      ]
     },
     "execution_count": 56,
     "metadata": {},
     "output_type": "execute_result"
    }
   ],
   "source": [
    "len(description)"
   ]
  },
  {
   "cell_type": "code",
   "execution_count": 57,
   "id": "fe3e87f7",
   "metadata": {},
   "outputs": [
    {
     "data": {
      "text/plain": [
       "['60% off',\n",
       " '52% off',\n",
       " '75% off',\n",
       " '75% off',\n",
       " '60% off',\n",
       " '80% off',\n",
       " '80% off',\n",
       " '43% off',\n",
       " '67% off',\n",
       " '50% off',\n",
       " '45% off',\n",
       " '82% off',\n",
       " '66% off',\n",
       " '42% off',\n",
       " '62% off',\n",
       " '70% off',\n",
       " '45% off',\n",
       " '74% off',\n",
       " '65% off',\n",
       " '61% off',\n",
       " '73% off',\n",
       " '60% off',\n",
       " '40% off',\n",
       " '63% off',\n",
       " '70% off',\n",
       " '77% off',\n",
       " '73% off',\n",
       " '50% off',\n",
       " '83% off',\n",
       " '75% off',\n",
       " '40% off',\n",
       " '50% off',\n",
       " '60% off',\n",
       " '75% off',\n",
       " '15% off',\n",
       " '66% off',\n",
       " '73% off',\n",
       " '40% off',\n",
       " '30% off',\n",
       " '75% off']"
      ]
     },
     "execution_count": 57,
     "metadata": {},
     "output_type": "execute_result"
    }
   ],
   "source": [
    "#scrapping off%\n",
    "off=[]\n",
    "off_tags=driver.find_elements(By.XPATH,'//div[@class=\"_3Ay6Sb\"]')\n",
    "for i in off_tags:\n",
    "    off.append(i.text)\n",
    "off"
   ]
  },
  {
   "cell_type": "code",
   "execution_count": 58,
   "id": "cce0b976",
   "metadata": {},
   "outputs": [
    {
     "data": {
      "text/plain": [
       "40"
      ]
     },
     "execution_count": 58,
     "metadata": {},
     "output_type": "execute_result"
    }
   ],
   "source": [
    "len(off)"
   ]
  },
  {
   "cell_type": "code",
   "execution_count": 59,
   "id": "aec46b6a",
   "metadata": {},
   "outputs": [],
   "source": [
    "#scrapping the data for next pages to get 100 choices\n",
    "off=[]\n",
    "start=0\n",
    "end=3\n",
    "for page in range(start,end):\n",
    "    offtag=driver.find_elements(By.XPATH,'//div[@class=\"_3Ay6Sb\"]')\n",
    "    for i in offtag[0:100]:\n",
    "        off.append(i.text)\n",
    "    next_button=driver.find_element(By.XPATH,'//a[@class=\"_1LKTO3\"]')\n",
    "    next_button.click()\n",
    "    time.sleep(5)\n",
    "        "
   ]
  },
  {
   "cell_type": "code",
   "execution_count": 60,
   "id": "6d7a0cc8",
   "metadata": {},
   "outputs": [
    {
     "data": {
      "text/plain": [
       "['60% off',\n",
       " '52% off',\n",
       " '75% off',\n",
       " '75% off',\n",
       " '60% off',\n",
       " '80% off',\n",
       " '80% off',\n",
       " '43% off',\n",
       " '67% off',\n",
       " '50% off',\n",
       " '45% off',\n",
       " '82% off',\n",
       " '66% off',\n",
       " '42% off',\n",
       " '62% off',\n",
       " '70% off',\n",
       " '45% off',\n",
       " '74% off',\n",
       " '65% off',\n",
       " '61% off',\n",
       " '73% off',\n",
       " '60% off',\n",
       " '40% off',\n",
       " '63% off',\n",
       " '70% off',\n",
       " '77% off',\n",
       " '73% off',\n",
       " '50% off',\n",
       " '83% off',\n",
       " '75% off',\n",
       " '40% off',\n",
       " '50% off',\n",
       " '60% off',\n",
       " '75% off',\n",
       " '15% off',\n",
       " '66% off',\n",
       " '73% off',\n",
       " '40% off',\n",
       " '30% off',\n",
       " '75% off',\n",
       " '60% off',\n",
       " '57% off',\n",
       " '70% off',\n",
       " '80% off',\n",
       " '71% off',\n",
       " '75% off',\n",
       " '45% off',\n",
       " '52% off',\n",
       " '62% off',\n",
       " '70% off',\n",
       " '60% off',\n",
       " '82% off',\n",
       " '40% off',\n",
       " '80% off',\n",
       " '70% off',\n",
       " '50% off',\n",
       " '43% off',\n",
       " '45% off',\n",
       " '50% off',\n",
       " '67% off',\n",
       " '74% off',\n",
       " '73% off',\n",
       " '60% off',\n",
       " '73% off',\n",
       " '87% off',\n",
       " '65% off',\n",
       " '60% off',\n",
       " '73% off',\n",
       " '60% off',\n",
       " '40% off',\n",
       " '59% off',\n",
       " '50% off',\n",
       " '55% off',\n",
       " '77% off',\n",
       " '71% off',\n",
       " '71% off',\n",
       " '40% off',\n",
       " '50% off',\n",
       " '50% off',\n",
       " '40% off',\n",
       " '50% off',\n",
       " '45% off',\n",
       " '75% off',\n",
       " '75% off',\n",
       " '60% off',\n",
       " '80% off',\n",
       " '80% off',\n",
       " '62% off',\n",
       " '67% off',\n",
       " '50% off',\n",
       " '52% off',\n",
       " '62% off',\n",
       " '66% off',\n",
       " '42% off',\n",
       " '62% off',\n",
       " '70% off',\n",
       " '50% off',\n",
       " '72% off',\n",
       " '65% off',\n",
       " '61% off',\n",
       " '45% off',\n",
       " '45% off',\n",
       " '40% off',\n",
       " '63% off',\n",
       " '70% off',\n",
       " '83% off',\n",
       " '45% off',\n",
       " '50% off',\n",
       " '75% off',\n",
       " '60% off',\n",
       " '50% off',\n",
       " '2% off',\n",
       " '75% off',\n",
       " '77% off',\n",
       " '66% off',\n",
       " '30% off',\n",
       " '77% off',\n",
       " '71% off',\n",
       " '69% off',\n",
       " '75% off']"
      ]
     },
     "execution_count": 60,
     "metadata": {},
     "output_type": "execute_result"
    }
   ],
   "source": [
    "off"
   ]
  },
  {
   "cell_type": "code",
   "execution_count": 61,
   "id": "28379dd2",
   "metadata": {},
   "outputs": [
    {
     "data": {
      "text/plain": [
       "120"
      ]
     },
     "execution_count": 61,
     "metadata": {},
     "output_type": "execute_result"
    }
   ],
   "source": [
    "len(off)"
   ]
  },
  {
   "cell_type": "code",
   "execution_count": 62,
   "id": "e66c848d",
   "metadata": {},
   "outputs": [],
   "source": [
    "#scrapping data for 100 brand names\n",
    "\n",
    "names=[]\n",
    "start=0\n",
    "end=3\n",
    "for page in range(start,end):\n",
    "    brandtag=driver.find_elements(By.XPATH,'//div[@class=\"_2WkVRV\"]')\n",
    "    for i in brandtag[0:100]:\n",
    "        names.append(i.text)\n",
    "    next_button=driver.find_element(By.XPATH,'//a[@class=\"_1LKTO3\"]')\n",
    "    next_button.click()\n",
    "    time.sleep(5)\n",
    "        "
   ]
  },
  {
   "cell_type": "code",
   "execution_count": 63,
   "id": "4de73c7a",
   "metadata": {},
   "outputs": [
    {
     "data": {
      "text/plain": [
       "120"
      ]
     },
     "execution_count": 63,
     "metadata": {},
     "output_type": "execute_result"
    }
   ],
   "source": [
    "len(names)"
   ]
  },
  {
   "cell_type": "code",
   "execution_count": 64,
   "id": "2c9231b6",
   "metadata": {},
   "outputs": [],
   "source": [
    "#scrapping for price by clicking on next button\n",
    "\n",
    "\n",
    "price=[]\n",
    "start=0\n",
    "end=3\n",
    "for page in range(start,end):\n",
    "    pricetag=driver.find_elements(By.XPATH,'//div[@class=\"_30jeq3\"]')\n",
    "    for i in pricetag[0:100]:\n",
    "        price.append(i.text)\n",
    "    next_button=driver.find_element(By.XPATH,'//a[@class=\"_1LKTO3\"]')\n",
    "    next_button.click()\n",
    "    time.sleep(5)\n",
    "        "
   ]
  },
  {
   "cell_type": "code",
   "execution_count": 65,
   "id": "1c652a00",
   "metadata": {},
   "outputs": [
    {
     "data": {
      "text/plain": [
       "120"
      ]
     },
     "execution_count": 65,
     "metadata": {},
     "output_type": "execute_result"
    }
   ],
   "source": [
    "len(price)"
   ]
  },
  {
   "cell_type": "code",
   "execution_count": 71,
   "id": "20392b08",
   "metadata": {},
   "outputs": [],
   "source": [
    "#scrapping for product description by clicking on next button\n",
    "\n",
    "\n",
    "description=[]\n",
    "start=0\n",
    "end=4\n",
    "for page in range(start,end):\n",
    "    desctag=driver.find_elements(By.XPATH,'//a[@class=\"IRpwTa\"]')\n",
    "    for i in desctag[0:100]:\n",
    "        description.append(i.text)\n",
    "    next_button=driver.find_element(By.XPATH,'//a[@class=\"_1LKTO3\"]')\n",
    "    next_button.click()\n",
    "    time.sleep(5)\n",
    "        "
   ]
  },
  {
   "cell_type": "code",
   "execution_count": 69,
   "id": "636f1a00",
   "metadata": {},
   "outputs": [
    {
     "data": {
      "text/plain": [
       "132"
      ]
     },
     "execution_count": 69,
     "metadata": {},
     "output_type": "execute_result"
    }
   ],
   "source": [
    "len(description)"
   ]
  },
  {
   "cell_type": "code",
   "execution_count": 72,
   "id": "ec994283",
   "metadata": {},
   "outputs": [],
   "source": [
    "#Q6 completed \n",
    "#closing driver window\n",
    "driver.close()"
   ]
  },
  {
   "cell_type": "code",
   "execution_count": 3,
   "id": "4eb4b76b",
   "metadata": {},
   "outputs": [
    {
     "data": {
      "text/plain": [
       "<selenium.webdriver.chrome.webdriver.WebDriver (session=\"08f88e00827cdbf9909bab4b25976c18\")>"
      ]
     },
     "execution_count": 3,
     "metadata": {},
     "output_type": "execute_result"
    }
   ],
   "source": [
    "#Q 5 lets connect to the driver\n",
    "driver=webdriver.Chrome(r'C:\\Users\\hp\\Downloads\\chromedriver_win32\\chromedriver.exe')\n",
    "driver"
   ]
  },
  {
   "cell_type": "code",
   "execution_count": 4,
   "id": "0839aab8",
   "metadata": {},
   "outputs": [],
   "source": [
    "#maximizing the window\n",
    "driver.maximize_window()"
   ]
  },
  {
   "cell_type": "code",
   "execution_count": 5,
   "id": "27403b04",
   "metadata": {},
   "outputs": [],
   "source": [
    "# opening the url\n",
    "url='https://www.flipkart.com/apple-iphone-11-black-64-gb/product-reviews/itm4e5041ba101fd?pid=MOBFWQ6BXGJCEYNY&lid=LSTMOBFWQ6BXGJCEYNYZXSHRJ&marketplace=FLIPKART'\n",
    "driver.get(url)"
   ]
  },
  {
   "cell_type": "code",
   "execution_count": null,
   "id": "3bf299e5",
   "metadata": {},
   "outputs": [],
   "source": []
  },
  {
   "cell_type": "code",
   "execution_count": 6,
   "id": "54679f6f",
   "metadata": {},
   "outputs": [
    {
     "data": {
      "text/plain": [
       "['Simply awesome',\n",
       " 'Value-for-money',\n",
       " 'Perfect product!',\n",
       " 'Best in the market!',\n",
       " 'Highly recommended',\n",
       " 'Worth every penny',\n",
       " 'Highly recommended',\n",
       " 'Perfect product!',\n",
       " 'Pretty good',\n",
       " 'Great product']"
      ]
     },
     "execution_count": 6,
     "metadata": {},
     "output_type": "execute_result"
    }
   ],
   "source": [
    "#scrapping the summary\n",
    "summary=[]\n",
    "sum_tags=driver.find_elements(By.XPATH,'//p[@class=\"_2-N8zT\"]')\n",
    "for i in sum_tags[0:100]:\n",
    "    summary.append(i.text)\n",
    "summary"
   ]
  },
  {
   "cell_type": "code",
   "execution_count": 2,
   "id": "d6947b1c",
   "metadata": {},
   "outputs": [],
   "source": [
    "# importing necessary libraries\n",
    "import selenium\n",
    "from selenium import webdriver\n",
    "import pandas as pd\n",
    "from selenium.webdriver.common.by import By\n",
    "import warnings\n",
    "warnings.filterwarnings('ignore')\n",
    "import time\n"
   ]
  },
  {
   "cell_type": "code",
   "execution_count": 7,
   "id": "dc211788",
   "metadata": {},
   "outputs": [
    {
     "data": {
      "text/plain": [
       "10"
      ]
     },
     "execution_count": 7,
     "metadata": {},
     "output_type": "execute_result"
    }
   ],
   "source": [
    "len(summary)"
   ]
  },
  {
   "cell_type": "code",
   "execution_count": 9,
   "id": "a95ac6f4",
   "metadata": {},
   "outputs": [],
   "source": [
    "#scrapping the data for next pages to get 100 review summary\n",
    "summary=[]\n",
    "start=0\n",
    "end=10\n",
    "for page in range(start,end):\n",
    "    reviews=driver.find_elements(By.XPATH,'//p[@class=\"_2-N8zT\"]')\n",
    "    for i in reviews:\n",
    "        summary.append(i.text)\n",
    "    next_button=driver.find_element(By.XPATH,'//a[@class=\"_1LKTO3\"]')\n",
    "    next_button.click()\n",
    "    time.sleep(5)"
   ]
  },
  {
   "cell_type": "code",
   "execution_count": 11,
   "id": "f048b2a5",
   "metadata": {},
   "outputs": [
    {
     "data": {
      "text/plain": [
       "['Pretty good',\n",
       " 'Worth every penny',\n",
       " 'Classy product',\n",
       " 'Good choice',\n",
       " 'Perfect product!',\n",
       " 'Highly recommended',\n",
       " 'Perfect product!',\n",
       " 'Perfect product!',\n",
       " 'Value-for-money',\n",
       " 'Highly recommended',\n",
       " 'Simply awesome',\n",
       " 'Value-for-money',\n",
       " 'Perfect product!',\n",
       " 'Best in the market!',\n",
       " 'Highly recommended',\n",
       " 'Worth every penny',\n",
       " 'Highly recommended',\n",
       " 'Perfect product!',\n",
       " 'Great product',\n",
       " 'Fabulous!',\n",
       " 'Pretty good',\n",
       " 'Worth every penny',\n",
       " 'Classy product',\n",
       " 'Good choice',\n",
       " 'Perfect product!',\n",
       " 'Highly recommended',\n",
       " 'Perfect product!',\n",
       " 'Perfect product!',\n",
       " 'Value-for-money',\n",
       " 'Highly recommended',\n",
       " 'Simply awesome',\n",
       " 'Value-for-money',\n",
       " 'Perfect product!',\n",
       " 'Best in the market!',\n",
       " 'Highly recommended',\n",
       " 'Worth every penny',\n",
       " 'Highly recommended',\n",
       " 'Perfect product!',\n",
       " 'Great product',\n",
       " 'Fabulous!',\n",
       " 'Pretty good',\n",
       " 'Worth every penny',\n",
       " 'Classy product',\n",
       " 'Good choice',\n",
       " 'Perfect product!',\n",
       " 'Highly recommended',\n",
       " 'Perfect product!',\n",
       " 'Perfect product!',\n",
       " 'Value-for-money',\n",
       " 'Highly recommended',\n",
       " 'Pretty good',\n",
       " 'Worth every penny',\n",
       " 'Classy product',\n",
       " 'Good choice',\n",
       " 'Perfect product!',\n",
       " 'Highly recommended',\n",
       " 'Perfect product!',\n",
       " 'Perfect product!',\n",
       " 'Value-for-money',\n",
       " 'Highly recommended',\n",
       " 'Simply awesome',\n",
       " 'Value-for-money',\n",
       " 'Perfect product!',\n",
       " 'Best in the market!',\n",
       " 'Highly recommended',\n",
       " 'Worth every penny',\n",
       " 'Highly recommended',\n",
       " 'Perfect product!',\n",
       " 'Great product',\n",
       " 'Fabulous!',\n",
       " 'Pretty good',\n",
       " 'Worth every penny',\n",
       " 'Classy product',\n",
       " 'Good choice',\n",
       " 'Perfect product!',\n",
       " 'Highly recommended',\n",
       " 'Perfect product!',\n",
       " 'Perfect product!',\n",
       " 'Value-for-money',\n",
       " 'Highly recommended',\n",
       " 'Pretty good',\n",
       " 'Worth every penny',\n",
       " 'Classy product',\n",
       " 'Good choice',\n",
       " 'Perfect product!',\n",
       " 'Highly recommended',\n",
       " 'Perfect product!',\n",
       " 'Perfect product!',\n",
       " 'Value-for-money',\n",
       " 'Highly recommended',\n",
       " 'Simply awesome',\n",
       " 'Value-for-money',\n",
       " 'Perfect product!',\n",
       " 'Best in the market!',\n",
       " 'Highly recommended',\n",
       " 'Worth every penny',\n",
       " 'Highly recommended',\n",
       " 'Perfect product!',\n",
       " 'Great product',\n",
       " 'Fabulous!']"
      ]
     },
     "execution_count": 11,
     "metadata": {},
     "output_type": "execute_result"
    }
   ],
   "source": [
    "summary"
   ]
  },
  {
   "cell_type": "code",
   "execution_count": 12,
   "id": "6bdff0e3",
   "metadata": {},
   "outputs": [
    {
     "data": {
      "text/plain": [
       "100"
      ]
     },
     "execution_count": 12,
     "metadata": {},
     "output_type": "execute_result"
    }
   ],
   "source": [
    "len(summary)"
   ]
  },
  {
   "cell_type": "code",
   "execution_count": 14,
   "id": "03c78e0c",
   "metadata": {},
   "outputs": [
    {
     "data": {
      "text/plain": [
       "['5', '4', '5', '5', '5', '5', '5', '5', '5', '5']"
      ]
     },
     "execution_count": 14,
     "metadata": {},
     "output_type": "execute_result"
    }
   ],
   "source": [
    "#scrapping the ratings\n",
    "rating=[]\n",
    "rate_tags=driver.find_elements(By.XPATH,'//div[@class=\"_3LWZlK _1BLPMq\"]')\n",
    "for i in rate_tags:\n",
    "    rating.append(i.text)\n",
    "rating"
   ]
  },
  {
   "cell_type": "code",
   "execution_count": 15,
   "id": "1d49b1f2",
   "metadata": {},
   "outputs": [
    {
     "data": {
      "text/plain": [
       "10"
      ]
     },
     "execution_count": 15,
     "metadata": {},
     "output_type": "execute_result"
    }
   ],
   "source": [
    "len(rating)"
   ]
  },
  {
   "cell_type": "code",
   "execution_count": 16,
   "id": "4f2ede15",
   "metadata": {},
   "outputs": [],
   "source": [
    "# scrapping 100 ratings\n",
    "\n",
    "rating=[]\n",
    "start=0\n",
    "end=10\n",
    "for page in range(start,end):\n",
    "    rating_tags=driver.find_elements(By.XPATH,'//div[@class=\"_3LWZlK _1BLPMq\"]')\n",
    "    for i in rating_tags:\n",
    "        rating.append(i.text)\n",
    "    next_button=driver.find_element(By.XPATH,'//a[@class=\"_1LKTO3\"]')\n",
    "    next_button.click()\n",
    "    time.sleep(5)"
   ]
  },
  {
   "cell_type": "code",
   "execution_count": 17,
   "id": "ef150431",
   "metadata": {},
   "outputs": [
    {
     "data": {
      "text/plain": [
       "['5',\n",
       " '4',\n",
       " '5',\n",
       " '5',\n",
       " '5',\n",
       " '5',\n",
       " '5',\n",
       " '5',\n",
       " '5',\n",
       " '5',\n",
       " '4',\n",
       " '5',\n",
       " '5',\n",
       " '4',\n",
       " '5',\n",
       " '5',\n",
       " '5',\n",
       " '5',\n",
       " '4',\n",
       " '5',\n",
       " '5',\n",
       " '4',\n",
       " '5',\n",
       " '5',\n",
       " '5',\n",
       " '5',\n",
       " '5',\n",
       " '5',\n",
       " '5',\n",
       " '5',\n",
       " '4',\n",
       " '5',\n",
       " '5',\n",
       " '4',\n",
       " '5',\n",
       " '5',\n",
       " '5',\n",
       " '5',\n",
       " '4',\n",
       " '5',\n",
       " '4',\n",
       " '5',\n",
       " '5',\n",
       " '4',\n",
       " '5',\n",
       " '5',\n",
       " '5',\n",
       " '5',\n",
       " '4',\n",
       " '5',\n",
       " '5',\n",
       " '4',\n",
       " '5',\n",
       " '5',\n",
       " '5',\n",
       " '5',\n",
       " '5',\n",
       " '5',\n",
       " '5',\n",
       " '5',\n",
       " '5',\n",
       " '4',\n",
       " '5',\n",
       " '5',\n",
       " '5',\n",
       " '5',\n",
       " '5',\n",
       " '5',\n",
       " '5',\n",
       " '5',\n",
       " '4',\n",
       " '5',\n",
       " '5',\n",
       " '4',\n",
       " '5',\n",
       " '5',\n",
       " '5',\n",
       " '5',\n",
       " '4',\n",
       " '5',\n",
       " '4',\n",
       " '5',\n",
       " '5',\n",
       " '4',\n",
       " '5',\n",
       " '5',\n",
       " '5',\n",
       " '5',\n",
       " '4',\n",
       " '5',\n",
       " '5',\n",
       " '4',\n",
       " '5',\n",
       " '5',\n",
       " '5',\n",
       " '5',\n",
       " '5',\n",
       " '5',\n",
       " '5',\n",
       " '5']"
      ]
     },
     "execution_count": 17,
     "metadata": {},
     "output_type": "execute_result"
    }
   ],
   "source": [
    "rating"
   ]
  },
  {
   "cell_type": "code",
   "execution_count": 18,
   "id": "5833736d",
   "metadata": {},
   "outputs": [
    {
     "data": {
      "text/plain": [
       "100"
      ]
     },
     "execution_count": 18,
     "metadata": {},
     "output_type": "execute_result"
    }
   ],
   "source": [
    "len(rating)"
   ]
  },
  {
   "cell_type": "code",
   "execution_count": 19,
   "id": "371a82b5",
   "metadata": {},
   "outputs": [
    {
     "data": {
      "text/plain": [
       "['Really satisfied with the Product I received... It’s totally genuine and the packaging was also really good so if ur planning to buy just go for it.',\n",
       " \"I'm Really happy with the product\\nDelivery was fast as well\\n..it was a gift for my sister and she loved it so much.\",\n",
       " 'Amazing phone with great cameras and better battery which gives you the best performance. I just love the camera .',\n",
       " 'Great iPhone very snappy experience as apple kind. Upgraded from iPhone 7.\\nPros\\n-Camera top class\\n- Battery top performed\\n-Chipset no need to say as apple kind\\n-Security as you expect from apple\\n- Display super bright industry leading colour\\naccuracy and super responsive\\n-Build quality as expect from apple sturdy\\npremium durable beautiful stylish.\\n-Os most stable os in smartphone industry\\n\\nCons\\n-No 5G\\n-Display is not based on OLED technology\\n-Charger headphones and 1 apple stic...\\nREAD MORE',\n",
       " \"It's my first time to use iOS phone and I am loving my upgradation 😍😍 I love the color, I love the assebility of the phone....I need to learn more about its functionality, but as far as I have seen, it's quite easy and it has a lot of functions to work on, specially if you are a content writer or a blogger you get a lot of content creation platforms and they are really amazing.\\n\\nThis phone not only for good quality photography but a lot of other task too.😍💯\",\n",
       " 'Previously I was using one plus 3t it was a great phone\\nAnd then I decided to upgrade I am stuck between Samsung s10 plus or iPhone 11\\nI have seen the specs and everything were good except the display it’s somewhere between 720-1080 and it’s not even an amoled it’s an LCD display\\nBut I decided to go with iPhone because I have never used an IOS device I have Been an android user from the past 9 years I ordered IPhone 11 (128gb) product red\\nMy experience after using 3 weeks\\n1. The delivery ...\\nREAD MORE',\n",
       " 'What a camera .....just awesome ..you can feel this iPhone just awesome . Good for gaming also ...try pubg in hd it’s just wow',\n",
       " 'Value for money\\n5 star rating\\nExcellent camera\\nBattery backup full day in single charge.\\n\\nTougher and water resistant design, glossy back.\\nThe screen has excellent brightness and contrast.\\nApple A13 Bionic is the fastest smartphone chip on the planet.\\nExcellent battery life, fast charging support.\\nStereo speakers with great quality.',\n",
       " 'Amazing Powerful and Durable Gadget.\\n\\nI’m am very happy with the camera picture quality, Amazing face id unlocked in dark room, Strong battery with perfect screen size as you can carry easily in pocket. This is my third iPhone.\\n\\nI shifted from android Samsung Note series to iPhone because of the strong build quality and peace of mind for next 3-4 years.\\n\\nDon’t think to much just go for it and I suggest you to go for minimum 128gb variant or more 256gb.\\n\\nI’ve attached my puppy pics and no fi...\\nREAD MORE',\n",
       " 'This is my first iOS phone. I am very happy with this product. Very much satisfied with this. I love this phone.']"
      ]
     },
     "execution_count": 19,
     "metadata": {},
     "output_type": "execute_result"
    }
   ],
   "source": [
    "#scrapping full reviews\n",
    "full_review=[]\n",
    "review_tag=driver.find_elements(By.XPATH,'//div[@class=\"t-ZTKy\"]')\n",
    "for i in review_tag:\n",
    "    full_review.append(i.text)\n",
    "full_review"
   ]
  },
  {
   "cell_type": "code",
   "execution_count": 20,
   "id": "b4ff7d62",
   "metadata": {},
   "outputs": [],
   "source": [
    "#scrapping 100 reviews\n",
    "\n",
    "\n",
    "review=[]\n",
    "start=0\n",
    "end=10\n",
    "for page in range(start,end):\n",
    "    review_tags=driver.find_elements(By.XPATH,'//div[@class=\"_3LWZlK _1BLPMq\"]')\n",
    "    for i in review_tags:\n",
    "        review.append(i.text)\n",
    "    next_button=driver.find_element(By.XPATH,'//a[@class=\"_1LKTO3\"]')\n",
    "    next_button.click()\n",
    "    time.sleep(5)"
   ]
  },
  {
   "cell_type": "code",
   "execution_count": 21,
   "id": "4ef1ef04",
   "metadata": {},
   "outputs": [
    {
     "data": {
      "text/plain": [
       "['5',\n",
       " '4',\n",
       " '5',\n",
       " '5',\n",
       " '5',\n",
       " '5',\n",
       " '5',\n",
       " '5',\n",
       " '5',\n",
       " '5',\n",
       " '4',\n",
       " '5',\n",
       " '5',\n",
       " '4',\n",
       " '5',\n",
       " '5',\n",
       " '5',\n",
       " '5',\n",
       " '4',\n",
       " '5',\n",
       " '4',\n",
       " '5',\n",
       " '5',\n",
       " '4',\n",
       " '5',\n",
       " '5',\n",
       " '5',\n",
       " '5',\n",
       " '4',\n",
       " '5',\n",
       " '5',\n",
       " '4',\n",
       " '5',\n",
       " '5',\n",
       " '5',\n",
       " '5',\n",
       " '5',\n",
       " '5',\n",
       " '5',\n",
       " '5',\n",
       " '4',\n",
       " '5',\n",
       " '5',\n",
       " '4',\n",
       " '5',\n",
       " '5',\n",
       " '5',\n",
       " '5',\n",
       " '4',\n",
       " '5',\n",
       " '5',\n",
       " '4',\n",
       " '5',\n",
       " '5',\n",
       " '5',\n",
       " '5',\n",
       " '5',\n",
       " '5',\n",
       " '5',\n",
       " '5',\n",
       " '5',\n",
       " '4',\n",
       " '5',\n",
       " '5',\n",
       " '5',\n",
       " '5',\n",
       " '5',\n",
       " '5',\n",
       " '5',\n",
       " '5',\n",
       " '4',\n",
       " '5',\n",
       " '5',\n",
       " '4',\n",
       " '5',\n",
       " '5',\n",
       " '5',\n",
       " '5',\n",
       " '4',\n",
       " '5',\n",
       " '4',\n",
       " '5',\n",
       " '5',\n",
       " '4',\n",
       " '5',\n",
       " '5',\n",
       " '5',\n",
       " '5',\n",
       " '4',\n",
       " '5',\n",
       " '5',\n",
       " '4',\n",
       " '5',\n",
       " '5',\n",
       " '5',\n",
       " '5',\n",
       " '5',\n",
       " '5',\n",
       " '5',\n",
       " '5']"
      ]
     },
     "execution_count": 21,
     "metadata": {},
     "output_type": "execute_result"
    }
   ],
   "source": [
    "review"
   ]
  },
  {
   "cell_type": "code",
   "execution_count": 22,
   "id": "cd983e27",
   "metadata": {},
   "outputs": [
    {
     "data": {
      "text/plain": [
       "100"
      ]
     },
     "execution_count": 22,
     "metadata": {},
     "output_type": "execute_result"
    }
   ],
   "source": [
    "len(review)"
   ]
  },
  {
   "cell_type": "code",
   "execution_count": 23,
   "id": "02f9ab51",
   "metadata": {},
   "outputs": [],
   "source": [
    "#Q5 completed so closing the window\n",
    "driver.close()"
   ]
  },
  {
   "cell_type": "code",
   "execution_count": 24,
   "id": "4b687300",
   "metadata": {},
   "outputs": [
    {
     "data": {
      "text/plain": [
       "<selenium.webdriver.chrome.webdriver.WebDriver (session=\"a62251488f90fd6c712366b62ec5910a\")>"
      ]
     },
     "execution_count": 24,
     "metadata": {},
     "output_type": "execute_result"
    }
   ],
   "source": [
    "#Q7\n",
    "#so again connecting to the driver\n",
    "\n",
    "driver=webdriver.Chrome(r'C:\\Users\\hp\\Downloads\\chromedriver_win32\\chromedriver.exe')\n",
    "driver"
   ]
  },
  {
   "cell_type": "code",
   "execution_count": 25,
   "id": "705b47f8",
   "metadata": {},
   "outputs": [],
   "source": [
    "#maximize the window\n",
    "driver.maximize_window()"
   ]
  },
  {
   "cell_type": "code",
   "execution_count": 26,
   "id": "c6d0ccd1",
   "metadata": {},
   "outputs": [],
   "source": [
    "#opening the website\n",
    "url='https://www.myntra.com/shoes'\n",
    "driver.get(url)"
   ]
  },
  {
   "cell_type": "code",
   "execution_count": 30,
   "id": "59eeb5c2",
   "metadata": {},
   "outputs": [],
   "source": [
    "#applying price filter"
   ]
  },
  {
   "cell_type": "code",
   "execution_count": 29,
   "id": "fe61b6c5",
   "metadata": {},
   "outputs": [],
   "source": [
    "price_ftr=driver.find_element(By.XPATH,'/html/body/div[2]/div/main/div[3]/div[1]/section/div/div[5]/ul/li[2]/label')\n",
    "\n",
    "price_ftr.click()"
   ]
  },
  {
   "cell_type": "code",
   "execution_count": 31,
   "id": "97da1fd9",
   "metadata": {},
   "outputs": [],
   "source": [
    "#applying color filter\n",
    "color_ftr=driver.find_element(By.XPATH,'/html/body/div[2]/div/main/div[3]/div[1]/section/div/div[6]/ul/li[1]')\n",
    "color_ftr.click()"
   ]
  },
  {
   "cell_type": "code",
   "execution_count": 32,
   "id": "14dc871c",
   "metadata": {},
   "outputs": [
    {
     "data": {
      "text/plain": [
       "['Nike\\nJORDAN MAX AURA 4 Shoes\\nRs. 10165Rs. 11295(10% OFF)',\n",
       " 'UNDER ARMOUR\\nMen HOVR SonicSE Running Shoes\\nRs. 9999',\n",
       " 'Nike\\nJORDAN ZION 2 Basketball Shoes\\nRs. 9175Rs. 10795(15% OFF)',\n",
       " 'ADIDAS\\nMen Ultraboost 5.0 DNA Running\\nRs. 12749Rs. 16999(25% OFF)\\nOnly Few Left!',\n",
       " 'UNDER ARMOUR\\nMen ChargedEscape 3 BL Running\\nRs. 8999',\n",
       " 'Nike\\nMen KD 15 Basketball Shoes\\nRs. 11196Rs. 13995(20% OFF)\\nOnly Few Left!',\n",
       " 'Nike\\nMen Kyrie Flytrap Basketball\\nRs. 7220Rs. 8495(15% OFF)',\n",
       " 'Nike\\nAIR ZOOM G.T. Basketball Shoes\\nRs. 13595Rs. 15995(15% OFF)\\nOnly Few Left!',\n",
       " 'Nike\\nMen AIR MAX DAWN Sneakers\\nRs. 9175Rs. 10795(15% OFF)',\n",
       " 'UNDER ARMOUR\\nUnisex 3ZER0 IV Basketball\\nRs. 8999\\nOnly Few Left!',\n",
       " 'Puma\\nEternity Nitro Running Shoes\\nRs. 12999',\n",
       " 'Calvin Klein\\nMen Printed Leather Sneakers\\nRs. 7199Rs. 9599(25% OFF)',\n",
       " 'Nike\\nMen Vomero 16 Running Shoes\\nRs. 11470Rs. 13495(15% OFF)',\n",
       " 'Ruosh\\nMen Textured Leather Loafers\\nRs. 7990',\n",
       " 'UNDER ARMOUR\\nWomen HOVR SonicSE Running\\nRs. 9999',\n",
       " 'Nike\\nMen Air Max Flyknit Sneakers\\nRs. 12745Rs. 14995(15% OFF)',\n",
       " 'Nike\\nMen Air Max Sneakers\\nRs. 8295',\n",
       " 'ADIDAS\\nWomen Super 3.0 Running Shoes\\nRs. 8999\\nOnly Few Left!',\n",
       " 'Nike\\nMen Jordan Delta 3 Basketball\\nRs. 10875Rs. 12795(15% OFF)',\n",
       " 'ADIDAS\\nMen Response Super 3.0 Run\\nRs. 8999',\n",
       " 'UNDER ARMOUR\\nMen HOVR SonicSE Running Shoes\\nRs. 9999',\n",
       " 'Puma\\nMen Liberate Running Shoes\\nRs. 10999',\n",
       " 'Tommy Hilfiger\\nMen Textured Leather Loafers\\nRs. 8999',\n",
       " 'Skechers\\nMen MAX ELITE Running Shoes\\nRs. 7199Rs. 8999(20% OFF)',\n",
       " 'Saint G\\nSuede Above The Knee Boots\\nRs. 13410Rs. 14900(10% OFF)',\n",
       " 'ADIDAS Originals\\nMen Woven Nmd_R1 Sneakers\\nRs. 12999',\n",
       " 'ADIDAS\\nMen Response Super 3.0 Run\\nRs. 8999\\nOnly Few Left!',\n",
       " 'Nike\\nWomen Air Max Flyknit Sneakers\\nRs. 11996Rs. 14995(20% OFF)',\n",
       " 'ALDO\\nMen Solid Leather Derbys\\nRs. 9599Rs. 15999(40% OFF)',\n",
       " 'ADIDAS Originals\\nMen Leather Ozelia Sneakers\\nRs. 9349Rs. 10999(15% OFF)\\nOnly Few Left!',\n",
       " 'ADIDAS\\nMen Runner Fl Running Shoes\\nRs. 11249Rs. 14999(25% OFF)\\nOnly Few Left!',\n",
       " 'Calvin Klein\\nMen Leather Sneakers\\nRs. 7199Rs. 8999(20% OFF)',\n",
       " 'Geox\\nWoman Leather Ankle Boots\\nRs. 13990',\n",
       " 'Geox\\nLeather Heeled Boots\\nRs. 13990',\n",
       " 'Puma\\nMen Fast-Trac Nitro Running\\nRs. 10999',\n",
       " 'ADIDAS Originals\\nWomen Superstar Sneakers\\nRs. 9999\\nOnly Few Left!',\n",
       " 'Tommy Hilfiger\\nMen Leather Sneakers\\nRs. 7439Rs. 9299(20% OFF)',\n",
       " 'ADIDAS\\nMen Ultraboost22 Running Shoes\\nRs. 13499Rs. 17999(25% OFF)\\nOnly Few Left!',\n",
       " 'Ruosh\\nMen Leather Loafers\\nRs. 8990\\nOnly Few Left!',\n",
       " 'UNDER ARMOUR\\nUnisex Curry Basketball Shoes\\nRs. 10999\\nOnly Few Left!',\n",
       " 'Puma\\nMen Magnify Nitro Running\\nRs. 9099Rs. 12999(30% OFF)',\n",
       " 'Geox\\nLeather Block Pumps\\nRs. 10616Rs. 12490(15% OFF)\\nOnly Few Left!',\n",
       " 'Hush Puppies\\nMen Solid Leather Formal Slip-Ons\\nRs. 9999\\nOnly Few Left!',\n",
       " 'Saint G\\nBlock Heeled Boots\\nRs. 7560Rs. 8400(10% OFF)',\n",
       " 'Ruosh\\nMen Textured Leather Loafers\\nRs. 8990',\n",
       " 'Skechers\\nMen Walking Shoes\\nRs. 8999',\n",
       " 'Saint G\\nWomen High-Top Heeled Boots\\nRs. 10710Rs. 11900(10% OFF)\\nOnly Few Left!',\n",
       " 'Nike\\nMen AIR WINFLO 9 Running Shoes\\nRs. 7220Rs. 8495(15% OFF)',\n",
       " 'Tommy Hilfiger\\nMen Leather Sneakers\\nRs. 7999Rs. 9999(20% OFF)\\nOnly Few Left!',\n",
       " 'ADIDAS Originals\\nMen ZX 5K Boost Sneakers\\nRs. 12799Rs. 15999(20% OFF)']"
      ]
     },
     "execution_count": 32,
     "metadata": {},
     "output_type": "execute_result"
    }
   ],
   "source": [
    "#scrapping the details\n",
    "details=[]\n",
    "detail_tag=driver.find_elements(By.XPATH,'//div[@class=\"product-productMetaInfo\"]')\n",
    "for i in detail_tag:\n",
    "    details.append(i.text)\n",
    "details"
   ]
  },
  {
   "cell_type": "code",
   "execution_count": 33,
   "id": "60bd140c",
   "metadata": {},
   "outputs": [
    {
     "data": {
      "text/plain": [
       "50"
      ]
     },
     "execution_count": 33,
     "metadata": {},
     "output_type": "execute_result"
    }
   ],
   "source": [
    "len(details)"
   ]
  },
  {
   "cell_type": "code",
   "execution_count": 36,
   "id": "d51f59c0",
   "metadata": {},
   "outputs": [],
   "source": [
    "#scrapping the details of 100 records\n",
    "details=[]\n",
    "start=0\n",
    "end=2\n",
    "for page in range(start,end):\n",
    "    det_tag=driver.find_elements(By.XPATH,'//div[@class=\"product-productMetaInfo\"]')\n",
    "    for i in det_tag:\n",
    "        details.append(i.text)\n",
    "    next_button=driver.find_element(By.XPATH,'//li[@class=\"pagination-next\"]')\n",
    "    next_button.click()\n",
    "    time.sleep(5)\n",
    "       \n",
    "     \n",
    "      "
   ]
  },
  {
   "cell_type": "code",
   "execution_count": 37,
   "id": "f2ddb000",
   "metadata": {},
   "outputs": [
    {
     "data": {
      "text/plain": [
       "['Puma\\nMen Fast-Trac Nitro Running\\nRs. 10999',\n",
       " 'ADIDAS\\nMen Adistar CS Running Shoes\\nRs. 11999Rs. 15999(25% OFF)\\nOnly Few Left!',\n",
       " 'ALDO\\nMen Leather Loafers\\nRs. 13299Rs. 18999(30% OFF)\\nOnly Few Left!',\n",
       " 'Columbia\\nWomen Trekking Shoes\\nRs. 8999\\nOnly Few Left!',\n",
       " 'Bugatti\\nMen Running Sports Shoes\\nRs. 13999\\nOnly Few Left!',\n",
       " 'Skechers\\nMen Sky Vault Walking Shoes\\nRs. 8999\\nOnly Few Left!',\n",
       " 'Puma\\nMen Running Shoes\\nRs. 13999',\n",
       " 'Saint G\\nLeather Block Heeled Boots\\nRs. 8010Rs. 8900(10% OFF)',\n",
       " 'ADIDAS\\nWomen Solid Pureboost 22 Shoes\\nRs. 8999Rs. 11999(25% OFF)\\nOnly Few Left!',\n",
       " 'Puma\\nWomen Eternity NITRO Shoes\\nRs. 12999',\n",
       " 'Nike\\nWomen AIR ZOOM Running Shoes\\nRs. 8750Rs. 10295(15% OFF)',\n",
       " 'ADIDAS Originals\\nMen Woven NMD_31 Sneakers\\nRs. 9799Rs. 13999(30% OFF)',\n",
       " 'Nike\\nMen FREE RUN 2 Sneakers\\nRs. 9695\\nOnly Few Left!',\n",
       " 'UNDER ARMOUR\\nMen HOVR Sonic SE Running Shoe\\nRs. 9999',\n",
       " 'Puma\\nMen Nitro 2 WIDE Running Shoes\\nRs. 11999',\n",
       " 'Xtep\\nMen Skateboarding Shoes\\nRs. 8599',\n",
       " 'Puma\\nWomen Running Sports Shoes\\nRs. 10499Rs. 14999(30% OFF)\\nOnly Few Left!',\n",
       " 'ADIDAS Originals\\nWomen Forum Bonega Sneakers\\nRs. 10199Rs. 11999(15% OFF)\\nOnly Few Left!',\n",
       " 'ADIDAS Originals\\nMen Woven FomSolution Sneakers\\nRs. 9999\\nOnly Few Left!',\n",
       " 'Tommy Hilfiger\\nMen Solid Sneakers\\nRs. 8499Rs. 9999(15% OFF)\\nOnly Few Left!',\n",
       " 'Geox\\nWomen Solid Boots\\nRs. 13990\\nOnly Few Left!',\n",
       " 'ADIDAS Originals\\nMen Retropy F90 Sneakers\\nRs. 9999',\n",
       " 'J.FONTINI\\nMen Textured Leather Loafers\\nRs. 8490',\n",
       " 'ALDO\\nWomen Regular Boots\\nRs. 13999',\n",
       " 'Skechers\\nWomen Go Walk EU Walking Shoes\\nRs. 7499',\n",
       " 'Saint G\\nLeather Wedge Heeled Boots with Buckles\\nRs. 13410Rs. 14900(10% OFF)',\n",
       " 'Hush Puppies\\nMen Perforations Leather Slip-On Sneakers\\nRs. 7999',\n",
       " 'Puma\\nFusion Evo Extra Wide Golf Shoes\\nRs. 7649Rs. 8999(15% OFF)',\n",
       " 'Geox\\nWomen Solid Boots\\nRs. 12990\\nOnly Few Left!',\n",
       " 'Skechers\\nMen Woven Design Sneakers\\nRs. 7499',\n",
       " 'Tommy Hilfiger\\nMen Leather Mid-Top Sneakers\\nRs. 7199Rs. 8999(20% OFF)',\n",
       " 'ADIDAS\\nWomen Super 3.0 Running Shoes\\nRs. 8999\\nOnly Few Left!',\n",
       " 'SKO\\nMen Perforations Leather Loafers\\nRs. 7500',\n",
       " 'Puma\\nWomen Run XX Nitro Running\\nRs. 9999',\n",
       " 'Saint G\\nWomen Leather Knee High Boots\\nRs. 12510Rs. 13900(10% OFF)',\n",
       " 'ADIDAS Originals\\nMen ZX 5K Boost Sneakers\\nRs. 12799Rs. 15999(20% OFF)',\n",
       " 'Nike\\nWomen Air Max Flyknit Sneakers\\nRs. 11996Rs. 14995(20% OFF)',\n",
       " 'Hush Puppies\\nMen Solid Leather Formal Slip-Ons\\nRs. 9999\\nOnly Few Left!',\n",
       " 'ALDO\\nMen Mid Top Lace Up Sneakers\\nRs. 9599Rs. 15999(40% OFF)\\nOnly Few Left!',\n",
       " 'Bugatti\\nMen Running Shoes\\nRs. 13999\\nOnly Few Left!',\n",
       " 'Nike\\nWomen React Infinity Running\\nRs. 11196Rs. 13995(20% OFF)',\n",
       " 'ALDO\\nMen Slip-On Sneakers\\nRs. 9099Rs. 12999(30% OFF)\\nOnly Few Left!',\n",
       " 'Geox\\nLeather Ankle Boots\\nRs. 11990\\nOnly Few Left!',\n",
       " 'Skechers\\nMen GO FLEX 2-COMPLETION Shoes\\nRs. 7499\\nOnly Few Left!',\n",
       " 'ALDO\\nWomen Textured Sneakers\\nRs. 12999',\n",
       " 'ADIDAS Originals\\nWomen Forum Low Sneakers\\nRs. 9999',\n",
       " 'Nike\\nWomen VOMERO 16 Running Shoes\\nRs. 11470Rs. 13495(15% OFF)',\n",
       " 'Clarks\\nMen Solid Leather Formal Loafers\\nRs. 7999\\nOnly Few Left!',\n",
       " 'Nike\\nMen JORDAN LOW Basketball Shoe\\nRs. 12795',\n",
       " 'Geox\\nMen Leather Slip-On Sneakers\\nRs. 13166Rs. 15490(15% OFF)\\nOnly Few Left!',\n",
       " 'Tommy Hilfiger\\nWomen Leather Sneakers\\nRs. 7199Rs. 7999(10% OFF)\\nOnly Few Left!',\n",
       " 'Bugatti\\nMen Textured Leather Sneakers\\nRs. 11999',\n",
       " 'ADIDAS Originals\\nWomen Superstar Sneakers\\nRs. 9999\\nOnly Few Left!',\n",
       " 'Bugatti\\nMen Walking Shoes\\nRs. 9999\\nOnly Few Left!',\n",
       " 'Louis Philippe\\nMen Leather Formal Slip-Ons\\nRs. 7224Rs. 8499(15% OFF)',\n",
       " 'ALDO\\nMen Textured Leather Loafers\\nRs. 11199Rs. 15999(30% OFF)',\n",
       " 'Heel & Buckle London\\nMen Leather Sneakers\\nRs. 11192Rs. 13990(20% OFF)',\n",
       " 'ALDO\\nMen Textured Leather Loafers\\nRs. 10799Rs. 17999(40% OFF)\\nOnly Few Left!',\n",
       " 'Saint G\\nLeather Kitten Heel Boots\\nRs. 9810Rs. 10900(10% OFF)',\n",
       " 'Nike\\nZOOM FREAK 4 Basketball Shoes\\nRs. 9600Rs. 11295(15% OFF)\\nOnly Few Left!',\n",
       " 'Saint G\\nEmbellished Chelsea Boots\\nRs. 9810Rs. 10900(10% OFF)',\n",
       " 'Nike\\nMen REACT MILER 3 Running Shoe\\nRs. 8396Rs. 10495(20% OFF)',\n",
       " 'New Balance\\nWomen Solid Sneakers\\nRs. 7999\\nOnly Few Left!',\n",
       " 'fitflop\\nLeather Flatform Sandals\\nRs. 7499',\n",
       " 'Saint G\\nWomen Leather Heeled Boots\\nRs. 9375Rs. 12500(25% OFF)',\n",
       " 'ALDO\\nWomen Leather Horsebit Loafers\\nRs. 8399Rs. 11999(30% OFF)',\n",
       " 'Calvin Klein\\nMen Sneakers\\nRs. 7649Rs. 8999(15% OFF)\\nOnly Few Left!',\n",
       " 'Calvin Klein\\nMen Skate Shoes\\nRs. 7649Rs. 8999(15% OFF)\\nOnly Few Left!',\n",
       " 'Calvin Klein\\nMen Solid Sneakers\\nRs. 7649Rs. 8999(15% OFF)\\nOnly Few Left!',\n",
       " 'Tommy Hilfiger\\nWomen Leather Sneakers\\nRs. 8169Rs. 8599(5% OFF)\\nOnly Few Left!',\n",
       " 'Skechers\\nMen MAX ELITE Running Shoes\\nRs. 7199Rs. 8999(20% OFF)',\n",
       " 'Columbia\\nHeavenly Omni-Heat\\nRs. 8999',\n",
       " 'Xtep\\nMen Running Shoes\\nRs. 7199Rs. 7999(10% OFF)',\n",
       " 'Nike\\nMen Waffle Leather Sneakers\\nRs. 8750Rs. 10295(15% OFF)\\nOnly Few Left!',\n",
       " 'ALDO\\nMen Perforations Brogues Shoes\\nRs. 9099Rs. 12999(30% OFF)\\nOnly Few Left!',\n",
       " 'Saint G\\nWomen Heeled Leather Boots\\nRs. 8910Rs. 9900(10% OFF)',\n",
       " 'ALDO\\nMen Solid Leather Formal Shoes\\nRs. 11899Rs. 16999(30% OFF)\\nOnly Few Left!',\n",
       " 'Tommy Hilfiger\\nMen Colourblocked Sneakers\\nRs. 7839Rs. 9799(20% OFF)\\nOnly Few Left!',\n",
       " 'Geox\\nMen Leather Loafers\\nRs. 9341Rs. 10990(15% OFF)',\n",
       " 'Calvin Klein\\nMen Printed Leather Sneakers\\nRs. 7199Rs. 9599(25% OFF)',\n",
       " 'H&M\\nLeather Chelsea Boots\\nRs. 7999\\nOnly Few Left!',\n",
       " 'Tommy Hilfiger\\nMen Leather Sneakers\\nRs. 7439Rs. 9299(20% OFF)',\n",
       " 'Saint G\\nSuede Leather Ankle Boots\\nRs. 8010Rs. 8900(10% OFF)',\n",
       " 'Tommy Hilfiger\\nMen Solid Sneakers\\nRs. 7199Rs. 8999(20% OFF)',\n",
       " 'Columbia\\nCascade Peak II Jacket\\nRs. 7999',\n",
       " 'Tommy Hilfiger\\nMen Leather Sneakers\\nRs. 7999Rs. 9999(20% OFF)\\nOnly Few Left!',\n",
       " 'Tommy Hilfiger\\nMen Solid Sneakers\\nRs. 7439Rs. 9299(20% OFF)',\n",
       " 'Geox\\nMen Leather Formal Slip-Ons\\nRs. 10191Rs. 11990(15% OFF)',\n",
       " 'Hush Puppies\\nMen Solid Formal Slip-Ons\\nRs. 9999\\nOnly Few Left!',\n",
       " 'ALDO\\nBlock Pumps\\nRs. 12999\\nOnly Few Left!',\n",
       " 'Saint G\\nWomen Solid Mid-Top Boots\\nRs. 7650Rs. 8500(10% OFF)',\n",
       " 'Sole To Soul\\nHigh-Top Platform Heeled Boots\\nRs. 7565Rs. 8900(15% OFF)\\nOnly Few Left!',\n",
       " 'Saint G\\nWomen Colourblocked Leather Sneakers\\nRs. 13410Rs. 14900(10% OFF)\\nOnly Few Left!',\n",
       " 'DAVINCHI\\nMen Formal Leather Slip-Ons\\nRs. 8990',\n",
       " 'ALDO\\nBlock Pump Heels with Buckles\\nRs. 11999\\nOnly Few Left!',\n",
       " 'ADIDAS\\nWomen Supernova Running Shoes\\nRs. 9999\\nOnly Few Left!',\n",
       " 'ALDO\\nMen Embossed Derby Formal Shoes\\nRs. 7999Rs. 15999(50% OFF)\\nOnly Few Left!',\n",
       " 'J.FONTINI\\nMen Textured Leather Formal Monk Shoes\\nRs. 7990\\nOnly Few Left!',\n",
       " 'RARE RABBIT\\nMen Leather Formal Brouges\\nRs. 7999',\n",
       " 'ALDO\\nLeather Block Pumps\\nRs. 10999\\nOnly Few Left!']"
      ]
     },
     "execution_count": 37,
     "metadata": {},
     "output_type": "execute_result"
    }
   ],
   "source": [
    "details"
   ]
  },
  {
   "cell_type": "code",
   "execution_count": 38,
   "id": "9343bcf2",
   "metadata": {},
   "outputs": [
    {
     "data": {
      "text/plain": [
       "100"
      ]
     },
     "execution_count": 38,
     "metadata": {},
     "output_type": "execute_result"
    }
   ],
   "source": [
    "len(details)"
   ]
  },
  {
   "cell_type": "code",
   "execution_count": 39,
   "id": "201add89",
   "metadata": {},
   "outputs": [],
   "source": [
    "#Q 7 completed\n",
    "# closing the window\n",
    "driver.close()"
   ]
  },
  {
   "cell_type": "code",
   "execution_count": 40,
   "id": "17ae0d75",
   "metadata": {},
   "outputs": [
    {
     "data": {
      "text/plain": [
       "<selenium.webdriver.chrome.webdriver.WebDriver (session=\"37f19eb3bc48102d59e5520b9ff3ab94\")>"
      ]
     },
     "execution_count": 40,
     "metadata": {},
     "output_type": "execute_result"
    }
   ],
   "source": [
    "# lets connect to the  driver\n",
    "#=============Q8==================\n",
    "\n",
    "driver=webdriver.Chrome(r'C:\\Users\\hp\\Downloads\\chromedriver_win32\\chromedriver.exe')\n",
    "driver"
   ]
  },
  {
   "cell_type": "code",
   "execution_count": 41,
   "id": "339a6c20",
   "metadata": {},
   "outputs": [],
   "source": [
    "driver.maximize_window()"
   ]
  },
  {
   "cell_type": "code",
   "execution_count": 42,
   "id": "bc1474d3",
   "metadata": {},
   "outputs": [],
   "source": [
    "#opening up the site\n",
    "url='https://www.amazon.in/'\n",
    "driver.get(url)"
   ]
  },
  {
   "cell_type": "code",
   "execution_count": 47,
   "id": "2bfec4ef",
   "metadata": {},
   "outputs": [],
   "source": [
    "driver.close()"
   ]
  },
  {
   "cell_type": "code",
   "execution_count": 48,
   "id": "68b89bf4",
   "metadata": {},
   "outputs": [
    {
     "data": {
      "text/plain": [
       "<selenium.webdriver.chrome.webdriver.WebDriver (session=\"73de8478aa419043c4ac8b1741b5308f\")>"
      ]
     },
     "execution_count": 48,
     "metadata": {},
     "output_type": "execute_result"
    }
   ],
   "source": [
    "#lets connect to the driver\n",
    "driver=webdriver.Chrome(r'C:\\Users\\hp\\Downloads\\chromedriver_win32\\chromedriver.exe')\n",
    "driver"
   ]
  },
  {
   "cell_type": "code",
   "execution_count": 49,
   "id": "7f92b2aa",
   "metadata": {},
   "outputs": [],
   "source": [
    "driver.maximize_window()"
   ]
  },
  {
   "cell_type": "code",
   "execution_count": 50,
   "id": "c484f26d",
   "metadata": {},
   "outputs": [],
   "source": [
    "#opening up the site\n",
    "url='https://www.amazon.in/'\n",
    "driver.get(url)"
   ]
  },
  {
   "cell_type": "code",
   "execution_count": 54,
   "id": "9bde65d5",
   "metadata": {},
   "outputs": [],
   "source": [
    "#searching and entering laptop in search field\n",
    "srch=driver.find_element(By.XPATH,'/html/body/div[1]/header/div/div[1]/div[2]/div/form/div[2]/div[1]/input')\n",
    "srch.send_keys(\"laptop\")\n"
   ]
  },
  {
   "cell_type": "code",
   "execution_count": 56,
   "id": "c1bae536",
   "metadata": {},
   "outputs": [],
   "source": [
    "#clicking the search button\n",
    "srch_btn=driver.find_element(By.XPATH,\"/html/body/div[1]/header/div/div[1]/div[2]/div/form/div[3]/div/span/input\")\n",
    "srch_btn.click()"
   ]
  },
  {
   "cell_type": "code",
   "execution_count": 58,
   "id": "4898ab7c",
   "metadata": {},
   "outputs": [],
   "source": [
    "#set cpu type intelcorei7\n",
    "cpu=driver.find_element(By.XPATH,'/html/body/div[1]/div[2]/div[1]/div[2]/div/div[3]/span/div[1]/div/div/div[6]/ul[5]/li[14]')\n",
    "cpu.click()"
   ]
  },
  {
   "cell_type": "code",
   "execution_count": 60,
   "id": "e45c075f",
   "metadata": {},
   "outputs": [
    {
     "data": {
      "text/plain": [
       "['Acer Extensa 15 Lightweight Laptop 11th Gen Intel Core i3 Processor with 15.6\" (39.6 cms) Full HD Display- (8 GB RAM/256GB SSD/Windows 11 Home/Intel UHD Graphics /1.7Kg/Black) EX215-54',\n",
       " 'Acer Aspire 3 Intel Core i5 12th Generation (8GB/512 GB SSD/Windows 11 Home/MS Office/1.7 Kg/Silver) A315-59 with 15.6-inch (39.6 cms) Full HD Laptop',\n",
       " 'Lenovo IdeaPad Slim 3 Intel Celeron N4020 4th Gen 15.6\" (39.62cm) HD Thin & Light Laptop (8GB/256GB SSD/Windows 11/Office 2021/2Yr Warranty/3months Game Pass/Platinum Grey/1.7Kg), 81WQ00MQIN',\n",
       " '(Renewed) Micromax Canvas Laptab II LT777 11.6-inch Touchscreen Laptop (Intel Atom/2GB/32GB/Windows 10/with 3G and WiFi)',\n",
       " '(Renewed) Dell Latitude E5470 Intel Core i5 6th Gen.6200u Processor 14.1 Inches HD Screen Notebook Computer (8 GB Ram & 256 GB SSD, Windows 10 Pro, 1.71Kg)',\n",
       " 'ASUS VivoBook 15 (2021), 15.6-inch (39.62 cm) HD, Dual Core Intel Celeron N4020, Thin and Light Laptop (4GB RAM/256GB SSD/Integrated Graphics/Windows 11 Home/Transparent Silver/1.8 Kg), X515MA-BR011W',\n",
       " 'HP 15s-Ryzen 3 3250U 8GB SDRAM/256GB SSD 15.6inch(39.6cm) HD, Micro-Edge Laptop/AMD Radeon Graphics/Dual Speakers/Win 11 Home/MS Office/Fast Charge/Jet Black/1.69Kg, 15s-ey1508AU',\n",
       " 'Lenovo IdeaPad D330 Intel Celeron N4020 10.1\" (25cm)HD IPS Detachable 2-in-1 Laptop (4GB/128GB eMMC/Windows 10/1 Yr Warranty/Mineral Grey/1.1Kg), 82H0001YIN',\n",
       " 'Dell New Windows 11 Inspiron 3525 Laptop, Intel Athlon Silver 3050U, Win11 + Office 21, 8GB GDDR4, 256GB SSD, Radeon Graphics, 15.6\" (39.62Cms) HD AG - D560766WIN9BE1.68Kgs',\n",
       " \"Lenovo IdeaPad Slim 1 Intel Celeron N4020 4th Gen 11.6'' (29.46cm) HD Thin & Light Laptop (4GB/256GB SSD/Windows 11/Office 2021/3months Game Pass/Platinum Grey/1.2Kg), 81VT009UIN\"]"
      ]
     },
     "execution_count": 60,
     "metadata": {},
     "output_type": "execute_result"
    }
   ],
   "source": [
    "company=[]\n",
    "com_tag=driver.find_elements(By.XPATH,'//h2[@class=\"a-size-mini a-spacing-none a-color-base s-line-clamp-2\"]')\n",
    "for i in com_tag[0:10]:\n",
    "    company.append(i.text)\n",
    "company"
   ]
  },
  {
   "cell_type": "code",
   "execution_count": 61,
   "id": "3054bafd",
   "metadata": {},
   "outputs": [
    {
     "data": {
      "text/plain": [
       "10"
      ]
     },
     "execution_count": 61,
     "metadata": {},
     "output_type": "execute_result"
    }
   ],
   "source": [
    "len(company)"
   ]
  },
  {
   "cell_type": "code",
   "execution_count": 62,
   "id": "dd7a8927",
   "metadata": {},
   "outputs": [
    {
     "data": {
      "text/plain": [
       "['32,990',\n",
       " '56,990',\n",
       " '28,129',\n",
       " '14,999',\n",
       " '19,599',\n",
       " '25,990',\n",
       " '29,290',\n",
       " '21,797',\n",
       " '31,428',\n",
       " '22,867']"
      ]
     },
     "execution_count": 62,
     "metadata": {},
     "output_type": "execute_result"
    }
   ],
   "source": [
    "#scrapping price\n",
    "price=[]\n",
    "price_tag=driver.find_elements(By.XPATH,'//span[@class=\"a-price-whole\"]')\n",
    "for i in price_tag[0:10]:\n",
    "    price.append(i.text)\n",
    "price"
   ]
  },
  {
   "cell_type": "code",
   "execution_count": 63,
   "id": "017caf0c",
   "metadata": {},
   "outputs": [
    {
     "data": {
      "text/plain": [
       "10"
      ]
     },
     "execution_count": 63,
     "metadata": {},
     "output_type": "execute_result"
    }
   ],
   "source": [
    "len(price)"
   ]
  },
  {
   "cell_type": "code",
   "execution_count": 68,
   "id": "94285fd2",
   "metadata": {},
   "outputs": [
    {
     "data": {
      "text/plain": [
       "['240', '1', '195', '384', '672', '3', '279', '196', '782', '24']"
      ]
     },
     "execution_count": 68,
     "metadata": {},
     "output_type": "execute_result"
    }
   ],
   "source": [
    "#scrapping ratings\n",
    "ratings=[]\n",
    "rating_tag=driver.find_elements(By.XPATH,'//span[@class=\"a-size-base s-underline-text\"]')\n",
    "for i in rating_tag[0:10]:\n",
    "    ratings.append(i.text)\n",
    "ratings\n",
    "    "
   ]
  },
  {
   "cell_type": "code",
   "execution_count": 69,
   "id": "f92fa8a1",
   "metadata": {},
   "outputs": [
    {
     "data": {
      "text/plain": [
       "10"
      ]
     },
     "execution_count": 69,
     "metadata": {},
     "output_type": "execute_result"
    }
   ],
   "source": [
    "len(ratings)"
   ]
  },
  {
   "cell_type": "code",
   "execution_count": 71,
   "id": "2bccde6b",
   "metadata": {},
   "outputs": [],
   "source": [
    "#========Q8========== completed...\n",
    "#closing the driver window\n",
    "driver.close()"
   ]
  },
  {
   "cell_type": "code",
   "execution_count": 72,
   "id": "b3a4a1e7",
   "metadata": {},
   "outputs": [
    {
     "data": {
      "text/plain": [
       "<selenium.webdriver.chrome.webdriver.WebDriver (session=\"067fe9d308cc7150b7662f238dbf8ce5\")>"
      ]
     },
     "execution_count": 72,
     "metadata": {},
     "output_type": "execute_result"
    }
   ],
   "source": [
    "#lets connect to the driver\n",
    "driver=webdriver.Chrome(r'C:\\Users\\hp\\Downloads\\chromedriver_win32\\chromedriver.exe')\n",
    "driver"
   ]
  },
  {
   "cell_type": "code",
   "execution_count": 73,
   "id": "54978058",
   "metadata": {},
   "outputs": [],
   "source": [
    "#maximize\n",
    "driver.maximize_window()"
   ]
  },
  {
   "cell_type": "code",
   "execution_count": 74,
   "id": "020aba9e",
   "metadata": {},
   "outputs": [],
   "source": [
    "#opening the website\n",
    "url='https://www.azquotes.com/'\n",
    "driver.get(url)"
   ]
  },
  {
   "cell_type": "code",
   "execution_count": 75,
   "id": "6bf76940",
   "metadata": {},
   "outputs": [],
   "source": [
    "#clicking on top quotes\n",
    "quotes=driver.find_element(By.XPATH,'/html/body/div[1]/div[1]/div[1]/div/div[3]/ul/li[5]/a')\n",
    "quotes.click()"
   ]
  },
  {
   "cell_type": "code",
   "execution_count": 76,
   "id": "a79178b7",
   "metadata": {},
   "outputs": [
    {
     "data": {
      "text/plain": [
       "['The essence of strategy is choosing what not to do.',\n",
       " 'One cannot and must not try to erase the past merely because it does not fit the present.',\n",
       " 'Patriotism means to stand by the country. It does not mean to stand by the president.',\n",
       " 'Death is something inevitable. When a man has done what he considers to be his duty to his people and his country, he can rest in peace. I believe I have made that effort and that is, therefore, why I will sleep for the eternity.',\n",
       " 'You have to love a nation that celebrates its independence every July 4, not with a parade of guns, tanks, and soldiers who file by the White House in a show of strength and muscle, but with family picnics where kids throw Frisbees, the potato salad gets iffy, and the flies die from happiness. You may think you have overeaten, but it is patriotism.',\n",
       " 'Be more concerned with your character than your reputation, because your character is what you really are, while your reputation is merely what others think you are.',\n",
       " 'Weak people revenge. Strong people forgive. Intelligent People Ignore.',\n",
       " \"A mind is like a parachute. It doesn't work if it is not open.\",\n",
       " 'Never be afraid to raise your voice for honesty and truth and compassion against injustice and lying and greed. If people all over the world...would do this, it would change the earth.',\n",
       " 'There are three kinds of men. The one that learns by reading. The few who learn by observation. The rest of them have to pee on the electric fence for themselves.',\n",
       " \"A strong nation, like a strong person, can afford to be gentle, firm, thoughtful, and restrained. It can afford to extend a helping hand to others. It's a weak nation, like a weak person, that must behave with bluster and boasting and rashness and other signs of insecurity.\",\n",
       " 'The difference between stupidity and genius is that genius has its limits.',\n",
       " 'We the people are the rightful masters of both Congress and the courts, not to overthrow the Constitution but to overthrow the men who pervert the Constitution.',\n",
       " 'With or without religion, you would have good people doing good things and evil people doing evil things. But for good people to do evil things, that takes religion.',\n",
       " 'Human kindness has never weakened the stamina or softened the fiber of a free people. A nation does not have to be cruel to be tough.',\n",
       " 'A person who never made a mistake never tried anything new.',\n",
       " 'My mission in life is not merely to survive, but to thrive; and to do so with some passion, some compassion, some humor, and some style',\n",
       " 'Life is short, Break the Rules. Forgive quickly, Kiss slowly. Love truly. Laugh uncontrollably And never regret ANYTHING That makes you smile.',\n",
       " 'This country will not be a good place for any of us to live in unless we make it a good place for all of us to live in.',\n",
       " 'In a world filled with hate, we must still dare to hope. In a world filled with anger, we must still dare to comfort. In a world filled with despair, we must still dare to dream. And in a world filled with distrust, we must still dare to believe.',\n",
       " 'Darkness cannot drive out darkness; only light can do that. Hate cannot drive out hate; only love can do that.',\n",
       " 'To be a Christian means to forgive the inexcusable because God has forgiven the inexcusable in you.',\n",
       " 'A man who is good enough to shed his blood for the country is good enough to be given a square deal afterwards.',\n",
       " 'Kindness is the language which the deaf can hear and the blind can see.',\n",
       " 'Most folks are as happy as they make up their minds to be.',\n",
       " 'A happy marriage is the union of two good forgivers.',\n",
       " 'I believe in Christianity as I believe that the sun has risen: not only because I see it, but because by it I see everything else.',\n",
       " 'Politics is the art of looking for trouble, finding it everywhere, diagnosing it incorrectly and applying the wrong remedies.',\n",
       " \"I believe in everything until it's disproved. So I believe in fairies, the myths, dragons. It all exists, even if it's in your mind. Who's to say that dreams and nightmares aren't as real as the here and now?\",\n",
       " 'At the end of your life, you will never regret not having passed one more test, not winning one more verdict or not closing one more deal. You will regret time not spent with a husband, a friend, a child, or a parent.',\n",
       " 'I never think of the future - it comes soon enough.',\n",
       " \"Our greatest fear should not be of failure but of succeeding at things in life that don't really matter.\",\n",
       " 'Failure is simply the opportunity to begin again, this time more intelligently.',\n",
       " 'Music expresses that which cannot be put into words.',\n",
       " 'Good actions are a guard against the blows of adversity.',\n",
       " 'Positive thinking will let you do everything better than negative thinking will.',\n",
       " \"You have enemies? Good. That means you've stood up for something, sometime in your life.\",\n",
       " \"You don't have to be great to start, but you have to start to be great\",\n",
       " 'Let every nation know, whether it wishes us well or ill, that we shall pay any price, bear any burden, meet any hardship, support any friend, oppose any foe to assure the survival and the success of liberty.',\n",
       " \"If you want total security, go to prison. There you're fed, clothed, given medical care and so on. The only thing lacking... is freedom.\",\n",
       " 'Socialism is a philosophy of failure, the creed of ignorance, and the gospel of envy, its inherent virtue is the equal sharing of misery.',\n",
       " 'It is the supreme art of the teacher to awaken joy in creative expression and knowledge.',\n",
       " \"Once you replace negative thoughts with positive ones, you'll start having positive results.\",\n",
       " \"You build on failure. You use it as a stepping stone. Close the door on the past. You don't try to forget the mistakes, but you don't dwell on it. You don't let it have any of your energy, or any of your time, or any of your space.\",\n",
       " 'All my life through, the new sights of Nature made me rejoice like a child.',\n",
       " \"I've learned that people will forget what you said, people will forget what you did, but people will never forget how you made them feel.\",\n",
       " 'Marriage is not a ritual or an end. It is a long, intricate, intimate dance together and nothing matters more than your own sense of balance and your choice of partner.',\n",
       " 'When obstacles arise, you change your direction to reach your goal; you do not change your decision to get there.',\n",
       " 'Time you enjoy wasting, was not wasted.',\n",
       " 'The next time some academics tell you how important diversity is, ask how many Republicans there are in their sociology department.',\n",
       " 'Faith is not the belief that God will do what you want. It is the belief that God will do what is right.',\n",
       " \"If you can't fly then run, if you can't run then walk, if you can't walk then crawl, but whatever you do you have to keep moving forward.\",\n",
       " 'I say that the most liberating thing about beauty is realizing that you are the beholder.',\n",
       " 'It is hard to imagine a more stupid or more dangerous way of making decisions than by putting those decisions in the hands of people who pay no price for being wrong.',\n",
       " 'The ultimate measure of a man is not where he stands in moments of comfort and convenience, but where he stands at times of challenge and controversy.',\n",
       " 'The soldier, above all other people, prays for peace, for he must suffer and bear the deepest wounds and scars of war.',\n",
       " 'A true leader has the confidence to stand alone, the courage to make tough decisions, and the compassion to listen to the needs of others. He does not set out to be a leader, but becomes one by the equality of his actions and the integrity of his intent.',\n",
       " 'I am a Soldier, I fight where I am told, and I win where I fight.',\n",
       " \"Trying to do the Lord's work in your own strength is the most confusing, exhausting, and tedious of all work. But when you are filled with the Holy Spirit, then the ministry of Jesus just flows out of you.\",\n",
       " \"Sports for me is when a guy walks off the court, and you really can't tell whether he won or lost, when he carries himself with pride either way.\",\n",
       " 'Expect the best. Prepare for the worst. Capitalize on what comes.',\n",
       " 'I became insane, with long intervals of horrible sanity.',\n",
       " 'Failure is a detour, not a dead-end street.',\n",
       " 'I am not a product of my circumstances. I am a product of my decisions.',\n",
       " 'You can cut all the flowers but you cannot keep spring from coming.',\n",
       " \"Life doesn't run away from nobody. Life runs at people.\",\n",
       " 'In order to succeed, your desire for success should be greater than your fear of failure.',\n",
       " \"It's difficult to think anything but pleasant thoughts while eating a homegrown tomato.\",\n",
       " 'Too many of us are not living our dreams because we are living our fears.',\n",
       " 'If the only prayer you ever say in your entire life is thank you, it will be enough.',\n",
       " \"It's just a job. Grass grows, birds fly, waves pound the sand. I beat people up.\",\n",
       " 'A man must be big enough to admit his mistakes, smart enough to profit from them, and strong enough to correct them.',\n",
       " 'Our greatest weakness lies in giving up. The most certain way to succeed is always to try just one more time.',\n",
       " 'This is one small step for a man, one giant leap for mankind.',\n",
       " \"It has been said, 'time heals all wounds.' I do not agree. The wounds remain. In time, the mind, protecting its sanity, covers them with scar tissue and the pain lessens. But it is never gone.\",\n",
       " \"I have held many things in my hands, and I have lost them all; but whatever I have placed in God's hands, that I still possess.\",\n",
       " \"Welfare's purpose should be to eliminate, as far as possible, the need for its own existence.\",\n",
       " 'Each time, before you intercede, be quiet first, and worship God in His glory. Think of what He can do, and how He delights to hear the prayers of His redeemed people. Think of your place and privilege in Christ, and expect great things!',\n",
       " \"Failure is not the opposite of success; it's part of success.\",\n",
       " 'No one has ever become poor by giving.',\n",
       " 'It is not my ability, but my response to God’s ability, that counts.',\n",
       " 'No matter what people tell you, words and ideas can change the world.',\n",
       " 'No one is born hating another person because of the color of his skin, or his background, or his religion. People must learn to hate, and if they can learn to hate, they can be taught to love, for love comes more naturally to the human heart than its opposite.',\n",
       " 'A man should never neglect his family for business.',\n",
       " 'Those who dare to fail miserably can achieve greatly.',\n",
       " 'The two most important days in your life are the day you are born and the day you find out why.',\n",
       " 'We must be global Christians with a global vision because our God is a global God.',\n",
       " 'With everything that has happened to you, you can either feel sorry for yourself or treat what has happened as a gift. Everything is either an opportunity to grow or an obstacle to keep you from growing. You get to choose.',\n",
       " 'Don’t let the noise of others’ opinions drown out your own inner voice.',\n",
       " 'History, despite its wrenching pain, cannot be unlived, but if faced with courage, need not be lived again.',\n",
       " \"How old would you be if you didn't know how old you are?\",\n",
       " 'Leadership is a privilege to better the lives of others. It is not an opportunity to satisfy personal greed.',\n",
       " 'If you have good thoughts they will shine out of your face like sunbeams and you will always look lovely.',\n",
       " 'Never cut a tree down in the wintertime. Never make a negative decision in the low time. Never make your most important decisions when you are in your worst moods. Wait. Be patient. The storm will pass. The spring will come.',\n",
       " 'An optimist stays up until midnight to see the new year in. A pessimist stays up to make sure the old year leaves.',\n",
       " 'When the going gets weird, the weird turn pro.',\n",
       " \"When a train goes through a tunnel and it gets dark, you don't throw away the ticket and jump off. You sit still and trust the engineer.\",\n",
       " \"God doesn't require us to succeed, he only requires that you try.\",\n",
       " 'If you think you are too small to make a difference, try sleeping with a mosquito.',\n",
       " 'Change your thoughts and you change your world.']"
      ]
     },
     "execution_count": 76,
     "metadata": {},
     "output_type": "execute_result"
    }
   ],
   "source": [
    "#scrapping quote\n",
    "quotes=[]\n",
    "quote_tag=driver.find_elements(By.XPATH,'//a[@class=\"title\"]')\n",
    "for i in quote_tag:\n",
    "    quotes.append(i.text)\n",
    "quotes"
   ]
  },
  {
   "cell_type": "code",
   "execution_count": null,
   "id": "a1ef1d29",
   "metadata": {},
   "outputs": [],
   "source": []
  },
  {
   "cell_type": "code",
   "execution_count": 77,
   "id": "ed0199fb",
   "metadata": {},
   "outputs": [
    {
     "data": {
      "text/plain": [
       "100"
      ]
     },
     "execution_count": 77,
     "metadata": {},
     "output_type": "execute_result"
    }
   ],
   "source": [
    "len(quotes)"
   ]
  },
  {
   "cell_type": "code",
   "execution_count": 87,
   "id": "946c29a6",
   "metadata": {},
   "outputs": [],
   "source": [
    "#scrapping 1000 quotes\n",
    "quotes=[]\n",
    "start=0\n",
    "end=10\n",
    "for page in range(start,end):\n",
    "    qu_tag=driver.find_elements(By.XPATH,'//a[@class=\"title\"]')\n",
    "    for i in qu_tag:\n",
    "        quotes.append(i.text)\n",
    "    next_button=driver.find_element(By.XPATH,'/html/body/div[1]/div[2]/div/div/div/div[1]/div/div[3]/span')\n",
    "    next_button.click()\n",
    "    time.sleep(5)"
   ]
  },
  {
   "cell_type": "code",
   "execution_count": 88,
   "id": "36065f92",
   "metadata": {},
   "outputs": [
    {
     "data": {
      "text/plain": [
       "1000"
      ]
     },
     "execution_count": 88,
     "metadata": {},
     "output_type": "execute_result"
    }
   ],
   "source": [
    "len(quotes)"
   ]
  },
  {
   "cell_type": "code",
   "execution_count": 91,
   "id": "f2a6d7e4",
   "metadata": {},
   "outputs": [
    {
     "data": {
      "text/plain": [
       "['Amelia Earhart',\n",
       " 'Ludwig von Mises',\n",
       " 'Elizabeth Cady Stanton',\n",
       " 'Benjamin Spock',\n",
       " 'Charles Kettering',\n",
       " 'Michael Jordan',\n",
       " 'B.K.S. Iyengar',\n",
       " 'Michael Caine',\n",
       " 'Billy Graham',\n",
       " 'Jim Rohn',\n",
       " 'William Arthur Ward',\n",
       " 'Thomas A. Edison',\n",
       " 'Michael Chang',\n",
       " 'George Mason',\n",
       " 'Thomas Merton',\n",
       " 'Jim Rohn',\n",
       " 'Leo Buscaglia',\n",
       " 'Richard Harding Davis',\n",
       " 'Bob Marley',\n",
       " 'Benjamin Franklin',\n",
       " 'Friedrich Nietzsche',\n",
       " 'Larry Eisenberg',\n",
       " 'Robert A. Heinlein',\n",
       " 'Pablo Picasso',\n",
       " 'George A. Sheehan',\n",
       " 'Confucius',\n",
       " 'William Ellery Channing',\n",
       " 'William Arthur Ward',\n",
       " 'Helen Hayes',\n",
       " 'Robert W. Service',\n",
       " 'Bruce Lee',\n",
       " 'Henry Wadsworth Longfellow',\n",
       " 'Voltaire',\n",
       " 'Lewis Carroll',\n",
       " 'Miles Davis',\n",
       " 'Jim Morrison',\n",
       " 'Mark Twain',\n",
       " 'Malcolm Forbes',\n",
       " 'Eckhart Tolle',\n",
       " 'Albert Einstein',\n",
       " 'Robert E. Cushman, Jr.',\n",
       " 'Flip Wilson',\n",
       " 'Franklin D. Roosevelt',\n",
       " 'Claude Bernard',\n",
       " 'Plato',\n",
       " 'Maya Angelou',\n",
       " 'Vince Lombardi',\n",
       " 'Willie Nelson',\n",
       " 'Mario',\n",
       " 'George Washington Carver',\n",
       " 'Rabindranath Tagore',\n",
       " 'Mother Teresa',\n",
       " 'Jim Rohn',\n",
       " 'Tony Robbins',\n",
       " 'Norman Vincent Peale',\n",
       " 'Franklin D. Roosevelt',\n",
       " 'Steve Jobs',\n",
       " 'Norman Vincent Peale',\n",
       " 'Winston Churchill',\n",
       " 'John Burroughs',\n",
       " 'Albert Einstein',\n",
       " 'Edward R. Murrow',\n",
       " 'Sam Walton',\n",
       " 'R. Buckminster Fuller',\n",
       " 'Loretta Young',\n",
       " 'Marvin Minsky',\n",
       " 'Nancy Lopez',\n",
       " 'Jesse Owens',\n",
       " 'Jane Austen',\n",
       " 'Al Neuharth',\n",
       " 'Lillian Hellman',\n",
       " 'Nhat Hanh',\n",
       " 'Daniel J. Boorstin',\n",
       " 'Judy Garland',\n",
       " 'Og Mandino',\n",
       " 'John Bingham',\n",
       " 'William James',\n",
       " 'Albert Einstein',\n",
       " 'Desmond Tutu',\n",
       " 'Rita Mae Brown',\n",
       " 'John Dewey',\n",
       " 'Margaret Thatcher',\n",
       " 'Eckhart Tolle',\n",
       " 'Ayn Rand',\n",
       " 'Calvin Coolidge',\n",
       " 'Rumi',\n",
       " 'Leo Buscaglia',\n",
       " 'Mark Twain',\n",
       " 'Friedrich Nietzsche',\n",
       " 'Giorgio Armani',\n",
       " 'Aesop',\n",
       " 'Jane Austen',\n",
       " 'Samuel Johnson',\n",
       " 'John C. Maxwell',\n",
       " 'Elie Wiesel',\n",
       " 'Sydney J. Harris',\n",
       " 'Hunter S. Thompson',\n",
       " 'Jim Rohn',\n",
       " 'Ram Dass',\n",
       " 'Eleanor Roosevelt']"
      ]
     },
     "execution_count": 91,
     "metadata": {},
     "output_type": "execute_result"
    }
   ],
   "source": [
    "#scrapping the authors\n",
    "author=[]\n",
    "auth_tags=driver.find_elements(By.XPATH,'//div[@class=\"author\"]')\n",
    "for i in auth_tags:\n",
    "    author.append(i.text)\n",
    "author"
   ]
  },
  {
   "cell_type": "code",
   "execution_count": 90,
   "id": "00ef5fc0",
   "metadata": {},
   "outputs": [
    {
     "data": {
      "text/plain": [
       "100"
      ]
     },
     "execution_count": 90,
     "metadata": {},
     "output_type": "execute_result"
    }
   ],
   "source": [
    "len(author)"
   ]
  },
  {
   "cell_type": "code",
   "execution_count": 93,
   "id": "8f392ed6",
   "metadata": {},
   "outputs": [],
   "source": [
    "#scrapping 1000 quotes\n",
    "author=[]\n",
    "start=0\n",
    "end=10\n",
    "for page in range(start,end):\n",
    "    auth_tag=driver.find_elements(By.XPATH,'//div[@class=\"author\"]')\n",
    "    for i in auth_tag:\n",
    "        author.append(i.text)\n",
    "    next_button=driver.find_element(By.XPATH,'/html/body/div[1]/div[2]/div/div/div/div[1]/div/div[3]/span')\n",
    "    next_button.click()\n",
    "    time.sleep(5)"
   ]
  },
  {
   "cell_type": "code",
   "execution_count": 94,
   "id": "d88721ff",
   "metadata": {},
   "outputs": [
    {
     "data": {
      "text/plain": [
       "1000"
      ]
     },
     "execution_count": 94,
     "metadata": {},
     "output_type": "execute_result"
    }
   ],
   "source": [
    "len(author)"
   ]
  },
  {
   "cell_type": "code",
   "execution_count": 95,
   "id": "bb97842e",
   "metadata": {},
   "outputs": [
    {
     "data": {
      "text/plain": [
       "100"
      ]
     },
     "execution_count": 95,
     "metadata": {},
     "output_type": "execute_result"
    }
   ],
   "source": [
    "#scrapping type of quotes\n",
    "type=[]\n",
    "type_tag=driver.find_elements(By.XPATH,'//div[@class=\"tags\"]')\n",
    "for i in type_tag:\n",
    "    type.append(i.text)\n",
    "len(type)"
   ]
  },
  {
   "cell_type": "code",
   "execution_count": 96,
   "id": "e8f14098",
   "metadata": {},
   "outputs": [],
   "source": [
    "#scrapping types of 1000 quotes\n",
    "type=[]\n",
    "start=0\n",
    "end=10\n",
    "for page in range(start,end):\n",
    "    type_tag=driver.find_elements(By.XPATH,'//div[@class=\"tags\"]')\n",
    "    for i in type_tag:\n",
    "        type.append(i.text)\n",
    "    next_button=driver.find_element(By.XPATH,'/html/body/div[1]/div[2]/div/div/div/div[1]/div/div[3]/span')\n",
    "    next_button.click()\n",
    "    time.sleep(5)"
   ]
  },
  {
   "cell_type": "code",
   "execution_count": 97,
   "id": "0676dc0b",
   "metadata": {},
   "outputs": [
    {
     "data": {
      "text/plain": [
       "1000"
      ]
     },
     "execution_count": 97,
     "metadata": {},
     "output_type": "execute_result"
    }
   ],
   "source": [
    "len(type)"
   ]
  },
  {
   "cell_type": "code",
   "execution_count": 98,
   "id": "08447b37",
   "metadata": {},
   "outputs": [],
   "source": [
    "#===========Q9=============completed\n",
    "#closing window\n",
    "driver.close()"
   ]
  },
  {
   "cell_type": "code",
   "execution_count": 99,
   "id": "aa1f8750",
   "metadata": {},
   "outputs": [
    {
     "data": {
      "text/plain": [
       "<selenium.webdriver.chrome.webdriver.WebDriver (session=\"a285a72b9577e8c6a1a52a8af54765ad\")>"
      ]
     },
     "execution_count": 99,
     "metadata": {},
     "output_type": "execute_result"
    }
   ],
   "source": [
    "#====Q3========\n",
    "#lets connect to the driver\n",
    "driver=webdriver.Chrome(r'C:\\Users\\hp\\Downloads\\chromedriver_win32\\chromedriver.exe')\n",
    "driver\n"
   ]
  },
  {
   "cell_type": "code",
   "execution_count": 100,
   "id": "7da4e304",
   "metadata": {},
   "outputs": [],
   "source": [
    "#maximising the window\n",
    "driver.maximize_window()"
   ]
  },
  {
   "cell_type": "code",
   "execution_count": 101,
   "id": "d4de025c",
   "metadata": {},
   "outputs": [],
   "source": [
    "#opening up website\n",
    "url='https://www.naukri.com/'\n",
    "driver.get(url)"
   ]
  },
  {
   "cell_type": "code",
   "execution_count": 102,
   "id": "6357df1b",
   "metadata": {},
   "outputs": [],
   "source": [
    "#entering data scientist in the respective field\n",
    "search_job=driver.find_element(By.CLASS_NAME,'suggestor-input')\n",
    "search_job.send_keys(\"Data Scientist\")"
   ]
  },
  {
   "cell_type": "code",
   "execution_count": 103,
   "id": "deb9fbe5",
   "metadata": {},
   "outputs": [],
   "source": [
    "#clicking the search button\n",
    "search_btn=driver.find_element(By.CLASS_NAME,'qsbSubmit')\n",
    "search_btn.click()"
   ]
  },
  {
   "cell_type": "code",
   "execution_count": 104,
   "id": "8a1c1cd5",
   "metadata": {},
   "outputs": [],
   "source": [
    "#applying the location filter\n",
    "srch_locn=driver.find_element(By.XPATH,'/html/body/div[1]/div[4]/div/section[1]/div[2]/div[5]/div[2]/div[2]/label/p/span[1]')\n",
    "srch_locn.click()"
   ]
  },
  {
   "cell_type": "code",
   "execution_count": 105,
   "id": "6cdd42e8",
   "metadata": {},
   "outputs": [],
   "source": [
    "#applying salary filter\n",
    "salary=driver.find_element(By.XPATH,'/html/body/div[1]/div[4]/div/section[1]/div[2]/div[6]/div[2]/div[2]/label/p/span[1]')\n",
    "salary.click()"
   ]
  },
  {
   "cell_type": "code",
   "execution_count": 106,
   "id": "e4089565",
   "metadata": {},
   "outputs": [
    {
     "data": {
      "text/plain": [
       "['HCLTech',\n",
       " 'Boston Consulting Group',\n",
       " 'NGI Ventures',\n",
       " 'Black Turtle',\n",
       " 'Wegarner Solutions',\n",
       " 'torcai digital media',\n",
       " 'Meon Technologies',\n",
       " 'Alliance Recruitment Agency',\n",
       " 'TeamPlus Staffing Solution Pvt Ltd',\n",
       " 'Razor Group GmbH']"
      ]
     },
     "execution_count": 106,
     "metadata": {},
     "output_type": "execute_result"
    }
   ],
   "source": [
    "#scrapping the data for first 10 jobs\n",
    "company=[]\n",
    "co_tags=driver.find_elements(By.XPATH,'//a[@class=\"subTitle ellipsis fleft\"]')\n",
    "for i in co_tags[0:10]:\n",
    "    company.append(i.text)\n",
    "company"
   ]
  },
  {
   "cell_type": "code",
   "execution_count": 107,
   "id": "b17d22e6",
   "metadata": {},
   "outputs": [
    {
     "data": {
      "text/plain": [
       "10"
      ]
     },
     "execution_count": 107,
     "metadata": {},
     "output_type": "execute_result"
    }
   ],
   "source": [
    "len(company)"
   ]
  },
  {
   "cell_type": "code",
   "execution_count": 108,
   "id": "5c5cb5fb",
   "metadata": {},
   "outputs": [
    {
     "data": {
      "text/plain": [
       "10"
      ]
     },
     "execution_count": 108,
     "metadata": {},
     "output_type": "execute_result"
    }
   ],
   "source": [
    "experience=[]\n",
    "exp_tags=driver.find_elements(By.XPATH,'//span[@class=\"ellipsis fleft fs12 lh16 expwdth\"]')\n",
    "for i in exp_tags[0:10]:\n",
    "    experience.append(i.text)\n",
    "len(experience)"
   ]
  },
  {
   "cell_type": "code",
   "execution_count": 109,
   "id": "8e4ef330",
   "metadata": {},
   "outputs": [
    {
     "data": {
      "text/plain": [
       "['4-9 Yrs',\n",
       " '2-5 Yrs',\n",
       " '0-4 Yrs',\n",
       " '4-8 Yrs',\n",
       " '3-8 Yrs',\n",
       " '2-7 Yrs',\n",
       " '2-5 Yrs',\n",
       " '3-4 Yrs',\n",
       " '3-6 Yrs',\n",
       " '2-3 Yrs']"
      ]
     },
     "execution_count": 109,
     "metadata": {},
     "output_type": "execute_result"
    }
   ],
   "source": [
    "experience"
   ]
  },
  {
   "cell_type": "code",
   "execution_count": 114,
   "id": "20b8b94d",
   "metadata": {},
   "outputs": [
    {
     "data": {
      "text/plain": [
       "['Noida, Hyderabad/Secunderabad, Chennai, Bangalore/Bengaluru',\n",
       " 'New Delhi, Bangalore/Bengaluru',\n",
       " 'Temp. WFH - Noida, Pune',\n",
       " 'Delhi / NCR, Bangalore/Bengaluru',\n",
       " 'Temp. WFH - Noida',\n",
       " 'Dehradun, Hyderabad/Secunderabad, Gurgaon/Gurugram',\n",
       " 'Noida',\n",
       " 'Noida',\n",
       " 'Gurgaon/Gurugram',\n",
       " 'New Delhi']"
      ]
     },
     "execution_count": 114,
     "metadata": {},
     "output_type": "execute_result"
    }
   ],
   "source": [
    "location=[]\n",
    "locn_tags=driver.find_elements(By.XPATH,'//span[@class=\"ellipsis fleft fs12 lh16 locWdth\"]')\n",
    "for i in locn_tags[0:10]:\n",
    "    location.append(i.text)\n",
    "location"
   ]
  },
  {
   "cell_type": "code",
   "execution_count": 112,
   "id": "0652cf4d",
   "metadata": {},
   "outputs": [],
   "source": [
    "#creating dataframe\n",
    "import pandas as pd"
   ]
  },
  {
   "cell_type": "code",
   "execution_count": 115,
   "id": "7e1fe98e",
   "metadata": {},
   "outputs": [
    {
     "data": {
      "text/html": [
       "<div>\n",
       "<style scoped>\n",
       "    .dataframe tbody tr th:only-of-type {\n",
       "        vertical-align: middle;\n",
       "    }\n",
       "\n",
       "    .dataframe tbody tr th {\n",
       "        vertical-align: top;\n",
       "    }\n",
       "\n",
       "    .dataframe thead th {\n",
       "        text-align: right;\n",
       "    }\n",
       "</style>\n",
       "<table border=\"1\" class=\"dataframe\">\n",
       "  <thead>\n",
       "    <tr style=\"text-align: right;\">\n",
       "      <th></th>\n",
       "      <th>Company</th>\n",
       "      <th>Experience</th>\n",
       "      <th>Location</th>\n",
       "    </tr>\n",
       "  </thead>\n",
       "  <tbody>\n",
       "    <tr>\n",
       "      <th>0</th>\n",
       "      <td>HCLTech</td>\n",
       "      <td>4-9 Yrs</td>\n",
       "      <td>Noida, Hyderabad/Secunderabad, Chennai, Bangal...</td>\n",
       "    </tr>\n",
       "    <tr>\n",
       "      <th>1</th>\n",
       "      <td>Boston Consulting Group</td>\n",
       "      <td>2-5 Yrs</td>\n",
       "      <td>New Delhi, Bangalore/Bengaluru</td>\n",
       "    </tr>\n",
       "    <tr>\n",
       "      <th>2</th>\n",
       "      <td>NGI Ventures</td>\n",
       "      <td>0-4 Yrs</td>\n",
       "      <td>Temp. WFH - Noida, Pune</td>\n",
       "    </tr>\n",
       "    <tr>\n",
       "      <th>3</th>\n",
       "      <td>Black Turtle</td>\n",
       "      <td>4-8 Yrs</td>\n",
       "      <td>Delhi / NCR, Bangalore/Bengaluru</td>\n",
       "    </tr>\n",
       "    <tr>\n",
       "      <th>4</th>\n",
       "      <td>Wegarner Solutions</td>\n",
       "      <td>3-8 Yrs</td>\n",
       "      <td>Temp. WFH - Noida</td>\n",
       "    </tr>\n",
       "    <tr>\n",
       "      <th>5</th>\n",
       "      <td>torcai digital media</td>\n",
       "      <td>2-7 Yrs</td>\n",
       "      <td>Dehradun, Hyderabad/Secunderabad, Gurgaon/Guru...</td>\n",
       "    </tr>\n",
       "    <tr>\n",
       "      <th>6</th>\n",
       "      <td>Meon Technologies</td>\n",
       "      <td>2-5 Yrs</td>\n",
       "      <td>Noida</td>\n",
       "    </tr>\n",
       "    <tr>\n",
       "      <th>7</th>\n",
       "      <td>Alliance Recruitment Agency</td>\n",
       "      <td>3-4 Yrs</td>\n",
       "      <td>Noida</td>\n",
       "    </tr>\n",
       "    <tr>\n",
       "      <th>8</th>\n",
       "      <td>TeamPlus Staffing Solution Pvt Ltd</td>\n",
       "      <td>3-6 Yrs</td>\n",
       "      <td>Gurgaon/Gurugram</td>\n",
       "    </tr>\n",
       "    <tr>\n",
       "      <th>9</th>\n",
       "      <td>Razor Group GmbH</td>\n",
       "      <td>2-3 Yrs</td>\n",
       "      <td>New Delhi</td>\n",
       "    </tr>\n",
       "  </tbody>\n",
       "</table>\n",
       "</div>"
      ],
      "text/plain": [
       "                              Company Experience  \\\n",
       "0                             HCLTech    4-9 Yrs   \n",
       "1             Boston Consulting Group    2-5 Yrs   \n",
       "2                        NGI Ventures    0-4 Yrs   \n",
       "3                        Black Turtle    4-8 Yrs   \n",
       "4                  Wegarner Solutions    3-8 Yrs   \n",
       "5                torcai digital media    2-7 Yrs   \n",
       "6                   Meon Technologies    2-5 Yrs   \n",
       "7         Alliance Recruitment Agency    3-4 Yrs   \n",
       "8  TeamPlus Staffing Solution Pvt Ltd    3-6 Yrs   \n",
       "9                    Razor Group GmbH    2-3 Yrs   \n",
       "\n",
       "                                            Location  \n",
       "0  Noida, Hyderabad/Secunderabad, Chennai, Bangal...  \n",
       "1                     New Delhi, Bangalore/Bengaluru  \n",
       "2                            Temp. WFH - Noida, Pune  \n",
       "3                   Delhi / NCR, Bangalore/Bengaluru  \n",
       "4                                  Temp. WFH - Noida  \n",
       "5  Dehradun, Hyderabad/Secunderabad, Gurgaon/Guru...  \n",
       "6                                              Noida  \n",
       "7                                              Noida  \n",
       "8                                   Gurgaon/Gurugram  \n",
       "9                                          New Delhi  "
      ]
     },
     "execution_count": 115,
     "metadata": {},
     "output_type": "execute_result"
    }
   ],
   "source": [
    "career=pd.DataFrame()\n",
    "career['Company']=company\n",
    "career['Experience']=experience\n",
    "career['Location']=location\n",
    "career"
   ]
  },
  {
   "cell_type": "code",
   "execution_count": 116,
   "id": "ed6c2792",
   "metadata": {},
   "outputs": [],
   "source": [
    "#==========Q3completed=============\n",
    "# here my worksheet is done**********\n",
    "#closing window\n",
    "driver.close()"
   ]
  },
  {
   "cell_type": "code",
   "execution_count": null,
   "id": "cbc71f05",
   "metadata": {},
   "outputs": [],
   "source": []
  }
 ],
 "metadata": {
  "kernelspec": {
   "display_name": "Python 3 (ipykernel)",
   "language": "python",
   "name": "python3"
  },
  "language_info": {
   "codemirror_mode": {
    "name": "ipython",
    "version": 3
   },
   "file_extension": ".py",
   "mimetype": "text/x-python",
   "name": "python",
   "nbconvert_exporter": "python",
   "pygments_lexer": "ipython3",
   "version": "3.9.12"
  }
 },
 "nbformat": 4,
 "nbformat_minor": 5
}
