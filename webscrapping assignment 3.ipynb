{
 "cells": [
  {
   "cell_type": "code",
   "execution_count": 1,
   "id": "2f5ec5fa",
   "metadata": {},
   "outputs": [],
   "source": [
    "# lets import the required libraries\n",
    "import selenium\n",
    "from selenium import webdriver\n",
    "import pandas as pd\n",
    "from selenium.webdriver.common.by import By\n",
    "import warnings \n",
    "warnings.filterwarnings('ignore')"
   ]
  },
  {
   "cell_type": "code",
   "execution_count": 2,
   "id": "3ec1b469",
   "metadata": {},
   "outputs": [
    {
     "data": {
      "text/plain": [
       "<selenium.webdriver.chrome.webdriver.WebDriver (session=\"e18015d9d8bdb0b99765d28c71eafd01\")>"
      ]
     },
     "execution_count": 2,
     "metadata": {},
     "output_type": "execute_result"
    }
   ],
   "source": [
    "driver=webdriver.Chrome(r\"C:\\Users\\hp\\Downloads\\chromedriver_win32\\chromedriver.exe\")\n",
    "driver"
   ]
  },
  {
   "cell_type": "code",
   "execution_count": 3,
   "id": "4298f9c5",
   "metadata": {},
   "outputs": [],
   "source": [
    "# lets maximize the window\n",
    "driver.maximize_window()"
   ]
  },
  {
   "cell_type": "code",
   "execution_count": 4,
   "id": "57c58ed4",
   "metadata": {},
   "outputs": [],
   "source": [
    "# lets open amazon.in\n",
    "url=\"https://www.amazon.in\"\n",
    "driver.get(url)"
   ]
  },
  {
   "cell_type": "code",
   "execution_count": 5,
   "id": "289f0d44",
   "metadata": {},
   "outputs": [
    {
     "name": "stdout",
     "output_type": "stream",
     "text": [
      "enter product nameguitar\n"
     ]
    }
   ],
   "source": [
    "product=input(\"enter product name\")\n",
    "\n",
    "srch_product=driver.find_element(By.XPATH,'/html/body/div[1]/header/div/div[1]/div[2]/div/form/div[2]/div[1]/input')\n",
    "srch=srch_product.send_keys(product)\n",
    "\n",
    "\n"
   ]
  },
  {
   "cell_type": "code",
   "execution_count": 6,
   "id": "09dd0b9f",
   "metadata": {},
   "outputs": [],
   "source": [
    "# clicking on search button\n",
    "srch_btn=driver.find_element(By.XPATH,\"/html/body/div[1]/header/div/div[1]/div[2]/div/form/div[3]/div/span/input\")\n",
    "srch_btn.click()"
   ]
  },
  {
   "cell_type": "code",
   "execution_count": 62,
   "id": "605d0145",
   "metadata": {},
   "outputs": [
    {
     "data": {
      "text/plain": [
       "['Pluto HW39-201P Electro Acoustic Guitar - Rosewood Fretboard - Black',\n",
       " 'Yamaha Electric-Acoustic Guitar FX280 Dreadnought With Mexa Sponge Guitar Bag, Belt,Plectrums (Natural)',\n",
       " 'Yamaha F310-TBS Right Handed Acoustic Guitar (Tobacco Sunburst, 6-Strings)',\n",
       " 'Cort SFX-MEM Electro Acoustic Guitar - Open Pore, Mahogany, SFXMEMOP (SFXMEMOP)',\n",
       " 'Fender Classic Design CD-60S Dreadnought Acoustic Guitar (Black)',\n",
       " 'Orangewood 6 String Acoustic Guitar, Right, Spruce (OW-DANA-S)',\n",
       " 'Blueberry B-40, 40\" Acoustic Guitar Kit with Bag,Belt, One Pack Strings & Picks (Black)',\n",
       " 'Fender CD-60S Dreadnought Acoustic Guitar (Natural)',\n",
       " 'TECHBLAZE 6 Pcs Guitar Keys for Acoustic Guitar Chrome Tuning Pegs Keys 3 Left 3 Right Guitar Machine Heads Knobs With Strap Button Locks Guitar Keys 3R+3L 6 pieces- Chrome',\n",
       " 'Intern INT-38C-VT-G 38 Incheses Cutaway Right HAnded lindenwood Acoustic Guitar Kit, With Bag, Strings, Pick And Strap (Violet, 6-Strings)',\n",
       " 'Pluto HW34-101 86.36 cm (34-inch) Acoustic Guitar (Black)',\n",
       " 'INTERN Cutaway Design Acoustic Guitar Pack -Humidity Proof, Bend resistance, Durable Action, Natural tone & bright resonance. Red Carbon Fibre/Fiber Guitar with Bag, Strap, Strings set & Plectrums.',\n",
       " 'Cort AD810-OP Acoustic Guitar, Brown',\n",
       " 'Intern INT-38C Acoustic Guitar Kit (Natural)',\n",
       " 'Yamaha F310-TBS Right Handed Acoustic Guitar with Cover (Tobacco Sunburst, 6-Strings)',\n",
       " 'Kadence Frontier Series Semi Acoustic Guitar With Die Cast Keys Natural Super Combo, Capo, Bag, strap, strings and 3 picks)',\n",
       " 'Mustang 46 PCS Guitar Strings Changing Kit Guitar Tool Kit Including Guitar Strings Guitar Tuner Picks Capo Pins Guitar String Cutter and Winder for Beginner',\n",
       " 'ORANGEWOOD REY-S SPRUCE GRAND AUDITORIUM CUTAWAY ACOUSTIC GUITAR',\n",
       " 'Tanglewood Crossroads TWCR SFCE Semi Acoustic Guitar, 6 Strings, Super Folk Cutaway, Whiskey Barrel Burst Satin Finish',\n",
       " 'Wooden Miniature Guitar, Stylish Long Service Life Steel-String Acoustic Guitars for Home Office Decoration',\n",
       " 'Blueberry B-D38 38 Incheses wood Acoustic Guitar Kit Inbuilt Truss Rod With Bag, Strap, One Pack Strings And Picks (Blue)',\n",
       " 'Pluto HW39C-201 39-inch Cutaway Acoustic Guitar (Black)',\n",
       " 'Intern INT-38C-RD-G Linden Wood Cutaway Right Handed Acoustic Guitar Kit, With Bag, Strings, Pick And Strap (Red, 6 Strings)',\n",
       " 'Fender Bullet Strat Electric Guitar, White',\n",
       " 'Epiphone Les Paul Melody Maker E1 Electric Guitar',\n",
       " 'Cort AD810LH-OP Dreadnought Left Handed Acoustic Guitar - Open Pore',\n",
       " 'HRB MUSICALS 1saddle, 1 guitar nut, 6 bridge pin in black with 4 picks',\n",
       " 'Tanglewood Crossroads TWCR OE Semi Acoustic Guitar, 6 Strings, Orchestra, Whiskey Barrel Burst Satin Finish',\n",
       " 'Yamaha F370 Acoustic Guitar, Natural',\n",
       " 'Yamaha Acoustic Guitar F310 Dreadnought With Mexa Blue Guitar Bag, Head Cover, Belt, Plectrums & String Set.',\n",
       " 'Cort AD Mini M-OP Acoustic Guitar With Bag',\n",
       " \"DHARM IMPEX S4 String Decor Guitar Children's Musical Instrument Educational Toy Small Guitar for Beginners Kids Child - 23Inch\",\n",
       " 'Cort AF550SE Guitar Electro Acoustic- OP With Sponge Bag, Belt, String Set & Plectrums Combo Pack (Nat)',\n",
       " 'Zabel Acoustic Guitar 40 Inches Matt Finish, Blue, With Combo Guitar Bag, Strings, Strap And Picks',\n",
       " 'Fender Squier 310005532 25.5 Inches Lindenwood Bullet Fat Stratocaster Right Handed Electric Guitar (Own Sunburst, Brown, 6 Strings)',\n",
       " 'Tanglewood Roadster II TWR2 DE Semi Acoustic Guitar, 6 Strings, Dreadnought, Natural Satin Finish',\n",
       " 'Givsun Venus Special Black Matt 6-String Cut A Way Right Hand Acoustic Semi-Electric Guitar With Bag And Free 1 Set String,2 Picks',\n",
       " 'Tanglewood Crossroads TWCR O Acoustic Guitar, 6 Strings, Orchestra, Whiskey Barrel Burst Satin Finish',\n",
       " \"Madhav Villa S4 String Decor Guitar Children's Musical Instrument Educational Toy Small Guitar for Beginners Kids Child - 23Inch\",\n",
       " 'Yamaha PACIFICA012 Electric Guitar - Black',\n",
       " 'Gavison Venus Black Rosewood Fretboard Acoustic Guitar With Bag,Strap,1 Set of Extra Strings and 2 Picks',\n",
       " 'Blueberry R-701, 6 String Right Handed Beginner Full Size Rosewood Fret board Electric Guitar with Bag, Strap, One Set of Strings and 2 Picks (Red)',\n",
       " 'Standzo Yamaha F280 Acoustic Guitar, Natural with Padded Carry Bag, Belt, Picks, String and Learning Book Combo Pack',\n",
       " 'Vault HL1 Headless Electric Guitar with Gig-Bag',\n",
       " 'JUAREZ Arpeggio 41 Inch Acoustic Guitar Kit, Spruce Top, Rosewood Fretboard & Bridge, Truss Rod, Chrome Die Cast Machine Tuners, Blue',\n",
       " 'Fender SA105CE Electric Acoustic Guitar Dreadnought With Bag, Belt & Plectrums Combo Pack (SB)',\n",
       " 'Yamaha F310 Acoustic Guitar Dreadnought With Mexa Bag, Belt, String Set, Guitar Stand & Plectrums Combo Pack.Natural.',\n",
       " 'Medellin 40\" Acoustic Guitar +(Free Online Learning Course) - Durable Matt finish with, strings, strap, bag, 3 Picks and truss rod adjustment.']"
      ]
     },
     "execution_count": 62,
     "metadata": {},
     "output_type": "execute_result"
    }
   ],
   "source": [
    "brand_name=[]\n",
    "brand_tag=driver.find_elements(By.XPATH,'//h2[@class=\"a-size-mini a-spacing-none a-color-base s-line-clamp-4\"]')\n",
    "for i in brand_tag[0:85]:\n",
    "    brand_name.append(i.text)\n",
    "brand_name"
   ]
  },
  {
   "cell_type": "code",
   "execution_count": 63,
   "id": "3e5ba712",
   "metadata": {},
   "outputs": [
    {
     "data": {
      "text/plain": [
       "48"
      ]
     },
     "execution_count": 63,
     "metadata": {},
     "output_type": "execute_result"
    }
   ],
   "source": [
    "len(brand_name)"
   ]
  },
  {
   "cell_type": "code",
   "execution_count": 66,
   "id": "97f379ba",
   "metadata": {},
   "outputs": [
    {
     "data": {
      "text/plain": [
       "['₹6,199',\n",
       " '₹12,289',\n",
       " '₹9,780',\n",
       " '₹14,299',\n",
       " '₹18,018',\n",
       " '₹11,163\\n84',\n",
       " '₹4,990',\n",
       " '₹15,845\\n48',\n",
       " '₹549',\n",
       " '₹2,399',\n",
       " '₹2,590',\n",
       " '₹9,680',\n",
       " '₹2,231\\n75',\n",
       " '₹9,995',\n",
       " '₹6,699',\n",
       " '₹895',\n",
       " '₹10,225\\n54',\n",
       " '₹13,999',\n",
       " '₹1,479',\n",
       " '₹2,655',\n",
       " '₹6,216',\n",
       " '₹2,399',\n",
       " '₹14,072',\n",
       " '₹13,200',\n",
       " '₹10,599',\n",
       " '₹179',\n",
       " '₹13,516',\n",
       " '₹13,233',\n",
       " '₹11,490',\n",
       " '₹10,599',\n",
       " '₹999',\n",
       " '₹15,999',\n",
       " '₹3,999',\n",
       " '₹13,665',\n",
       " '₹14,499',\n",
       " '₹4,089',\n",
       " '₹10,571',\n",
       " '₹999',\n",
       " '₹15,990',\n",
       " '₹3,750',\n",
       " '₹5,999',\n",
       " '₹8,690',\n",
       " '₹19,990',\n",
       " '₹5,941',\n",
       " '₹12,801',\n",
       " '₹11,439',\n",
       " '₹3,499',\n",
       " '₹302.00']"
      ]
     },
     "execution_count": 66,
     "metadata": {},
     "output_type": "execute_result"
    }
   ],
   "source": [
    "price=[]\n",
    "price_tag=driver.find_elements(By.XPATH,'//span[@class=\"a-price\"]')\n",
    "for i in price_tag[0:48]:\n",
    "    price.append(i.text)\n",
    "price"
   ]
  },
  {
   "cell_type": "code",
   "execution_count": 67,
   "id": "92249960",
   "metadata": {},
   "outputs": [
    {
     "data": {
      "text/plain": [
       "48"
      ]
     },
     "execution_count": 67,
     "metadata": {},
     "output_type": "execute_result"
    }
   ],
   "source": [
    "len(price)"
   ]
  },
  {
   "cell_type": "code",
   "execution_count": 11,
   "id": "3f22b4d6",
   "metadata": {},
   "outputs": [],
   "source": [
    "clk_btn=driver.find_element(By.CLASS_NAME,'s-image')\n",
    "clk_btn.click()"
   ]
  },
  {
   "cell_type": "code",
   "execution_count": 12,
   "id": "fb27c595",
   "metadata": {},
   "outputs": [],
   "source": [
    "import pandas as pd\n",
    "import time\n",
    "from selenium.common.exceptions import StaleElementReferenceException,NoSuchElementException\n",
    "import re"
   ]
  },
  {
   "cell_type": "code",
   "execution_count": 68,
   "id": "8df2584f",
   "metadata": {},
   "outputs": [
    {
     "data": {
      "text/plain": [
       "['Sunday, November 27',\n",
       " 'Saturday, November 26',\n",
       " 'Tuesday, November 29',\n",
       " 'Thursday, December 1',\n",
       " 'Sunday, November 27',\n",
       " 'Friday, November 25',\n",
       " 'Sunday, November 27',\n",
       " 'Monday, November 28',\n",
       " 'Friday, November 25',\n",
       " 'Sunday, November 27',\n",
       " 'Sunday, November 27',\n",
       " 'Sunday, November 27',\n",
       " 'tomorrow, November 24',\n",
       " 'Sunday, November 27',\n",
       " 'Monday, November 28',\n",
       " 'Tuesday, November 29',\n",
       " 'Sunday, November 27',\n",
       " 'Sunday, November 27',\n",
       " 'Sunday, November 27',\n",
       " 'Saturday, December 10',\n",
       " 'Wednesday, December 14',\n",
       " 'Monday, November 28',\n",
       " 'Sunday, November 27',\n",
       " 'Friday, November 25',\n",
       " 'Monday, November 28',\n",
       " 'Sunday, November 27',\n",
       " 'Sunday, November 27',\n",
       " 'Sunday, November 27',\n",
       " 'Sunday, November 27',\n",
       " 'Tuesday, November 29',\n",
       " 'Saturday, November 26',\n",
       " 'Sunday, November 27',\n",
       " 'Monday, November 28',\n",
       " 'Saturday, November 26',\n",
       " 'Wednesday, November 30',\n",
       " 'Sunday, November 27',\n",
       " 'Sunday, November 27',\n",
       " 'Wednesday, November 30',\n",
       " 'Sunday, November 27',\n",
       " 'Sunday, November 27',\n",
       " 'Monday, November 28',\n",
       " 'Wednesday, November 30',\n",
       " 'Monday, November 28',\n",
       " 'Saturday, November 26',\n",
       " 'Sunday, November 27',\n",
       " 'Sunday, November 27',\n",
       " 'Saturday, November 26',\n",
       " 'Saturday, November 26']"
      ]
     },
     "execution_count": 68,
     "metadata": {},
     "output_type": "execute_result"
    }
   ],
   "source": [
    "delivery=[]\n",
    "del_tag=driver.find_elements(By.XPATH,'//span[@class=\"a-color-base a-text-bold\"]')\n",
    "for i in del_tag[0:48]:\n",
    "    delivery.append(i.text)\n",
    "delivery"
   ]
  },
  {
   "cell_type": "code",
   "execution_count": 69,
   "id": "2f625130",
   "metadata": {},
   "outputs": [
    {
     "data": {
      "text/plain": [
       "48"
      ]
     },
     "execution_count": 69,
     "metadata": {},
     "output_type": "execute_result"
    }
   ],
   "source": [
    "len(delivery)"
   ]
  },
  {
   "cell_type": "code",
   "execution_count": 15,
   "id": "4e466cba",
   "metadata": {},
   "outputs": [],
   "source": [
    "# clicking on search button\n",
    "srch_btn=driver.find_element(By.XPATH,'/html/body/div[1]/div[2]/div[1]/div[2]/div/div[3]/span/div[1]/div/div/div[6]/ul[9]/li/span/a/div')\n",
    "srch_btn.click()"
   ]
  },
  {
   "cell_type": "code",
   "execution_count": 16,
   "id": "861eae96",
   "metadata": {},
   "outputs": [],
   "source": [
    "# to fetch the url\n",
    "replaced=driver.find_elements(By.XPATH,'//a[@class=\"a\"]')\n",
    "for i in replaced:\n",
    "    print(i.text)"
   ]
  },
  {
   "cell_type": "code",
   "execution_count": 17,
   "id": "f6a4d895",
   "metadata": {},
   "outputs": [
    {
     "data": {
      "text/plain": [
       "[]"
      ]
     },
     "execution_count": 17,
     "metadata": {},
     "output_type": "execute_result"
    }
   ],
   "source": [
    "replaced"
   ]
  },
  {
   "cell_type": "code",
   "execution_count": 81,
   "id": "388aec1c",
   "metadata": {},
   "outputs": [
    {
     "name": "stdout",
     "output_type": "stream",
     "text": [
      "https://www.amazon.in/Blueberry-Beginner-Rosewood-Electric-Strings/dp/B0BLYP3Q6S/ref=sr_1_49?crid=3NG0Q8ATC6VKK&keywords=guitar&qid=1669226038&qu=eyJxc2MiOiI1Ljc4IiwicXNhIjoiNS4yNiIsInFzcCI6IjQuMDUifQ%3D%3D&refinements=p_n_availability%3A1318485031&rnid=1318483031&sprefix=guitar%2Caps%2C447&sr=8-49\n",
      "https://www.amazon.in/JUAREZ-Acoustic-Rosewood-Fretboard-3TS/dp/B08GZXNSBG/ref=sr_1_50?crid=3NG0Q8ATC6VKK&keywords=guitar&qid=1669226038&qu=eyJxc2MiOiI1Ljc4IiwicXNhIjoiNS4yNiIsInFzcCI6IjQuMDUifQ%3D%3D&refinements=p_n_availability%3A1318485031&rnid=1318483031&sprefix=guitar%2Caps%2C447&sr=8-50\n",
      "https://www.amazon.in/215-Rosewood-Fretboard-Acoustic-K-Retail/dp/B08RCRJ8SK/ref=sr_1_51?crid=3NG0Q8ATC6VKK&keywords=guitar&qid=1669226038&qu=eyJxc2MiOiI1Ljc4IiwicXNhIjoiNS4yNiIsInFzcCI6IjQuMDUifQ%3D%3D&refinements=p_n_availability%3A1318485031&rnid=1318483031&sprefix=guitar%2Caps%2C447&sr=8-51\n",
      "https://www.amazon.in/Cort-AD810E-Dreadnought-Electro-Acoustic/dp/B00V9RNUD2/ref=sr_1_52?crid=3NG0Q8ATC6VKK&keywords=guitar&qid=1669226038&qu=eyJxc2MiOiI1Ljc4IiwicXNhIjoiNS4yNiIsInFzcCI6IjQuMDUifQ%3D%3D&refinements=p_n_availability%3A1318485031&rnid=1318483031&sprefix=guitar%2Caps%2C447&sr=8-52\n",
      "https://www.amazon.in/Martin-Smith-W-101-N-PK-Acoustic-Natural/dp/B00UOUK4IE/ref=sr_1_53?crid=3NG0Q8ATC6VKK&keywords=guitar&qid=1669226038&qu=eyJxc2MiOiI1Ljc4IiwicXNhIjoiNS4yNiIsInFzcCI6IjQuMDUifQ%3D%3D&refinements=p_n_availability%3A1318485031&rnid=1318483031&sprefix=guitar%2Caps%2C447&sr=8-53\n",
      "https://www.amazon.in/Blueberry-Beginner-Rosewood-Electric-Strings/dp/B0B8RSKTZ3/ref=sr_1_54?crid=3NG0Q8ATC6VKK&keywords=guitar&qid=1669226038&qu=eyJxc2MiOiI1Ljc4IiwicXNhIjoiNS4yNiIsInFzcCI6IjQuMDUifQ%3D%3D&refinements=p_n_availability%3A1318485031&rnid=1318483031&sprefix=guitar%2Caps%2C447&sr=8-54\n",
      "https://www.amazon.in/Stagg-Auditorium-SA25-ACE-MAHO/dp/B09HQ2685T/ref=sr_1_55?crid=3NG0Q8ATC6VKK&keywords=guitar&qid=1669226038&qu=eyJxc2MiOiI1Ljc4IiwicXNhIjoiNS4yNiIsInFzcCI6IjQuMDUifQ%3D%3D&refinements=p_n_availability%3A1318485031&rnid=1318483031&sprefix=guitar%2Caps%2C447&sr=8-55\n",
      "https://www.amazon.in/Fender-0971110021-Dreadnought-Acoustic-Natural/dp/B07BCTL1MG/ref=sr_1_56?crid=3NG0Q8ATC6VKK&keywords=guitar&qid=1669226038&qu=eyJxc2MiOiI1Ljc4IiwicXNhIjoiNS4yNiIsInFzcCI6IjQuMDUifQ%3D%3D&refinements=p_n_availability%3A1318485031&rnid=1318483031&sprefix=guitar%2Caps%2C447&sr=8-56\n",
      "https://www.amazon.in/Yamaha-FSX80C-Acoustic-Cutaway-Guitar/dp/B09HL5WFDX/ref=sr_1_57?crid=3NG0Q8ATC6VKK&keywords=guitar&qid=1669226038&qu=eyJxc2MiOiI1Ljc4IiwicXNhIjoiNS4yNiIsInFzcCI6IjQuMDUifQ%3D%3D&refinements=p_n_availability%3A1318485031&rnid=1318483031&sprefix=guitar%2Caps%2C447&sr=8-57\n",
      "https://www.amazon.in/FX280-acoustic-Dreadnought-Tobacco-Sunburst/dp/B09HR7BXGW/ref=sr_1_58?crid=3NG0Q8ATC6VKK&keywords=guitar&qid=1669226038&qu=eyJxc2MiOiI1Ljc4IiwicXNhIjoiNS4yNiIsInFzcCI6IjQuMDUifQ%3D%3D&refinements=p_n_availability%3A1318485031&rnid=1318483031&sprefix=guitar%2Caps%2C447&sr=8-58\n",
      "https://www.amazon.in/JUAREZ-Arp%C3%A9ggio-Semi-Acoustic-Guitar-Equaliser/dp/B08KHMY76X/ref=sr_1_59?crid=3NG0Q8ATC6VKK&keywords=guitar&qid=1669226038&qu=eyJxc2MiOiI1Ljc4IiwicXNhIjoiNS4yNiIsInFzcCI6IjQuMDUifQ%3D%3D&refinements=p_n_availability%3A1318485031&rnid=1318483031&sprefix=guitar%2Caps%2C447&sr=8-59\n",
      "https://www.amazon.in/Kadence-Frontier-Acoustic-Natural-Equalizer/dp/B01I50UJG6/ref=sr_1_60?crid=3NG0Q8ATC6VKK&keywords=guitar&qid=1669226038&qu=eyJxc2MiOiI1Ljc4IiwicXNhIjoiNS4yNiIsInFzcCI6IjQuMDUifQ%3D%3D&refinements=p_n_availability%3A1318485031&rnid=1318483031&sprefix=guitar%2Caps%2C447&sr=8-60\n",
      "https://www.amazon.in/Intern-Acoustic-Steel-string-plectrums-INT-38C-WH/dp/B09LR94Z2X/ref=sr_1_61?crid=3NG0Q8ATC6VKK&keywords=guitar&qid=1669226038&qu=eyJxc2MiOiI1Ljc4IiwicXNhIjoiNS4yNiIsInFzcCI6IjQuMDUifQ%3D%3D&refinements=p_n_availability%3A1318485031&rnid=1318483031&sprefix=guitar%2Caps%2C447&sr=8-61\n",
      "https://www.amazon.in/Cort-AD810-Dreadnought-Acoustic-Guitar/dp/B07KMBVR6V/ref=sr_1_62?crid=3NG0Q8ATC6VKK&keywords=guitar&qid=1669226038&qu=eyJxc2MiOiI1Ljc4IiwicXNhIjoiNS4yNiIsInFzcCI6IjQuMDUifQ%3D%3D&refinements=p_n_availability%3A1318485031&rnid=1318483031&sprefix=guitar%2Caps%2C447&sr=8-62\n",
      "https://www.amazon.in/DEVICE-URBAN-INFOTECH-Chromatic-Capotastos/dp/B0BGBGDW1W/ref=sr_1_63?crid=3NG0Q8ATC6VKK&keywords=guitar&qid=1669226038&qu=eyJxc2MiOiI1Ljc4IiwicXNhIjoiNS4yNiIsInFzcCI6IjQuMDUifQ%3D%3D&refinements=p_n_availability%3A1318485031&rnid=1318483031&sprefix=guitar%2Caps%2C447&sr=8-63\n",
      "https://www.amazon.in/Belear-I280-Black-Matt-Acoustic/dp/B0BHTBLQGZ/ref=sr_1_64?crid=3NG0Q8ATC6VKK&keywords=guitar&qid=1669226038&qu=eyJxc2MiOiI1Ljc4IiwicXNhIjoiNS4yNiIsInFzcCI6IjQuMDUifQ%3D%3D&refinements=p_n_availability%3A1318485031&rnid=1318483031&sprefix=guitar%2Caps%2C447&sr=8-64\n",
      "https://www.amazon.in/Martin-Smith-W-101-SB-PK-Acoustic-Guitar/dp/B019MY0ZGI/ref=sr_1_65?crid=3NG0Q8ATC6VKK&keywords=guitar&qid=1669226038&qu=eyJxc2MiOiI1Ljc4IiwicXNhIjoiNS4yNiIsInFzcCI6IjQuMDUifQ%3D%3D&refinements=p_n_availability%3A1318485031&rnid=1318483031&sprefix=guitar%2Caps%2C447&sr=8-65\n",
      "https://www.amazon.in/Junior-Acoustic-Guitar-Strings-Polishing/dp/B07RMJ88G2/ref=sr_1_66?crid=3NG0Q8ATC6VKK&keywords=guitar&qid=1669226038&qu=eyJxc2MiOiI1Ljc4IiwicXNhIjoiNS4yNiIsInFzcCI6IjQuMDUifQ%3D%3D&refinements=p_n_availability%3A1318485031&rnid=1318483031&sprefix=guitar%2Caps%2C447&sr=8-66\n",
      "https://www.amazon.in/Ultimate-Concert-Cutaway-Acoustic-Bajaao/dp/B08WHWKKV5/ref=sr_1_67?crid=3NG0Q8ATC6VKK&keywords=guitar&qid=1669226038&qu=eyJxc2MiOiI1Ljc4IiwicXNhIjoiNS4yNiIsInFzcCI6IjQuMDUifQ%3D%3D&refinements=p_n_availability%3A1318485031&rnid=1318483031&sprefix=guitar%2Caps%2C447&sr=8-67\n",
      "https://www.amazon.in/Epiphone-Acoustic-EEHBFCNH1-Acoustic-Electric-Guitar/dp/B00AFOMX7O/ref=sr_1_68?crid=3NG0Q8ATC6VKK&keywords=guitar&qid=1669226038&qu=eyJxc2MiOiI1Ljc4IiwicXNhIjoiNS4yNiIsInFzcCI6IjQuMDUifQ%3D%3D&refinements=p_n_availability%3A1318485031&rnid=1318483031&sprefix=guitar%2Caps%2C447&sr=8-68\n",
      "https://www.amazon.in/JUAREZ-Arpeggio-Acoustic-Rosewood-Fretboard/dp/B08LBHB547/ref=sr_1_69?crid=3NG0Q8ATC6VKK&keywords=guitar&qid=1669226038&qu=eyJxc2MiOiI1Ljc4IiwicXNhIjoiNS4yNiIsInFzcCI6IjQuMDUifQ%3D%3D&refinements=p_n_availability%3A1318485031&rnid=1318483031&sprefix=guitar%2Caps%2C447&sr=8-69\n",
      "https://www.amazon.in/Carlton-Rosewood-Fretboard-Acoustic-K-Retail/dp/B07KK8P9VB/ref=sr_1_70?crid=3NG0Q8ATC6VKK&keywords=guitar&qid=1669226038&qu=eyJxc2MiOiI1Ljc4IiwicXNhIjoiNS4yNiIsInFzcCI6IjQuMDUifQ%3D%3D&refinements=p_n_availability%3A1318485031&rnid=1318483031&sprefix=guitar%2Caps%2C447&sr=8-70\n",
      "https://www.amazon.in/Fender-Dread-String-Acoustic-Guitar/dp/B07RL6VG3H/ref=sr_1_71?crid=3NG0Q8ATC6VKK&keywords=guitar&qid=1669226038&qu=eyJxc2MiOiI1Ljc4IiwicXNhIjoiNS4yNiIsInFzcCI6IjQuMDUifQ%3D%3D&refinements=p_n_availability%3A1318485031&rnid=1318483031&sprefix=guitar%2Caps%2C447&sr=8-71\n",
      "https://www.amazon.in/Fender-0930307021-SA-105CE-Dreadnought-Electric/dp/B009X3PLRC/ref=sr_1_72?crid=3NG0Q8ATC6VKK&keywords=guitar&qid=1669226038&qu=eyJxc2MiOiI1Ljc4IiwicXNhIjoiNS4yNiIsInFzcCI6IjQuMDUifQ%3D%3D&refinements=p_n_availability%3A1318485031&rnid=1318483031&sprefix=guitar%2Caps%2C447&sr=8-72\n",
      "https://www.amazon.in/Tanglewood-Electro-Acoustic-Guitar-Antique-Violin/dp/B0971762X2/ref=sr_1_73?crid=3NG0Q8ATC6VKK&keywords=guitar&qid=1669226038&qu=eyJxc2MiOiI1Ljc4IiwicXNhIjoiNS4yNiIsInFzcCI6IjQuMDUifQ%3D%3D&refinements=p_n_availability%3A1318485031&rnid=1318483031&sprefix=guitar%2Caps%2C447&sr=8-73\n",
      "https://www.amazon.in/Yamaha-40-Strings-Classical-Guitars/dp/B000I1Q4TC/ref=sr_1_74?crid=3NG0Q8ATC6VKK&keywords=guitar&qid=1669226038&qu=eyJxc2MiOiI1Ljc4IiwicXNhIjoiNS4yNiIsInFzcCI6IjQuMDUifQ%3D%3D&refinements=p_n_availability%3A1318485031&rnid=1318483031&sprefix=guitar%2Caps%2C447&sr=8-74\n",
      "https://www.amazon.in/Fender-FA-235E-Concert-Bodied-Acoustic/dp/B07BCQ7P7Z/ref=sr_1_75?crid=3NG0Q8ATC6VKK&keywords=guitar&qid=1669226038&qu=eyJxc2MiOiI1Ljc4IiwicXNhIjoiNS4yNiIsInFzcCI6IjQuMDUifQ%3D%3D&refinements=p_n_availability%3A1318485031&rnid=1318483031&sprefix=guitar%2Caps%2C447&sr=8-75\n",
      "https://www.amazon.in/Medellin-Acoustic-Guitar-Purple-Learning/dp/B09MSGPQ43/ref=sr_1_76?crid=3NG0Q8ATC6VKK&keywords=guitar&qid=1669226038&qu=eyJxc2MiOiI1Ljc4IiwicXNhIjoiNS4yNiIsInFzcCI6IjQuMDUifQ%3D%3D&refinements=p_n_availability%3A1318485031&rnid=1318483031&sprefix=guitar%2Caps%2C447&sr=8-76\n",
      "https://www.amazon.in/Vault-PA36-Parlor-Acoustic-Guitar/dp/B0BJK1332J/ref=sr_1_77?crid=3NG0Q8ATC6VKK&keywords=guitar&qid=1669226038&qu=eyJxc2MiOiI1Ljc4IiwicXNhIjoiNS4yNiIsInFzcCI6IjQuMDUifQ%3D%3D&refinements=p_n_availability%3A1318485031&rnid=1318483031&sprefix=guitar%2Caps%2C447&sr=8-77\n",
      "https://www.amazon.in/Fender-String-Beginner-Acoustic-Guitar/dp/B07BCN6FFH/ref=sr_1_78?crid=3NG0Q8ATC6VKK&keywords=guitar&qid=1669226038&qu=eyJxc2MiOiI1Ljc4IiwicXNhIjoiNS4yNiIsInFzcCI6IjQuMDUifQ%3D%3D&refinements=p_n_availability%3A1318485031&rnid=1318483031&sprefix=guitar%2Caps%2C447&sr=8-78\n",
      "https://www.amazon.in/Kadence-Slowhand-Premium-Acoustic-Instrument/dp/B077SZ667X/ref=sr_1_79?crid=3NG0Q8ATC6VKK&keywords=guitar&qid=1669226038&qu=eyJxc2MiOiI1Ljc4IiwicXNhIjoiNS4yNiIsInFzcCI6IjQuMDUifQ%3D%3D&refinements=p_n_availability%3A1318485031&rnid=1318483031&sprefix=guitar%2Caps%2C447&sr=8-79\n",
      "https://www.amazon.in/Cort-X100-6-String-Electric-Guitar/dp/B07QKWFTK1/ref=sr_1_80?crid=3NG0Q8ATC6VKK&keywords=guitar&qid=1669226038&qu=eyJxc2MiOiI1Ljc4IiwicXNhIjoiNS4yNiIsInFzcCI6IjQuMDUifQ%3D%3D&refinements=p_n_availability%3A1318485031&rnid=1318483031&sprefix=guitar%2Caps%2C447&sr=8-80\n",
      "https://www.amazon.in/Intern-INT-38C-Sunburst-Acoustic-Guitar/dp/B07X1J4D3Z/ref=sr_1_81?crid=3NG0Q8ATC6VKK&keywords=guitar&qid=1669226038&qu=eyJxc2MiOiI1Ljc4IiwicXNhIjoiNS4yNiIsInFzcCI6IjQuMDUifQ%3D%3D&refinements=p_n_availability%3A1318485031&rnid=1318483031&sprefix=guitar%2Caps%2C447&sr=8-81\n",
      "https://www.amazon.in/JUAREZ-Arpeggio-Guitar-JRA41SP-Q-BL-blue/dp/B08MWBBGS6/ref=sr_1_82?crid=3NG0Q8ATC6VKK&keywords=guitar&qid=1669226038&qu=eyJxc2MiOiI1Ljc4IiwicXNhIjoiNS4yNiIsInFzcCI6IjQuMDUifQ%3D%3D&refinements=p_n_availability%3A1318485031&rnid=1318483031&sprefix=guitar%2Caps%2C447&sr=8-82\n",
      "https://www.amazon.in/Acoustic-Strings-Rosette-Rosewood-Fretboard/dp/B09FPQX7RN/ref=sr_1_83?crid=3NG0Q8ATC6VKK&keywords=guitar&qid=1669226038&qu=eyJxc2MiOiI1Ljc4IiwicXNhIjoiNS4yNiIsInFzcCI6IjQuMDUifQ%3D%3D&refinements=p_n_availability%3A1318485031&rnid=1318483031&sprefix=guitar%2Caps%2C447&sr=8-83\n",
      "https://www.amazon.in/Yamaha-Electric-Acoustic-FX280-Dreadnought-Plectrums/dp/B09HSHNR6R/ref=sr_1_84?crid=3NG0Q8ATC6VKK&keywords=guitar&qid=1669226038&qu=eyJxc2MiOiI1Ljc4IiwicXNhIjoiNS4yNiIsInFzcCI6IjQuMDUifQ%3D%3D&refinements=p_n_availability%3A1318485031&rnid=1318483031&sprefix=guitar%2Caps%2C447&sr=8-84\n",
      "https://www.amazon.in/Fender-Dread-String-Acoustic-Guitar/dp/B07RM21D8X/ref=sr_1_85?crid=3NG0Q8ATC6VKK&keywords=guitar&qid=1669226038&qu=eyJxc2MiOiI1Ljc4IiwicXNhIjoiNS4yNiIsInFzcCI6IjQuMDUifQ%3D%3D&refinements=p_n_availability%3A1318485031&rnid=1318483031&sprefix=guitar%2Caps%2C447&sr=8-85\n",
      "https://www.amazon.in/Blueberry-38C-Acoustic-Strings-Natural/dp/B08KLNFL2Y/ref=sr_1_86?crid=3NG0Q8ATC6VKK&keywords=guitar&qid=1669226038&qu=eyJxc2MiOiI1Ljc4IiwicXNhIjoiNS4yNiIsInFzcCI6IjQuMDUifQ%3D%3D&refinements=p_n_availability%3A1318485031&rnid=1318483031&sprefix=guitar%2Caps%2C447&sr=8-86\n",
      "https://www.amazon.in/Fender-FA-125-Dreadnought-Acoustic-Guitar/dp/B0965DK72K/ref=sr_1_87?crid=3NG0Q8ATC6VKK&keywords=guitar&qid=1669226038&qu=eyJxc2MiOiI1Ljc4IiwicXNhIjoiNS4yNiIsInFzcCI6IjQuMDUifQ%3D%3D&refinements=p_n_availability%3A1318485031&rnid=1318483031&sprefix=guitar%2Caps%2C447&sr=8-87\n",
      "https://www.amazon.in/JUAREZ-Arp%C3%A9ggio-Semi-Acoustic-Guitar-Natural/dp/B08KHFJKZK/ref=sr_1_88?crid=3NG0Q8ATC6VKK&keywords=guitar&qid=1669226038&qu=eyJxc2MiOiI1Ljc4IiwicXNhIjoiNS4yNiIsInFzcCI6IjQuMDUifQ%3D%3D&refinements=p_n_availability%3A1318485031&rnid=1318483031&sprefix=guitar%2Caps%2C447&sr=8-88\n",
      "https://www.amazon.in/Vault-Soloist-Premium-Electric-Guitar/dp/B09GLZSS95/ref=sr_1_89?crid=3NG0Q8ATC6VKK&keywords=guitar&qid=1669226038&qu=eyJxc2MiOiI1Ljc4IiwicXNhIjoiNS4yNiIsInFzcCI6IjQuMDUifQ%3D%3D&refinements=p_n_availability%3A1318485031&rnid=1318483031&sprefix=guitar%2Caps%2C447&sr=8-89\n",
      "https://www.amazon.in/JUAREZ-Arpeggio-Acoustic-Rosewood-Fretboard/dp/B08LBHN8ZR/ref=sr_1_90?crid=3NG0Q8ATC6VKK&keywords=guitar&qid=1669226038&qu=eyJxc2MiOiI1Ljc4IiwicXNhIjoiNS4yNiIsInFzcCI6IjQuMDUifQ%3D%3D&refinements=p_n_availability%3A1318485031&rnid=1318483031&sprefix=guitar%2Caps%2C447&sr=8-90\n",
      "https://www.amazon.in/Acoustic-plectrums-stability-age-groups-Refreshing/dp/B09YH89RVZ/ref=sr_1_91?crid=3NG0Q8ATC6VKK&keywords=guitar&qid=1669226038&qu=eyJxc2MiOiI1Ljc4IiwicXNhIjoiNS4yNiIsInFzcCI6IjQuMDUifQ%3D%3D&refinements=p_n_availability%3A1318485031&rnid=1318483031&sprefix=guitar%2Caps%2C447&sr=8-91\n",
      "https://www.amazon.in/Ibanez-MD39C-NT-Cutaway-Acoustic-MD39CSB/dp/B07KYKTRKX/ref=sr_1_92?crid=3NG0Q8ATC6VKK&keywords=guitar&qid=1669226038&qu=eyJxc2MiOiI1Ljc4IiwicXNhIjoiNS4yNiIsInFzcCI6IjQuMDUifQ%3D%3D&refinements=p_n_availability%3A1318485031&rnid=1318483031&sprefix=guitar%2Caps%2C447&sr=8-92\n",
      "https://www.amazon.in/ORANGEWOOD-OLIVER-S-SPRUCE-CONCERT-ACOUSTIC/dp/B0B6PT8JGD/ref=sr_1_93?crid=3NG0Q8ATC6VKK&keywords=guitar&qid=1669226038&qu=eyJxc2MiOiI1Ljc4IiwicXNhIjoiNS4yNiIsInFzcCI6IjQuMDUifQ%3D%3D&refinements=p_n_availability%3A1318485031&rnid=1318483031&sprefix=guitar%2Caps%2C447&sr=8-93\n",
      "https://www.amazon.in/Acoustic-F280-Dreadnought-Plectrums-Natural/dp/B092TPXZRN/ref=sr_1_94?crid=3NG0Q8ATC6VKK&keywords=guitar&qid=1669226038&qu=eyJxc2MiOiI1Ljc4IiwicXNhIjoiNS4yNiIsInFzcCI6IjQuMDUifQ%3D%3D&refinements=p_n_availability%3A1318485031&rnid=1318483031&sprefix=guitar%2Caps%2C447&sr=8-94\n",
      "https://www.amazon.in/JUAREZ-Arpeggio-Guitar-JRA39SR-BL-K-blue/dp/B08MWB5Y67/ref=sr_1_95?crid=3NG0Q8ATC6VKK&keywords=guitar&qid=1669226038&qu=eyJxc2MiOiI1Ljc4IiwicXNhIjoiNS4yNiIsInFzcCI6IjQuMDUifQ%3D%3D&refinements=p_n_availability%3A1318485031&rnid=1318483031&sprefix=guitar%2Caps%2C447&sr=8-95\n",
      "https://www.amazon.in/Yamaha-Acoustic-Guitar-Tobacco-Sunburst/dp/B08Z35ZR9Y/ref=sr_1_96?crid=3NG0Q8ATC6VKK&keywords=guitar&qid=1669226038&qu=eyJxc2MiOiI1Ljc4IiwicXNhIjoiNS4yNiIsInFzcCI6IjQuMDUifQ%3D%3D&refinements=p_n_availability%3A1318485031&rnid=1318483031&sprefix=guitar%2Caps%2C447&sr=8-96\n"
     ]
    }
   ],
   "source": [
    "# to fetch the url\n",
    "link=driver.find_elements(By.XPATH,'//a[@class=\"a-link-normal s-underline-text s-underline-link-text s-link-style a-text-normal\"]')\n",
    "for i in link[0:48]:\n",
    "    print(i.get_attribute('href'))"
   ]
  },
  {
   "cell_type": "code",
   "execution_count": 82,
   "id": "fbb0c5d0",
   "metadata": {},
   "outputs": [
    {
     "data": {
      "text/plain": [
       "48"
      ]
     },
     "execution_count": 82,
     "metadata": {},
     "output_type": "execute_result"
    }
   ],
   "source": [
    "len(link)"
   ]
  },
  {
   "cell_type": "code",
   "execution_count": 21,
   "id": "cc377999",
   "metadata": {},
   "outputs": [],
   "source": [
    "brand_names=[]\n",
    "start=0\n",
    "end=3\n",
    "for page in range(start,end):\n",
    "    names=driver.find_elements(By.XPATH,'//h2[@class=\"a-size-mini a-spacing-none a-color-base s-line-clamp-4\"]')\n",
    "    for i in names:\n",
    "        brand_names.append(i.text)\n",
    "    next_button=driver.find_element(By.XPATH,'//a[@class=\"s-pagination-item s-pagination-next s-pagination-button s-pagination-separator\"]')\n",
    "    next_button.click()\n",
    "    time.sleep(5)"
   ]
  },
  {
   "cell_type": "code",
   "execution_count": 71,
   "id": "004ca491",
   "metadata": {},
   "outputs": [
    {
     "data": {
      "text/plain": [
       "144"
      ]
     },
     "execution_count": 71,
     "metadata": {},
     "output_type": "execute_result"
    }
   ],
   "source": [
    "len(brand_names)"
   ]
  },
  {
   "cell_type": "code",
   "execution_count": 47,
   "id": "95877289",
   "metadata": {},
   "outputs": [],
   "source": [
    "price_tags=[]\n",
    "start=0\n",
    "end=3\n",
    "for page in range(start,end):\n",
    "    price=driver.find_elements(By.XPATH,'//span[@class=\"a-price\"]')\n",
    "    for i in price[0:143]:\n",
    "        price_tags.append(i.text)\n",
    "    next_button=driver.find_element(By.XPATH,'//a[@class=\"s-pagination-item s-pagination-next s-pagination-button s-pagination-separator\"]')\n",
    "    next_button.click()\n",
    "    time.sleep(5)"
   ]
  },
  {
   "cell_type": "code",
   "execution_count": 48,
   "id": "9e56d14d",
   "metadata": {},
   "outputs": [
    {
     "data": {
      "text/plain": [
       "165"
      ]
     },
     "execution_count": 48,
     "metadata": {},
     "output_type": "execute_result"
    }
   ],
   "source": [
    "len(price_tags)"
   ]
  },
  {
   "cell_type": "code",
   "execution_count": 32,
   "id": "ecd53e68",
   "metadata": {},
   "outputs": [
    {
     "name": "stdout",
     "output_type": "stream",
     "text": [
      "None\n"
     ]
    }
   ],
   "source": [
    "#handling exception\n",
    "try:\n",
    "    element=driver.find_element(By.XPATH,'/html/body/div[1]/div[2]/div[1]/div[1]/div/span[1]/div[1]/div[54]/div/div/span/a[3]')\n",
    "    print(element.click())\n",
    "except NoSuchElementException as e:\n",
    "    print(\"exception raised\",e)\n",
    "    element=driver.find_element(By.XPATH,'//a[@class=\"s-pagination-item s-pagination-next s-pagination-button s-pagination-separator\"]')\n",
    "    print(element.click())"
   ]
  },
  {
   "cell_type": "code",
   "execution_count": 50,
   "id": "c2e5585d",
   "metadata": {},
   "outputs": [],
   "source": [
    "deli_tag=[]\n",
    "start=0\n",
    "end=3\n",
    "for page in range(start,end):\n",
    "    delivery=driver.find_elements(By.XPATH,'//span[@class=\"a-color-base a-text-bold\"]')\n",
    "    for i in delivery[0:143]:\n",
    "        deli_tag.append(i.text)\n",
    "    next_button=driver.find_element(By.XPATH,'//a[@class=\"s-pagination-item s-pagination-next s-pagination-button s-pagination-separator\"]')\n",
    "    next_button.click()\n",
    "    time.sleep(5)"
   ]
  },
  {
   "cell_type": "code",
   "execution_count": 51,
   "id": "77d7452f",
   "metadata": {},
   "outputs": [
    {
     "data": {
      "text/plain": [
       "152"
      ]
     },
     "execution_count": 51,
     "metadata": {},
     "output_type": "execute_result"
    }
   ],
   "source": [
    "len(deli_tag)"
   ]
  },
  {
   "cell_type": "code",
   "execution_count": 80,
   "id": "bc9c9529",
   "metadata": {},
   "outputs": [
    {
     "ename": "NoSuchElementException",
     "evalue": "Message: no such element: Unable to locate element: {\"method\":\"xpath\",\"selector\":\"//a[@class=\"a\"]\"}\n  (Session info: chrome=107.0.5304.107)\nStacktrace:\nBacktrace:\n\tOrdinal0 [0x0134ACD3+2075859]\n\tOrdinal0 [0x012DEE61+1633889]\n\tOrdinal0 [0x011DB7BD+571325]\n\tOrdinal0 [0x0120AC2F+764975]\n\tOrdinal0 [0x0120AE1B+765467]\n\tOrdinal0 [0x0123D0F2+970994]\n\tOrdinal0 [0x01227364+881508]\n\tOrdinal0 [0x0123B56A+963946]\n\tOrdinal0 [0x01227136+880950]\n\tOrdinal0 [0x011FFEFD+720637]\n\tOrdinal0 [0x01200F3F+724799]\n\tGetHandleVerifier [0x015FEED2+2769538]\n\tGetHandleVerifier [0x015F0D95+2711877]\n\tGetHandleVerifier [0x013DA03A+521194]\n\tGetHandleVerifier [0x013D8DA0+516432]\n\tOrdinal0 [0x012E682C+1665068]\n\tOrdinal0 [0x012EB128+1683752]\n\tOrdinal0 [0x012EB215+1683989]\n\tOrdinal0 [0x012F6484+1729668]\n\tBaseThreadInitThunk [0x75F88744+36]\n\tRtlGetAppContainerNamedObjectPath [0x77DF582D+253]\n\tRtlGetAppContainerNamedObjectPath [0x77DF57FD+205]\n",
     "output_type": "error",
     "traceback": [
      "\u001b[1;31m---------------------------------------------------------------------------\u001b[0m",
      "\u001b[1;31mNoSuchElementException\u001b[0m                    Traceback (most recent call last)",
      "Input \u001b[1;32mIn [80]\u001b[0m, in \u001b[0;36m<cell line: 4>\u001b[1;34m()\u001b[0m\n\u001b[0;32m      6\u001b[0m \u001b[38;5;28;01mfor\u001b[39;00m i \u001b[38;5;129;01min\u001b[39;00m link:\n\u001b[0;32m      7\u001b[0m     url\u001b[38;5;241m.\u001b[39mappend(i\u001b[38;5;241m.\u001b[39mget_attribute(\u001b[38;5;124m'\u001b[39m\u001b[38;5;124mhref\u001b[39m\u001b[38;5;124m'\u001b[39m))\n\u001b[1;32m----> 8\u001b[0m next_button\u001b[38;5;241m=\u001b[39m\u001b[43mdriver\u001b[49m\u001b[38;5;241;43m.\u001b[39;49m\u001b[43mfind_element\u001b[49m\u001b[43m(\u001b[49m\u001b[43mBy\u001b[49m\u001b[38;5;241;43m.\u001b[39;49m\u001b[43mXPATH\u001b[49m\u001b[43m,\u001b[49m\u001b[38;5;124;43m'\u001b[39;49m\u001b[38;5;124;43m//a[@class=\u001b[39;49m\u001b[38;5;124;43m\"\u001b[39;49m\u001b[38;5;124;43ma\u001b[39;49m\u001b[38;5;124;43m\"\u001b[39;49m\u001b[38;5;124;43m]\u001b[39;49m\u001b[38;5;124;43m'\u001b[39;49m\u001b[43m)\u001b[49m\n\u001b[0;32m      9\u001b[0m next_button\u001b[38;5;241m.\u001b[39mclick()\n\u001b[0;32m     10\u001b[0m time\u001b[38;5;241m.\u001b[39msleep(\u001b[38;5;241m5\u001b[39m)\n",
      "File \u001b[1;32m~\\anaconda3\\lib\\site-packages\\selenium\\webdriver\\remote\\webdriver.py:856\u001b[0m, in \u001b[0;36mWebDriver.find_element\u001b[1;34m(self, by, value)\u001b[0m\n\u001b[0;32m    853\u001b[0m     by \u001b[38;5;241m=\u001b[39m By\u001b[38;5;241m.\u001b[39mCSS_SELECTOR\n\u001b[0;32m    854\u001b[0m     value \u001b[38;5;241m=\u001b[39m \u001b[38;5;124m'\u001b[39m\u001b[38;5;124m[name=\u001b[39m\u001b[38;5;124m\"\u001b[39m\u001b[38;5;132;01m%s\u001b[39;00m\u001b[38;5;124m\"\u001b[39m\u001b[38;5;124m]\u001b[39m\u001b[38;5;124m'\u001b[39m \u001b[38;5;241m%\u001b[39m value\n\u001b[1;32m--> 856\u001b[0m \u001b[38;5;28;01mreturn\u001b[39;00m \u001b[38;5;28;43mself\u001b[39;49m\u001b[38;5;241;43m.\u001b[39;49m\u001b[43mexecute\u001b[49m\u001b[43m(\u001b[49m\u001b[43mCommand\u001b[49m\u001b[38;5;241;43m.\u001b[39;49m\u001b[43mFIND_ELEMENT\u001b[49m\u001b[43m,\u001b[49m\u001b[43m \u001b[49m\u001b[43m{\u001b[49m\n\u001b[0;32m    857\u001b[0m \u001b[43m    \u001b[49m\u001b[38;5;124;43m'\u001b[39;49m\u001b[38;5;124;43musing\u001b[39;49m\u001b[38;5;124;43m'\u001b[39;49m\u001b[43m:\u001b[49m\u001b[43m \u001b[49m\u001b[43mby\u001b[49m\u001b[43m,\u001b[49m\n\u001b[0;32m    858\u001b[0m \u001b[43m    \u001b[49m\u001b[38;5;124;43m'\u001b[39;49m\u001b[38;5;124;43mvalue\u001b[39;49m\u001b[38;5;124;43m'\u001b[39;49m\u001b[43m:\u001b[49m\u001b[43m \u001b[49m\u001b[43mvalue\u001b[49m\u001b[43m}\u001b[49m\u001b[43m)\u001b[49m[\u001b[38;5;124m'\u001b[39m\u001b[38;5;124mvalue\u001b[39m\u001b[38;5;124m'\u001b[39m]\n",
      "File \u001b[1;32m~\\anaconda3\\lib\\site-packages\\selenium\\webdriver\\remote\\webdriver.py:429\u001b[0m, in \u001b[0;36mWebDriver.execute\u001b[1;34m(self, driver_command, params)\u001b[0m\n\u001b[0;32m    427\u001b[0m response \u001b[38;5;241m=\u001b[39m \u001b[38;5;28mself\u001b[39m\u001b[38;5;241m.\u001b[39mcommand_executor\u001b[38;5;241m.\u001b[39mexecute(driver_command, params)\n\u001b[0;32m    428\u001b[0m \u001b[38;5;28;01mif\u001b[39;00m response:\n\u001b[1;32m--> 429\u001b[0m     \u001b[38;5;28;43mself\u001b[39;49m\u001b[38;5;241;43m.\u001b[39;49m\u001b[43merror_handler\u001b[49m\u001b[38;5;241;43m.\u001b[39;49m\u001b[43mcheck_response\u001b[49m\u001b[43m(\u001b[49m\u001b[43mresponse\u001b[49m\u001b[43m)\u001b[49m\n\u001b[0;32m    430\u001b[0m     response[\u001b[38;5;124m'\u001b[39m\u001b[38;5;124mvalue\u001b[39m\u001b[38;5;124m'\u001b[39m] \u001b[38;5;241m=\u001b[39m \u001b[38;5;28mself\u001b[39m\u001b[38;5;241m.\u001b[39m_unwrap_value(\n\u001b[0;32m    431\u001b[0m         response\u001b[38;5;241m.\u001b[39mget(\u001b[38;5;124m'\u001b[39m\u001b[38;5;124mvalue\u001b[39m\u001b[38;5;124m'\u001b[39m, \u001b[38;5;28;01mNone\u001b[39;00m))\n\u001b[0;32m    432\u001b[0m     \u001b[38;5;28;01mreturn\u001b[39;00m response\n",
      "File \u001b[1;32m~\\anaconda3\\lib\\site-packages\\selenium\\webdriver\\remote\\errorhandler.py:243\u001b[0m, in \u001b[0;36mErrorHandler.check_response\u001b[1;34m(self, response)\u001b[0m\n\u001b[0;32m    241\u001b[0m         alert_text \u001b[38;5;241m=\u001b[39m value[\u001b[38;5;124m'\u001b[39m\u001b[38;5;124malert\u001b[39m\u001b[38;5;124m'\u001b[39m]\u001b[38;5;241m.\u001b[39mget(\u001b[38;5;124m'\u001b[39m\u001b[38;5;124mtext\u001b[39m\u001b[38;5;124m'\u001b[39m)\n\u001b[0;32m    242\u001b[0m     \u001b[38;5;28;01mraise\u001b[39;00m exception_class(message, screen, stacktrace, alert_text)  \u001b[38;5;66;03m# type: ignore[call-arg]  # mypy is not smart enough here\u001b[39;00m\n\u001b[1;32m--> 243\u001b[0m \u001b[38;5;28;01mraise\u001b[39;00m exception_class(message, screen, stacktrace)\n",
      "\u001b[1;31mNoSuchElementException\u001b[0m: Message: no such element: Unable to locate element: {\"method\":\"xpath\",\"selector\":\"//a[@class=\"a\"]\"}\n  (Session info: chrome=107.0.5304.107)\nStacktrace:\nBacktrace:\n\tOrdinal0 [0x0134ACD3+2075859]\n\tOrdinal0 [0x012DEE61+1633889]\n\tOrdinal0 [0x011DB7BD+571325]\n\tOrdinal0 [0x0120AC2F+764975]\n\tOrdinal0 [0x0120AE1B+765467]\n\tOrdinal0 [0x0123D0F2+970994]\n\tOrdinal0 [0x01227364+881508]\n\tOrdinal0 [0x0123B56A+963946]\n\tOrdinal0 [0x01227136+880950]\n\tOrdinal0 [0x011FFEFD+720637]\n\tOrdinal0 [0x01200F3F+724799]\n\tGetHandleVerifier [0x015FEED2+2769538]\n\tGetHandleVerifier [0x015F0D95+2711877]\n\tGetHandleVerifier [0x013DA03A+521194]\n\tGetHandleVerifier [0x013D8DA0+516432]\n\tOrdinal0 [0x012E682C+1665068]\n\tOrdinal0 [0x012EB128+1683752]\n\tOrdinal0 [0x012EB215+1683989]\n\tOrdinal0 [0x012F6484+1729668]\n\tBaseThreadInitThunk [0x75F88744+36]\n\tRtlGetAppContainerNamedObjectPath [0x77DF582D+253]\n\tRtlGetAppContainerNamedObjectPath [0x77DF57FD+205]\n"
     ]
    }
   ],
   "source": [
    "urls=[]\n",
    "start=0\n",
    "end=3\n",
    "for page in range(start,end):\n",
    "    link=driver.find_elements(By.XPATH,'//a[@class=\"a-link-normal s-underline-text s-underline-link-text s-link-style a-text-normal\"]')\n",
    "    for i in link:\n",
    "        url.append(i.get_attribute('href'))\n",
    "    next_button=driver.find_element(By.XPATH,'//a[@class=\"a\"]')\n",
    "    next_button.click()\n",
    "    time.sleep(5)"
   ]
  },
  {
   "cell_type": "code",
   "execution_count": 76,
   "id": "9e5d88f7",
   "metadata": {},
   "outputs": [
    {
     "data": {
      "text/plain": [
       "0"
      ]
     },
     "execution_count": 76,
     "metadata": {},
     "output_type": "execute_result"
    }
   ],
   "source": [
    "len(urls)"
   ]
  },
  {
   "cell_type": "code",
   "execution_count": 41,
   "id": "5c1b89d5",
   "metadata": {},
   "outputs": [],
   "source": [
    "import pandas as pd"
   ]
  },
  {
   "cell_type": "code",
   "execution_count": 83,
   "id": "84cbda64",
   "metadata": {},
   "outputs": [
    {
     "data": {
      "text/html": [
       "<div>\n",
       "<style scoped>\n",
       "    .dataframe tbody tr th:only-of-type {\n",
       "        vertical-align: middle;\n",
       "    }\n",
       "\n",
       "    .dataframe tbody tr th {\n",
       "        vertical-align: top;\n",
       "    }\n",
       "\n",
       "    .dataframe thead th {\n",
       "        text-align: right;\n",
       "    }\n",
       "</style>\n",
       "<table border=\"1\" class=\"dataframe\">\n",
       "  <thead>\n",
       "    <tr style=\"text-align: right;\">\n",
       "      <th></th>\n",
       "      <th>brand</th>\n",
       "      <th>price</th>\n",
       "      <th>delivery_date</th>\n",
       "      <th>url</th>\n",
       "    </tr>\n",
       "  </thead>\n",
       "  <tbody>\n",
       "    <tr>\n",
       "      <th>0</th>\n",
       "      <td>Pluto HW39-201P Electro Acoustic Guitar - Rose...</td>\n",
       "      <td>₹6,199</td>\n",
       "      <td>Sunday, November 27</td>\n",
       "      <td>&lt;selenium.webdriver.remote.webelement.WebEleme...</td>\n",
       "    </tr>\n",
       "    <tr>\n",
       "      <th>1</th>\n",
       "      <td>Yamaha Electric-Acoustic Guitar FX280 Dreadnou...</td>\n",
       "      <td>₹12,289</td>\n",
       "      <td>Saturday, November 26</td>\n",
       "      <td>&lt;selenium.webdriver.remote.webelement.WebEleme...</td>\n",
       "    </tr>\n",
       "    <tr>\n",
       "      <th>2</th>\n",
       "      <td>Yamaha F310-TBS Right Handed Acoustic Guitar (...</td>\n",
       "      <td>₹9,780</td>\n",
       "      <td>Tuesday, November 29</td>\n",
       "      <td>&lt;selenium.webdriver.remote.webelement.WebEleme...</td>\n",
       "    </tr>\n",
       "    <tr>\n",
       "      <th>3</th>\n",
       "      <td>Cort SFX-MEM Electro Acoustic Guitar - Open Po...</td>\n",
       "      <td>₹14,299</td>\n",
       "      <td>Thursday, December 1</td>\n",
       "      <td>&lt;selenium.webdriver.remote.webelement.WebEleme...</td>\n",
       "    </tr>\n",
       "    <tr>\n",
       "      <th>4</th>\n",
       "      <td>Fender Classic Design CD-60S Dreadnought Acous...</td>\n",
       "      <td>₹18,018</td>\n",
       "      <td>Sunday, November 27</td>\n",
       "      <td>&lt;selenium.webdriver.remote.webelement.WebEleme...</td>\n",
       "    </tr>\n",
       "    <tr>\n",
       "      <th>5</th>\n",
       "      <td>Orangewood 6 String Acoustic Guitar, Right, Sp...</td>\n",
       "      <td>₹11,163\\n84</td>\n",
       "      <td>Friday, November 25</td>\n",
       "      <td>&lt;selenium.webdriver.remote.webelement.WebEleme...</td>\n",
       "    </tr>\n",
       "    <tr>\n",
       "      <th>6</th>\n",
       "      <td>Blueberry B-40, 40\" Acoustic Guitar Kit with B...</td>\n",
       "      <td>₹4,990</td>\n",
       "      <td>Sunday, November 27</td>\n",
       "      <td>&lt;selenium.webdriver.remote.webelement.WebEleme...</td>\n",
       "    </tr>\n",
       "    <tr>\n",
       "      <th>7</th>\n",
       "      <td>Fender CD-60S Dreadnought Acoustic Guitar (Nat...</td>\n",
       "      <td>₹15,845\\n48</td>\n",
       "      <td>Monday, November 28</td>\n",
       "      <td>&lt;selenium.webdriver.remote.webelement.WebEleme...</td>\n",
       "    </tr>\n",
       "    <tr>\n",
       "      <th>8</th>\n",
       "      <td>TECHBLAZE 6 Pcs Guitar Keys for Acoustic Guita...</td>\n",
       "      <td>₹549</td>\n",
       "      <td>Friday, November 25</td>\n",
       "      <td>&lt;selenium.webdriver.remote.webelement.WebEleme...</td>\n",
       "    </tr>\n",
       "    <tr>\n",
       "      <th>9</th>\n",
       "      <td>Intern INT-38C-VT-G 38 Incheses Cutaway Right ...</td>\n",
       "      <td>₹2,399</td>\n",
       "      <td>Sunday, November 27</td>\n",
       "      <td>&lt;selenium.webdriver.remote.webelement.WebEleme...</td>\n",
       "    </tr>\n",
       "    <tr>\n",
       "      <th>10</th>\n",
       "      <td>Pluto HW34-101 86.36 cm (34-inch) Acoustic Gui...</td>\n",
       "      <td>₹2,590</td>\n",
       "      <td>Sunday, November 27</td>\n",
       "      <td>&lt;selenium.webdriver.remote.webelement.WebEleme...</td>\n",
       "    </tr>\n",
       "    <tr>\n",
       "      <th>11</th>\n",
       "      <td>INTERN Cutaway Design Acoustic Guitar Pack -Hu...</td>\n",
       "      <td>₹9,680</td>\n",
       "      <td>Sunday, November 27</td>\n",
       "      <td>&lt;selenium.webdriver.remote.webelement.WebEleme...</td>\n",
       "    </tr>\n",
       "    <tr>\n",
       "      <th>12</th>\n",
       "      <td>Cort AD810-OP Acoustic Guitar, Brown</td>\n",
       "      <td>₹2,231\\n75</td>\n",
       "      <td>tomorrow, November 24</td>\n",
       "      <td>&lt;selenium.webdriver.remote.webelement.WebEleme...</td>\n",
       "    </tr>\n",
       "    <tr>\n",
       "      <th>13</th>\n",
       "      <td>Intern INT-38C Acoustic Guitar Kit (Natural)</td>\n",
       "      <td>₹9,995</td>\n",
       "      <td>Sunday, November 27</td>\n",
       "      <td>&lt;selenium.webdriver.remote.webelement.WebEleme...</td>\n",
       "    </tr>\n",
       "    <tr>\n",
       "      <th>14</th>\n",
       "      <td>Yamaha F310-TBS Right Handed Acoustic Guitar w...</td>\n",
       "      <td>₹6,699</td>\n",
       "      <td>Monday, November 28</td>\n",
       "      <td>&lt;selenium.webdriver.remote.webelement.WebEleme...</td>\n",
       "    </tr>\n",
       "    <tr>\n",
       "      <th>15</th>\n",
       "      <td>Kadence Frontier Series Semi Acoustic Guitar W...</td>\n",
       "      <td>₹895</td>\n",
       "      <td>Tuesday, November 29</td>\n",
       "      <td>&lt;selenium.webdriver.remote.webelement.WebEleme...</td>\n",
       "    </tr>\n",
       "    <tr>\n",
       "      <th>16</th>\n",
       "      <td>Mustang 46 PCS Guitar Strings Changing Kit Gui...</td>\n",
       "      <td>₹10,225\\n54</td>\n",
       "      <td>Sunday, November 27</td>\n",
       "      <td>&lt;selenium.webdriver.remote.webelement.WebEleme...</td>\n",
       "    </tr>\n",
       "    <tr>\n",
       "      <th>17</th>\n",
       "      <td>ORANGEWOOD REY-S SPRUCE GRAND AUDITORIUM CUTAW...</td>\n",
       "      <td>₹13,999</td>\n",
       "      <td>Sunday, November 27</td>\n",
       "      <td>&lt;selenium.webdriver.remote.webelement.WebEleme...</td>\n",
       "    </tr>\n",
       "    <tr>\n",
       "      <th>18</th>\n",
       "      <td>Tanglewood Crossroads TWCR SFCE Semi Acoustic ...</td>\n",
       "      <td>₹1,479</td>\n",
       "      <td>Sunday, November 27</td>\n",
       "      <td>&lt;selenium.webdriver.remote.webelement.WebEleme...</td>\n",
       "    </tr>\n",
       "    <tr>\n",
       "      <th>19</th>\n",
       "      <td>Wooden Miniature Guitar, Stylish Long Service ...</td>\n",
       "      <td>₹2,655</td>\n",
       "      <td>Saturday, December 10</td>\n",
       "      <td>&lt;selenium.webdriver.remote.webelement.WebEleme...</td>\n",
       "    </tr>\n",
       "    <tr>\n",
       "      <th>20</th>\n",
       "      <td>Blueberry B-D38 38 Incheses wood Acoustic Guit...</td>\n",
       "      <td>₹6,216</td>\n",
       "      <td>Wednesday, December 14</td>\n",
       "      <td>&lt;selenium.webdriver.remote.webelement.WebEleme...</td>\n",
       "    </tr>\n",
       "    <tr>\n",
       "      <th>21</th>\n",
       "      <td>Pluto HW39C-201 39-inch Cutaway Acoustic Guita...</td>\n",
       "      <td>₹2,399</td>\n",
       "      <td>Monday, November 28</td>\n",
       "      <td>&lt;selenium.webdriver.remote.webelement.WebEleme...</td>\n",
       "    </tr>\n",
       "    <tr>\n",
       "      <th>22</th>\n",
       "      <td>Intern INT-38C-RD-G Linden Wood Cutaway Right ...</td>\n",
       "      <td>₹14,072</td>\n",
       "      <td>Sunday, November 27</td>\n",
       "      <td>&lt;selenium.webdriver.remote.webelement.WebEleme...</td>\n",
       "    </tr>\n",
       "    <tr>\n",
       "      <th>23</th>\n",
       "      <td>Fender Bullet Strat Electric Guitar, White</td>\n",
       "      <td>₹13,200</td>\n",
       "      <td>Friday, November 25</td>\n",
       "      <td>&lt;selenium.webdriver.remote.webelement.WebEleme...</td>\n",
       "    </tr>\n",
       "    <tr>\n",
       "      <th>24</th>\n",
       "      <td>Epiphone Les Paul Melody Maker E1 Electric Guitar</td>\n",
       "      <td>₹10,599</td>\n",
       "      <td>Monday, November 28</td>\n",
       "      <td>&lt;selenium.webdriver.remote.webelement.WebEleme...</td>\n",
       "    </tr>\n",
       "    <tr>\n",
       "      <th>25</th>\n",
       "      <td>Cort AD810LH-OP Dreadnought Left Handed Acoust...</td>\n",
       "      <td>₹179</td>\n",
       "      <td>Sunday, November 27</td>\n",
       "      <td>&lt;selenium.webdriver.remote.webelement.WebEleme...</td>\n",
       "    </tr>\n",
       "    <tr>\n",
       "      <th>26</th>\n",
       "      <td>HRB MUSICALS 1saddle, 1 guitar nut, 6 bridge p...</td>\n",
       "      <td>₹13,516</td>\n",
       "      <td>Sunday, November 27</td>\n",
       "      <td>&lt;selenium.webdriver.remote.webelement.WebEleme...</td>\n",
       "    </tr>\n",
       "    <tr>\n",
       "      <th>27</th>\n",
       "      <td>Tanglewood Crossroads TWCR OE Semi Acoustic Gu...</td>\n",
       "      <td>₹13,233</td>\n",
       "      <td>Sunday, November 27</td>\n",
       "      <td>&lt;selenium.webdriver.remote.webelement.WebEleme...</td>\n",
       "    </tr>\n",
       "    <tr>\n",
       "      <th>28</th>\n",
       "      <td>Yamaha F370 Acoustic Guitar, Natural</td>\n",
       "      <td>₹11,490</td>\n",
       "      <td>Sunday, November 27</td>\n",
       "      <td>&lt;selenium.webdriver.remote.webelement.WebEleme...</td>\n",
       "    </tr>\n",
       "    <tr>\n",
       "      <th>29</th>\n",
       "      <td>Yamaha Acoustic Guitar F310 Dreadnought With M...</td>\n",
       "      <td>₹10,599</td>\n",
       "      <td>Tuesday, November 29</td>\n",
       "      <td>&lt;selenium.webdriver.remote.webelement.WebEleme...</td>\n",
       "    </tr>\n",
       "    <tr>\n",
       "      <th>30</th>\n",
       "      <td>Cort AD Mini M-OP Acoustic Guitar With Bag</td>\n",
       "      <td>₹999</td>\n",
       "      <td>Saturday, November 26</td>\n",
       "      <td>&lt;selenium.webdriver.remote.webelement.WebEleme...</td>\n",
       "    </tr>\n",
       "    <tr>\n",
       "      <th>31</th>\n",
       "      <td>DHARM IMPEX S4 String Decor Guitar Children's ...</td>\n",
       "      <td>₹15,999</td>\n",
       "      <td>Sunday, November 27</td>\n",
       "      <td>&lt;selenium.webdriver.remote.webelement.WebEleme...</td>\n",
       "    </tr>\n",
       "    <tr>\n",
       "      <th>32</th>\n",
       "      <td>Cort AF550SE Guitar Electro Acoustic- OP With ...</td>\n",
       "      <td>₹3,999</td>\n",
       "      <td>Monday, November 28</td>\n",
       "      <td>&lt;selenium.webdriver.remote.webelement.WebEleme...</td>\n",
       "    </tr>\n",
       "    <tr>\n",
       "      <th>33</th>\n",
       "      <td>Zabel Acoustic Guitar 40 Inches Matt Finish, B...</td>\n",
       "      <td>₹13,665</td>\n",
       "      <td>Saturday, November 26</td>\n",
       "      <td>&lt;selenium.webdriver.remote.webelement.WebEleme...</td>\n",
       "    </tr>\n",
       "    <tr>\n",
       "      <th>34</th>\n",
       "      <td>Fender Squier 310005532 25.5 Inches Lindenwood...</td>\n",
       "      <td>₹14,499</td>\n",
       "      <td>Wednesday, November 30</td>\n",
       "      <td>&lt;selenium.webdriver.remote.webelement.WebEleme...</td>\n",
       "    </tr>\n",
       "    <tr>\n",
       "      <th>35</th>\n",
       "      <td>Tanglewood Roadster II TWR2 DE Semi Acoustic G...</td>\n",
       "      <td>₹4,089</td>\n",
       "      <td>Sunday, November 27</td>\n",
       "      <td>&lt;selenium.webdriver.remote.webelement.WebEleme...</td>\n",
       "    </tr>\n",
       "    <tr>\n",
       "      <th>36</th>\n",
       "      <td>Givsun Venus Special Black Matt 6-String Cut A...</td>\n",
       "      <td>₹10,571</td>\n",
       "      <td>Sunday, November 27</td>\n",
       "      <td>&lt;selenium.webdriver.remote.webelement.WebEleme...</td>\n",
       "    </tr>\n",
       "    <tr>\n",
       "      <th>37</th>\n",
       "      <td>Tanglewood Crossroads TWCR O Acoustic Guitar, ...</td>\n",
       "      <td>₹999</td>\n",
       "      <td>Wednesday, November 30</td>\n",
       "      <td>&lt;selenium.webdriver.remote.webelement.WebEleme...</td>\n",
       "    </tr>\n",
       "    <tr>\n",
       "      <th>38</th>\n",
       "      <td>Madhav Villa S4 String Decor Guitar Children's...</td>\n",
       "      <td>₹15,990</td>\n",
       "      <td>Sunday, November 27</td>\n",
       "      <td>&lt;selenium.webdriver.remote.webelement.WebEleme...</td>\n",
       "    </tr>\n",
       "    <tr>\n",
       "      <th>39</th>\n",
       "      <td>Yamaha PACIFICA012 Electric Guitar - Black</td>\n",
       "      <td>₹3,750</td>\n",
       "      <td>Sunday, November 27</td>\n",
       "      <td>&lt;selenium.webdriver.remote.webelement.WebEleme...</td>\n",
       "    </tr>\n",
       "    <tr>\n",
       "      <th>40</th>\n",
       "      <td>Gavison Venus Black Rosewood Fretboard Acousti...</td>\n",
       "      <td>₹5,999</td>\n",
       "      <td>Monday, November 28</td>\n",
       "      <td>&lt;selenium.webdriver.remote.webelement.WebEleme...</td>\n",
       "    </tr>\n",
       "    <tr>\n",
       "      <th>41</th>\n",
       "      <td>Blueberry R-701, 6 String Right Handed Beginne...</td>\n",
       "      <td>₹8,690</td>\n",
       "      <td>Wednesday, November 30</td>\n",
       "      <td>&lt;selenium.webdriver.remote.webelement.WebEleme...</td>\n",
       "    </tr>\n",
       "    <tr>\n",
       "      <th>42</th>\n",
       "      <td>Standzo Yamaha F280 Acoustic Guitar, Natural w...</td>\n",
       "      <td>₹19,990</td>\n",
       "      <td>Monday, November 28</td>\n",
       "      <td>&lt;selenium.webdriver.remote.webelement.WebEleme...</td>\n",
       "    </tr>\n",
       "    <tr>\n",
       "      <th>43</th>\n",
       "      <td>Vault HL1 Headless Electric Guitar with Gig-Bag</td>\n",
       "      <td>₹5,941</td>\n",
       "      <td>Saturday, November 26</td>\n",
       "      <td>&lt;selenium.webdriver.remote.webelement.WebEleme...</td>\n",
       "    </tr>\n",
       "    <tr>\n",
       "      <th>44</th>\n",
       "      <td>JUAREZ Arpeggio 41 Inch Acoustic Guitar Kit, S...</td>\n",
       "      <td>₹12,801</td>\n",
       "      <td>Sunday, November 27</td>\n",
       "      <td>&lt;selenium.webdriver.remote.webelement.WebEleme...</td>\n",
       "    </tr>\n",
       "    <tr>\n",
       "      <th>45</th>\n",
       "      <td>Fender SA105CE Electric Acoustic Guitar Dreadn...</td>\n",
       "      <td>₹11,439</td>\n",
       "      <td>Sunday, November 27</td>\n",
       "      <td>&lt;selenium.webdriver.remote.webelement.WebEleme...</td>\n",
       "    </tr>\n",
       "    <tr>\n",
       "      <th>46</th>\n",
       "      <td>Yamaha F310 Acoustic Guitar Dreadnought With M...</td>\n",
       "      <td>₹3,499</td>\n",
       "      <td>Saturday, November 26</td>\n",
       "      <td>&lt;selenium.webdriver.remote.webelement.WebEleme...</td>\n",
       "    </tr>\n",
       "    <tr>\n",
       "      <th>47</th>\n",
       "      <td>Medellin 40\" Acoustic Guitar +(Free Online Lea...</td>\n",
       "      <td>₹302.00</td>\n",
       "      <td>Saturday, November 26</td>\n",
       "      <td>&lt;selenium.webdriver.remote.webelement.WebEleme...</td>\n",
       "    </tr>\n",
       "  </tbody>\n",
       "</table>\n",
       "</div>"
      ],
      "text/plain": [
       "                                                brand        price  \\\n",
       "0   Pluto HW39-201P Electro Acoustic Guitar - Rose...       ₹6,199   \n",
       "1   Yamaha Electric-Acoustic Guitar FX280 Dreadnou...      ₹12,289   \n",
       "2   Yamaha F310-TBS Right Handed Acoustic Guitar (...       ₹9,780   \n",
       "3   Cort SFX-MEM Electro Acoustic Guitar - Open Po...      ₹14,299   \n",
       "4   Fender Classic Design CD-60S Dreadnought Acous...      ₹18,018   \n",
       "5   Orangewood 6 String Acoustic Guitar, Right, Sp...  ₹11,163\\n84   \n",
       "6   Blueberry B-40, 40\" Acoustic Guitar Kit with B...       ₹4,990   \n",
       "7   Fender CD-60S Dreadnought Acoustic Guitar (Nat...  ₹15,845\\n48   \n",
       "8   TECHBLAZE 6 Pcs Guitar Keys for Acoustic Guita...         ₹549   \n",
       "9   Intern INT-38C-VT-G 38 Incheses Cutaway Right ...       ₹2,399   \n",
       "10  Pluto HW34-101 86.36 cm (34-inch) Acoustic Gui...       ₹2,590   \n",
       "11  INTERN Cutaway Design Acoustic Guitar Pack -Hu...       ₹9,680   \n",
       "12               Cort AD810-OP Acoustic Guitar, Brown   ₹2,231\\n75   \n",
       "13       Intern INT-38C Acoustic Guitar Kit (Natural)       ₹9,995   \n",
       "14  Yamaha F310-TBS Right Handed Acoustic Guitar w...       ₹6,699   \n",
       "15  Kadence Frontier Series Semi Acoustic Guitar W...         ₹895   \n",
       "16  Mustang 46 PCS Guitar Strings Changing Kit Gui...  ₹10,225\\n54   \n",
       "17  ORANGEWOOD REY-S SPRUCE GRAND AUDITORIUM CUTAW...      ₹13,999   \n",
       "18  Tanglewood Crossroads TWCR SFCE Semi Acoustic ...       ₹1,479   \n",
       "19  Wooden Miniature Guitar, Stylish Long Service ...       ₹2,655   \n",
       "20  Blueberry B-D38 38 Incheses wood Acoustic Guit...       ₹6,216   \n",
       "21  Pluto HW39C-201 39-inch Cutaway Acoustic Guita...       ₹2,399   \n",
       "22  Intern INT-38C-RD-G Linden Wood Cutaway Right ...      ₹14,072   \n",
       "23         Fender Bullet Strat Electric Guitar, White      ₹13,200   \n",
       "24  Epiphone Les Paul Melody Maker E1 Electric Guitar      ₹10,599   \n",
       "25  Cort AD810LH-OP Dreadnought Left Handed Acoust...         ₹179   \n",
       "26  HRB MUSICALS 1saddle, 1 guitar nut, 6 bridge p...      ₹13,516   \n",
       "27  Tanglewood Crossroads TWCR OE Semi Acoustic Gu...      ₹13,233   \n",
       "28               Yamaha F370 Acoustic Guitar, Natural      ₹11,490   \n",
       "29  Yamaha Acoustic Guitar F310 Dreadnought With M...      ₹10,599   \n",
       "30         Cort AD Mini M-OP Acoustic Guitar With Bag         ₹999   \n",
       "31  DHARM IMPEX S4 String Decor Guitar Children's ...      ₹15,999   \n",
       "32  Cort AF550SE Guitar Electro Acoustic- OP With ...       ₹3,999   \n",
       "33  Zabel Acoustic Guitar 40 Inches Matt Finish, B...      ₹13,665   \n",
       "34  Fender Squier 310005532 25.5 Inches Lindenwood...      ₹14,499   \n",
       "35  Tanglewood Roadster II TWR2 DE Semi Acoustic G...       ₹4,089   \n",
       "36  Givsun Venus Special Black Matt 6-String Cut A...      ₹10,571   \n",
       "37  Tanglewood Crossroads TWCR O Acoustic Guitar, ...         ₹999   \n",
       "38  Madhav Villa S4 String Decor Guitar Children's...      ₹15,990   \n",
       "39         Yamaha PACIFICA012 Electric Guitar - Black       ₹3,750   \n",
       "40  Gavison Venus Black Rosewood Fretboard Acousti...       ₹5,999   \n",
       "41  Blueberry R-701, 6 String Right Handed Beginne...       ₹8,690   \n",
       "42  Standzo Yamaha F280 Acoustic Guitar, Natural w...      ₹19,990   \n",
       "43    Vault HL1 Headless Electric Guitar with Gig-Bag       ₹5,941   \n",
       "44  JUAREZ Arpeggio 41 Inch Acoustic Guitar Kit, S...      ₹12,801   \n",
       "45  Fender SA105CE Electric Acoustic Guitar Dreadn...      ₹11,439   \n",
       "46  Yamaha F310 Acoustic Guitar Dreadnought With M...       ₹3,499   \n",
       "47  Medellin 40\" Acoustic Guitar +(Free Online Lea...      ₹302.00   \n",
       "\n",
       "             delivery_date                                                url  \n",
       "0      Sunday, November 27  <selenium.webdriver.remote.webelement.WebEleme...  \n",
       "1    Saturday, November 26  <selenium.webdriver.remote.webelement.WebEleme...  \n",
       "2     Tuesday, November 29  <selenium.webdriver.remote.webelement.WebEleme...  \n",
       "3     Thursday, December 1  <selenium.webdriver.remote.webelement.WebEleme...  \n",
       "4      Sunday, November 27  <selenium.webdriver.remote.webelement.WebEleme...  \n",
       "5      Friday, November 25  <selenium.webdriver.remote.webelement.WebEleme...  \n",
       "6      Sunday, November 27  <selenium.webdriver.remote.webelement.WebEleme...  \n",
       "7      Monday, November 28  <selenium.webdriver.remote.webelement.WebEleme...  \n",
       "8      Friday, November 25  <selenium.webdriver.remote.webelement.WebEleme...  \n",
       "9      Sunday, November 27  <selenium.webdriver.remote.webelement.WebEleme...  \n",
       "10     Sunday, November 27  <selenium.webdriver.remote.webelement.WebEleme...  \n",
       "11     Sunday, November 27  <selenium.webdriver.remote.webelement.WebEleme...  \n",
       "12   tomorrow, November 24  <selenium.webdriver.remote.webelement.WebEleme...  \n",
       "13     Sunday, November 27  <selenium.webdriver.remote.webelement.WebEleme...  \n",
       "14     Monday, November 28  <selenium.webdriver.remote.webelement.WebEleme...  \n",
       "15    Tuesday, November 29  <selenium.webdriver.remote.webelement.WebEleme...  \n",
       "16     Sunday, November 27  <selenium.webdriver.remote.webelement.WebEleme...  \n",
       "17     Sunday, November 27  <selenium.webdriver.remote.webelement.WebEleme...  \n",
       "18     Sunday, November 27  <selenium.webdriver.remote.webelement.WebEleme...  \n",
       "19   Saturday, December 10  <selenium.webdriver.remote.webelement.WebEleme...  \n",
       "20  Wednesday, December 14  <selenium.webdriver.remote.webelement.WebEleme...  \n",
       "21     Monday, November 28  <selenium.webdriver.remote.webelement.WebEleme...  \n",
       "22     Sunday, November 27  <selenium.webdriver.remote.webelement.WebEleme...  \n",
       "23     Friday, November 25  <selenium.webdriver.remote.webelement.WebEleme...  \n",
       "24     Monday, November 28  <selenium.webdriver.remote.webelement.WebEleme...  \n",
       "25     Sunday, November 27  <selenium.webdriver.remote.webelement.WebEleme...  \n",
       "26     Sunday, November 27  <selenium.webdriver.remote.webelement.WebEleme...  \n",
       "27     Sunday, November 27  <selenium.webdriver.remote.webelement.WebEleme...  \n",
       "28     Sunday, November 27  <selenium.webdriver.remote.webelement.WebEleme...  \n",
       "29    Tuesday, November 29  <selenium.webdriver.remote.webelement.WebEleme...  \n",
       "30   Saturday, November 26  <selenium.webdriver.remote.webelement.WebEleme...  \n",
       "31     Sunday, November 27  <selenium.webdriver.remote.webelement.WebEleme...  \n",
       "32     Monday, November 28  <selenium.webdriver.remote.webelement.WebEleme...  \n",
       "33   Saturday, November 26  <selenium.webdriver.remote.webelement.WebEleme...  \n",
       "34  Wednesday, November 30  <selenium.webdriver.remote.webelement.WebEleme...  \n",
       "35     Sunday, November 27  <selenium.webdriver.remote.webelement.WebEleme...  \n",
       "36     Sunday, November 27  <selenium.webdriver.remote.webelement.WebEleme...  \n",
       "37  Wednesday, November 30  <selenium.webdriver.remote.webelement.WebEleme...  \n",
       "38     Sunday, November 27  <selenium.webdriver.remote.webelement.WebEleme...  \n",
       "39     Sunday, November 27  <selenium.webdriver.remote.webelement.WebEleme...  \n",
       "40     Monday, November 28  <selenium.webdriver.remote.webelement.WebEleme...  \n",
       "41  Wednesday, November 30  <selenium.webdriver.remote.webelement.WebEleme...  \n",
       "42     Monday, November 28  <selenium.webdriver.remote.webelement.WebEleme...  \n",
       "43   Saturday, November 26  <selenium.webdriver.remote.webelement.WebEleme...  \n",
       "44     Sunday, November 27  <selenium.webdriver.remote.webelement.WebEleme...  \n",
       "45     Sunday, November 27  <selenium.webdriver.remote.webelement.WebEleme...  \n",
       "46   Saturday, November 26  <selenium.webdriver.remote.webelement.WebEleme...  \n",
       "47   Saturday, November 26  <selenium.webdriver.remote.webelement.WebEleme...  "
      ]
     },
     "execution_count": 83,
     "metadata": {},
     "output_type": "execute_result"
    }
   ],
   "source": [
    "#creating dataframe\n",
    "guitar=pd.DataFrame()\n",
    "guitar['brand']=brand_name\n",
    "guitar['price']=price\n",
    "guitar['delivery_date']=delivery\n",
    "guitar['url']=link\n",
    "guitar"
   ]
  },
  {
   "cell_type": "code",
   "execution_count": 84,
   "id": "0d51cf86",
   "metadata": {},
   "outputs": [],
   "source": [
    "#Q1 andQ2 completed"
   ]
  },
  {
   "cell_type": "code",
   "execution_count": 85,
   "id": "a251d689",
   "metadata": {},
   "outputs": [],
   "source": [
    "driver.close()"
   ]
  },
  {
   "cell_type": "code",
   "execution_count": 86,
   "id": "9c45fd2b",
   "metadata": {},
   "outputs": [
    {
     "data": {
      "text/plain": [
       "<selenium.webdriver.chrome.webdriver.WebDriver (session=\"c040ac22f8bfce26a75d790059a49ae0\")>"
      ]
     },
     "execution_count": 86,
     "metadata": {},
     "output_type": "execute_result"
    }
   ],
   "source": [
    "driver=webdriver.Chrome(r\"C:\\Users\\hp\\Downloads\\chromedriver_win32\\chromedriver.exe\")\n",
    "driver"
   ]
  },
  {
   "cell_type": "code",
   "execution_count": 87,
   "id": "45d55f76",
   "metadata": {},
   "outputs": [],
   "source": [
    "# lets maximize the window\n",
    "driver.maximize_window()"
   ]
  },
  {
   "cell_type": "code",
   "execution_count": 91,
   "id": "f8c2f266",
   "metadata": {},
   "outputs": [],
   "source": [
    "url='https://www.flipkart.com'\n",
    "driver.get(url)"
   ]
  },
  {
   "cell_type": "code",
   "execution_count": 92,
   "id": "60323c4f",
   "metadata": {},
   "outputs": [],
   "source": [
    "search=driver.find_element(By.CLASS_NAME,'_3704LK')\n",
    "search.send_keys(\"oneplus nord\")"
   ]
  },
  {
   "cell_type": "code",
   "execution_count": 93,
   "id": "a4c92239",
   "metadata": {},
   "outputs": [],
   "source": [
    "srch_btn=driver.find_element(By.CLASS_NAME,'_34RNph')\n",
    "srch_btn.click()"
   ]
  },
  {
   "cell_type": "code",
   "execution_count": 173,
   "id": "c3ac7dad",
   "metadata": {},
   "outputs": [
    {
     "data": {
      "text/plain": [
       "['OnePlus Nord CE 2 Lite 5G (Blue Tide, 128 GB)',\n",
       " 'OnePlus Nord CE 2 Lite 5G (Blue Tide, 128 GB)',\n",
       " 'OnePlus Nord CE 2 Lite 5G (Black Dusk, 128 GB)',\n",
       " 'OnePlus Nord 2T 5G (Gray Shadow, 256 GB)',\n",
       " 'OnePlus Nord 2T 5G (Jade Fog, 128 GB)',\n",
       " 'OnePlus Nord N20 SE (Blue Oasis, 64 MB)',\n",
       " 'OnePlus Nord CE 2 Lite 5G (Blue Tide, 128 GB)',\n",
       " 'OnePlus Nord CE 2 Lite 5G (Blue Tide, 128 GB)',\n",
       " 'OnePlus Nord CE 2 Lite 5G (Black Dusk, 128 GB)',\n",
       " 'OnePlus Nord N20 SE (Blue Oasis, 64 GB)',\n",
       " 'OnePlus Nord 2T 5G (Jade Fog, 128 GB)',\n",
       " 'OnePlus Nord 2T 5G (Jade Fog, 256 GB)',\n",
       " 'OnePlus Nord 2T 5G (Jade Fog, 256 GB)',\n",
       " 'OnePlus Nord 2T 5G (Gray Shadow, 256 GB)',\n",
       " 'OnePlus Nord 2T 5G (Gray Shadow, 128 GB)',\n",
       " 'OnePlus Nord CE2 Lite 5G (Blue Tide, 128 GB)',\n",
       " 'OnePlus Nord N20 SE (Celestial Black, 64 GB)',\n",
       " 'OnePlus Nord (Gray Onyx, 256 GB)',\n",
       " 'OnePlus Nord (Gray Onyx, 64 GB)',\n",
       " 'OnePlus Nord (Blue Marble, 256 GB)',\n",
       " 'OnePlus Nord (Gray Onyx, 128 GB)',\n",
       " 'OnePlus Nord (Blue Marble, 128 GB)',\n",
       " 'OnePlus Nord (Blue Marble, 64 GB)']"
      ]
     },
     "execution_count": 173,
     "metadata": {},
     "output_type": "execute_result"
    }
   ],
   "source": [
    "brand=[]\n",
    "brand_tag=driver.find_elements(By.XPATH,'//div[@class=\"_4rR01T\"]')\n",
    "for i in brand_tag[0:23]:\n",
    "    brand.append(i.text)\n",
    "brand"
   ]
  },
  {
   "cell_type": "code",
   "execution_count": 174,
   "id": "1bf5bcef",
   "metadata": {},
   "outputs": [
    {
     "data": {
      "text/plain": [
       "23"
      ]
     },
     "execution_count": 174,
     "metadata": {},
     "output_type": "execute_result"
    }
   ],
   "source": [
    "len(brand)"
   ]
  },
  {
   "cell_type": "code",
   "execution_count": 101,
   "id": "76759e2d",
   "metadata": {},
   "outputs": [],
   "source": [
    "# selecting the phone to see the colours\n",
    "cli=driver.find_element(By.CLASS_NAME,'_4rR01T')\n",
    "cli.click()"
   ]
  },
  {
   "cell_type": "code",
   "execution_count": 175,
   "id": "05251f20",
   "metadata": {},
   "outputs": [
    {
     "data": {
      "text/plain": [
       "['6 GB RAM ',\n",
       " '6 GB RAM ',\n",
       " '6 GB RAM ',\n",
       " '12 GB RAM',\n",
       " '8 GB RAM ',\n",
       " '4 MB RAM ',\n",
       " '6 GB RAM ',\n",
       " '6 GB RAM ',\n",
       " '6 GB RAM ',\n",
       " '4 GB RAM ',\n",
       " '8 GB RAM ',\n",
       " '12 GB RAM',\n",
       " '12 GB RAM',\n",
       " '12 GB RAM',\n",
       " '8 GB RAM ',\n",
       " '8 GB RAM ',\n",
       " '4 GB RAM ',\n",
       " '12 GB RAM',\n",
       " '6 GB RAM ',\n",
       " '12 GB RAM',\n",
       " '8 GB RAM ',\n",
       " '8 GB RAM ',\n",
       " '6 GB RAM ']"
      ]
     },
     "execution_count": 175,
     "metadata": {},
     "output_type": "execute_result"
    }
   ],
   "source": [
    "ram=[]\n",
    "ram_tag=driver.find_elements(By.XPATH,'//div[@class=\"fMghEO\"]')\n",
    "for i in ram_tag[0:23]:\n",
    "    ram.append(i.text[0:9])\n",
    "ram"
   ]
  },
  {
   "cell_type": "code",
   "execution_count": 176,
   "id": "c506a564",
   "metadata": {},
   "outputs": [
    {
     "data": {
      "text/plain": [
       "23"
      ]
     },
     "execution_count": 176,
     "metadata": {},
     "output_type": "execute_result"
    }
   ],
   "source": [
    "len(ram)"
   ]
  },
  {
   "cell_type": "code",
   "execution_count": 177,
   "id": "530c9f2f",
   "metadata": {},
   "outputs": [
    {
     "data": {
      "text/plain": [
       "[' 128 GB ROM',\n",
       " ' 128 GB ROM',\n",
       " ' 128 GB ROM',\n",
       " '| 256 GB RO',\n",
       " ' 128 GB ROM',\n",
       " ' 64 MB ROM\\n',\n",
       " ' 128 GB ROM',\n",
       " ' 128 GB ROM',\n",
       " ' 128 GB ROM',\n",
       " ' 64 GB ROM\\n',\n",
       " ' 128 GB ROM',\n",
       " '| 256 GB RO',\n",
       " '| 256 GB RO',\n",
       " '| 256 GB RO',\n",
       " ' 128 GB ROM',\n",
       " ' 128 GB ROM',\n",
       " ' 64 GB ROM\\n',\n",
       " '| 256 GB RO',\n",
       " ' 64 GB ROM\\n',\n",
       " '| 256 GB RO',\n",
       " ' 128 GB ROM',\n",
       " ' 128 GB ROM',\n",
       " ' 64 GB ROM\\n']"
      ]
     },
     "execution_count": 177,
     "metadata": {},
     "output_type": "execute_result"
    }
   ],
   "source": [
    "rom=[]\n",
    "rom_tag=driver.find_elements(By.XPATH,'//div[@class=\"fMghEO\"]')\n",
    "for i in rom_tag[0:23]:\n",
    "    rom.append(i.text[10:21])\n",
    "rom"
   ]
  },
  {
   "cell_type": "code",
   "execution_count": 178,
   "id": "eabc9cd3",
   "metadata": {},
   "outputs": [
    {
     "data": {
      "text/plain": [
       "23"
      ]
     },
     "execution_count": 178,
     "metadata": {},
     "output_type": "execute_result"
    }
   ],
   "source": [
    "len(rom)"
   ]
  },
  {
   "cell_type": "code",
   "execution_count": 179,
   "id": "2eafd58a",
   "metadata": {},
   "outputs": [
    {
     "data": {
      "text/plain": [
       "['play\\n64MP Rear Camera ',\n",
       " '\\n64MP Rear Camera\\n5000',\n",
       " '\\n64MP Rear Camera\\n5000',\n",
       " '\\n50MP Rear Camera\\n4500',\n",
       " '50MP Rear Camera\\n4500 ',\n",
       " '50MP Rear Camera\\n5000 ',\n",
       " '\\n64MP Rear Camera\\n5000',\n",
       " '\\n64MP Rear Camera\\n5000',\n",
       " '\\n64MP Rear Camera\\n5000',\n",
       " '50MP Rear Camera\\n5000 ',\n",
       " '50MP Rear Camera\\n4500 ',\n",
       " '\\n50MP Rear Camera\\n4500',\n",
       " '\\n50MP Rear Camera\\n4500',\n",
       " 'y\\n50MP Rear Camera\\n450',\n",
       " '50MP Rear Camera\\n4500 ',\n",
       " '\\n64MP Rear Camera\\n5000',\n",
       " '50MP Rear Camera\\n5000 ',\n",
       " 'D+ Display\\n48MP + 8MP ',\n",
       " ' Display\\n48MP + 8MP | ',\n",
       " 'D+ Display\\n48MP + 8MP ',\n",
       " '+ Display\\n48MP + 8MP |',\n",
       " '+ Display\\n48MP + 8MP |',\n",
       " ' Display\\n48MP + 8MP | ']"
      ]
     },
     "execution_count": 179,
     "metadata": {},
     "output_type": "execute_result"
    }
   ],
   "source": [
    "camera=[]\n",
    "cam_tag=driver.find_elements(By.XPATH,'//div[@class=\"fMghEO\"]')\n",
    "for i in cam_tag[0:23]:\n",
    "    camera.append(i.text[50:72])\n",
    "camera"
   ]
  },
  {
   "cell_type": "code",
   "execution_count": 180,
   "id": "b947f218",
   "metadata": {},
   "outputs": [
    {
     "data": {
      "text/plain": [
       "23"
      ]
     },
     "execution_count": 180,
     "metadata": {},
     "output_type": "execute_result"
    }
   ],
   "source": [
    "len(camera)"
   ]
  },
  {
   "cell_type": "code",
   "execution_count": 181,
   "id": "32483048",
   "metadata": {},
   "outputs": [
    {
     "data": {
      "text/plain": [
       "['16.74 cm (6.59 inch) HD+ Displ',\n",
       " '16.74 cm (6.59 inch) Display\\n6',\n",
       " '16.74 cm (6.59 inch) Display\\n6',\n",
       " '\\n17.02 cm (6.7 inch) Display\\n5',\n",
       " '17.02 cm (6.7 inch) Display\\n50',\n",
       " '6.66 cm (6.56 inch) Display\\n50',\n",
       " '16.74 cm (6.59 inch) Display\\n6',\n",
       " '16.74 cm (6.59 inch) Display\\n6',\n",
       " '16.74 cm (6.59 inch) Display\\n6',\n",
       " '6.66 cm (6.56 inch) Display\\n50',\n",
       " '17.02 cm (6.7 inch) Display\\n50',\n",
       " '\\n17.02 cm (6.7 inch) Display\\n5',\n",
       " '\\n17.02 cm (6.7 inch) Display\\n5',\n",
       " '\\n16.94 cm (6.67 inch) Display\\n',\n",
       " '17.02 cm (6.7 inch) Display\\n50',\n",
       " '16.74 cm (6.59 inch) Display\\n6',\n",
       " '6.66 cm (6.56 inch) Display\\n50',\n",
       " '\\n16.36 cm (6.44 inch) Full HD+',\n",
       " '6.36 cm (6.44 inch) Full HD+ D',\n",
       " '\\n16.36 cm (6.44 inch) Full HD+',\n",
       " '16.36 cm (6.44 inch) Full HD+ ',\n",
       " '16.36 cm (6.44 inch) Full HD+ ',\n",
       " '6.36 cm (6.44 inch) Full HD+ D']"
      ]
     },
     "execution_count": 181,
     "metadata": {},
     "output_type": "execute_result"
    }
   ],
   "source": [
    "display=[]\n",
    "disp_tag=driver.find_elements(By.XPATH,'//div[@class=\"fMghEO\"]')\n",
    "for i in disp_tag[0:23]:\n",
    "    display.append(i.text[22:52])\n",
    "display"
   ]
  },
  {
   "cell_type": "code",
   "execution_count": 182,
   "id": "f45bb09c",
   "metadata": {},
   "outputs": [
    {
     "data": {
      "text/plain": [
       "23"
      ]
     },
     "execution_count": 182,
     "metadata": {},
     "output_type": "execute_result"
    }
   ],
   "source": [
    "len(display)"
   ]
  },
  {
   "cell_type": "code",
   "execution_count": 183,
   "id": "49038d19",
   "metadata": {},
   "outputs": [
    {
     "data": {
      "text/plain": [
       "['64MP Rear Camera | 16MP Front Camera\\n5000 mAh Battery\\nqualic',\n",
       " ' Rear Camera\\n5000 mAh Battery\\n12 Months',\n",
       " ' Rear Camera\\n5000 mAh Battery\\n12 months',\n",
       " ' Rear Camera\\n4500 mAh Battery\\n12 Month',\n",
       " 'Rear Camera\\n4500 mAh Battery\\n12 months Warranty',\n",
       " 'Rear Camera\\n5000 mAh Battery\\nNA',\n",
       " ' Rear Camera\\n5000 mAh Battery\\n1 Year Brand Warranty',\n",
       " ' Rear Camera\\n5000 mAh Battery\\n1 Year Brand Warranty',\n",
       " ' Rear Camera\\n5000 mAh Battery\\n1 Year Brand Warranty',\n",
       " 'Rear Camera\\n5000 mAh Battery\\nBrand Warranty of 1 Year Availa',\n",
       " 'Rear Camera\\n4500 mAh Battery\\n12 Month',\n",
       " ' Rear Camera\\n4500 mAh Battery\\n12 Month',\n",
       " ' Rear Camera\\n4500 mAh Battery\\n1 Year Manufacturer Warranty f',\n",
       " 'P Rear Camera\\n4500 mAh Battery\\n1 Year Manufacturer Warranty ',\n",
       " 'Rear Camera\\n4500 mAh Battery\\n12 months Warranty',\n",
       " ' Rear Camera\\n5000 mAh Battery\\n1 Year Manufacturer Warranty f',\n",
       " 'Rear Camera\\n5000 mAh Battery\\nNA',\n",
       " 'splay\\n48MP + 8MP | 32MP + 8MP Dual Front Camera\\n4115 mAh Bat',\n",
       " 'lay\\n48MP + 8MP | 32MP + 8MP Dual Front Camera\\n4115 mAh Batte',\n",
       " 'splay\\n48MP + 8MP | 32MP + 8MP Dual Front Camera\\n4115 mAh Bat',\n",
       " 'play\\n48MP + 8MP | 32MP + 8MP Dual Front Camera\\n4115 mAh Batt',\n",
       " 'play\\n48MP + 8MP | 32MP + 8MP Dual Front Camera\\n4115 mAh Batt',\n",
       " 'lay\\n48MP + 8MP | 32MP + 8MP Dual Front Camera\\n4115 mAh Batte']"
      ]
     },
     "execution_count": 183,
     "metadata": {},
     "output_type": "execute_result"
    }
   ],
   "source": [
    "battery=[]\n",
    "bat_tag=driver.find_elements(By.XPATH,'//div[@class=\"fMghEO\"]')\n",
    "for i in bat_tag[0:23]:\n",
    "    battery.append(i.text[55:115])\n",
    "battery"
   ]
  },
  {
   "cell_type": "code",
   "execution_count": 184,
   "id": "91971e36",
   "metadata": {},
   "outputs": [
    {
     "data": {
      "text/plain": [
       "23"
      ]
     },
     "execution_count": 184,
     "metadata": {},
     "output_type": "execute_result"
    }
   ],
   "source": [
    "len(battery)"
   ]
  },
  {
   "cell_type": "code",
   "execution_count": 166,
   "id": "79a705b5",
   "metadata": {
    "scrolled": true
   },
   "outputs": [
    {
     "data": {
      "text/plain": [
       "['₹19,990',\n",
       " '₹19,759',\n",
       " '₹19,981',\n",
       " '₹33,900',\n",
       " '₹28,849',\n",
       " '₹14,499',\n",
       " '₹19,488',\n",
       " '₹19,540',\n",
       " '₹19,989',\n",
       " '₹14,890',\n",
       " '₹28,999',\n",
       " '₹33,900',\n",
       " '₹33,999',\n",
       " '₹33,869',\n",
       " '₹28,990',\n",
       " '₹21,999',\n",
       " '₹29,999',\n",
       " '₹24,999',\n",
       " '₹29,999',\n",
       " '₹27,999',\n",
       " '₹27,999',\n",
       " '₹24,999',\n",
       " '₹19,975']"
      ]
     },
     "execution_count": 166,
     "metadata": {},
     "output_type": "execute_result"
    }
   ],
   "source": [
    "price=[]\n",
    "price_tag=driver.find_elements(By.XPATH,'//div[@class=\"_30jeq3 _1_WHN1\"]')\n",
    "for i in price_tag[0:25]:\n",
    "    price.append(i.text)\n",
    "price"
   ]
  },
  {
   "cell_type": "code",
   "execution_count": 167,
   "id": "dec641c7",
   "metadata": {},
   "outputs": [
    {
     "data": {
      "text/plain": [
       "23"
      ]
     },
     "execution_count": 167,
     "metadata": {},
     "output_type": "execute_result"
    }
   ],
   "source": [
    "len(price)"
   ]
  },
  {
   "cell_type": "code",
   "execution_count": 197,
   "id": "994c0936",
   "metadata": {},
   "outputs": [
    {
     "name": "stdout",
     "output_type": "stream",
     "text": [
      "https://www.flipkart.com/oneplus-nord-ce-2-lite-5g-blue-tide-128-gb/p/itm7acae55b999e6?pid=MOBGHHXQCZQVEQDG&lid=LSTMOBGHHXQCZQVEQDG6VFD7O&marketplace=FLIPKART&q=oneplus+nord&store=tyy%2F4io&srno=s_1_2&otracker=search&otracker1=search&fm=search-autosuggest&iid=41702d55-ea55-4a2d-a95b-aff8471816a1.MOBGHHXQCZQVEQDG.SEARCH&ppt=hp&ppn=homepage&ssid=5okarccl9s0000001669227740157&qH=e8b736bf4fa84421\n",
      "https://www.flipkart.com/oneplus-nord-ce-2-lite-5g-black-dusk-128-gb/p/itm7acae55b999e6?pid=MOBGDWF8GJTFAXVH&lid=LSTMOBGDWF8GJTFAXVHSZ1LDM&marketplace=FLIPKART&q=oneplus+nord&store=tyy%2F4io&srno=s_1_3&otracker=search&otracker1=search&fm=search-autosuggest&iid=41702d55-ea55-4a2d-a95b-aff8471816a1.MOBGDWF8GJTFAXVH.SEARCH&ppt=hp&ppn=homepage&ssid=5okarccl9s0000001669227740157&qH=e8b736bf4fa84421\n",
      "https://www.flipkart.com/oneplus-nord-2t-5g-gray-shadow-256-gb/p/itm97eda8b1a1566?pid=MOBGHHYEMNFZGE4W&lid=LSTMOBGHHYEMNFZGE4WYLFYJH&marketplace=FLIPKART&q=oneplus+nord&store=tyy%2F4io&srno=s_1_4&otracker=search&otracker1=search&fm=search-autosuggest&iid=41702d55-ea55-4a2d-a95b-aff8471816a1.MOBGHHYEMNFZGE4W.SEARCH&ppt=hp&ppn=homepage&ssid=5okarccl9s0000001669227740157&qH=e8b736bf4fa84421\n",
      "https://www.flipkart.com/oneplus-nord-2t-5g-jade-fog-128-gb/p/itm97eda8b1a1566?pid=MOBGFX6MGJWZMRWR&lid=LSTMOBGFX6MGJWZMRWRXRGUKT&marketplace=FLIPKART&q=oneplus+nord&store=tyy%2F4io&srno=s_1_5&otracker=search&otracker1=search&fm=search-autosuggest&iid=41702d55-ea55-4a2d-a95b-aff8471816a1.MOBGFX6MGJWZMRWR.SEARCH&ppt=hp&ppn=homepage&ssid=5okarccl9s0000001669227740157&qH=e8b736bf4fa84421\n",
      "https://www.flipkart.com/oneplus-nord-n20-se-blue-oasis-64-mb/p/itme892a7e63b13a?pid=MOBGJTBA9HGYXGUG&lid=LSTMOBGJTBA9HGYXGUGBBVAFF&marketplace=FLIPKART&q=oneplus+nord&store=tyy%2F4io&srno=s_1_6&otracker=search&otracker1=search&fm=search-autosuggest&iid=41702d55-ea55-4a2d-a95b-aff8471816a1.MOBGJTBA9HGYXGUG.SEARCH&ppt=hp&ppn=homepage&ssid=5okarccl9s0000001669227740157&qH=e8b736bf4fa84421\n",
      "https://www.flipkart.com/oneplus-nord-ce-2-lite-5g-blue-tide-128-gb/p/itm853d95cf27843?pid=MOBGG6SGBYXGNYMH&lid=LSTMOBGG6SGBYXGNYMHLYHYYB&marketplace=FLIPKART&q=oneplus+nord&store=tyy%2F4io&srno=s_1_7&otracker=search&otracker1=search&fm=search-autosuggest&iid=41702d55-ea55-4a2d-a95b-aff8471816a1.MOBGG6SGBYXGNYMH.SEARCH&ppt=hp&ppn=homepage&ssid=5okarccl9s0000001669227740157&qH=e8b736bf4fa84421\n",
      "https://www.flipkart.com/oneplus-nord-ce-2-lite-5g-blue-tide-128-gb/p/itm7acae55b999e6?pid=MOBGJMUHHJE55ARU&lid=LSTMOBGJMUHHJE55ARUFC3QO4&marketplace=FLIPKART&q=oneplus+nord&store=tyy%2F4io&srno=s_1_8&otracker=search&otracker1=search&fm=search-autosuggest&iid=41702d55-ea55-4a2d-a95b-aff8471816a1.MOBGJMUHHJE55ARU.SEARCH&ppt=hp&ppn=homepage&ssid=5okarccl9s0000001669227740157&qH=e8b736bf4fa84421\n",
      "https://www.flipkart.com/oneplus-nord-ce-2-lite-5g-black-dusk-128-gb/p/itm853d95cf27843?pid=MOBGG6SGT5TVGSG6&lid=LSTMOBGG6SGT5TVGSG6W1J6VV&marketplace=FLIPKART&q=oneplus+nord&store=tyy%2F4io&srno=s_1_9&otracker=search&otracker1=search&fm=search-autosuggest&iid=41702d55-ea55-4a2d-a95b-aff8471816a1.MOBGG6SGT5TVGSG6.SEARCH&ppt=hp&ppn=homepage&ssid=5okarccl9s0000001669227740157&qH=e8b736bf4fa84421\n",
      "https://www.flipkart.com/oneplus-nord-n20-se-blue-oasis-64-gb/p/itmb79f66161f655?pid=MOBGJYU8EGKARKGB&lid=LSTMOBGJYU8EGKARKGBRGNNYQ&marketplace=FLIPKART&q=oneplus+nord&store=tyy%2F4io&srno=s_1_10&otracker=search&otracker1=search&fm=search-autosuggest&iid=41702d55-ea55-4a2d-a95b-aff8471816a1.MOBGJYU8EGKARKGB.SEARCH&ppt=hp&ppn=homepage&ssid=5okarccl9s0000001669227740157&qH=e8b736bf4fa84421\n",
      "https://www.flipkart.com/oneplus-nord-2t-5g-jade-fog-128-gb/p/itm97eda8b1a1566?pid=MOBGHHYZVXCMYDSR&lid=LSTMOBGHHYZVXCMYDSRN0GOJY&marketplace=FLIPKART&q=oneplus+nord&store=tyy%2F4io&srno=s_1_11&otracker=search&otracker1=search&fm=search-autosuggest&iid=41702d55-ea55-4a2d-a95b-aff8471816a1.MOBGHHYZVXCMYDSR.SEARCH&ppt=hp&ppn=homepage&ssid=5okarccl9s0000001669227740157&qH=e8b736bf4fa84421\n",
      "https://www.flipkart.com/oneplus-nord-2t-5g-jade-fog-256-gb/p/itm97eda8b1a1566?pid=MOBGHHYHNZBQBPZY&lid=LSTMOBGHHYHNZBQBPZYGXRIVU&marketplace=FLIPKART&q=oneplus+nord&store=tyy%2F4io&srno=s_1_12&otracker=search&otracker1=search&fm=search-autosuggest&iid=41702d55-ea55-4a2d-a95b-aff8471816a1.MOBGHHYHNZBQBPZY.SEARCH&ppt=hp&ppn=homepage&ssid=5okarccl9s0000001669227740157&qH=e8b736bf4fa84421\n",
      "https://www.flipkart.com/oneplus-nord-2t-5g-jade-fog-256-gb/p/itm97eda8b1a1566?pid=MOBGGA29UT2G9QW3&lid=LSTMOBGGA29UT2G9QW3HVHOEB&marketplace=FLIPKART&q=oneplus+nord&store=tyy%2F4io&srno=s_1_13&otracker=search&otracker1=search&fm=search-autosuggest&iid=41702d55-ea55-4a2d-a95b-aff8471816a1.MOBGGA29UT2G9QW3.SEARCH&ppt=hp&ppn=homepage&ssid=5okarccl9s0000001669227740157&qH=e8b736bf4fa84421\n",
      "https://www.flipkart.com/oneplus-nord-2t-5g-gray-shadow-256-gb/p/itm97eda8b1a1566?pid=MOBGGCHFNMZDKZTV&lid=LSTMOBGGCHFNMZDKZTVBJYMHD&marketplace=FLIPKART&q=oneplus+nord&store=tyy%2F4io&srno=s_1_14&otracker=search&otracker1=search&fm=search-autosuggest&iid=41702d55-ea55-4a2d-a95b-aff8471816a1.MOBGGCHFNMZDKZTV.SEARCH&ppt=hp&ppn=homepage&ssid=5okarccl9s0000001669227740157&qH=e8b736bf4fa84421\n",
      "https://www.flipkart.com/oneplus-nord-2t-5g-gray-shadow-128-gb/p/itm97eda8b1a1566?pid=MOBGFX6BHG7H3AQG&lid=LSTMOBGFX6BHG7H3AQGYV190Z&marketplace=FLIPKART&q=oneplus+nord&store=tyy%2F4io&srno=s_1_15&otracker=search&otracker1=search&fm=search-autosuggest&iid=41702d55-ea55-4a2d-a95b-aff8471816a1.MOBGFX6BHG7H3AQG.SEARCH&ppt=hp&ppn=homepage&ssid=5okarccl9s0000001669227740157&qH=e8b736bf4fa84421\n",
      "https://www.flipkart.com/oneplus-nord-ce2-lite-5g-blue-tide-128-gb/p/itm1932861f1c5e0?pid=MOBGJMUH4ZDFKKHN&lid=LSTMOBGJMUH4ZDFKKHNDOTFJV&marketplace=FLIPKART&q=oneplus+nord&store=tyy%2F4io&srno=s_1_16&otracker=search&otracker1=search&fm=search-autosuggest&iid=41702d55-ea55-4a2d-a95b-aff8471816a1.MOBGJMUH4ZDFKKHN.SEARCH&ppt=hp&ppn=homepage&ssid=5okarccl9s0000001669227740157&qH=e8b736bf4fa84421\n",
      "https://www.flipkart.com/oneplus-nord-n20-se-celestial-black-64-gb/p/itme892a7e63b13a?pid=MOBGJTBYH2AAFXHV&q=oneplus+nord&store=tyy%2F4io&srno=s_1_17&otracker=search&otracker1=search&fm=search-autosuggest&iid=41702d55-ea55-4a2d-a95b-aff8471816a1.MOBGJTBYH2AAFXHV.SEARCH&ppt=hp&ppn=homepage&ssid=5okarccl9s0000001669227740157&qH=e8b736bf4fa84421\n",
      "https://www.flipkart.com/oneplus-nord-gray-onyx-256-gb/p/itm49f817b591982?pid=MOBFUE5GGWHFC37J&lid=LSTMOBFUE5GGWHFC37JNXZLYZ&marketplace=FLIPKART&q=oneplus+nord&store=tyy%2F4io&srno=s_1_18&otracker=search&otracker1=search&fm=search-autosuggest&iid=41702d55-ea55-4a2d-a95b-aff8471816a1.MOBFUE5GGWHFC37J.SEARCH&ppt=hp&ppn=homepage&ssid=5okarccl9s0000001669227740157&qH=e8b736bf4fa84421\n",
      "https://www.flipkart.com/oneplus-nord-gray-onyx-64-gb/p/itm49f817b591982?pid=MOBFUE5H57THFNVJ&lid=LSTMOBFUE5H57THFNVJSYCAHJ&marketplace=FLIPKART&q=oneplus+nord&store=tyy%2F4io&srno=s_1_19&otracker=search&otracker1=search&fm=search-autosuggest&iid=41702d55-ea55-4a2d-a95b-aff8471816a1.MOBFUE5H57THFNVJ.SEARCH&ppt=hp&ppn=homepage&ssid=5okarccl9s0000001669227740157&qH=e8b736bf4fa84421\n",
      "https://www.flipkart.com/oneplus-nord-blue-marble-256-gb/p/itm49f817b591982?pid=MOBFUE5HUU5ZYGRY&lid=LSTMOBFUE5HUU5ZYGRY4ZWZZN&marketplace=FLIPKART&q=oneplus+nord&store=tyy%2F4io&srno=s_1_20&otracker=search&otracker1=search&fm=search-autosuggest&iid=41702d55-ea55-4a2d-a95b-aff8471816a1.MOBFUE5HUU5ZYGRY.SEARCH&ppt=hp&ppn=homepage&ssid=5okarccl9s0000001669227740157&qH=e8b736bf4fa84421\n",
      "https://www.flipkart.com/oneplus-nord-gray-onyx-128-gb/p/itm49f817b591982?pid=MOBFUE5HW4XUUGBN&lid=LSTMOBFUE5HW4XUUGBNMZB8TR&marketplace=FLIPKART&q=oneplus+nord&store=tyy%2F4io&srno=s_1_21&otracker=search&otracker1=search&fm=search-autosuggest&iid=41702d55-ea55-4a2d-a95b-aff8471816a1.MOBFUE5HW4XUUGBN.SEARCH&ppt=hp&ppn=homepage&ssid=5okarccl9s0000001669227740157&qH=e8b736bf4fa84421\n",
      "https://www.flipkart.com/oneplus-nord-blue-marble-128-gb/p/itm49f817b591982?pid=MOBFUE5JWYDZX6HX&lid=LSTMOBFUE5JWYDZX6HXJZSHIV&marketplace=FLIPKART&q=oneplus+nord&store=tyy%2F4io&srno=s_1_22&otracker=search&otracker1=search&fm=search-autosuggest&iid=41702d55-ea55-4a2d-a95b-aff8471816a1.MOBFUE5JWYDZX6HX.SEARCH&ppt=hp&ppn=homepage&ssid=5okarccl9s0000001669227740157&qH=e8b736bf4fa84421\n",
      "https://www.flipkart.com/oneplus-nord-blue-marble-64-gb/p/itm49f817b591982?pid=MOBFUE5N7KAGZHHC&lid=LSTMOBFUE5N7KAGZHHC6NVUQL&marketplace=FLIPKART&q=oneplus+nord&store=tyy%2F4io&srno=s_1_23&otracker=search&otracker1=search&fm=search-autosuggest&iid=41702d55-ea55-4a2d-a95b-aff8471816a1.MOBFUE5N7KAGZHHC.SEARCH&ppt=hp&ppn=homepage&ssid=5okarccl9s0000001669227740157&qH=e8b736bf4fa84421\n"
     ]
    },
    {
     "data": {
      "text/plain": [
       "[<selenium.webdriver.remote.webelement.WebElement (session=\"c040ac22f8bfce26a75d790059a49ae0\", element=\"d65582d0-9d58-4bbe-9f52-680e4979c52c\")>,\n",
       " <selenium.webdriver.remote.webelement.WebElement (session=\"c040ac22f8bfce26a75d790059a49ae0\", element=\"e94fa610-4550-452f-be62-bc3e7627b810\")>,\n",
       " <selenium.webdriver.remote.webelement.WebElement (session=\"c040ac22f8bfce26a75d790059a49ae0\", element=\"2881f54c-e880-4119-ab03-deee8980c4a5\")>,\n",
       " <selenium.webdriver.remote.webelement.WebElement (session=\"c040ac22f8bfce26a75d790059a49ae0\", element=\"13ae258e-423a-4832-8d42-8b36e0168271\")>,\n",
       " <selenium.webdriver.remote.webelement.WebElement (session=\"c040ac22f8bfce26a75d790059a49ae0\", element=\"830c563c-d048-4767-80a0-6f2e2b354a59\")>,\n",
       " <selenium.webdriver.remote.webelement.WebElement (session=\"c040ac22f8bfce26a75d790059a49ae0\", element=\"6f37f055-7109-4ec5-899f-d1cab7c73b56\")>,\n",
       " <selenium.webdriver.remote.webelement.WebElement (session=\"c040ac22f8bfce26a75d790059a49ae0\", element=\"b3ff3144-f88f-4055-9839-d6bb2e2a13b2\")>,\n",
       " <selenium.webdriver.remote.webelement.WebElement (session=\"c040ac22f8bfce26a75d790059a49ae0\", element=\"9b0bd5cb-0c11-40d2-afc4-b7205b67290c\")>,\n",
       " <selenium.webdriver.remote.webelement.WebElement (session=\"c040ac22f8bfce26a75d790059a49ae0\", element=\"3c55b803-5666-4b5b-92b1-a941ca228cd4\")>,\n",
       " <selenium.webdriver.remote.webelement.WebElement (session=\"c040ac22f8bfce26a75d790059a49ae0\", element=\"3de3efd3-24f4-4d8c-b126-2cf63f2cffc4\")>,\n",
       " <selenium.webdriver.remote.webelement.WebElement (session=\"c040ac22f8bfce26a75d790059a49ae0\", element=\"a946cc92-99be-4a07-9572-dfabf4ea18d8\")>,\n",
       " <selenium.webdriver.remote.webelement.WebElement (session=\"c040ac22f8bfce26a75d790059a49ae0\", element=\"6523c19b-fdd0-47ff-b39f-fbdabfab793d\")>,\n",
       " <selenium.webdriver.remote.webelement.WebElement (session=\"c040ac22f8bfce26a75d790059a49ae0\", element=\"86d92168-31f4-436d-bd58-baaf9feaf53f\")>,\n",
       " <selenium.webdriver.remote.webelement.WebElement (session=\"c040ac22f8bfce26a75d790059a49ae0\", element=\"8af61a51-fd22-4bcb-b4db-6f70c3b40c81\")>,\n",
       " <selenium.webdriver.remote.webelement.WebElement (session=\"c040ac22f8bfce26a75d790059a49ae0\", element=\"770570d6-7259-486e-aadf-c26aa6e4c38e\")>,\n",
       " <selenium.webdriver.remote.webelement.WebElement (session=\"c040ac22f8bfce26a75d790059a49ae0\", element=\"30334f1a-4603-4cfd-8d31-1d58429b77aa\")>,\n",
       " <selenium.webdriver.remote.webelement.WebElement (session=\"c040ac22f8bfce26a75d790059a49ae0\", element=\"afa2a3a2-0833-4a56-916d-44f9ff47aef2\")>,\n",
       " <selenium.webdriver.remote.webelement.WebElement (session=\"c040ac22f8bfce26a75d790059a49ae0\", element=\"9d7668b1-f4b5-4f07-baec-336d035d246f\")>,\n",
       " <selenium.webdriver.remote.webelement.WebElement (session=\"c040ac22f8bfce26a75d790059a49ae0\", element=\"d92425fb-92ac-4b30-9fdc-d900d5faa283\")>,\n",
       " <selenium.webdriver.remote.webelement.WebElement (session=\"c040ac22f8bfce26a75d790059a49ae0\", element=\"72122832-ec35-4aa6-a20c-37977a4f5494\")>,\n",
       " <selenium.webdriver.remote.webelement.WebElement (session=\"c040ac22f8bfce26a75d790059a49ae0\", element=\"dc3f213c-208a-4f15-b426-685e805b3788\")>,\n",
       " <selenium.webdriver.remote.webelement.WebElement (session=\"c040ac22f8bfce26a75d790059a49ae0\", element=\"65ec4627-8644-4907-a118-cb951270d98b\")>,\n",
       " <selenium.webdriver.remote.webelement.WebElement (session=\"c040ac22f8bfce26a75d790059a49ae0\", element=\"b56ccbd2-0ff9-4415-97e6-40fab0492f3e\")>,\n",
       " <selenium.webdriver.remote.webelement.WebElement (session=\"c040ac22f8bfce26a75d790059a49ae0\", element=\"4e9f9c4a-7826-403b-87eb-29a5e820e565\")>]"
      ]
     },
     "execution_count": 197,
     "metadata": {},
     "output_type": "execute_result"
    }
   ],
   "source": [
    "url=driver.find_elements(By.XPATH,'//a[@class=\"_1fQZEK\"]')\n",
    "for i in url[1:23]:\n",
    "    print(i.get_attribute('href'))\n",
    "url"
   ]
  },
  {
   "cell_type": "code",
   "execution_count": 198,
   "id": "589cf2d2",
   "metadata": {},
   "outputs": [
    {
     "data": {
      "text/plain": [
       "24"
      ]
     },
     "execution_count": 198,
     "metadata": {},
     "output_type": "execute_result"
    }
   ],
   "source": [
    "len(url)"
   ]
  },
  {
   "cell_type": "code",
   "execution_count": 200,
   "id": "21df912e",
   "metadata": {},
   "outputs": [],
   "source": [
    "import pandas as pd"
   ]
  },
  {
   "cell_type": "code",
   "execution_count": 201,
   "id": "a55bd7e1",
   "metadata": {},
   "outputs": [
    {
     "data": {
      "text/html": [
       "<div>\n",
       "<style scoped>\n",
       "    .dataframe tbody tr th:only-of-type {\n",
       "        vertical-align: middle;\n",
       "    }\n",
       "\n",
       "    .dataframe tbody tr th {\n",
       "        vertical-align: top;\n",
       "    }\n",
       "\n",
       "    .dataframe thead th {\n",
       "        text-align: right;\n",
       "    }\n",
       "</style>\n",
       "<table border=\"1\" class=\"dataframe\">\n",
       "  <thead>\n",
       "    <tr style=\"text-align: right;\">\n",
       "      <th></th>\n",
       "      <th>brandname</th>\n",
       "      <th>RAM</th>\n",
       "      <th>ROM</th>\n",
       "      <th>Camera</th>\n",
       "      <th>Display size</th>\n",
       "      <th>Battery</th>\n",
       "      <th>Price</th>\n",
       "    </tr>\n",
       "  </thead>\n",
       "  <tbody>\n",
       "    <tr>\n",
       "      <th>0</th>\n",
       "      <td>OnePlus Nord CE 2 Lite 5G (Blue Tide, 128 GB)</td>\n",
       "      <td>6 GB RAM</td>\n",
       "      <td>128 GB ROM</td>\n",
       "      <td>play\\n64MP Rear Camera</td>\n",
       "      <td>16.74 cm (6.59 inch) HD+ Displ</td>\n",
       "      <td>64MP Rear Camera | 16MP Front Camera\\n5000 mAh...</td>\n",
       "      <td>₹19,990</td>\n",
       "    </tr>\n",
       "    <tr>\n",
       "      <th>1</th>\n",
       "      <td>OnePlus Nord CE 2 Lite 5G (Blue Tide, 128 GB)</td>\n",
       "      <td>6 GB RAM</td>\n",
       "      <td>128 GB ROM</td>\n",
       "      <td>\\n64MP Rear Camera\\n5000</td>\n",
       "      <td>16.74 cm (6.59 inch) Display\\n6</td>\n",
       "      <td>Rear Camera\\n5000 mAh Battery\\n12 Months</td>\n",
       "      <td>₹19,759</td>\n",
       "    </tr>\n",
       "    <tr>\n",
       "      <th>2</th>\n",
       "      <td>OnePlus Nord CE 2 Lite 5G (Black Dusk, 128 GB)</td>\n",
       "      <td>6 GB RAM</td>\n",
       "      <td>128 GB ROM</td>\n",
       "      <td>\\n64MP Rear Camera\\n5000</td>\n",
       "      <td>16.74 cm (6.59 inch) Display\\n6</td>\n",
       "      <td>Rear Camera\\n5000 mAh Battery\\n12 months</td>\n",
       "      <td>₹19,981</td>\n",
       "    </tr>\n",
       "    <tr>\n",
       "      <th>3</th>\n",
       "      <td>OnePlus Nord 2T 5G (Gray Shadow, 256 GB)</td>\n",
       "      <td>12 GB RAM</td>\n",
       "      <td>| 256 GB RO</td>\n",
       "      <td>\\n50MP Rear Camera\\n4500</td>\n",
       "      <td>\\n17.02 cm (6.7 inch) Display\\n5</td>\n",
       "      <td>Rear Camera\\n4500 mAh Battery\\n12 Month</td>\n",
       "      <td>₹33,900</td>\n",
       "    </tr>\n",
       "    <tr>\n",
       "      <th>4</th>\n",
       "      <td>OnePlus Nord 2T 5G (Jade Fog, 128 GB)</td>\n",
       "      <td>8 GB RAM</td>\n",
       "      <td>128 GB ROM</td>\n",
       "      <td>50MP Rear Camera\\n4500</td>\n",
       "      <td>17.02 cm (6.7 inch) Display\\n50</td>\n",
       "      <td>Rear Camera\\n4500 mAh Battery\\n12 months Warranty</td>\n",
       "      <td>₹28,849</td>\n",
       "    </tr>\n",
       "    <tr>\n",
       "      <th>5</th>\n",
       "      <td>OnePlus Nord N20 SE (Blue Oasis, 64 MB)</td>\n",
       "      <td>4 MB RAM</td>\n",
       "      <td>64 MB ROM\\n</td>\n",
       "      <td>50MP Rear Camera\\n5000</td>\n",
       "      <td>6.66 cm (6.56 inch) Display\\n50</td>\n",
       "      <td>Rear Camera\\n5000 mAh Battery\\nNA</td>\n",
       "      <td>₹14,499</td>\n",
       "    </tr>\n",
       "    <tr>\n",
       "      <th>6</th>\n",
       "      <td>OnePlus Nord CE 2 Lite 5G (Blue Tide, 128 GB)</td>\n",
       "      <td>6 GB RAM</td>\n",
       "      <td>128 GB ROM</td>\n",
       "      <td>\\n64MP Rear Camera\\n5000</td>\n",
       "      <td>16.74 cm (6.59 inch) Display\\n6</td>\n",
       "      <td>Rear Camera\\n5000 mAh Battery\\n1 Year Brand W...</td>\n",
       "      <td>₹19,488</td>\n",
       "    </tr>\n",
       "    <tr>\n",
       "      <th>7</th>\n",
       "      <td>OnePlus Nord CE 2 Lite 5G (Blue Tide, 128 GB)</td>\n",
       "      <td>6 GB RAM</td>\n",
       "      <td>128 GB ROM</td>\n",
       "      <td>\\n64MP Rear Camera\\n5000</td>\n",
       "      <td>16.74 cm (6.59 inch) Display\\n6</td>\n",
       "      <td>Rear Camera\\n5000 mAh Battery\\n1 Year Brand W...</td>\n",
       "      <td>₹19,540</td>\n",
       "    </tr>\n",
       "    <tr>\n",
       "      <th>8</th>\n",
       "      <td>OnePlus Nord CE 2 Lite 5G (Black Dusk, 128 GB)</td>\n",
       "      <td>6 GB RAM</td>\n",
       "      <td>128 GB ROM</td>\n",
       "      <td>\\n64MP Rear Camera\\n5000</td>\n",
       "      <td>16.74 cm (6.59 inch) Display\\n6</td>\n",
       "      <td>Rear Camera\\n5000 mAh Battery\\n1 Year Brand W...</td>\n",
       "      <td>₹19,989</td>\n",
       "    </tr>\n",
       "    <tr>\n",
       "      <th>9</th>\n",
       "      <td>OnePlus Nord N20 SE (Blue Oasis, 64 GB)</td>\n",
       "      <td>4 GB RAM</td>\n",
       "      <td>64 GB ROM\\n</td>\n",
       "      <td>50MP Rear Camera\\n5000</td>\n",
       "      <td>6.66 cm (6.56 inch) Display\\n50</td>\n",
       "      <td>Rear Camera\\n5000 mAh Battery\\nBrand Warranty ...</td>\n",
       "      <td>₹14,890</td>\n",
       "    </tr>\n",
       "    <tr>\n",
       "      <th>10</th>\n",
       "      <td>OnePlus Nord 2T 5G (Jade Fog, 128 GB)</td>\n",
       "      <td>8 GB RAM</td>\n",
       "      <td>128 GB ROM</td>\n",
       "      <td>50MP Rear Camera\\n4500</td>\n",
       "      <td>17.02 cm (6.7 inch) Display\\n50</td>\n",
       "      <td>Rear Camera\\n4500 mAh Battery\\n12 Month</td>\n",
       "      <td>₹28,999</td>\n",
       "    </tr>\n",
       "    <tr>\n",
       "      <th>11</th>\n",
       "      <td>OnePlus Nord 2T 5G (Jade Fog, 256 GB)</td>\n",
       "      <td>12 GB RAM</td>\n",
       "      <td>| 256 GB RO</td>\n",
       "      <td>\\n50MP Rear Camera\\n4500</td>\n",
       "      <td>\\n17.02 cm (6.7 inch) Display\\n5</td>\n",
       "      <td>Rear Camera\\n4500 mAh Battery\\n12 Month</td>\n",
       "      <td>₹33,900</td>\n",
       "    </tr>\n",
       "    <tr>\n",
       "      <th>12</th>\n",
       "      <td>OnePlus Nord 2T 5G (Jade Fog, 256 GB)</td>\n",
       "      <td>12 GB RAM</td>\n",
       "      <td>| 256 GB RO</td>\n",
       "      <td>\\n50MP Rear Camera\\n4500</td>\n",
       "      <td>\\n17.02 cm (6.7 inch) Display\\n5</td>\n",
       "      <td>Rear Camera\\n4500 mAh Battery\\n1 Year Manufac...</td>\n",
       "      <td>₹33,999</td>\n",
       "    </tr>\n",
       "    <tr>\n",
       "      <th>13</th>\n",
       "      <td>OnePlus Nord 2T 5G (Gray Shadow, 256 GB)</td>\n",
       "      <td>12 GB RAM</td>\n",
       "      <td>| 256 GB RO</td>\n",
       "      <td>y\\n50MP Rear Camera\\n450</td>\n",
       "      <td>\\n16.94 cm (6.67 inch) Display\\n</td>\n",
       "      <td>P Rear Camera\\n4500 mAh Battery\\n1 Year Manufa...</td>\n",
       "      <td>₹33,869</td>\n",
       "    </tr>\n",
       "    <tr>\n",
       "      <th>14</th>\n",
       "      <td>OnePlus Nord 2T 5G (Gray Shadow, 128 GB)</td>\n",
       "      <td>8 GB RAM</td>\n",
       "      <td>128 GB ROM</td>\n",
       "      <td>50MP Rear Camera\\n4500</td>\n",
       "      <td>17.02 cm (6.7 inch) Display\\n50</td>\n",
       "      <td>Rear Camera\\n4500 mAh Battery\\n12 months Warranty</td>\n",
       "      <td>₹28,990</td>\n",
       "    </tr>\n",
       "    <tr>\n",
       "      <th>15</th>\n",
       "      <td>OnePlus Nord CE2 Lite 5G (Blue Tide, 128 GB)</td>\n",
       "      <td>8 GB RAM</td>\n",
       "      <td>128 GB ROM</td>\n",
       "      <td>\\n64MP Rear Camera\\n5000</td>\n",
       "      <td>16.74 cm (6.59 inch) Display\\n6</td>\n",
       "      <td>Rear Camera\\n5000 mAh Battery\\n1 Year Manufac...</td>\n",
       "      <td>₹21,999</td>\n",
       "    </tr>\n",
       "    <tr>\n",
       "      <th>16</th>\n",
       "      <td>OnePlus Nord N20 SE (Celestial Black, 64 GB)</td>\n",
       "      <td>4 GB RAM</td>\n",
       "      <td>64 GB ROM\\n</td>\n",
       "      <td>50MP Rear Camera\\n5000</td>\n",
       "      <td>6.66 cm (6.56 inch) Display\\n50</td>\n",
       "      <td>Rear Camera\\n5000 mAh Battery\\nNA</td>\n",
       "      <td>₹29,999</td>\n",
       "    </tr>\n",
       "    <tr>\n",
       "      <th>17</th>\n",
       "      <td>OnePlus Nord (Gray Onyx, 256 GB)</td>\n",
       "      <td>12 GB RAM</td>\n",
       "      <td>| 256 GB RO</td>\n",
       "      <td>D+ Display\\n48MP + 8MP</td>\n",
       "      <td>\\n16.36 cm (6.44 inch) Full HD+</td>\n",
       "      <td>splay\\n48MP + 8MP | 32MP + 8MP Dual Front Came...</td>\n",
       "      <td>₹24,999</td>\n",
       "    </tr>\n",
       "    <tr>\n",
       "      <th>18</th>\n",
       "      <td>OnePlus Nord (Gray Onyx, 64 GB)</td>\n",
       "      <td>6 GB RAM</td>\n",
       "      <td>64 GB ROM\\n</td>\n",
       "      <td>Display\\n48MP + 8MP |</td>\n",
       "      <td>6.36 cm (6.44 inch) Full HD+ D</td>\n",
       "      <td>lay\\n48MP + 8MP | 32MP + 8MP Dual Front Camera...</td>\n",
       "      <td>₹29,999</td>\n",
       "    </tr>\n",
       "    <tr>\n",
       "      <th>19</th>\n",
       "      <td>OnePlus Nord (Blue Marble, 256 GB)</td>\n",
       "      <td>12 GB RAM</td>\n",
       "      <td>| 256 GB RO</td>\n",
       "      <td>D+ Display\\n48MP + 8MP</td>\n",
       "      <td>\\n16.36 cm (6.44 inch) Full HD+</td>\n",
       "      <td>splay\\n48MP + 8MP | 32MP + 8MP Dual Front Came...</td>\n",
       "      <td>₹27,999</td>\n",
       "    </tr>\n",
       "    <tr>\n",
       "      <th>20</th>\n",
       "      <td>OnePlus Nord (Gray Onyx, 128 GB)</td>\n",
       "      <td>8 GB RAM</td>\n",
       "      <td>128 GB ROM</td>\n",
       "      <td>+ Display\\n48MP + 8MP |</td>\n",
       "      <td>16.36 cm (6.44 inch) Full HD+</td>\n",
       "      <td>play\\n48MP + 8MP | 32MP + 8MP Dual Front Camer...</td>\n",
       "      <td>₹27,999</td>\n",
       "    </tr>\n",
       "    <tr>\n",
       "      <th>21</th>\n",
       "      <td>OnePlus Nord (Blue Marble, 128 GB)</td>\n",
       "      <td>8 GB RAM</td>\n",
       "      <td>128 GB ROM</td>\n",
       "      <td>+ Display\\n48MP + 8MP |</td>\n",
       "      <td>16.36 cm (6.44 inch) Full HD+</td>\n",
       "      <td>play\\n48MP + 8MP | 32MP + 8MP Dual Front Camer...</td>\n",
       "      <td>₹24,999</td>\n",
       "    </tr>\n",
       "    <tr>\n",
       "      <th>22</th>\n",
       "      <td>OnePlus Nord (Blue Marble, 64 GB)</td>\n",
       "      <td>6 GB RAM</td>\n",
       "      <td>64 GB ROM\\n</td>\n",
       "      <td>Display\\n48MP + 8MP |</td>\n",
       "      <td>6.36 cm (6.44 inch) Full HD+ D</td>\n",
       "      <td>lay\\n48MP + 8MP | 32MP + 8MP Dual Front Camera...</td>\n",
       "      <td>₹19,975</td>\n",
       "    </tr>\n",
       "  </tbody>\n",
       "</table>\n",
       "</div>"
      ],
      "text/plain": [
       "                                         brandname        RAM           ROM  \\\n",
       "0    OnePlus Nord CE 2 Lite 5G (Blue Tide, 128 GB)  6 GB RAM     128 GB ROM   \n",
       "1    OnePlus Nord CE 2 Lite 5G (Blue Tide, 128 GB)  6 GB RAM     128 GB ROM   \n",
       "2   OnePlus Nord CE 2 Lite 5G (Black Dusk, 128 GB)  6 GB RAM     128 GB ROM   \n",
       "3         OnePlus Nord 2T 5G (Gray Shadow, 256 GB)  12 GB RAM   | 256 GB RO   \n",
       "4            OnePlus Nord 2T 5G (Jade Fog, 128 GB)  8 GB RAM     128 GB ROM   \n",
       "5          OnePlus Nord N20 SE (Blue Oasis, 64 MB)  4 MB RAM    64 MB ROM\\n   \n",
       "6    OnePlus Nord CE 2 Lite 5G (Blue Tide, 128 GB)  6 GB RAM     128 GB ROM   \n",
       "7    OnePlus Nord CE 2 Lite 5G (Blue Tide, 128 GB)  6 GB RAM     128 GB ROM   \n",
       "8   OnePlus Nord CE 2 Lite 5G (Black Dusk, 128 GB)  6 GB RAM     128 GB ROM   \n",
       "9          OnePlus Nord N20 SE (Blue Oasis, 64 GB)  4 GB RAM    64 GB ROM\\n   \n",
       "10           OnePlus Nord 2T 5G (Jade Fog, 128 GB)  8 GB RAM     128 GB ROM   \n",
       "11           OnePlus Nord 2T 5G (Jade Fog, 256 GB)  12 GB RAM   | 256 GB RO   \n",
       "12           OnePlus Nord 2T 5G (Jade Fog, 256 GB)  12 GB RAM   | 256 GB RO   \n",
       "13        OnePlus Nord 2T 5G (Gray Shadow, 256 GB)  12 GB RAM   | 256 GB RO   \n",
       "14        OnePlus Nord 2T 5G (Gray Shadow, 128 GB)  8 GB RAM     128 GB ROM   \n",
       "15    OnePlus Nord CE2 Lite 5G (Blue Tide, 128 GB)  8 GB RAM     128 GB ROM   \n",
       "16    OnePlus Nord N20 SE (Celestial Black, 64 GB)  4 GB RAM    64 GB ROM\\n   \n",
       "17                OnePlus Nord (Gray Onyx, 256 GB)  12 GB RAM   | 256 GB RO   \n",
       "18                 OnePlus Nord (Gray Onyx, 64 GB)  6 GB RAM    64 GB ROM\\n   \n",
       "19              OnePlus Nord (Blue Marble, 256 GB)  12 GB RAM   | 256 GB RO   \n",
       "20                OnePlus Nord (Gray Onyx, 128 GB)  8 GB RAM     128 GB ROM   \n",
       "21              OnePlus Nord (Blue Marble, 128 GB)  8 GB RAM     128 GB ROM   \n",
       "22               OnePlus Nord (Blue Marble, 64 GB)  6 GB RAM    64 GB ROM\\n   \n",
       "\n",
       "                      Camera                      Display size  \\\n",
       "0    play\\n64MP Rear Camera     16.74 cm (6.59 inch) HD+ Displ   \n",
       "1   \\n64MP Rear Camera\\n5000   16.74 cm (6.59 inch) Display\\n6   \n",
       "2   \\n64MP Rear Camera\\n5000   16.74 cm (6.59 inch) Display\\n6   \n",
       "3   \\n50MP Rear Camera\\n4500  \\n17.02 cm (6.7 inch) Display\\n5   \n",
       "4    50MP Rear Camera\\n4500    17.02 cm (6.7 inch) Display\\n50   \n",
       "5    50MP Rear Camera\\n5000    6.66 cm (6.56 inch) Display\\n50   \n",
       "6   \\n64MP Rear Camera\\n5000   16.74 cm (6.59 inch) Display\\n6   \n",
       "7   \\n64MP Rear Camera\\n5000   16.74 cm (6.59 inch) Display\\n6   \n",
       "8   \\n64MP Rear Camera\\n5000   16.74 cm (6.59 inch) Display\\n6   \n",
       "9    50MP Rear Camera\\n5000    6.66 cm (6.56 inch) Display\\n50   \n",
       "10   50MP Rear Camera\\n4500    17.02 cm (6.7 inch) Display\\n50   \n",
       "11  \\n50MP Rear Camera\\n4500  \\n17.02 cm (6.7 inch) Display\\n5   \n",
       "12  \\n50MP Rear Camera\\n4500  \\n17.02 cm (6.7 inch) Display\\n5   \n",
       "13  y\\n50MP Rear Camera\\n450  \\n16.94 cm (6.67 inch) Display\\n   \n",
       "14   50MP Rear Camera\\n4500    17.02 cm (6.7 inch) Display\\n50   \n",
       "15  \\n64MP Rear Camera\\n5000   16.74 cm (6.59 inch) Display\\n6   \n",
       "16   50MP Rear Camera\\n5000    6.66 cm (6.56 inch) Display\\n50   \n",
       "17   D+ Display\\n48MP + 8MP    \\n16.36 cm (6.44 inch) Full HD+   \n",
       "18    Display\\n48MP + 8MP |     6.36 cm (6.44 inch) Full HD+ D   \n",
       "19   D+ Display\\n48MP + 8MP    \\n16.36 cm (6.44 inch) Full HD+   \n",
       "20   + Display\\n48MP + 8MP |    16.36 cm (6.44 inch) Full HD+    \n",
       "21   + Display\\n48MP + 8MP |    16.36 cm (6.44 inch) Full HD+    \n",
       "22    Display\\n48MP + 8MP |     6.36 cm (6.44 inch) Full HD+ D   \n",
       "\n",
       "                                              Battery    Price  \n",
       "0   64MP Rear Camera | 16MP Front Camera\\n5000 mAh...  ₹19,990  \n",
       "1            Rear Camera\\n5000 mAh Battery\\n12 Months  ₹19,759  \n",
       "2            Rear Camera\\n5000 mAh Battery\\n12 months  ₹19,981  \n",
       "3             Rear Camera\\n4500 mAh Battery\\n12 Month  ₹33,900  \n",
       "4   Rear Camera\\n4500 mAh Battery\\n12 months Warranty  ₹28,849  \n",
       "5                   Rear Camera\\n5000 mAh Battery\\nNA  ₹14,499  \n",
       "6    Rear Camera\\n5000 mAh Battery\\n1 Year Brand W...  ₹19,488  \n",
       "7    Rear Camera\\n5000 mAh Battery\\n1 Year Brand W...  ₹19,540  \n",
       "8    Rear Camera\\n5000 mAh Battery\\n1 Year Brand W...  ₹19,989  \n",
       "9   Rear Camera\\n5000 mAh Battery\\nBrand Warranty ...  ₹14,890  \n",
       "10            Rear Camera\\n4500 mAh Battery\\n12 Month  ₹28,999  \n",
       "11            Rear Camera\\n4500 mAh Battery\\n12 Month  ₹33,900  \n",
       "12   Rear Camera\\n4500 mAh Battery\\n1 Year Manufac...  ₹33,999  \n",
       "13  P Rear Camera\\n4500 mAh Battery\\n1 Year Manufa...  ₹33,869  \n",
       "14  Rear Camera\\n4500 mAh Battery\\n12 months Warranty  ₹28,990  \n",
       "15   Rear Camera\\n5000 mAh Battery\\n1 Year Manufac...  ₹21,999  \n",
       "16                  Rear Camera\\n5000 mAh Battery\\nNA  ₹29,999  \n",
       "17  splay\\n48MP + 8MP | 32MP + 8MP Dual Front Came...  ₹24,999  \n",
       "18  lay\\n48MP + 8MP | 32MP + 8MP Dual Front Camera...  ₹29,999  \n",
       "19  splay\\n48MP + 8MP | 32MP + 8MP Dual Front Came...  ₹27,999  \n",
       "20  play\\n48MP + 8MP | 32MP + 8MP Dual Front Camer...  ₹27,999  \n",
       "21  play\\n48MP + 8MP | 32MP + 8MP Dual Front Camer...  ₹24,999  \n",
       "22  lay\\n48MP + 8MP | 32MP + 8MP Dual Front Camera...  ₹19,975  "
      ]
     },
     "execution_count": 201,
     "metadata": {},
     "output_type": "execute_result"
    }
   ],
   "source": [
    "# creating dataframe\n",
    "mobile=pd.DataFrame()\n",
    "mobile['brandname']=brand\n",
    "mobile['RAM']=ram\n",
    "mobile['ROM']=rom\n",
    "mobile['Camera']=camera\n",
    "mobile['Display size']=display\n",
    "mobile['Battery']=battery\n",
    "mobile['Price']=price\n",
    "mobile"
   ]
  },
  {
   "cell_type": "code",
   "execution_count": 202,
   "id": "7718d2b4",
   "metadata": {},
   "outputs": [],
   "source": [
    "import csv"
   ]
  },
  {
   "cell_type": "code",
   "execution_count": 203,
   "id": "640cc06e",
   "metadata": {},
   "outputs": [],
   "source": [
    "mobile.to_csv('table.csv')"
   ]
  },
  {
   "cell_type": "code",
   "execution_count": 204,
   "id": "74eeb0bb",
   "metadata": {},
   "outputs": [],
   "source": [
    "driver.close()"
   ]
  },
  {
   "cell_type": "code",
   "execution_count": 205,
   "id": "db9a2731",
   "metadata": {},
   "outputs": [],
   "source": [
    "#Q4 done\n"
   ]
  },
  {
   "cell_type": "code",
   "execution_count": 2,
   "id": "70859d2a",
   "metadata": {},
   "outputs": [
    {
     "data": {
      "text/plain": [
       "<selenium.webdriver.chrome.webdriver.WebDriver (session=\"8af532224ed48ca3c4f19bdcd990fe50\")>"
      ]
     },
     "execution_count": 2,
     "metadata": {},
     "output_type": "execute_result"
    }
   ],
   "source": [
    "driver=webdriver.Chrome(r\"C:\\Users\\hp\\Downloads\\chromedriver_win32\\chromedriver.exe\")\n",
    "driver"
   ]
  },
  {
   "cell_type": "code",
   "execution_count": 3,
   "id": "85f41463",
   "metadata": {},
   "outputs": [],
   "source": [
    "# lets maximize the window\n",
    "driver.maximize_window()"
   ]
  },
  {
   "cell_type": "code",
   "execution_count": 5,
   "id": "dd51aec6",
   "metadata": {},
   "outputs": [],
   "source": [
    "#q5"
   ]
  },
  {
   "cell_type": "code",
   "execution_count": 4,
   "id": "1eecd2fa",
   "metadata": {},
   "outputs": [],
   "source": [
    "# lets open the url\n",
    "url='https://www.googlemaps.com'\n",
    "driver.get(url)"
   ]
  },
  {
   "cell_type": "code",
   "execution_count": 7,
   "id": "3822b723",
   "metadata": {},
   "outputs": [],
   "source": [
    "# searching for a place\n",
    "search=driver.find_element(By.ID,'searchboxinput')\n",
    "search.send_keys(\"22.73214497922652, 75.85628377742013\")"
   ]
  },
  {
   "cell_type": "code",
   "execution_count": 8,
   "id": "466a4b84",
   "metadata": {},
   "outputs": [],
   "source": [
    "# clicking on search button\n",
    "srch_btn=driver.find_element(By.CLASS_NAME,'mL3xi')\n",
    "srch_btn.click()"
   ]
  },
  {
   "cell_type": "code",
   "execution_count": 17,
   "id": "1bcae492",
   "metadata": {},
   "outputs": [
    {
     "data": {
      "text/plain": [
       "[' latitude and longitude coordinates of indore22.73214497922652, 75.85628377742013']"
      ]
     },
     "execution_count": 17,
     "metadata": {},
     "output_type": "execute_result"
    }
   ],
   "source": [
    "lat_long=[]\n",
    "ll_tag=driver.find_elements(By.XPATH,'//div[@class=\"Q2vNVc\"]')\n",
    "for i in ll_tag:\n",
    "    lat_long.append(i.text[22:])\n",
    "lat_long"
   ]
  },
  {
   "cell_type": "code",
   "execution_count": 18,
   "id": "400fdef9",
   "metadata": {},
   "outputs": [],
   "source": [
    "#Q5 done"
   ]
  },
  {
   "cell_type": "code",
   "execution_count": 19,
   "id": "237c5399",
   "metadata": {},
   "outputs": [],
   "source": [
    "#lets close browser\n",
    "driver.close()"
   ]
  },
  {
   "cell_type": "code",
   "execution_count": 2,
   "id": "659c79b3",
   "metadata": {},
   "outputs": [
    {
     "data": {
      "text/plain": [
       "<selenium.webdriver.chrome.webdriver.WebDriver (session=\"c7a20ff0efe19388652c7f0c27d8de97\")>"
      ]
     },
     "execution_count": 2,
     "metadata": {},
     "output_type": "execute_result"
    }
   ],
   "source": [
    "#q6\n",
    "driver=webdriver.Chrome(r\"C:\\Users\\hp\\Downloads\\chromedriver_win32\\chromedriver.exe\")\n",
    "driver\n"
   ]
  },
  {
   "cell_type": "code",
   "execution_count": 3,
   "id": "4de11eb2",
   "metadata": {},
   "outputs": [],
   "source": [
    "# lets maximize the window\n",
    "driver.maximize_window()"
   ]
  },
  {
   "cell_type": "code",
   "execution_count": 4,
   "id": "1dc9c56f",
   "metadata": {},
   "outputs": [],
   "source": [
    "url='https://www.trak.in/'\n",
    "driver.get(url)"
   ]
  },
  {
   "cell_type": "code",
   "execution_count": 15,
   "id": "5a3fa7f5",
   "metadata": {},
   "outputs": [],
   "source": [
    "\n",
    "fee_tags=driver.find_element(By.CLASS_NAME,'search-handler')\n",
    "fee_tags.click()\n",
    "\n",
    "    "
   ]
  },
  {
   "cell_type": "code",
   "execution_count": null,
   "id": "284ada97",
   "metadata": {},
   "outputs": [],
   "source": []
  },
  {
   "cell_type": "code",
   "execution_count": 39,
   "id": "5044cc58",
   "metadata": {},
   "outputs": [],
   "source": [
    "date=[]\n",
    "date_tags=driver.find_elements(By.XPATH,'//td[@class=\"column-2\"]')\n",
    "for i in date_tags[5:29]:\n",
    "    date.append(i.text)\n"
   ]
  },
  {
   "cell_type": "code",
   "execution_count": 40,
   "id": "c0f50c8a",
   "metadata": {},
   "outputs": [
    {
     "data": {
      "text/plain": [
       "24"
      ]
     },
     "execution_count": 40,
     "metadata": {},
     "output_type": "execute_result"
    }
   ],
   "source": [
    "len(date)"
   ]
  },
  {
   "cell_type": "code",
   "execution_count": 41,
   "id": "01842e15",
   "metadata": {},
   "outputs": [
    {
     "data": {
      "text/plain": [
       "['04/03/2021',\n",
       " '31/03/2021',\n",
       " '30/03/2021',\n",
       " '30/03/2021',\n",
       " '23/03/2021',\n",
       " '25/03/2021',\n",
       " '26/03/2021',\n",
       " '11/02/2021',\n",
       " '22/02/2021',\n",
       " '19/02/2021',\n",
       " '17/02/2021',\n",
       " '15/02/2021',\n",
       " '12/02/2021',\n",
       " '12/02/2021',\n",
       " '09/02/2021',\n",
       " '09/02/2021',\n",
       " '11/01/2021',\n",
       " '13/01/2021',\n",
       " '15/01/2021',\n",
       " '18/01/2021',\n",
       " '18/01/2021',\n",
       " '19/01/2021',\n",
       " '19/01/2021',\n",
       " '28/01/2021']"
      ]
     },
     "execution_count": 41,
     "metadata": {},
     "output_type": "execute_result"
    }
   ],
   "source": [
    "date"
   ]
  },
  {
   "cell_type": "code",
   "execution_count": 42,
   "id": "3e1e75c3",
   "metadata": {},
   "outputs": [
    {
     "data": {
      "text/plain": [
       "['DealShare',\n",
       " 'Uniphore',\n",
       " 'Dunzo',\n",
       " 'BYJU’S',\n",
       " 'SkilloVilla',\n",
       " 'CityMall',\n",
       " 'DotPe',\n",
       " 'Doubtnut',\n",
       " 'Zomato',\n",
       " 'Fingerlix',\n",
       " 'Zolve',\n",
       " 'KreditBee',\n",
       " 'Pepperfry',\n",
       " 'Grofers',\n",
       " 'Nothing',\n",
       " 'SplashLearn',\n",
       " 'True Elements',\n",
       " 'Saveo',\n",
       " 'Digit Insurance',\n",
       " 'mfine',\n",
       " 'Udayy',\n",
       " 'DeHaat',\n",
       " 'Darwinbox',\n",
       " 'Bombay Shaving Company']"
      ]
     },
     "execution_count": 42,
     "metadata": {},
     "output_type": "execute_result"
    }
   ],
   "source": [
    "name=[]\n",
    "name_tags=driver.find_elements(By.XPATH,'//td[@class=\"column-3\"]')\n",
    "for i in name_tags[5:29]:\n",
    "    name.append(i.text)\n",
    "name"
   ]
  },
  {
   "cell_type": "code",
   "execution_count": 43,
   "id": "a9941e20",
   "metadata": {},
   "outputs": [
    {
     "data": {
      "text/plain": [
       "24"
      ]
     },
     "execution_count": 43,
     "metadata": {},
     "output_type": "execute_result"
    }
   ],
   "source": [
    "len(name)"
   ]
  },
  {
   "cell_type": "code",
   "execution_count": 45,
   "id": "b64dcd8e",
   "metadata": {},
   "outputs": [
    {
     "data": {
      "text/plain": [
       "['E-commerce',\n",
       " 'Technology',\n",
       " 'E-commerce',\n",
       " 'Edu-tech',\n",
       " 'Edu-tech',\n",
       " 'E-commerce',\n",
       " 'FinTech',\n",
       " 'Edu Tech',\n",
       " 'Hospitality',\n",
       " 'Hospitality',\n",
       " 'FinTech',\n",
       " 'Finance',\n",
       " 'E-commerce',\n",
       " 'E-Commerce',\n",
       " 'Technology',\n",
       " 'EdTech',\n",
       " 'Food Startup',\n",
       " 'B2B E-commerce',\n",
       " 'Financial Services',\n",
       " 'Health Tech Startup',\n",
       " 'EdTech',\n",
       " 'AgriTech Startup',\n",
       " 'SaaS',\n",
       " 'Consumer Goods Company']"
      ]
     },
     "execution_count": 45,
     "metadata": {},
     "output_type": "execute_result"
    }
   ],
   "source": [
    "industry=[]\n",
    "ind_tags=driver.find_elements(By.XPATH,'//td[@class=\"column-4\"]')\n",
    "for i in ind_tags[5:29]:\n",
    "    industry.append(i.text)\n",
    "industry"
   ]
  },
  {
   "cell_type": "code",
   "execution_count": 46,
   "id": "37baa9f1",
   "metadata": {},
   "outputs": [
    {
     "data": {
      "text/plain": [
       "['Online shopping platform',\n",
       " 'Conversational Service Automation (CSA)',\n",
       " 'Hyper-local delivery app',\n",
       " 'Online tutoring',\n",
       " 'Career and job-oriented upskilling.',\n",
       " 'Social ecommerce and online grocery platform',\n",
       " 'Commerce and payments platform to offline enterprise businesses.',\n",
       " 'E-Learning Platform',\n",
       " 'Online Food Delivery Platform',\n",
       " 'Semi-cooked food delivery app',\n",
       " 'Global Neobank Venture',\n",
       " 'Digital lending platform',\n",
       " 'Multi-brand furniture brand',\n",
       " 'Online supermarket',\n",
       " 'Consumer Technology Venture',\n",
       " 'Game-based learning programme',\n",
       " 'Whole Food plant based Nashta',\n",
       " 'Pharmacies',\n",
       " 'Insurance Services',\n",
       " 'AI-powered telemedicine mobile app',\n",
       " 'Online learning platform for kids in class 1-5',\n",
       " 'online marketplace for farm products and services',\n",
       " 'HR Tech',\n",
       " 'Shave care, beard care, and skincare products']"
      ]
     },
     "execution_count": 46,
     "metadata": {},
     "output_type": "execute_result"
    }
   ],
   "source": [
    "service=[]\n",
    "ser_tags=driver.find_elements(By.XPATH,'//td[@class=\"column-5\"]')\n",
    "for i in ser_tags[5:29]:\n",
    "    service.append(i.text)\n",
    "service"
   ]
  },
  {
   "cell_type": "code",
   "execution_count": 47,
   "id": "2b51d9d6",
   "metadata": {},
   "outputs": [
    {
     "data": {
      "text/plain": [
       "24"
      ]
     },
     "execution_count": 47,
     "metadata": {},
     "output_type": "execute_result"
    }
   ],
   "source": [
    "len(service)"
   ]
  },
  {
   "cell_type": "code",
   "execution_count": 51,
   "id": "295fdf9c",
   "metadata": {},
   "outputs": [
    {
     "data": {
      "text/plain": [
       "['Jaipur, Rajasthan',\n",
       " 'Palo Alto',\n",
       " 'Bengaluru',\n",
       " 'Bengaluru',\n",
       " 'Bengaluru',\n",
       " 'Gurgaon',\n",
       " 'Gurgaon',\n",
       " 'Gurgaon',\n",
       " 'Gurgaon',\n",
       " 'Mumbai',\n",
       " 'Mumbai',\n",
       " 'Bengaluru',\n",
       " 'Mumbai',\n",
       " 'Gurgaon',\n",
       " 'London',\n",
       " 'Gurgaon',\n",
       " 'Pune',\n",
       " 'Bengaluru',\n",
       " 'Bengaluru',\n",
       " 'Bengaluru',\n",
       " 'Gurgaon',\n",
       " 'Patna',\n",
       " 'Mumbai',\n",
       " 'New Delhi']"
      ]
     },
     "execution_count": 51,
     "metadata": {},
     "output_type": "execute_result"
    }
   ],
   "source": [
    "city=[]\n",
    "city_tags=driver.find_elements(By.XPATH,'//td[@class=\"column-6\"]')\n",
    "for i in city_tags[5:29]:\n",
    "    city.append(i.text)\n",
    "city"
   ]
  },
  {
   "cell_type": "code",
   "execution_count": 49,
   "id": "54626daf",
   "metadata": {},
   "outputs": [
    {
     "data": {
      "text/plain": [
       "24"
      ]
     },
     "execution_count": 49,
     "metadata": {},
     "output_type": "execute_result"
    }
   ],
   "source": [
    "len(city)"
   ]
  },
  {
   "cell_type": "code",
   "execution_count": 52,
   "id": "98e5f410",
   "metadata": {},
   "outputs": [
    {
     "data": {
      "text/plain": [
       "['Innoven Capital',\n",
       " 'Sorenson Capital Partners',\n",
       " 'Krishtal Advisors Pte Ltd',\n",
       " 'MC Global Edtech, B Capital, Baron, others',\n",
       " 'Titan Capital, others',\n",
       " 'Accel Partners',\n",
       " 'PayU',\n",
       " 'SIG Global, Sequoia Capital, WaterBridge Ventures and ON Mauritius',\n",
       " 'Tiger Global, Kora',\n",
       " 'Rhodium Trust, Accel Partners and Swiggy',\n",
       " 'Accel Partners and Lightspeed Venture Partners',\n",
       " 'Azim Premji’s PremjiInvest and South Korea’s Mirae Asset Venture',\n",
       " 'InnoVen Capital',\n",
       " 'SoftBank Vision Fund (SVF)',\n",
       " 'GV',\n",
       " 'Owl Ventures',\n",
       " 'SIDBI Venture Capital',\n",
       " 'Matrix Partners India, RTP Global, others',\n",
       " 'A91 Partners, Faering Capital, TVS Capital Funds',\n",
       " 'Heritas Capital Management',\n",
       " 'Sequoia Capital',\n",
       " 'Prosus Ventures',\n",
       " 'Salesforce Ventures',\n",
       " 'Reckitt Benckiser']"
      ]
     },
     "execution_count": 52,
     "metadata": {},
     "output_type": "execute_result"
    }
   ],
   "source": [
    "investor=[]\n",
    "inv_tags=driver.find_elements(By.XPATH,'//td[@class=\"column-7\"]')\n",
    "for i in inv_tags[5:29]:\n",
    "    investor.append(i.text)\n",
    "investor"
   ]
  },
  {
   "cell_type": "code",
   "execution_count": 53,
   "id": "9a0adabc",
   "metadata": {},
   "outputs": [
    {
     "data": {
      "text/plain": [
       "24"
      ]
     },
     "execution_count": 53,
     "metadata": {},
     "output_type": "execute_result"
    }
   ],
   "source": [
    "len(investor)"
   ]
  },
  {
   "cell_type": "code",
   "execution_count": 54,
   "id": "c46949db",
   "metadata": {},
   "outputs": [
    {
     "data": {
      "text/plain": [
       "['250,000,000',\n",
       " '140,000,000',\n",
       " '8,000,000',\n",
       " '460,000,000',\n",
       " '300,000,000',\n",
       " '11,000,000',\n",
       " '27,500,000',\n",
       " '2,500,000',\n",
       " '250,000,000',\n",
       " '2,747,045.20',\n",
       " '1,50,00,000',\n",
       " '75,000,000',\n",
       " '4,773,958',\n",
       " '55,000,000',\n",
       " '15,000,000',\n",
       " '18,000,000',\n",
       " '100,000,000',\n",
       " '4,000,000',\n",
       " '1,80,00,000',\n",
       " '16,000,000',\n",
       " '15,000,000',\n",
       " '30,000,000',\n",
       " '15,000,000',\n",
       " '6,172,258.50']"
      ]
     },
     "execution_count": 54,
     "metadata": {},
     "output_type": "execute_result"
    }
   ],
   "source": [
    "amount=[]\n",
    "amt_tags=driver.find_elements(By.XPATH,'//td[@class=\"column-9\"]')\n",
    "for i in amt_tags[5:29]:\n",
    "    amount.append(i.text)\n",
    "amount"
   ]
  },
  {
   "cell_type": "code",
   "execution_count": 55,
   "id": "3df80096",
   "metadata": {},
   "outputs": [
    {
     "data": {
      "text/plain": [
       "24"
      ]
     },
     "execution_count": 55,
     "metadata": {},
     "output_type": "execute_result"
    }
   ],
   "source": [
    "len(amount)"
   ]
  },
  {
   "cell_type": "code",
   "execution_count": 56,
   "id": "0f929836",
   "metadata": {},
   "outputs": [],
   "source": [
    "#Q6 completed\n",
    "# closing the browser"
   ]
  },
  {
   "cell_type": "code",
   "execution_count": 57,
   "id": "707217ed",
   "metadata": {},
   "outputs": [],
   "source": [
    "driver.close()"
   ]
  },
  {
   "cell_type": "code",
   "execution_count": 58,
   "id": "1570bd0d",
   "metadata": {},
   "outputs": [
    {
     "data": {
      "text/plain": [
       "<selenium.webdriver.chrome.webdriver.WebDriver (session=\"e48c2c10d3c96db691b42190de8b9e4a\")>"
      ]
     },
     "execution_count": 58,
     "metadata": {},
     "output_type": "execute_result"
    }
   ],
   "source": [
    "#Q7 \n",
    "# opening the browser\n",
    "#q6\n",
    "driver=webdriver.Chrome(r\"C:\\Users\\hp\\Downloads\\chromedriver_win32\\chromedriver.exe\")\n",
    "driver\n"
   ]
  },
  {
   "cell_type": "code",
   "execution_count": 59,
   "id": "8e892e85",
   "metadata": {},
   "outputs": [],
   "source": [
    "# lets maximize the window\n",
    "driver.maximize_window()"
   ]
  },
  {
   "cell_type": "code",
   "execution_count": 60,
   "id": "18ce0130",
   "metadata": {},
   "outputs": [],
   "source": [
    "url='https://www.digit.in/'\n",
    "driver.get(url)"
   ]
  },
  {
   "cell_type": "code",
   "execution_count": 61,
   "id": "272063e8",
   "metadata": {},
   "outputs": [],
   "source": [
    "laptop=driver.find_element(By.XPATH,'/html/body/div[3]/div/div[2]/div[2]/div[4]/ul/li[9]/a')\n",
    "laptop.click()"
   ]
  },
  {
   "cell_type": "code",
   "execution_count": 62,
   "id": "b221ed80",
   "metadata": {},
   "outputs": [
    {
     "data": {
      "text/plain": [
       "40"
      ]
     },
     "execution_count": 62,
     "metadata": {},
     "output_type": "execute_result"
    }
   ],
   "source": [
    "os=[]\n",
    "op_tag=driver.find_elements(By.XPATH,'//div[@class=\"value\"]')\n",
    "for i in op_tag:\n",
    "    os.append(i.text)\n",
    "len(os)"
   ]
  },
  {
   "cell_type": "code",
   "execution_count": 67,
   "id": "4485c221",
   "metadata": {},
   "outputs": [
    {
     "data": {
      "text/plain": [
       "40"
      ]
     },
     "execution_count": 67,
     "metadata": {},
     "output_type": "execute_result"
    }
   ],
   "source": [
    "processor=[]\n",
    "pr_tag=driver.find_elements(By.XPATH,'//div[@class=\"value\"]')\n",
    "for i in pr_tag:\n",
    "    processor.append(i.text)\n",
    "len(processor)"
   ]
  },
  {
   "cell_type": "code",
   "execution_count": 64,
   "id": "c9c822e9",
   "metadata": {},
   "outputs": [
    {
     "data": {
      "text/plain": [
       "['Windows 11 Home OS',\n",
       " '17.3\" (3840 x 2160) Display',\n",
       " '12th Gen Intel Core i9-12900HX | NA Processor',\n",
       " '2 TB SSD/64 GB DDR5 Memory',\n",
       " 'Windows 11 Home OS',\n",
       " '17.3\" (1920 x 1080) Display',\n",
       " '12th Gen Intel Core i9-12900H | 5 GHz Processor',\n",
       " '1 TB SSD/32 GB DDR5 Memory',\n",
       " 'Windows 11 OS',\n",
       " '16\" (2560 x 1600) Display',\n",
       " '12th Gen Intel Core i7-12700H | 3.5 GHz Processor',\n",
       " '2 TB SSD/32 GB DDR5 Memory',\n",
       " 'Windows 11 Home OS',\n",
       " '16.1\" (2560 x 1440) Display',\n",
       " '12th Gen Intel Core i7-12700H | 4.7 GHz Processor',\n",
       " '1 TB SSD/8 GB DDR5 Memory',\n",
       " 'Windows 11 Home OS',\n",
       " '15.6\" (2560 x 1440) Display',\n",
       " 'AMD Ryzen 9-5900HX | NA Processor',\n",
       " '512 GB SSD/16 GB DDR4 Memory',\n",
       " 'Windows 11 Home OS',\n",
       " '15.6\" (1920 x 1080) Display',\n",
       " 'AMD 5th Gen Ryzen 9-5900HX | 3.3GHz Processor',\n",
       " '1 TB SSD/16 GBGB DDR4 Memory',\n",
       " 'Windows 11 Home OS',\n",
       " '16.1\" (2560 x 1440) Display',\n",
       " 'AMD Ryzen™ 9 5900HX | 3.3 GHz Processor',\n",
       " '1 TB NVMe/16 GB DDR4 Memory',\n",
       " 'Windows 11 Home OS',\n",
       " '16\" (2560 x 1600) Display',\n",
       " '12th Gen Intel Core i7-12700H | 2.3 GHz Processor',\n",
       " '1 TB SSD/16 GB DDR5 Memory',\n",
       " 'Windows 11 Home OS',\n",
       " '15.6\" (1920 x 1080) Display',\n",
       " 'AMD Ryzen R7-5800H | 4.40 GHz Processor',\n",
       " '512 GB SSD/16 GB DDR4 Memory',\n",
       " 'Windows 11 Home OS',\n",
       " '15.6 MP | NA Display',\n",
       " 'Lenovo Ryzen 7-5800H | 3.2 GHz Processor',\n",
       " '1 TB SSD/16 GB DDR4 Memory']"
      ]
     },
     "execution_count": 64,
     "metadata": {},
     "output_type": "execute_result"
    }
   ],
   "source": [
    "processor"
   ]
  },
  {
   "cell_type": "code",
   "execution_count": 68,
   "id": "1822fd09",
   "metadata": {},
   "outputs": [
    {
     "data": {
      "text/plain": [
       "['1.\\nMSI Titan GT77-12UHS',\n",
       " '3.\\nAcer Predator Triton 500 SE PT516-52s',\n",
       " '4.\\nOmen By HP (16-B1371TX)',\n",
       " '5.\\nAcer Predator Helios 300 AN515-45',\n",
       " '6.\\nMSI Delta 15 (A5EFK-083IN)',\n",
       " '7.\\nOmen By HP (16-C0141AX)',\n",
       " '8.\\nLenovo Legion 5i Pro (82RF00MGIN)',\n",
       " '9.\\nAlienware M15 R5 Ryzen Edition Icc-C780001win',\n",
       " '10.\\nLenovo Slim 7 Gen 6 (82K8002JIN)']"
      ]
     },
     "execution_count": 68,
     "metadata": {},
     "output_type": "execute_result"
    }
   ],
   "source": [
    "names=[]\n",
    "name_tag=driver.find_elements(By.XPATH,'//div[@class=\"TopNumbeHeading\"]')\n",
    "for i in name_tag:\n",
    "    names.append(i.text)\n",
    "names"
   ]
  },
  {
   "cell_type": "code",
   "execution_count": 73,
   "id": "0c78419d",
   "metadata": {},
   "outputs": [
    {
     "data": {
      "text/plain": [
       "['₹ 389,990',\n",
       " '₹ 229,990',\n",
       " '₹ 176,290',\n",
       " '₹ 124,990',\n",
       " '₹ 162,869',\n",
       " '₹ 174,000',\n",
       " '₹ 131,990']"
      ]
     },
     "execution_count": 73,
     "metadata": {},
     "output_type": "execute_result"
    }
   ],
   "source": [
    "price=[]\n",
    "price_tag=driver.find_elements(By.XPATH,'//div[@class=\"lowest_price\"]')\n",
    "for i in price_tag:\n",
    "    price.append(i.text[0:9])\n",
    "price"
   ]
  },
  {
   "cell_type": "code",
   "execution_count": 74,
   "id": "a1b94296",
   "metadata": {},
   "outputs": [],
   "source": [
    "#Q7 completed\n",
    "# closing the window\n",
    "driver.close()"
   ]
  },
  {
   "cell_type": "code",
   "execution_count": 75,
   "id": "74f2500a",
   "metadata": {},
   "outputs": [
    {
     "data": {
      "text/plain": [
       "<selenium.webdriver.chrome.webdriver.WebDriver (session=\"f56948270c805136f8a6ec096b4392fa\")>"
      ]
     },
     "execution_count": 75,
     "metadata": {},
     "output_type": "execute_result"
    }
   ],
   "source": [
    "#Q8\n",
    "\n",
    "# opening the browser\n",
    "driver=webdriver.Chrome(r\"C:\\Users\\hp\\Downloads\\chromedriver_win32\\chromedriver.exe\")\n",
    "driver\n"
   ]
  },
  {
   "cell_type": "code",
   "execution_count": 76,
   "id": "9d3149d9",
   "metadata": {},
   "outputs": [],
   "source": [
    "# lets maximize the window\n",
    "driver.maximize_window()"
   ]
  },
  {
   "cell_type": "code",
   "execution_count": 77,
   "id": "830ebb38",
   "metadata": {},
   "outputs": [],
   "source": [
    "#opening url\n",
    "url='https://www.forbes.com/'\n",
    "driver.get(url)"
   ]
  },
  {
   "cell_type": "code",
   "execution_count": 83,
   "id": "d50e86dd",
   "metadata": {},
   "outputs": [],
   "source": [
    "billionaire=driver.find_element(By.CLASS_NAME,'mpBfVZz3')\n",
    "billionaire.click()"
   ]
  },
  {
   "cell_type": "code",
   "execution_count": 85,
   "id": "b082e262",
   "metadata": {},
   "outputs": [],
   "source": [
    "wb=driver.find_element(By.XPATH,'/html/body/div[1]/header/nav/div[1]/div/div/div[2]/ul/li[1]/div[2]/div[3]/ul/li[1]/a')\n",
    "wb.click()"
   ]
  },
  {
   "cell_type": "code",
   "execution_count": null,
   "id": "e5e3853d",
   "metadata": {},
   "outputs": [],
   "source": []
  },
  {
   "cell_type": "code",
   "execution_count": null,
   "id": "a051117e",
   "metadata": {},
   "outputs": [],
   "source": []
  },
  {
   "cell_type": "code",
   "execution_count": 86,
   "id": "9a25cee9",
   "metadata": {},
   "outputs": [
    {
     "data": {
      "text/plain": [
       "200"
      ]
     },
     "execution_count": 86,
     "metadata": {},
     "output_type": "execute_result"
    }
   ],
   "source": [
    "names=[]\n",
    "name_tag=driver.find_elements(By.XPATH,'//div[@class=\"personName\"]')\n",
    "for i in name_tag:\n",
    "    names.append(i.text[0:9])\n",
    "len(names)"
   ]
  },
  {
   "cell_type": "code",
   "execution_count": 87,
   "id": "3f9ca2e9",
   "metadata": {},
   "outputs": [
    {
     "data": {
      "text/plain": [
       "['Elon Musk',\n",
       " 'Jeff Bezo',\n",
       " 'Bernard A',\n",
       " 'Bill Gate',\n",
       " 'Warren Bu',\n",
       " 'Larry Pag',\n",
       " 'Sergey Br',\n",
       " 'Larry Ell',\n",
       " 'Steve Bal',\n",
       " 'Mukesh Am',\n",
       " 'Gautam Ad',\n",
       " 'Michael B',\n",
       " 'Carlos Sl',\n",
       " 'Francoise',\n",
       " 'Mark Zuck',\n",
       " 'Jim Walto',\n",
       " 'Zhong Sha',\n",
       " 'Alice Wal',\n",
       " 'Rob Walto',\n",
       " 'Changpeng',\n",
       " 'Charles K',\n",
       " 'Julia Koc',\n",
       " 'Amancio O',\n",
       " 'Michael D',\n",
       " 'Zhang Yim',\n",
       " 'David Tho',\n",
       " 'Phil Knig',\n",
       " 'Dieter Sc',\n",
       " 'Robin Zen',\n",
       " 'MacKenzie',\n",
       " 'Rodolphe ',\n",
       " 'François ',\n",
       " 'Klaus-Mic',\n",
       " 'Ma Huaten',\n",
       " 'Beate Hei',\n",
       " 'Giovanni ',\n",
       " 'Li Ka-shi',\n",
       " 'Stephen S',\n",
       " 'Lee Shau ',\n",
       " 'Len Blava',\n",
       " 'Jacquelin',\n",
       " 'John Mars',\n",
       " 'Alain Wer',\n",
       " 'Gerard We',\n",
       " 'German La',\n",
       " 'Gina Rine',\n",
       " 'Shiv Nada',\n",
       " 'Jim Simon',\n",
       " 'He Xiangj',\n",
       " 'Miriam Ad',\n",
       " 'Dietrich ',\n",
       " 'Leonardo ',\n",
       " 'Ken Griff',\n",
       " 'Tadashi Y',\n",
       " 'William L',\n",
       " 'Susanne K',\n",
       " 'Cyrus Poo',\n",
       " 'Wang Wei',\n",
       " 'Qin Yingl',\n",
       " 'Sam Bankm',\n",
       " 'Takemitsu',\n",
       " 'Li Shufu',\n",
       " 'Emmanuel ',\n",
       " 'R. Budi H',\n",
       " 'Leonard L',\n",
       " 'Guillaume',\n",
       " 'Iris Font',\n",
       " 'Jack Ma',\n",
       " 'Michael H',\n",
       " 'Eric Schm',\n",
       " 'Ray Dalio',\n",
       " 'Daniel Gi',\n",
       " 'Thomas Fr',\n",
       " 'Masayoshi',\n",
       " 'Abigail J',\n",
       " 'Rupert Mu',\n",
       " 'Stefan Qu',\n",
       " 'Jensen Hu',\n",
       " 'Huang Shi',\n",
       " 'Thomas Pe',\n",
       " 'Radhakish',\n",
       " 'Pang Kang',\n",
       " 'Wang Chua',\n",
       " 'Reinhold ',\n",
       " 'Theo Albr',\n",
       " 'Yang Huiy',\n",
       " 'Vladimir ',\n",
       " 'Fan Hongw',\n",
       " 'Lakshmi M',\n",
       " 'Andrew Fo',\n",
       " 'Jiang Ren',\n",
       " 'Savitri J',\n",
       " 'Wang Weny',\n",
       " 'Li Xiting',\n",
       " 'Stefan Pe',\n",
       " 'Steve Coh',\n",
       " 'Vladimir ',\n",
       " 'Harold Ha',\n",
       " 'Sun Piaoy',\n",
       " 'Luo Liguo',\n",
       " 'Peter Woo',\n",
       " 'Gianluigi',\n",
       " 'David Tep',\n",
       " 'Renata Ke',\n",
       " 'John Mena',\n",
       " 'Kumar Bir',\n",
       " 'Carl Icah',\n",
       " 'Hank & Do',\n",
       " 'Lukas Wal',\n",
       " 'Laurene P',\n",
       " 'James Rat',\n",
       " 'Donald Br',\n",
       " 'Xu Hang',\n",
       " 'Lu Xiangy',\n",
       " 'Dilip Sha',\n",
       " 'Wei Jianj',\n",
       " 'Jorge Pau',\n",
       " 'Eyal Ofer',\n",
       " 'Mike Cann',\n",
       " 'Wu Yajun',\n",
       " 'Charlene ',\n",
       " 'Michael P',\n",
       " 'Pavel Dur',\n",
       " 'Scott Far',\n",
       " 'Pallonji ',\n",
       " 'Dang Yanb',\n",
       " 'Robert Pe',\n",
       " 'Donald Ne',\n",
       " 'Uday Kota',\n",
       " 'Aliko Dan',\n",
       " 'Leonid Mi',\n",
       " 'Sunil Mit',\n",
       " 'Robert & ',\n",
       " 'Liu Hanyu',\n",
       " 'Joseph La',\n",
       " 'Anders Ho',\n",
       " 'Dhanin Ch',\n",
       " 'Gong Hong',\n",
       " 'Liu Yongx',\n",
       " 'Alexey Mo',\n",
       " 'Wang Jian',\n",
       " 'David Duf',\n",
       " 'Li Zhengu',\n",
       " 'Harry Tri',\n",
       " 'Zhang Zhi',\n",
       " 'Chen Bang',\n",
       " 'John Doer',\n",
       " 'Hinduja b',\n",
       " 'Kwong Siu',\n",
       " 'Pei Zhenh',\n",
       " 'Ricardo S',\n",
       " 'Jim Patti',\n",
       " 'Charles S',\n",
       " 'Goh Cheng',\n",
       " 'Lin Jianh',\n",
       " 'Charoen S',\n",
       " 'Jeff Yass',\n",
       " 'John Fred',\n",
       " 'Andreas S',\n",
       " 'Thomas St',\n",
       " 'Mikhail F',\n",
       " 'Sarath Ra',\n",
       " 'Robert Ku',\n",
       " 'Lei Jun',\n",
       " 'Zhang Con',\n",
       " 'Lui Che W',\n",
       " 'Brian Che',\n",
       " 'Israel En',\n",
       " 'Dustin Mo',\n",
       " 'Alisher U',\n",
       " 'Jay Chaud',\n",
       " 'Anthony P',\n",
       " 'Colin Zhe',\n",
       " 'Jin Baofa',\n",
       " 'Pierre Om',\n",
       " 'Gennady T',\n",
       " 'Carl Cook',\n",
       " 'Andrey Me',\n",
       " 'Wang Xing',\n",
       " 'Philip An',\n",
       " 'David Che',\n",
       " 'Alexander',\n",
       " 'Diane Hen',\n",
       " 'Stanley K',\n",
       " 'Jerry Jon',\n",
       " 'Quek Leng',\n",
       " 'Eduardo S',\n",
       " 'Vagit Ale',\n",
       " 'Richard L',\n",
       " 'Idan Ofer',\n",
       " 'Melker Sc',\n",
       " 'Chase Col',\n",
       " 'Shuirong ',\n",
       " 'Stefano P',\n",
       " 'Mikhail P',\n",
       " 'Marcel He',\n",
       " 'Leon Blac',\n",
       " 'Joe Gebbi',\n",
       " 'David Gef',\n",
       " 'Yu Renron']"
      ]
     },
     "execution_count": 87,
     "metadata": {},
     "output_type": "execute_result"
    }
   ],
   "source": [
    "names"
   ]
  },
  {
   "cell_type": "code",
   "execution_count": 88,
   "id": "3794a06c",
   "metadata": {},
   "outputs": [
    {
     "data": {
      "text/plain": [
       "200"
      ]
     },
     "execution_count": 88,
     "metadata": {},
     "output_type": "execute_result"
    }
   ],
   "source": [
    "rank=[]\n",
    "rank_tag=driver.find_elements(By.XPATH,'//div[@class=\"rank\"]')\n",
    "for i in rank_tag:\n",
    "    rank.append(i.text[0:9])\n",
    "len(rank)"
   ]
  },
  {
   "cell_type": "code",
   "execution_count": 89,
   "id": "1db5f8db",
   "metadata": {},
   "outputs": [
    {
     "data": {
      "text/plain": [
       "200"
      ]
     },
     "execution_count": 89,
     "metadata": {},
     "output_type": "execute_result"
    }
   ],
   "source": [
    "worth=[]\n",
    "wor_tag=driver.find_elements(By.XPATH,'//div[@class=\"netWorth\"]')\n",
    "for i in wor_tag:\n",
    "    worth.append(i.text)\n",
    "len(worth)"
   ]
  },
  {
   "cell_type": "code",
   "execution_count": 92,
   "id": "001707c4",
   "metadata": {},
   "outputs": [
    {
     "data": {
      "text/plain": [
       "200"
      ]
     },
     "execution_count": 92,
     "metadata": {},
     "output_type": "execute_result"
    }
   ],
   "source": [
    "age=[]\n",
    "age_tag=driver.find_elements(By.XPATH,'//div[@class=\"age\"]')\n",
    "for i in age_tag:\n",
    "    age.append(i.text)\n",
    "len(age)"
   ]
  },
  {
   "cell_type": "code",
   "execution_count": 93,
   "id": "aaaed360",
   "metadata": {},
   "outputs": [
    {
     "data": {
      "text/plain": [
       "['50',\n",
       " '58',\n",
       " '73',\n",
       " '66',\n",
       " '91',\n",
       " '49',\n",
       " '48',\n",
       " '77',\n",
       " '66',\n",
       " '64',\n",
       " '59',\n",
       " '80',\n",
       " '82',\n",
       " '68',\n",
       " '37',\n",
       " '73',\n",
       " '67',\n",
       " '72',\n",
       " '77',\n",
       " '44',\n",
       " '86',\n",
       " '59',\n",
       " '86',\n",
       " '57',\n",
       " '38',\n",
       " '64',\n",
       " '84',\n",
       " '82',\n",
       " '53',\n",
       " '51',\n",
       " '52',\n",
       " '85',\n",
       " '84',\n",
       " '50',\n",
       " 'N/A',\n",
       " '57',\n",
       " '93',\n",
       " '75',\n",
       " '94',\n",
       " '64',\n",
       " '82',\n",
       " '86',\n",
       " '73',\n",
       " '71',\n",
       " '68',\n",
       " '68',\n",
       " '76',\n",
       " '83',\n",
       " '79',\n",
       " '76',\n",
       " '77',\n",
       " '86',\n",
       " '53',\n",
       " '73',\n",
       " '50',\n",
       " '59',\n",
       " '80',\n",
       " '51',\n",
       " '56',\n",
       " '30',\n",
       " '76',\n",
       " '58',\n",
       " '51',\n",
       " '81',\n",
       " '89',\n",
       " '40',\n",
       " '79',\n",
       " '57',\n",
       " '82',\n",
       " '66',\n",
       " '72',\n",
       " '60',\n",
       " '83',\n",
       " '64',\n",
       " '60',\n",
       " '91',\n",
       " '55',\n",
       " '59',\n",
       " '55',\n",
       " '77',\n",
       " '67',\n",
       " '66',\n",
       " '56',\n",
       " '86',\n",
       " '71',\n",
       " '40',\n",
       " '65',\n",
       " '55',\n",
       " '71',\n",
       " '60',\n",
       " '68',\n",
       " '72',\n",
       " '54',\n",
       " '71',\n",
       " '74',\n",
       " '65',\n",
       " '61',\n",
       " '76',\n",
       " '63',\n",
       " '66',\n",
       " '75',\n",
       " '81',\n",
       " '64',\n",
       " '54',\n",
       " '82',\n",
       " '54',\n",
       " '86',\n",
       " 'N/A',\n",
       " '35',\n",
       " '58',\n",
       " '69',\n",
       " '89',\n",
       " '55',\n",
       " '59',\n",
       " '66',\n",
       " '58',\n",
       " '82',\n",
       " '71',\n",
       " '42',\n",
       " '58',\n",
       " '67',\n",
       " '54',\n",
       " '37',\n",
       " '42',\n",
       " '92',\n",
       " '49',\n",
       " '44',\n",
       " '92',\n",
       " '63',\n",
       " '64',\n",
       " '66',\n",
       " '64',\n",
       " 'N/A',\n",
       " '58',\n",
       " '70',\n",
       " '49',\n",
       " '82',\n",
       " '57',\n",
       " '73',\n",
       " '56',\n",
       " '67',\n",
       " '81',\n",
       " '54',\n",
       " '89',\n",
       " '50',\n",
       " '56',\n",
       " '70',\n",
       " 'N/A',\n",
       " '92',\n",
       " '63',\n",
       " '66',\n",
       " '93',\n",
       " '84',\n",
       " '94',\n",
       " '59',\n",
       " '77',\n",
       " '63',\n",
       " '77',\n",
       " '72',\n",
       " '72',\n",
       " '57',\n",
       " '56',\n",
       " '98',\n",
       " '52',\n",
       " '74',\n",
       " '93',\n",
       " '40',\n",
       " '73',\n",
       " '37',\n",
       " '68',\n",
       " '62',\n",
       " '61',\n",
       " '42',\n",
       " '69',\n",
       " '54',\n",
       " '69',\n",
       " '59',\n",
       " '50',\n",
       " '43',\n",
       " '82',\n",
       " '71',\n",
       " '54',\n",
       " '75',\n",
       " '74',\n",
       " '79',\n",
       " '80',\n",
       " '40',\n",
       " '71',\n",
       " '48',\n",
       " '66',\n",
       " '74',\n",
       " '46',\n",
       " '65',\n",
       " '80',\n",
       " '56',\n",
       " '72',\n",
       " '70',\n",
       " '40',\n",
       " '79',\n",
       " '56']"
      ]
     },
     "execution_count": 93,
     "metadata": {},
     "output_type": "execute_result"
    }
   ],
   "source": [
    "age"
   ]
  },
  {
   "cell_type": "code",
   "execution_count": 94,
   "id": "3415d7ae",
   "metadata": {},
   "outputs": [
    {
     "data": {
      "text/plain": [
       "200"
      ]
     },
     "execution_count": 94,
     "metadata": {},
     "output_type": "execute_result"
    }
   ],
   "source": [
    "citizens=[]\n",
    "c_tag=driver.find_elements(By.XPATH,'//div[@class=\"countryOfCitizenship\"]')\n",
    "for i in c_tag:\n",
    "    citizens.append(i.text)\n",
    "len(citizens)"
   ]
  },
  {
   "cell_type": "code",
   "execution_count": 96,
   "id": "13ddaf46",
   "metadata": {},
   "outputs": [
    {
     "data": {
      "text/plain": [
       "200"
      ]
     },
     "execution_count": 96,
     "metadata": {},
     "output_type": "execute_result"
    }
   ],
   "source": [
    "source=[]\n",
    "s_tag=driver.find_elements(By.XPATH,'//span[@class=\"source-text\"]')\n",
    "for i in s_tag:\n",
    "    source.append(i.text)\n",
    "len(source)"
   ]
  },
  {
   "cell_type": "code",
   "execution_count": 98,
   "id": "2105b135",
   "metadata": {},
   "outputs": [
    {
     "data": {
      "text/plain": [
       "200"
      ]
     },
     "execution_count": 98,
     "metadata": {},
     "output_type": "execute_result"
    }
   ],
   "source": [
    "industry=[]\n",
    "ind_tag=driver.find_elements(By.XPATH,'//div[@class=\"category\"]')\n",
    "for i in ind_tag:\n",
    "    industry.append(i.text)\n",
    "len(industry)"
   ]
  },
  {
   "cell_type": "code",
   "execution_count": 99,
   "id": "07b11dfd",
   "metadata": {},
   "outputs": [
    {
     "data": {
      "text/plain": [
       "['Automotive',\n",
       " 'Technology',\n",
       " 'Fashion & Retail',\n",
       " 'Technology',\n",
       " 'Finance & Investments',\n",
       " 'Technology',\n",
       " 'Technology',\n",
       " 'Technology',\n",
       " 'Technology',\n",
       " 'Diversified',\n",
       " 'Diversified',\n",
       " 'Media & Entertainment',\n",
       " 'Telecom',\n",
       " 'Fashion & Retail',\n",
       " 'Technology',\n",
       " 'Fashion & Retail',\n",
       " 'Food & Beverage',\n",
       " 'Fashion & Retail',\n",
       " 'Fashion & Retail',\n",
       " 'Finance & Investments',\n",
       " 'Diversified',\n",
       " 'Diversified',\n",
       " 'Fashion & Retail',\n",
       " 'Technology',\n",
       " 'Media & Entertainment',\n",
       " 'Media & Entertainment',\n",
       " 'Fashion & Retail',\n",
       " 'Fashion & Retail',\n",
       " 'Automotive',\n",
       " 'Technology',\n",
       " 'Logistics',\n",
       " 'Fashion & Retail',\n",
       " 'Logistics',\n",
       " 'Technology',\n",
       " 'Fashion & Retail',\n",
       " 'Food & Beverage',\n",
       " 'Diversified',\n",
       " 'Finance & Investments',\n",
       " 'Real Estate',\n",
       " 'Diversified',\n",
       " 'Food & Beverage',\n",
       " 'Food & Beverage',\n",
       " 'Fashion & Retail',\n",
       " 'Fashion & Retail',\n",
       " 'Metals & Mining',\n",
       " 'Metals & Mining',\n",
       " 'Technology',\n",
       " 'Finance & Investments',\n",
       " 'Manufacturing',\n",
       " 'Gambling & Casinos',\n",
       " 'Food & Beverage',\n",
       " 'Fashion & Retail',\n",
       " 'Finance & Investments',\n",
       " 'Fashion & Retail',\n",
       " 'Technology',\n",
       " 'Automotive',\n",
       " 'Healthcare',\n",
       " 'Service',\n",
       " 'Food & Beverage',\n",
       " 'Finance & Investments',\n",
       " 'Manufacturing',\n",
       " 'Automotive',\n",
       " 'Food & Beverage',\n",
       " 'Finance & Investments',\n",
       " 'Fashion & Retail',\n",
       " 'Finance & Investments',\n",
       " 'Metals & Mining',\n",
       " 'Technology',\n",
       " 'Manufacturing',\n",
       " 'Technology',\n",
       " 'Finance & Investments',\n",
       " 'Finance & Investments',\n",
       " 'Healthcare',\n",
       " 'Telecom',\n",
       " 'Finance & Investments',\n",
       " 'Media & Entertainment',\n",
       " 'Automotive',\n",
       " 'Technology',\n",
       " 'Automotive',\n",
       " 'Finance & Investments',\n",
       " 'Fashion & Retail',\n",
       " 'Food & Beverage',\n",
       " 'Automotive',\n",
       " 'Manufacturing',\n",
       " 'Fashion & Retail',\n",
       " 'Real Estate',\n",
       " 'Metals & Mining',\n",
       " 'Energy',\n",
       " 'Metals & Mining',\n",
       " 'Metals & Mining',\n",
       " 'Healthcare',\n",
       " 'Metals & Mining',\n",
       " 'Metals & Mining',\n",
       " 'Healthcare',\n",
       " 'Fashion & Retail',\n",
       " 'Finance & Investments',\n",
       " 'Metals & Mining',\n",
       " 'Energy',\n",
       " 'Healthcare',\n",
       " 'Manufacturing',\n",
       " 'Real Estate',\n",
       " 'Logistics',\n",
       " 'Finance & Investments',\n",
       " 'Finance & Investments',\n",
       " 'Fashion & Retail',\n",
       " 'Diversified',\n",
       " 'Finance & Investments',\n",
       " 'Fashion & Retail',\n",
       " 'Fashion & Retail',\n",
       " 'Technology',\n",
       " 'Manufacturing',\n",
       " 'Real Estate',\n",
       " 'Healthcare',\n",
       " 'Automotive',\n",
       " 'Healthcare',\n",
       " 'Automotive',\n",
       " 'Food & Beverage',\n",
       " 'Diversified',\n",
       " 'Technology',\n",
       " 'Real Estate',\n",
       " 'Food & Beverage',\n",
       " 'Finance & Investments',\n",
       " 'Technology',\n",
       " 'Technology',\n",
       " 'Construction & Engineering',\n",
       " 'Metals & Mining',\n",
       " 'Technology',\n",
       " 'Media & Entertainment',\n",
       " 'Finance & Investments',\n",
       " 'Manufacturing',\n",
       " 'Energy',\n",
       " 'Telecom',\n",
       " 'Real Estate',\n",
       " 'Food & Beverage',\n",
       " 'Real Estate',\n",
       " 'Fashion & Retail',\n",
       " 'Diversified',\n",
       " 'Finance & Investments',\n",
       " 'Service',\n",
       " 'Metals & Mining',\n",
       " 'Real Estate',\n",
       " 'Technology',\n",
       " 'Manufacturing',\n",
       " 'Real Estate',\n",
       " 'Technology',\n",
       " 'Healthcare',\n",
       " 'Technology',\n",
       " 'Diversified',\n",
       " 'Real Estate',\n",
       " 'Energy',\n",
       " 'Fashion & Retail',\n",
       " 'Diversified',\n",
       " 'Finance & Investments',\n",
       " 'Manufacturing',\n",
       " 'Manufacturing',\n",
       " 'Food & Beverage',\n",
       " 'Finance & Investments',\n",
       " 'Logistics',\n",
       " 'Healthcare',\n",
       " 'Healthcare',\n",
       " 'Energy',\n",
       " 'Energy',\n",
       " 'Diversified',\n",
       " 'Technology',\n",
       " 'Fashion & Retail',\n",
       " 'Gambling & Casinos',\n",
       " 'Technology',\n",
       " 'Finance & Investments',\n",
       " 'Technology',\n",
       " 'Metals & Mining',\n",
       " 'Technology',\n",
       " 'Manufacturing',\n",
       " 'Technology',\n",
       " 'Energy',\n",
       " 'Technology',\n",
       " 'Energy',\n",
       " 'Healthcare',\n",
       " 'Metals & Mining',\n",
       " 'Technology',\n",
       " 'Finance & Investments',\n",
       " 'Technology',\n",
       " 'Real Estate',\n",
       " 'Construction & Engineering',\n",
       " 'Sports',\n",
       " 'Sports',\n",
       " 'Diversified',\n",
       " 'Media & Entertainment',\n",
       " 'Energy',\n",
       " 'Technology',\n",
       " 'Diversified',\n",
       " 'Finance & Investments',\n",
       " 'Finance & Investments',\n",
       " 'Manufacturing',\n",
       " 'Fashion & Retail',\n",
       " 'Finance & Investments',\n",
       " 'Food & Beverage',\n",
       " 'Finance & Investments',\n",
       " 'Technology',\n",
       " 'Media & Entertainment',\n",
       " 'Manufacturing']"
      ]
     },
     "execution_count": 99,
     "metadata": {},
     "output_type": "execute_result"
    }
   ],
   "source": [
    "industry"
   ]
  },
  {
   "cell_type": "code",
   "execution_count": 100,
   "id": "b2f99ab0",
   "metadata": {},
   "outputs": [],
   "source": [
    "#Q8 completed \n",
    "#closing the browser window\n",
    "driver.close()"
   ]
  },
  {
   "cell_type": "code",
   "execution_count": 112,
   "id": "30ec8359",
   "metadata": {},
   "outputs": [
    {
     "data": {
      "text/plain": [
       "<selenium.webdriver.chrome.webdriver.WebDriver (session=\"60a0f5f86612f02cd030939641781d5b\")>"
      ]
     },
     "execution_count": 112,
     "metadata": {},
     "output_type": "execute_result"
    }
   ],
   "source": [
    "#Q9\n",
    "\n",
    "\n",
    "# opening the browser\n",
    "driver=webdriver.Chrome(r\"C:\\Users\\hp\\Downloads\\chromedriver_win32\\chromedriver.exe\")\n",
    "driver\n"
   ]
  },
  {
   "cell_type": "code",
   "execution_count": 113,
   "id": "1033aaa4",
   "metadata": {},
   "outputs": [],
   "source": [
    "# lets maximize the window\n",
    "driver.maximize_window()"
   ]
  },
  {
   "cell_type": "code",
   "execution_count": 114,
   "id": "5b35c7ec",
   "metadata": {},
   "outputs": [],
   "source": [
    "# opening url\n",
    "url='https://www.youtube.com/'\n",
    "driver.get(url)"
   ]
  },
  {
   "cell_type": "code",
   "execution_count": 115,
   "id": "cee49f81",
   "metadata": {},
   "outputs": [],
   "source": [
    "# searching for a place\n",
    "search=driver.find_element(By.XPATH,'/html/body/ytd-app/div[1]/div/ytd-masthead/div[3]/div[2]/ytd-searchbox/form/div[1]/div[1]/input')\n",
    "search.send_keys(\"shorts\")"
   ]
  },
  {
   "cell_type": "code",
   "execution_count": 116,
   "id": "db2c0ba6",
   "metadata": {},
   "outputs": [],
   "source": [
    "srch_btn=driver.find_element(By.ID,'search-icon-legacy')\n",
    "srch_btn.click()"
   ]
  },
  {
   "cell_type": "code",
   "execution_count": 123,
   "id": "5ba36bd5",
   "metadata": {},
   "outputs": [],
   "source": [
    "comments=driver.find_element(By.XPATH,'/html/body/ytd-app/div[1]/ytd-page-manager/ytd-search/div[1]/ytd-two-column-search-results-renderer/div[2]/div/ytd-section-list-renderer/div[2]/ytd-item-section-renderer/div[3]/ytd-video-renderer[3]/div[1]/div/div[1]')\n",
    "comments.click()"
   ]
  },
  {
   "cell_type": "code",
   "execution_count": 135,
   "id": "ff1914c3",
   "metadata": {},
   "outputs": [
    {
     "data": {
      "text/plain": [
       "62"
      ]
     },
     "execution_count": 135,
     "metadata": {},
     "output_type": "execute_result"
    }
   ],
   "source": [
    "comments=[]\n",
    "comm_tag=driver.find_elements(By.XPATH,'//div[@class=\"style-scope ytd-expander\"]')\n",
    "for i in comm_tag:\n",
    "    comments.append(i.text)\n",
    "len(comments)"
   ]
  },
  {
   "cell_type": "code",
   "execution_count": 136,
   "id": "82c8cab4",
   "metadata": {},
   "outputs": [
    {
     "data": {
      "text/plain": [
       "['',\n",
       " 'I love how positive he is and it makes my day 100x better.',\n",
       " 'Great video hope you get 10M subs soon!! ',\n",
       " 'I was so annoyed when I was about to leave for school and then you posted!\\nAwesome job Ali!',\n",
       " 'nice vid ali loved it and all of ur vids of course',\n",
       " 'I love your vids! Keep up the spectacular work',\n",
       " '7:47 had me dead',\n",
       " 'Your videos are the best keep it up you’re my top star and it will allways be like that',\n",
       " \"I love how half of those I've already watched \",\n",
       " 'If you reach 1 billion subscribers in a decade I will be in one of your videos to hold the camera so your cameraman can have a break',\n",
       " 'The flop flip is amazing!! ',\n",
       " 'I love that video of Jenna, I’ve seen it so many times! And that video with Rosanna is so funny!',\n",
       " 'I love the vids! Keep up the amazing work! ',\n",
       " 'I didn’t know these were so popular also I watched already how different animals fight it’s so funny and true at the same time!',\n",
       " 'The blind mole, also known as the Mediterranean mole, is a mole found in the Mediterranean region. It is similar to the European mole, differing most prominently in having eyes covered with skin. It is found in Albania, France, Greece, Italy, Monaco, Montenegro, San Marino, Serbia, Slovenia, Switzerland, and Turkey',\n",
       " '“If someone is following you, they’ll have no idea which way you’re going”\\n\\nUnless they have a dog',\n",
       " 'Yo AliA please do a Dhar Mann reaction to a kid pulling the fire alarm to skip a test! It’s pretty funny!',\n",
       " \"That's what I actually do when I turn off the lights runaway before the monster can get me I always think there's a monster but there's not\",\n",
       " 'great video alia keep up the great work.️',\n",
       " 'I love stranger things I just finished it a few days ago ',\n",
       " \"A man's worth is no greater than his ambitions\",\n",
       " 'keep up the content :D',\n",
       " 'I really hope you make more videos  love, Puppy Pal ',\n",
       " 'POV: You were waiting for ‘How Zach King Gets Away With Doing Graffiti’ (but it never came)',\n",
       " \"You show amazing videos...mostly available all over internet...but appreciate you make the effort of sourcing and uploading....I'm not being rude...but please won't you tone town/ not have your running commentary going nonstop on each clip/ 'scene'...thanks and thanks for uploads...\",\n",
       " 'The first hand art is the best deidara cosplay ive ever seen',\n",
       " 'Rosanna’s had me laughing so hard ',\n",
       " 'I have watched half of them already ',\n",
       " 'Thank you for adding Mr who’s the boss and I just love that',\n",
       " 'That first YouTube short is me turning off the basement light when I forget some',\n",
       " 'When she said “THERES A MONSTER IN MY CLOSET!!” I thought it was the energy drink!',\n",
       " \"It's actually easy to do a Pringle circle doesn't really require talent\",\n",
       " 'There are special people trained to bend all sorts of shapes, they are sometimes at carnival I forgot what they are called tho ',\n",
       " 'I LOVE IT SO MUCH',\n",
       " 'the fact that a baby weighs more than me- ',\n",
       " 'great content!',\n",
       " 'I love how he was like I know what I want for my next birthday a Lego Lamborghini',\n",
       " 'Dadere be like on the hand one: \"Even though thats my hand true art is an explosion.\"\\n\\nIdk if I spelled his name right',\n",
       " 'Millie Bobby Brown shaved her head for season one but in season four she did that. Also congrats on the boy! ',\n",
       " 'Love it',\n",
       " 'Him: Dragonflies are useless! They do nothing.\\nBut they did the most damage-',\n",
       " 'These videos always put a smile on my face',\n",
       " '2:30 in that one I can confirm I have atleast 50 things in my purse. We need our essentials and anything you men might ask for along the way like snacks. ',\n",
       " 'I have seen shorts with a lot more views than 160M I just saw a short with 23 MILLION LIKES AND OVER 450MILLION VIEWS!!!!!!! The short is called home alone in a rush by\\n\\nDaniel LaBelle',\n",
       " 'Haha when I turn off the last light at night I run for my life upstairs as quickly as I can',\n",
       " 'you know they may have 4.5m views but you have 8.88m subs congrats',\n",
       " '03:18 is the exact definition of \"never let them know your next move\"',\n",
       " 'I can’t stop watching your videos',\n",
       " 'Sailhis is amazing at that shes like the best athlete ever lol',\n",
       " 'Wait… how does he not notice all these YouTubers XD',\n",
       " 'Some of these are truly amazing',\n",
       " '0:43 I would be so scared to even touch it without worrying it would break',\n",
       " 'Did you know that you can get the OG pump by putting it in a tent then whenever it gets vaulted you just get it out next time',\n",
       " 'I’m obsessed with it',\n",
       " 'Even though Oranges COULD be the best thing to protect your phone you still shouldn’t drop it a lot of times',\n",
       " 'Exspoed in 4k he doesn’t show the whole video + uses other people’s videos to subscribe to him ',\n",
       " 'From clip 6:47 seconds to 6:50 seconds alias voice turns deep and sounds like a killer',\n",
       " 'I love your video and u make people happy and laugh every time you post and they want to subscribe to you because u are awesome',\n",
       " 'Thanks for the video it always makes my day \\n\\nEdit first',\n",
       " 'Actually on the how different animals fight one the mole would still hit the target using echolocation',\n",
       " 'Please can you play more fall guys!',\n",
       " '']"
      ]
     },
     "execution_count": 136,
     "metadata": {},
     "output_type": "execute_result"
    }
   ],
   "source": [
    "comments"
   ]
  },
  {
   "cell_type": "code",
   "execution_count": 137,
   "id": "1d8ff597",
   "metadata": {},
   "outputs": [
    {
     "data": {
      "text/plain": [
       "182"
      ]
     },
     "execution_count": 137,
     "metadata": {},
     "output_type": "execute_result"
    }
   ],
   "source": [
    "comments_1=[]\n",
    "comm_tag=driver.find_elements(By.XPATH,'//div[@class=\"style-scope ytd-expander\"]')\n",
    "for i in comm_tag:\n",
    "    comments_1.append(i.text)\n",
    "len(comments_1)"
   ]
  },
  {
   "cell_type": "code",
   "execution_count": 138,
   "id": "9123618e",
   "metadata": {},
   "outputs": [
    {
     "data": {
      "text/plain": [
       "['',\n",
       " 'I love how positive he is and it makes my day 100x better.',\n",
       " 'Great video hope you get 10M subs soon!! ',\n",
       " 'I was so annoyed when I was about to leave for school and then you posted!\\nAwesome job Ali!',\n",
       " 'nice vid ali loved it and all of ur vids of course',\n",
       " 'I love your vids! Keep up the spectacular work',\n",
       " '7:47 had me dead',\n",
       " 'Your videos are the best keep it up you’re my top star and it will allways be like that',\n",
       " \"I love how half of those I've already watched \",\n",
       " 'If you reach 1 billion subscribers in a decade I will be in one of your videos to hold the camera so your cameraman can have a break',\n",
       " 'The flop flip is amazing!! ',\n",
       " 'I love that video of Jenna, I’ve seen it so many times! And that video with Rosanna is so funny!',\n",
       " 'I love the vids! Keep up the amazing work! ',\n",
       " 'I didn’t know these were so popular also I watched already how different animals fight it’s so funny and true at the same time!',\n",
       " 'The blind mole, also known as the Mediterranean mole, is a mole found in the Mediterranean region. It is similar to the European mole, differing most prominently in having eyes covered with skin. It is found in Albania, France, Greece, Italy, Monaco, Montenegro, San Marino, Serbia, Slovenia, Switzerland, and Turkey',\n",
       " '“If someone is following you, they’ll have no idea which way you’re going”\\n\\nUnless they have a dog',\n",
       " 'Yo AliA please do a Dhar Mann reaction to a kid pulling the fire alarm to skip a test! It’s pretty funny!',\n",
       " \"That's what I actually do when I turn off the lights runaway before the monster can get me I always think there's a monster but there's not\",\n",
       " 'great video alia keep up the great work.️',\n",
       " 'I love stranger things I just finished it a few days ago ',\n",
       " \"A man's worth is no greater than his ambitions\",\n",
       " 'keep up the content :D',\n",
       " 'I really hope you make more videos  love, Puppy Pal ',\n",
       " 'POV: You were waiting for ‘How Zach King Gets Away With Doing Graffiti’ (but it never came)',\n",
       " \"You show amazing videos...mostly available all over internet...but appreciate you make the effort of sourcing and uploading....I'm not being rude...but please won't you tone town/ not have your running commentary going nonstop on each clip/ 'scene'...thanks and thanks for uploads...\",\n",
       " 'The first hand art is the best deidara cosplay ive ever seen',\n",
       " 'Rosanna’s had me laughing so hard ',\n",
       " 'I have watched half of them already ',\n",
       " 'Thank you for adding Mr who’s the boss and I just love that',\n",
       " 'That first YouTube short is me turning off the basement light when I forget some',\n",
       " 'When she said “THERES A MONSTER IN MY CLOSET!!” I thought it was the energy drink!',\n",
       " \"It's actually easy to do a Pringle circle doesn't really require talent\",\n",
       " 'There are special people trained to bend all sorts of shapes, they are sometimes at carnival I forgot what they are called tho ',\n",
       " 'I LOVE IT SO MUCH',\n",
       " 'the fact that a baby weighs more than me- ',\n",
       " 'great content!',\n",
       " 'I love how he was like I know what I want for my next birthday a Lego Lamborghini',\n",
       " 'Dadere be like on the hand one: \"Even though thats my hand true art is an explosion.\"\\n\\nIdk if I spelled his name right',\n",
       " 'Millie Bobby Brown shaved her head for season one but in season four she did that. Also congrats on the boy! ',\n",
       " 'Love it',\n",
       " 'Him: Dragonflies are useless! They do nothing.\\nBut they did the most damage-',\n",
       " 'These videos always put a smile on my face',\n",
       " '2:30 in that one I can confirm I have atleast 50 things in my purse. We need our essentials and anything you men might ask for along the way like snacks. ',\n",
       " 'I have seen shorts with a lot more views than 160M I just saw a short with 23 MILLION LIKES AND OVER 450MILLION VIEWS!!!!!!! The short is called home alone in a rush by\\n\\nDaniel LaBelle',\n",
       " 'Haha when I turn off the last light at night I run for my life upstairs as quickly as I can',\n",
       " 'you know they may have 4.5m views but you have 8.88m subs congrats',\n",
       " '03:18 is the exact definition of \"never let them know your next move\"',\n",
       " 'I can’t stop watching your videos',\n",
       " 'Sailhis is amazing at that shes like the best athlete ever lol',\n",
       " 'Wait… how does he not notice all these YouTubers XD',\n",
       " 'Some of these are truly amazing',\n",
       " '0:43 I would be so scared to even touch it without worrying it would break',\n",
       " 'Did you know that you can get the OG pump by putting it in a tent then whenever it gets vaulted you just get it out next time',\n",
       " 'I’m obsessed with it',\n",
       " 'Even though Oranges COULD be the best thing to protect your phone you still shouldn’t drop it a lot of times',\n",
       " 'Exspoed in 4k he doesn’t show the whole video + uses other people’s videos to subscribe to him ',\n",
       " 'From clip 6:47 seconds to 6:50 seconds alias voice turns deep and sounds like a killer',\n",
       " 'I love your video and u make people happy and laugh every time you post and they want to subscribe to you because u are awesome',\n",
       " 'Thanks for the video it always makes my day \\n\\nEdit first',\n",
       " 'Actually on the how different animals fight one the mole would still hit the target using echolocation',\n",
       " 'Please can you play more fall guys!',\n",
       " '2:22 \\nNever let them know your next move',\n",
       " 'I haven’t watched stranger things but I’m still going to leave a like to show the best support I can',\n",
       " 'I love what thumbnail picture he chose',\n",
       " 'Everyone I hope your all having a great day and I hope everything bad that’s happening to you will be better amen',\n",
       " 'i love stranger things i,ve watched every season',\n",
       " 'Best reactions ever',\n",
       " 'Why the heck do you think she would shave her head just for a movie-',\n",
       " \"The Lego car wasn't fully made out of Lego they either had to Duplo which is giant Lego blocks that help support it or otherwise the wheels were regular Wheels not Lego\",\n",
       " '4m views? There are well over 100 yotube shorts with 200m+ views...',\n",
       " 'Do a most viral songs video and I know 1 legends never die',\n",
       " 'I love it so much it is the best',\n",
       " 'I love stranger things!',\n",
       " \"Ali there's a short that's more viewed than the #1 it's Golden Gully's Adventure Time Sandwich. It has 177M views\",\n",
       " '\"Can you mow the lawn first?\"\\n\"fine!\"\\n\"oh dude, he\\'s got a lawn mower!\"',\n",
       " 'Yo u should be on there u got 100k views in 2 hrs',\n",
       " 'I have watched Stranger Things before my 11 year old cousin loves it he has a new iPhone 13 Pro Max and the new Apple Watch and his keyboard lights up yellow and I’m going to Disneyland in in two weeks and I have the genie pass so I can go to the front of the line on almost every ride',\n",
       " 'I love these videos',\n",
       " 'I love stranger things my bigger brother loves it a lot',\n",
       " 'Was that a calculator that he scanned it with???',\n",
       " 'Lol its funny how you said dentist digest and had no clue ',\n",
       " 'When you haven’t seen stranger things so you can’t like the vid',\n",
       " 'The fact how niche gf was outside like \\nZoe: mind* what’cha doing?!',\n",
       " \"I've literally watched half these youtubers  today\",\n",
       " 'First',\n",
       " '7:36. twist ending they put a mirror there so the dad is the monster. lol',\n",
       " 'A lot of those Youtubers I actually know lol ',\n",
       " 'i dont watch stranger things but i still love your content',\n",
       " 'I love your videos you’re my favorite YouTuber in the world',\n",
       " 'loved your vids',\n",
       " '0:51 thats exactly like that one Phineas and Ferb episode.',\n",
       " 'Is it just me or is it every single one of you who watched  literally\\nEvery single short he shows us',\n",
       " 'I LOVE ALL OF YOUR VIDEOS\\nC:',\n",
       " 'I thought eleven shaved her head but she didn’t mind blowing',\n",
       " 'The monster one I actually was pretty scared',\n",
       " 'On the first one STILL SAME, LIKE I RUN FOR MY LIFE! Lol!',\n",
       " 'I’ve never watched Stranger Things before but I hit the like button anyway cause I like your videos',\n",
       " 'AliA’s next birthday. It will be smaller than that…',\n",
       " 'When I turn off the last light at night, I go SPEC OPS MODE',\n",
       " 'That basketball  curved at the end don’t believe everything on the internet ',\n",
       " 'i rode on that rolercoster and i literally died',\n",
       " 'I watch literally every channel that u showed',\n",
       " 'I know the people who did the basketball shot! They are called how ridiculous and they are awesome!!!',\n",
       " 'Aparently I’m not able to watch stranger things according to my own parents.',\n",
       " 'I saw the Pringle circle video and my dad sent me the \"how animals fight\" video on messenger',\n",
       " 'Cool Video!',\n",
       " \"That's famous stacking pringles!!\",\n",
       " 'That glass slide freaks me out',\n",
       " 'Longest knee slide ever has 15million views',\n",
       " 'At night after going to the bathroom I turn the light of and I run for my life and hop in my bed and cover up and playing my tablet lol',\n",
       " 'I want Stranger Things that’s on the shoulder episode',\n",
       " \"how's that baby so chubby !?\",\n",
       " \"The first  one is relatively to me bc  when I   turn my bed light  of I'm running and whale on my bed and it feels like my ankle was grabbed....and it's every night\",\n",
       " 'Brilliant video and content. Well played mate. 160 million views for a guy dressed like spiderman!?! I could of done that mate. I gotta start doing YT video',\n",
       " 'The biggest kid gives me maui vibes',\n",
       " 'That is like me but it’s only in my living room when I turn all the lights off. I don’t care when I’m upstairs',\n",
       " \"0:11 that's me when I'm alone downstairs\",\n",
       " 'I wonder what it feels like to be pinned by AliA',\n",
       " '15:04 *Me having emetophobia (Fear of puking or others puke) be like:*',\n",
       " '1:31 he has a doge bread t-shirt !!! :D',\n",
       " 'Wow just wow!!!!',\n",
       " 'That roller coaster I would faint on',\n",
       " \"Me in the background if he makes it I will admit that boys are better than girls and I'm a boy meanwhile he lands it\",\n",
       " 'I’m also scared at night when I close the light',\n",
       " 'When I was like 6 I made a Pringle circle for a challenge at school, and I thought I was so cool',\n",
       " 'Great video',\n",
       " 'Most viewed video is “bAbY ShArK” ',\n",
       " 'That thumbnail tho',\n",
       " 'Great clips',\n",
       " 'Millie had actually shaved her hair for season1',\n",
       " 'I think I saw a video that had around 400M',\n",
       " 'Please give me the link of that spiderman ',\n",
       " \"The one where he says the it looks like slow motion at the end is fake since a curve like that is pyhsical'y impossible.\",\n",
       " 'Glass bridge :imagine you go on that and it breaks me: thanks for ruining my life',\n",
       " '14:17 that baby nearly weighs as much as me',\n",
       " '5:34 he scanned it with a calculator',\n",
       " 'The first tiktok vid that was me like seriously I would get ready like a race and pounce on my bed',\n",
       " 'The one  where  he mowed the lawn  that  was  nick lmow',\n",
       " 'Greg Renko has a short with 133 million views tho',\n",
       " 'They can just cut him out of the Spider-Man costume just cut the costume so it back up later',\n",
       " 'I actually thought El had a hair shave',\n",
       " 'i do the first one almost all the time when i pass my dads bedroom XD',\n",
       " 'Cool video',\n",
       " 'Imagine sitting in the Lego car',\n",
       " '5:18 every roalercoaster drops',\n",
       " '12:30 i have vr and i can clearly see that she is playing a jurrasic world short film',\n",
       " 'the first vid is soo true i still do it LOl',\n",
       " 'If you pause the video on 2:36 you can see that there is nothing in the purse.',\n",
       " 'I was one of the 20 Million views on #11!',\n",
       " 'I’m not hating but how many of (Most Veiwed Shorts of all time) anyways I love seeing more Ali-a Posted a new vidoe',\n",
       " '15:20 the origin story of spiderman',\n",
       " 'I love Millie Bobby brown so that one was my fav',\n",
       " 'So cool keep it up',\n",
       " 'I love your videos Ali’s your a legand',\n",
       " 'Why ain’t that Delivery  guy in the NBA I’m confused',\n",
       " 'The video is AWSOME keep it up',\n",
       " 'The vid has only been up for 3 hours and it’s go 130k views',\n",
       " 'I love your videos a lot',\n",
       " 'My cousins and my whole entire family loves Stranger Things and also me',\n",
       " 'Spider-Man no way out ',\n",
       " 'no in the first and 2 seasons she had a shaved hair but in season 4 he didnt',\n",
       " \"Alia: what's the most viewed vid?\\nMe: DeSpAsItO!\",\n",
       " 'The kid knows the spider man no way home movie ending',\n",
       " 'time for youtube shorts',\n",
       " 'My soul left my body on number 16',\n",
       " '0:38 I know that place it is a really cool Hotel with a mall it’s called kepneski It is a five star hotel recommend to go there so cool',\n",
       " 'I actually already watched the Pringle video',\n",
       " 'Bro no way the last one literally is that person that does those kinda weird stuff the hole family 16:45',\n",
       " 'I’m running up that road running up those STAIRS',\n",
       " '32 was so relateable',\n",
       " 'Mrwhosetheboss is great!',\n",
       " 'I usually when im done drinking or turning of toilet lights i just run to my room when i was 7 to 9',\n",
       " 'Actually bella porch has the most viewed with like 412M views on her bulid a bleep video',\n",
       " 'Uhhh, is it just me, or was the video and audio way off? \\nAli-a I love your vids keep on posting they make me so happy!\\nP.S. The audio is fine now!!!!',\n",
       " 'My feet already hurt from that Lego car',\n",
       " 'i like your new camera ali',\n",
       " 'the first one was so true',\n",
       " 'Infinite finally finished the Pringle Circle yay',\n",
       " 'The guy that’s stuck wearing spider man cosplay he can just cut it off with scissors so yeah',\n",
       " 'When nick went to the strawberry’s I went strawberry picking today actually',\n",
       " 'No lol the most views on a short is 1,096,858',\n",
       " '']"
      ]
     },
     "execution_count": 138,
     "metadata": {},
     "output_type": "execute_result"
    }
   ],
   "source": [
    "comments_1"
   ]
  },
  {
   "cell_type": "code",
   "execution_count": 140,
   "id": "64eb05dc",
   "metadata": {},
   "outputs": [
    {
     "data": {
      "text/plain": [
       "502"
      ]
     },
     "execution_count": 140,
     "metadata": {},
     "output_type": "execute_result"
    }
   ],
   "source": [
    "comments_2=[]\n",
    "comm_tag=driver.find_elements(By.XPATH,'//div[@class=\"style-scope ytd-expander\"]')\n",
    "for i in comm_tag:\n",
    "    comments_2.append(i.text)\n",
    "len(comments_2)"
   ]
  },
  {
   "cell_type": "code",
   "execution_count": 141,
   "id": "92e6fd4c",
   "metadata": {},
   "outputs": [
    {
     "data": {
      "text/plain": [
       "1000"
      ]
     },
     "execution_count": 141,
     "metadata": {},
     "output_type": "execute_result"
    }
   ],
   "source": [
    "comm_upvote=[]\n",
    "comm_tag=driver.find_elements(By.XPATH,'//span[@class=\"style-scope ytd-comment-action-buttons-renderer\"]')\n",
    "for i in comm_tag:\n",
    "    comm_upvote.append(i.text)\n",
    "len(comm_upvote)"
   ]
  },
  {
   "cell_type": "code",
   "execution_count": 142,
   "id": "66dc38a6",
   "metadata": {},
   "outputs": [
    {
     "data": {
      "text/plain": [
       "681"
      ]
     },
     "execution_count": 142,
     "metadata": {},
     "output_type": "execute_result"
    }
   ],
   "source": [
    "time=[]\n",
    "time_tag=driver.find_elements(By.XPATH,'//a[@class=\"yt-simple-endpoint style-scope yt-formatted-string\"]')\n",
    "for i in time_tag:\n",
    "    time.append(i.text)\n",
    "len(time)"
   ]
  },
  {
   "cell_type": "code",
   "execution_count": 143,
   "id": "4d19c8f2",
   "metadata": {},
   "outputs": [],
   "source": [
    "#Q9 completed\n",
    "#closing window\n",
    "driver.close()"
   ]
  },
  {
   "cell_type": "code",
   "execution_count": 144,
   "id": "8d1f0b64",
   "metadata": {},
   "outputs": [
    {
     "data": {
      "text/plain": [
       "<selenium.webdriver.chrome.webdriver.WebDriver (session=\"6b2896d55a15298f208262dda534b0eb\")>"
      ]
     },
     "execution_count": 144,
     "metadata": {},
     "output_type": "execute_result"
    }
   ],
   "source": [
    "#Q10\n",
    "\n",
    "\n",
    "\n",
    "# opening the browser\n",
    "driver=webdriver.Chrome(r\"C:\\Users\\hp\\Downloads\\chromedriver_win32\\chromedriver.exe\")\n",
    "driver\n"
   ]
  },
  {
   "cell_type": "code",
   "execution_count": 145,
   "id": "f589b76d",
   "metadata": {},
   "outputs": [],
   "source": [
    "# lets maximize the window\n",
    "driver.maximize_window()"
   ]
  },
  {
   "cell_type": "code",
   "execution_count": 146,
   "id": "6d4d4720",
   "metadata": {},
   "outputs": [],
   "source": [
    "# lets open the url\n",
    "url='https://www.hostelworld.com/'\n",
    "driver.get(url)"
   ]
  },
  {
   "cell_type": "code",
   "execution_count": 148,
   "id": "58c40495",
   "metadata": {},
   "outputs": [],
   "source": [
    "location=driver.find_element(By.ID,'search-input-field')\n",
    "location.send_keys(\"london\")"
   ]
  },
  {
   "cell_type": "code",
   "execution_count": 154,
   "id": "6779bbd8",
   "metadata": {},
   "outputs": [],
   "source": [
    "srch_btn=driver.find_element(By.XPATH,'/html/body/div[3]/div/div/div[2]/div[1]/div/div/div[4]/div/div[2]/div/div[1]/div/div/ul/li[2]/div')\n",
    "srch_btn.click()"
   ]
  },
  {
   "cell_type": "code",
   "execution_count": 157,
   "id": "f3c4295a",
   "metadata": {},
   "outputs": [],
   "source": [
    "let=driver.find_element(By.XPATH,'/html/body/div[3]/div/div/div[2]/div[1]/div/div/div[4]/div/div[2]/div/div[5]/button')\n",
    "let.click()"
   ]
  },
  {
   "cell_type": "code",
   "execution_count": 158,
   "id": "37df526c",
   "metadata": {},
   "outputs": [
    {
     "data": {
      "text/plain": [
       "['Hostel One Notting Hill',\n",
       " \"St Christopher's Village\",\n",
       " 'Generator London',\n",
       " 'Safestay London Elephant & Castle',\n",
       " 'London Backpackers',\n",
       " \"St Christopher's Inn - London Bridge\",\n",
       " 'Queen Elizabeth Chelsea',\n",
       " 'Smart Hyde Park View Hostel',\n",
       " 'Saint James Backpackers',\n",
       " \"St Christopher's Greenwich\",\n",
       " \"St Christopher's Shepherds Bush\",\n",
       " 'Park Villa',\n",
       " 'Kip Hotel',\n",
       " 'Beaconsfield',\n",
       " 'Park Hotel']"
      ]
     },
     "execution_count": 158,
     "metadata": {},
     "output_type": "execute_result"
    }
   ],
   "source": [
    "names=[]\n",
    "n_tag=driver.find_elements(By.XPATH,'//h2[@class=\"title title-6\"]')\n",
    "for i in n_tag:\n",
    "    names.append(i.text)\n",
    "names"
   ]
  },
  {
   "cell_type": "code",
   "execution_count": 159,
   "id": "76f00089",
   "metadata": {},
   "outputs": [
    {
     "data": {
      "text/plain": [
       "15"
      ]
     },
     "execution_count": 159,
     "metadata": {},
     "output_type": "execute_result"
    }
   ],
   "source": [
    "len(names)"
   ]
  },
  {
   "cell_type": "code",
   "execution_count": 160,
   "id": "54238dcc",
   "metadata": {},
   "outputs": [
    {
     "data": {
      "text/plain": [
       "['Hostel - 5.5km from city centre',\n",
       " 'Hostel - 1.8km from city centre',\n",
       " 'Hostel - 3km from city centre',\n",
       " 'Hostel - 1.7km from city centre',\n",
       " 'Hostel - 11.9km from city centre',\n",
       " 'Hostel - 1.8km from city centre',\n",
       " 'Hostel - 5.7km from city centre',\n",
       " 'Hostel - 5km from city centre',\n",
       " 'Hostel - 5.5km from city centre',\n",
       " 'Hostel - 7.6km from city centre',\n",
       " 'Hostel - 7km from city centre',\n",
       " 'Hostel - 6.3km from city centre',\n",
       " 'Hotel - 6.8km from city centre',\n",
       " 'Hotel - 8.6km from city centre',\n",
       " 'Hotel - 4.9km from city centre']"
      ]
     },
     "execution_count": 160,
     "metadata": {},
     "output_type": "execute_result"
    }
   ],
   "source": [
    "distance=[]\n",
    "dist_tag=driver.find_elements(By.XPATH,'//span[@class=\"description\"]')\n",
    "for i in dist_tag:\n",
    "    distance.append(i.text)\n",
    "distance"
   ]
  },
  {
   "cell_type": "code",
   "execution_count": 161,
   "id": "57d21bb1",
   "metadata": {},
   "outputs": [
    {
     "data": {
      "text/plain": [
       "['9.3',\n",
       " '8.1',\n",
       " '7.7',\n",
       " '7.1',\n",
       " '7.9',\n",
       " '8.0',\n",
       " '7.2',\n",
       " '7.9',\n",
       " '7.3',\n",
       " '6.7',\n",
       " '7.5',\n",
       " '7.8',\n",
       " '7.1']"
      ]
     },
     "execution_count": 161,
     "metadata": {},
     "output_type": "execute_result"
    }
   ],
   "source": [
    "ratings=[]\n",
    "rate_tag=driver.find_elements(By.XPATH,'//div[@class=\"score orange big\"]')\n",
    "for i in rate_tag:\n",
    "    ratings.append(i.text)\n",
    "ratings"
   ]
  },
  {
   "cell_type": "code",
   "execution_count": 163,
   "id": "bad02be8",
   "metadata": {},
   "outputs": [
    {
     "data": {
      "text/plain": [
       "['From Rs4074',\n",
       " 'Privates From\\nRs18091.65 Rs14473\\nNo Dorms Available',\n",
       " 'No Privates Available\\nDorms From\\nRs4526.83 Rs4074',\n",
       " 'No Privates Available\\nDorms From\\nRs6069',\n",
       " 'No Privates Available\\nDorms From\\nRs3472',\n",
       " 'Privates From\\nRs5875\\nDorms From\\nRs2938',\n",
       " 'No Privates Available\\nDorms From\\nRs4856.9 Rs4371',\n",
       " 'No Privates Available\\nDorms From\\nRs3696',\n",
       " 'No Privates Available\\nDorms From\\nRs3721',\n",
       " 'Privates From\\nRs12827\\nDorms From\\nRs5440',\n",
       " 'No Privates Available\\nDorms From\\nRs3428.91 Rs3086',\n",
       " 'No Privates Available\\nDorms From\\nRs4051.32 Rs3646',\n",
       " 'No Privates Available\\nDorms From\\nRs5658',\n",
       " 'Privates From\\nRs12364\\nNo Dorms Available',\n",
       " 'Privates From\\nRs9462\\nNo Dorms Available',\n",
       " 'Privates From\\nRs22090\\nNo Dorms Available']"
      ]
     },
     "execution_count": 163,
     "metadata": {},
     "output_type": "execute_result"
    }
   ],
   "source": [
    "price=[]\n",
    "price_tag=driver.find_elements(By.XPATH,'//a[@class=\"prices\"]')\n",
    "for i in price_tag:\n",
    "    price.append(i.text)\n",
    "price"
   ]
  },
  {
   "cell_type": "code",
   "execution_count": 165,
   "id": "435d54ac",
   "metadata": {},
   "outputs": [
    {
     "data": {
      "text/plain": [
       "['Privates From\\nRs18091.65 Rs14473',\n",
       " 'No Dorms Available',\n",
       " 'No Privates Available',\n",
       " 'Dorms From\\nRs4526.83 Rs4074',\n",
       " 'No Privates Available',\n",
       " 'Dorms From\\nRs6069',\n",
       " 'No Privates Available',\n",
       " 'Dorms From\\nRs3472',\n",
       " 'Privates From\\nRs5875',\n",
       " 'Dorms From\\nRs2938',\n",
       " 'No Privates Available',\n",
       " 'Dorms From\\nRs4856.9 Rs4371',\n",
       " 'No Privates Available',\n",
       " 'Dorms From\\nRs3696',\n",
       " 'No Privates Available',\n",
       " 'Dorms From\\nRs3721',\n",
       " 'Privates From\\nRs12827',\n",
       " 'Dorms From\\nRs5440',\n",
       " 'No Privates Available',\n",
       " 'Dorms From\\nRs3428.91 Rs3086',\n",
       " 'No Privates Available',\n",
       " 'Dorms From\\nRs4051.32 Rs3646',\n",
       " 'No Privates Available',\n",
       " 'Dorms From\\nRs5658',\n",
       " 'Privates From\\nRs12364',\n",
       " 'No Dorms Available',\n",
       " 'Privates From\\nRs9462',\n",
       " 'No Dorms Available',\n",
       " 'Privates From\\nRs22090',\n",
       " 'No Dorms Available']"
      ]
     },
     "execution_count": 165,
     "metadata": {},
     "output_type": "execute_result"
    }
   ],
   "source": [
    "dorms=[]\n",
    "dorm_tag=driver.find_elements(By.XPATH,'//div[@class=\"price-col\"]')\n",
    "for i in dorm_tag:\n",
    "    dorms.append(i.text)\n",
    "dorms"
   ]
  },
  {
   "cell_type": "code",
   "execution_count": 166,
   "id": "2bbb06a7",
   "metadata": {},
   "outputs": [
    {
     "data": {
      "text/plain": [
       "['Fabulous',\n",
       " 'Superb',\n",
       " 'Fabulous',\n",
       " 'Very Good',\n",
       " 'Very Good',\n",
       " 'Very Good',\n",
       " 'Fabulous',\n",
       " 'Very Good',\n",
       " 'Very Good',\n",
       " 'Very Good',\n",
       " 'Good',\n",
       " 'Very Good',\n",
       " 'Very Good',\n",
       " 'Very Good',\n",
       " 'No Rating',\n",
       " 'No Rating']"
      ]
     },
     "execution_count": 166,
     "metadata": {},
     "output_type": "execute_result"
    }
   ],
   "source": [
    "reviews=[]\n",
    "rev_tag=driver.find_elements(By.XPATH,'//div[@class=\"keyword\"]')\n",
    "for i in rev_tag:\n",
    "    reviews.append(i.text)\n",
    "reviews"
   ]
  },
  {
   "cell_type": "code",
   "execution_count": 167,
   "id": "90d26a29",
   "metadata": {},
   "outputs": [
    {
     "data": {
      "text/plain": [
       "['1594 Total Reviews',\n",
       " '11699 Total Reviews',\n",
       " '7259 Total Reviews',\n",
       " '4686 Total Reviews',\n",
       " '4377 Total Reviews',\n",
       " '3399 Total Reviews',\n",
       " '3359 Total Reviews',\n",
       " '4635 Total Reviews',\n",
       " '1847 Total Reviews',\n",
       " '3278 Total Reviews',\n",
       " '731 Total Reviews',\n",
       " '879 Total Reviews',\n",
       " '55 Total Reviews',\n",
       " '28 Total Reviews',\n",
       " '0 Total Reviews']"
      ]
     },
     "execution_count": 167,
     "metadata": {},
     "output_type": "execute_result"
    }
   ],
   "source": [
    "overall_rev=[]\n",
    "revi_tag=driver.find_elements(By.XPATH,'//div[@class=\"reviews\"]')\n",
    "for i in revi_tag:\n",
    "    overall_rev.append(i.text)\n",
    "overall_rev"
   ]
  },
  {
   "cell_type": "code",
   "execution_count": 171,
   "id": "00239d7b",
   "metadata": {},
   "outputs": [],
   "source": [
    "hostel=driver.find_element(By.XPATH,'/html/body/div[3]/div/div/div[2]/div[4]/div/div/div[4]/div[3]/div[1]/h2')\n",
    "hostel.click()"
   ]
  },
  {
   "cell_type": "code",
   "execution_count": 172,
   "id": "df484afe",
   "metadata": {},
   "outputs": [
    {
     "data": {
      "text/plain": [
       "[\"The perfect place for solo travelers to connect, explore and party! Join the H1 Family and let us show you the beautiful city of London!\\n\\nWhat really makes our hostel unique and what has helped us win HostelWorld awards year after year, are our amazing team and incredibly social atmosphere.\\nOur staff are travelers just like you, but we are not just here to party. We will cook you dinner, take you on daytime adventures, and share our expert knowledge of the city.\\n\\nIf you still need more convincing, Hostel One Notting Hill is located in the absolute heart of Notting Hill (surely you have seen the film), one of London's most beautiful neighborhoods. We are walking distance from many major tourist attractions, such as Portobello Market, Hyde Park & Kensington Palace!\\n\\n- WHY US? \\nSocial but responsible.\\nDay and night, we do free activities with our H1 family. At Hostel One you arrive as a solo traveler and you leave with a family.\\n\\n- OUR FACILITIES\\nSleep well, feel well & make friends.\\n\\n. Fully equipped kitchen 24/7 access.\\n. Terrace area.\\n. Common areas all designed for different moods. To relax, to work or to party.\\n. Laundry facilities to keep you smelling fresh.\\n. Personal lockers, outlets and light in all rooms.\\n. No curfew, so you can come and go 24 hours per day as you please.\\n\\nWe are currently following all procedural advice from local governments and taking every necessary measure to ensure your safety, comfort and happiness.\\n. We are up to speed with local government guidelines, advice from WHO and the CDC.\\n. Deep cleaning throughout our hostels has been increased.\\n. We offer sanitization in all common areas and public spaces.\\n\\n- CANCELLATION POLICY \\nThis property has a 2 day cancellation policy. Failure to cancel within this time will result in a cancellation charge equal to the first night of your stay.\\n\\nNon-refundable rates: If your booking is non-refundable. If you choose to cancel your booking, or in the case of a no-show, you will still be charged the full cost of your booking.\\n\\n- POLICIES & CONDITIONS\\nCheck-in from 3 PM to 11 PM. For late check-in, please email the hostel in advance. \\nCheck-out until 11 AM \\n\\nAge Limit \\nWe have an age limit of 18 - 36 years old. If you are outside of this age range upon arrival to the hostel, we have the right to cancel your booking without refund of your deposit, as well as charging the applicable cancellation fee.\\n\\nWe look forward to greeting you in London!\",\n",
       " 'Fantastic hostel. Great location being close to the central line and grocery store just 2 blocks away. Jake was one of the many amazing volunteers that helped make this trip memorable!',\n",
       " 'Highly recommend staying at Hostel One!! The staff were absolutely amazing & helpful especially Andrea & Isabella!! There is always great activities to do every day & night and highly recommend staying if you want to make the most out of your holiday 🎉']"
      ]
     },
     "execution_count": 172,
     "metadata": {},
     "output_type": "execute_result"
    }
   ],
   "source": [
    "property=[]\n",
    "pro_tag=driver.find_elements(By.XPATH,'//div[@class=\"content collapse-content\"]')\n",
    "for i in pro_tag:\n",
    "    property.append(i.text)\n",
    "property"
   ]
  },
  {
   "cell_type": "code",
   "execution_count": 173,
   "id": "0b4e595e",
   "metadata": {},
   "outputs": [
    {
     "data": {
      "text/plain": [
       "['Facilities\\nFree\\nLinen Included Free WiFi Free Internet Access\\nGeneral\\nBreakfast Not Included Hot Showers Self-Catering Facilities Flexible NRR\\nServices\\nLuggage Storage\\nFood & Drink\\nTea & Coffee Making Facilities']"
      ]
     },
     "execution_count": 173,
     "metadata": {},
     "output_type": "execute_result"
    }
   ],
   "source": [
    "facility=[]\n",
    "f_tag=driver.find_elements(By.XPATH,'//div[@class=\"facilities-container\"]')\n",
    "for i in f_tag:\n",
    "    facility.append(i.text)\n",
    "facility"
   ]
  },
  {
   "cell_type": "code",
   "execution_count": 174,
   "id": "34158c16",
   "metadata": {},
   "outputs": [],
   "source": [
    "#Q10 done\n",
    "#closing the browser\n",
    "driver.close()"
   ]
  },
  {
   "cell_type": "code",
   "execution_count": 3,
   "id": "277721b4",
   "metadata": {},
   "outputs": [
    {
     "data": {
      "text/plain": [
       "<selenium.webdriver.chrome.webdriver.WebDriver (session=\"0666201b96cbc41c9e83aad66f15a382\")>"
      ]
     },
     "execution_count": 3,
     "metadata": {},
     "output_type": "execute_result"
    }
   ],
   "source": [
    "#Q3\n",
    "\n",
    "\n",
    "\n",
    "\n",
    "# opening the browser\n",
    "driver=webdriver.Chrome(r\"C:\\Users\\hp\\Downloads\\chromedriver_win32\\chromedriver.exe\")\n",
    "driver\n"
   ]
  },
  {
   "cell_type": "code",
   "execution_count": 4,
   "id": "033be3f6",
   "metadata": {},
   "outputs": [],
   "source": [
    "# lets maximize the window\n",
    "driver.maximize_window()"
   ]
  },
  {
   "cell_type": "code",
   "execution_count": 5,
   "id": "003f1455",
   "metadata": {},
   "outputs": [],
   "source": [
    "# opening url\n",
    "url='https://images.google.com/'\n",
    "driver.get(url)"
   ]
  },
  {
   "cell_type": "code",
   "execution_count": 6,
   "id": "9f55f235",
   "metadata": {},
   "outputs": [],
   "source": [
    "srch_fruits=driver.find_element(By.CLASS_NAME,'gLFyf')\n",
    "srch_fruits.send_keys(\"fruits images\")"
   ]
  },
  {
   "cell_type": "code",
   "execution_count": 7,
   "id": "b7b64341",
   "metadata": {},
   "outputs": [],
   "source": [
    "srch_img=driver.find_element(By.CLASS_NAME,'zgAlFc')\n",
    "srch_img.click()"
   ]
  },
  {
   "cell_type": "code",
   "execution_count": 8,
   "id": "67c2c8b4",
   "metadata": {},
   "outputs": [
    {
     "data": {
      "text/plain": [
       "10"
      ]
     },
     "execution_count": 8,
     "metadata": {},
     "output_type": "execute_result"
    }
   ],
   "source": [
    "fruits=[]\n",
    "frt_tag=driver.find_elements(By.XPATH,'//a[@class=\"VFACy kGQAp sMi44c d0NI4c lNHeqe WGvvNb\"]')\n",
    "for i in frt_tag[0:10]:\n",
    "    fruits.append(i.get_attribute('src'))\n",
    "len(fruits)\n",
    "    "
   ]
  },
  {
   "cell_type": "code",
   "execution_count": 9,
   "id": "fb98561f",
   "metadata": {},
   "outputs": [],
   "source": [
    "srch_cars=driver.find_element(By.CLASS_NAME,'og3lId')\n",
    "srch_cars.send_keys(\"car images\")"
   ]
  },
  {
   "cell_type": "code",
   "execution_count": 10,
   "id": "4ede45d6",
   "metadata": {},
   "outputs": [],
   "source": [
    "srch_btn=driver.find_element(By.CLASS_NAME,'XZ5MVe')\n",
    "srch_btn.click()"
   ]
  },
  {
   "cell_type": "code",
   "execution_count": 11,
   "id": "7387a873",
   "metadata": {},
   "outputs": [
    {
     "data": {
      "text/plain": [
       "10"
      ]
     },
     "execution_count": 11,
     "metadata": {},
     "output_type": "execute_result"
    }
   ],
   "source": [
    "cars=[]\n",
    "car_tag=driver.find_elements(By.XPATH,'//img[@class=\"rg_i Q4LuWd\"]')\n",
    "for i in car_tag[0:10]:\n",
    "    cars.append(i.get_attribute('src'))\n",
    "len(cars)\n",
    "    "
   ]
  },
  {
   "cell_type": "code",
   "execution_count": 12,
   "id": "881d278b",
   "metadata": {},
   "outputs": [
    {
     "data": {
      "text/plain": [
       "['data:image/jpeg;base64,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',\n",
       " 'data:image/jpeg;base64,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',\n",
       " 'data:image/jpeg;base64,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',\n",
       " 'data:image/jpeg;base64,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',\n",
       " 'data:image/jpeg;base64,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',\n",
       " 'data:image/jpeg;base64,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',\n",
       " 'data:image/jpeg;base64,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',\n",
       " 'data:image/jpeg;base64,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',\n",
       " 'data:image/jpeg;base64,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',\n",
       " 'data:image/jpeg;base64,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']"
      ]
     },
     "execution_count": 12,
     "metadata": {},
     "output_type": "execute_result"
    }
   ],
   "source": [
    "cars"
   ]
  },
  {
   "cell_type": "code",
   "execution_count": 13,
   "id": "024b92a8",
   "metadata": {},
   "outputs": [],
   "source": [
    "srch_cars=driver.find_element(By.CLASS_NAME,'og3lId')\n",
    "srch_cars.send_keys(\"machine learning images\")"
   ]
  },
  {
   "cell_type": "code",
   "execution_count": 14,
   "id": "0c9af23e",
   "metadata": {},
   "outputs": [],
   "source": [
    "srch_btn=driver.find_element(By.CLASS_NAME,'XZ5MVe')\n",
    "srch_btn.click()"
   ]
  },
  {
   "cell_type": "code",
   "execution_count": 19,
   "id": "1e7fdbd1",
   "metadata": {},
   "outputs": [
    {
     "data": {
      "text/plain": [
       "10"
      ]
     },
     "execution_count": 19,
     "metadata": {},
     "output_type": "execute_result"
    }
   ],
   "source": [
    "ml=[]\n",
    "ml_tag=driver.find_elements(By.XPATH,'//img[@class=\"rg_i Q4LuWd\"]')\n",
    "for i in ml_tag[0:10]:\n",
    "    ml.append(i.get_attribute('src'))\n",
    "len(ml)\n",
    "    "
   ]
  },
  {
   "cell_type": "code",
   "execution_count": 20,
   "id": "5f6f2834",
   "metadata": {},
   "outputs": [],
   "source": [
    "srch_cars=driver.find_element(By.CLASS_NAME,'og3lId')\n",
    "srch_cars.send_keys(\"guitar images\")"
   ]
  },
  {
   "cell_type": "code",
   "execution_count": 21,
   "id": "4823fbf5",
   "metadata": {},
   "outputs": [],
   "source": [
    "srch_btn=driver.find_element(By.CLASS_NAME,'XZ5MVe')\n",
    "srch_btn.click()"
   ]
  },
  {
   "cell_type": "code",
   "execution_count": 22,
   "id": "dc8fd6bb",
   "metadata": {},
   "outputs": [
    {
     "data": {
      "text/plain": [
       "10"
      ]
     },
     "execution_count": 22,
     "metadata": {},
     "output_type": "execute_result"
    }
   ],
   "source": [
    "guitar=[]\n",
    "gt_tag=driver.find_elements(By.XPATH,'//img[@class=\"rg_i Q4LuWd\"]')\n",
    "for i in gt_tag[0:10]:\n",
    "    guitar.append(i.get_attribute('src'))\n",
    "len(guitar)\n",
    "    "
   ]
  },
  {
   "cell_type": "code",
   "execution_count": 23,
   "id": "e61c5e6a",
   "metadata": {},
   "outputs": [],
   "source": [
    "srch_cars=driver.find_element(By.CLASS_NAME,'og3lId')\n",
    "srch_cars.send_keys(\"cakes\")"
   ]
  },
  {
   "cell_type": "code",
   "execution_count": 24,
   "id": "01c9df96",
   "metadata": {},
   "outputs": [],
   "source": [
    "srch_btn=driver.find_element(By.CLASS_NAME,'XZ5MVe')\n",
    "srch_btn.click()"
   ]
  },
  {
   "cell_type": "code",
   "execution_count": 31,
   "id": "525675af",
   "metadata": {},
   "outputs": [
    {
     "data": {
      "text/plain": [
       "10"
      ]
     },
     "execution_count": 31,
     "metadata": {},
     "output_type": "execute_result"
    }
   ],
   "source": [
    "cakes=[]\n",
    "cake_tag=driver.find_elements(By.XPATH,'//img[@class=\"rg_i Q4LuWd\"]')\n",
    "for i in cake_tag[0:10]:\n",
    "    cakes.append(i.get_attribute('src'))\n",
    "len(cakes)\n",
    "    "
   ]
  },
  {
   "cell_type": "code",
   "execution_count": 32,
   "id": "1b5272f5",
   "metadata": {},
   "outputs": [
    {
     "data": {
      "text/plain": [
       "['data:image/jpeg;base64,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',\n",
       " 'data:image/jpeg;base64,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',\n",
       " 'data:image/jpeg;base64,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',\n",
       " 'data:image/jpeg;base64,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',\n",
       " 'data:image/jpeg;base64,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',\n",
       " 'data:image/jpeg;base64,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',\n",
       " 'data:image/jpeg;base64,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',\n",
       " 'data:image/jpeg;base64,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',\n",
       " 'data:image/jpeg;base64,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',\n",
       " 'data:image/jpeg;base64,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']"
      ]
     },
     "execution_count": 32,
     "metadata": {},
     "output_type": "execute_result"
    }
   ],
   "source": [
    "cakes"
   ]
  },
  {
   "cell_type": "code",
   "execution_count": 33,
   "id": "b37c49d4",
   "metadata": {},
   "outputs": [],
   "source": [
    "#==================done===============\n",
    "#closing the window\n",
    "driver.close()"
   ]
  },
  {
   "cell_type": "code",
   "execution_count": null,
   "id": "57b558cd",
   "metadata": {},
   "outputs": [],
   "source": []
  }
 ],
 "metadata": {
  "kernelspec": {
   "display_name": "Python 3 (ipykernel)",
   "language": "python",
   "name": "python3"
  },
  "language_info": {
   "codemirror_mode": {
    "name": "ipython",
    "version": 3
   },
   "file_extension": ".py",
   "mimetype": "text/x-python",
   "name": "python",
   "nbconvert_exporter": "python",
   "pygments_lexer": "ipython3",
   "version": "3.9.12"
  }
 },
 "nbformat": 4,
 "nbformat_minor": 5
}
