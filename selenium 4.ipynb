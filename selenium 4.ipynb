{
 "cells": [
  {
   "cell_type": "code",
   "execution_count": 44,
   "id": "5c3154ea",
   "metadata": {},
   "outputs": [
    {
     "name": "stdout",
     "output_type": "stream",
     "text": [
      "Requirement already satisfied: selenium in c:\\users\\hp\\anaconda3\\lib\\site-packages (4.5.0)\n",
      "Requirement already satisfied: certifi>=2021.10.8 in c:\\users\\hp\\anaconda3\\lib\\site-packages (from selenium) (2022.9.24)\n",
      "Requirement already satisfied: trio~=0.17 in c:\\users\\hp\\anaconda3\\lib\\site-packages (from selenium) (0.22.0)\n",
      "Requirement already satisfied: urllib3[socks]~=1.26 in c:\\users\\hp\\anaconda3\\lib\\site-packages (from selenium) (1.26.9)\n",
      "Requirement already satisfied: trio-websocket~=0.9 in c:\\users\\hp\\anaconda3\\lib\\site-packages (from selenium) (0.9.2)\n",
      "Requirement already satisfied: idna in c:\\users\\hp\\anaconda3\\lib\\site-packages (from trio~=0.17->selenium) (3.3)\n",
      "Requirement already satisfied: sniffio in c:\\users\\hp\\anaconda3\\lib\\site-packages (from trio~=0.17->selenium) (1.2.0)\n",
      "Requirement already satisfied: exceptiongroup>=1.0.0rc9 in c:\\users\\hp\\anaconda3\\lib\\site-packages (from trio~=0.17->selenium) (1.0.0)\n",
      "Requirement already satisfied: sortedcontainers in c:\\users\\hp\\anaconda3\\lib\\site-packages (from trio~=0.17->selenium) (2.4.0)\n",
      "Requirement already satisfied: attrs>=19.2.0 in c:\\users\\hp\\anaconda3\\lib\\site-packages (from trio~=0.17->selenium) (21.4.0)\n",
      "Requirement already satisfied: outcome in c:\\users\\hp\\anaconda3\\lib\\site-packages (from trio~=0.17->selenium) (1.2.0)\n",
      "Requirement already satisfied: async-generator>=1.9 in c:\\users\\hp\\anaconda3\\lib\\site-packages (from trio~=0.17->selenium) (1.10)\n",
      "Requirement already satisfied: cffi>=1.14 in c:\\users\\hp\\anaconda3\\lib\\site-packages (from trio~=0.17->selenium) (1.15.0)\n",
      "Requirement already satisfied: pycparser in c:\\users\\hp\\anaconda3\\lib\\site-packages (from cffi>=1.14->trio~=0.17->selenium) (2.21)\n",
      "Requirement already satisfied: wsproto>=0.14 in c:\\users\\hp\\anaconda3\\lib\\site-packages (from trio-websocket~=0.9->selenium) (1.2.0)\n",
      "Requirement already satisfied: PySocks!=1.5.7,<2.0,>=1.5.6 in c:\\users\\hp\\anaconda3\\lib\\site-packages (from urllib3[socks]~=1.26->selenium) (1.7.1)\n",
      "Requirement already satisfied: h11<1,>=0.9.0 in c:\\users\\hp\\anaconda3\\lib\\site-packages (from wsproto>=0.14->trio-websocket~=0.9->selenium) (0.14.0)\n"
     ]
    }
   ],
   "source": [
    "!pip install selenium"
   ]
  },
  {
   "cell_type": "code",
   "execution_count": 27,
   "id": "619894a2",
   "metadata": {},
   "outputs": [],
   "source": [
    "import selenium\n",
    "from selenium import webdriver\n",
    "import pandas as pd\n",
    "from selenium.webdriver.common.by import By\n",
    "import warnings\n",
    "warnings.filterwarnings('ignore')"
   ]
  },
  {
   "cell_type": "code",
   "execution_count": 28,
   "id": "8619446f",
   "metadata": {},
   "outputs": [],
   "source": [
    "import time"
   ]
  },
  {
   "cell_type": "code",
   "execution_count": 47,
   "id": "8117bd5d",
   "metadata": {},
   "outputs": [
    {
     "data": {
      "text/plain": [
       "<selenium.webdriver.chrome.webdriver.WebDriver (session=\"7c08e708f554872b7a1538ceef0bc8b4\")>"
      ]
     },
     "execution_count": 47,
     "metadata": {},
     "output_type": "execute_result"
    }
   ],
   "source": [
    "# lets first connect to webdriver\n",
    "driver=webdriver.Chrome(r\"C:\\Users\\hp\\Downloads\\chromedriver_win32\\chromedriver.exe\")\n",
    "driver"
   ]
  },
  {
   "cell_type": "code",
   "execution_count": 48,
   "id": "49ed40cb",
   "metadata": {},
   "outputs": [],
   "source": [
    "# lets maximize the window\n",
    "driver.maximize_window()"
   ]
  },
  {
   "cell_type": "code",
   "execution_count": 49,
   "id": "4268ad0c",
   "metadata": {},
   "outputs": [],
   "source": [
    "url='https://en.wikipedia.org/wiki/List_of_most-viewed_YouTube_videos'\n",
    "driver.get(url)"
   ]
  },
  {
   "cell_type": "code",
   "execution_count": 50,
   "id": "b59b8dfa",
   "metadata": {},
   "outputs": [
    {
     "data": {
      "text/plain": [
       "3"
      ]
     },
     "execution_count": 50,
     "metadata": {},
     "output_type": "execute_result"
    }
   ],
   "source": [
    "names=[]\n",
    "names_tag=driver.find_elements(By.XPATH,'//a[@title=\"Despacito\"]')\n",
    "for i in names_tag:\n",
    "    names.append(i.text)\n",
    "len(names)"
   ]
  },
  {
   "cell_type": "code",
   "execution_count": 51,
   "id": "9a375c98",
   "metadata": {},
   "outputs": [
    {
     "data": {
      "text/plain": [
       "['Despacito', 'Despacito', 'Despacito']"
      ]
     },
     "execution_count": 51,
     "metadata": {},
     "output_type": "execute_result"
    }
   ],
   "source": [
    "names"
   ]
  },
  {
   "cell_type": "code",
   "execution_count": 52,
   "id": "87efe07f",
   "metadata": {},
   "outputs": [],
   "source": [
    "from selenium.common.exceptions import StaleElementReferenceException,NoSuchElementException"
   ]
  },
  {
   "cell_type": "code",
   "execution_count": 53,
   "id": "1ce42e25",
   "metadata": {},
   "outputs": [],
   "source": [
    "# importing regex\n",
    "import re\n",
    "from selenium.webdriver.common.by import By"
   ]
  },
  {
   "cell_type": "code",
   "execution_count": 54,
   "id": "f23913bf",
   "metadata": {},
   "outputs": [],
   "source": [
    "from selenium.common.exceptions import ElementNotInteractableException"
   ]
  },
  {
   "cell_type": "code",
   "execution_count": 55,
   "id": "ef1b985c",
   "metadata": {},
   "outputs": [],
   "source": [
    "driver.close()"
   ]
  },
  {
   "cell_type": "code",
   "execution_count": 56,
   "id": "321327e5",
   "metadata": {},
   "outputs": [],
   "source": [
    "# lets first connect to webdriver\n",
    "driver=webdriver.Chrome(r\"C:\\Users\\hp\\Downloads\\chromedriver_win32\\chromedriver.exe\")\n",
    "url='https://en.wikipedia.org/wiki/List_of_most-viewed_YouTube_videos'\n",
    "driver.get(url)"
   ]
  },
  {
   "cell_type": "code",
   "execution_count": 57,
   "id": "e85c2cd0",
   "metadata": {},
   "outputs": [],
   "source": [
    "try:\n",
    "    element=driver.find_element(By.XPATH,'//a[@class=\"mw-redirect\"]')\n",
    "    element.click()\n",
    "except ElementNotInteractableException as e:\n",
    "    print(\"exception raised\",e)\n",
    "element=driver.find_element(By.XPATH,'//a[@class=\"mw-redirect\"]')\n",
    "driver.get(element.get_attribute('href'))\n"
   ]
  },
  {
   "cell_type": "code",
   "execution_count": 58,
   "id": "8c863d01",
   "metadata": {},
   "outputs": [
    {
     "ename": "NoSuchElementException",
     "evalue": "Message: no such element: Unable to locate element: {\"method\":\"xpath\",\"selector\":\"//a[@title=\"Ed Sheeran\"]\"}\n  (Session info: chrome=107.0.5304.122)\nStacktrace:\nBacktrace:\n\tOrdinal0 [0x00C6ACD3+2075859]\n\tOrdinal0 [0x00BFEE61+1633889]\n\tOrdinal0 [0x00AFB7BD+571325]\n\tOrdinal0 [0x00B2AC2F+764975]\n\tOrdinal0 [0x00B2AE1B+765467]\n\tOrdinal0 [0x00B5D0F2+970994]\n\tOrdinal0 [0x00B47364+881508]\n\tOrdinal0 [0x00B5B56A+963946]\n\tOrdinal0 [0x00B47136+880950]\n\tOrdinal0 [0x00B1FEFD+720637]\n\tOrdinal0 [0x00B20F3F+724799]\n\tGetHandleVerifier [0x00F1EED2+2769538]\n\tGetHandleVerifier [0x00F10D95+2711877]\n\tGetHandleVerifier [0x00CFA03A+521194]\n\tGetHandleVerifier [0x00CF8DA0+516432]\n\tOrdinal0 [0x00C0682C+1665068]\n\tOrdinal0 [0x00C0B128+1683752]\n\tOrdinal0 [0x00C0B215+1683989]\n\tOrdinal0 [0x00C16484+1729668]\n\tBaseThreadInitThunk [0x766C8744+36]\n\tRtlGetAppContainerNamedObjectPath [0x773D582D+253]\n\tRtlGetAppContainerNamedObjectPath [0x773D57FD+205]\n",
     "output_type": "error",
     "traceback": [
      "\u001b[1;31m---------------------------------------------------------------------------\u001b[0m",
      "\u001b[1;31mNoSuchElementException\u001b[0m                    Traceback (most recent call last)",
      "Input \u001b[1;32mIn [58]\u001b[0m, in \u001b[0;36m<cell line: 1>\u001b[1;34m()\u001b[0m\n\u001b[1;32m----> 1\u001b[0m srch\u001b[38;5;241m=\u001b[39m\u001b[43mdriver\u001b[49m\u001b[38;5;241;43m.\u001b[39;49m\u001b[43mfind_element\u001b[49m\u001b[43m(\u001b[49m\u001b[43mBy\u001b[49m\u001b[38;5;241;43m.\u001b[39;49m\u001b[43mXPATH\u001b[49m\u001b[43m,\u001b[49m\u001b[38;5;124;43m'\u001b[39;49m\u001b[38;5;124;43m//a[@title=\u001b[39;49m\u001b[38;5;124;43m\"\u001b[39;49m\u001b[38;5;124;43mEd Sheeran\u001b[39;49m\u001b[38;5;124;43m\"\u001b[39;49m\u001b[38;5;124;43m]\u001b[39;49m\u001b[38;5;124;43m'\u001b[39;49m\u001b[43m)\u001b[49m\n\u001b[0;32m      2\u001b[0m srch\n",
      "File \u001b[1;32m~\\anaconda3\\lib\\site-packages\\selenium\\webdriver\\remote\\webdriver.py:856\u001b[0m, in \u001b[0;36mWebDriver.find_element\u001b[1;34m(self, by, value)\u001b[0m\n\u001b[0;32m    853\u001b[0m     by \u001b[38;5;241m=\u001b[39m By\u001b[38;5;241m.\u001b[39mCSS_SELECTOR\n\u001b[0;32m    854\u001b[0m     value \u001b[38;5;241m=\u001b[39m \u001b[38;5;124m'\u001b[39m\u001b[38;5;124m[name=\u001b[39m\u001b[38;5;124m\"\u001b[39m\u001b[38;5;132;01m%s\u001b[39;00m\u001b[38;5;124m\"\u001b[39m\u001b[38;5;124m]\u001b[39m\u001b[38;5;124m'\u001b[39m \u001b[38;5;241m%\u001b[39m value\n\u001b[1;32m--> 856\u001b[0m \u001b[38;5;28;01mreturn\u001b[39;00m \u001b[38;5;28;43mself\u001b[39;49m\u001b[38;5;241;43m.\u001b[39;49m\u001b[43mexecute\u001b[49m\u001b[43m(\u001b[49m\u001b[43mCommand\u001b[49m\u001b[38;5;241;43m.\u001b[39;49m\u001b[43mFIND_ELEMENT\u001b[49m\u001b[43m,\u001b[49m\u001b[43m \u001b[49m\u001b[43m{\u001b[49m\n\u001b[0;32m    857\u001b[0m \u001b[43m    \u001b[49m\u001b[38;5;124;43m'\u001b[39;49m\u001b[38;5;124;43musing\u001b[39;49m\u001b[38;5;124;43m'\u001b[39;49m\u001b[43m:\u001b[49m\u001b[43m \u001b[49m\u001b[43mby\u001b[49m\u001b[43m,\u001b[49m\n\u001b[0;32m    858\u001b[0m \u001b[43m    \u001b[49m\u001b[38;5;124;43m'\u001b[39;49m\u001b[38;5;124;43mvalue\u001b[39;49m\u001b[38;5;124;43m'\u001b[39;49m\u001b[43m:\u001b[49m\u001b[43m \u001b[49m\u001b[43mvalue\u001b[49m\u001b[43m}\u001b[49m\u001b[43m)\u001b[49m[\u001b[38;5;124m'\u001b[39m\u001b[38;5;124mvalue\u001b[39m\u001b[38;5;124m'\u001b[39m]\n",
      "File \u001b[1;32m~\\anaconda3\\lib\\site-packages\\selenium\\webdriver\\remote\\webdriver.py:429\u001b[0m, in \u001b[0;36mWebDriver.execute\u001b[1;34m(self, driver_command, params)\u001b[0m\n\u001b[0;32m    427\u001b[0m response \u001b[38;5;241m=\u001b[39m \u001b[38;5;28mself\u001b[39m\u001b[38;5;241m.\u001b[39mcommand_executor\u001b[38;5;241m.\u001b[39mexecute(driver_command, params)\n\u001b[0;32m    428\u001b[0m \u001b[38;5;28;01mif\u001b[39;00m response:\n\u001b[1;32m--> 429\u001b[0m     \u001b[38;5;28;43mself\u001b[39;49m\u001b[38;5;241;43m.\u001b[39;49m\u001b[43merror_handler\u001b[49m\u001b[38;5;241;43m.\u001b[39;49m\u001b[43mcheck_response\u001b[49m\u001b[43m(\u001b[49m\u001b[43mresponse\u001b[49m\u001b[43m)\u001b[49m\n\u001b[0;32m    430\u001b[0m     response[\u001b[38;5;124m'\u001b[39m\u001b[38;5;124mvalue\u001b[39m\u001b[38;5;124m'\u001b[39m] \u001b[38;5;241m=\u001b[39m \u001b[38;5;28mself\u001b[39m\u001b[38;5;241m.\u001b[39m_unwrap_value(\n\u001b[0;32m    431\u001b[0m         response\u001b[38;5;241m.\u001b[39mget(\u001b[38;5;124m'\u001b[39m\u001b[38;5;124mvalue\u001b[39m\u001b[38;5;124m'\u001b[39m, \u001b[38;5;28;01mNone\u001b[39;00m))\n\u001b[0;32m    432\u001b[0m     \u001b[38;5;28;01mreturn\u001b[39;00m response\n",
      "File \u001b[1;32m~\\anaconda3\\lib\\site-packages\\selenium\\webdriver\\remote\\errorhandler.py:243\u001b[0m, in \u001b[0;36mErrorHandler.check_response\u001b[1;34m(self, response)\u001b[0m\n\u001b[0;32m    241\u001b[0m         alert_text \u001b[38;5;241m=\u001b[39m value[\u001b[38;5;124m'\u001b[39m\u001b[38;5;124malert\u001b[39m\u001b[38;5;124m'\u001b[39m]\u001b[38;5;241m.\u001b[39mget(\u001b[38;5;124m'\u001b[39m\u001b[38;5;124mtext\u001b[39m\u001b[38;5;124m'\u001b[39m)\n\u001b[0;32m    242\u001b[0m     \u001b[38;5;28;01mraise\u001b[39;00m exception_class(message, screen, stacktrace, alert_text)  \u001b[38;5;66;03m# type: ignore[call-arg]  # mypy is not smart enough here\u001b[39;00m\n\u001b[1;32m--> 243\u001b[0m \u001b[38;5;28;01mraise\u001b[39;00m exception_class(message, screen, stacktrace)\n",
      "\u001b[1;31mNoSuchElementException\u001b[0m: Message: no such element: Unable to locate element: {\"method\":\"xpath\",\"selector\":\"//a[@title=\"Ed Sheeran\"]\"}\n  (Session info: chrome=107.0.5304.122)\nStacktrace:\nBacktrace:\n\tOrdinal0 [0x00C6ACD3+2075859]\n\tOrdinal0 [0x00BFEE61+1633889]\n\tOrdinal0 [0x00AFB7BD+571325]\n\tOrdinal0 [0x00B2AC2F+764975]\n\tOrdinal0 [0x00B2AE1B+765467]\n\tOrdinal0 [0x00B5D0F2+970994]\n\tOrdinal0 [0x00B47364+881508]\n\tOrdinal0 [0x00B5B56A+963946]\n\tOrdinal0 [0x00B47136+880950]\n\tOrdinal0 [0x00B1FEFD+720637]\n\tOrdinal0 [0x00B20F3F+724799]\n\tGetHandleVerifier [0x00F1EED2+2769538]\n\tGetHandleVerifier [0x00F10D95+2711877]\n\tGetHandleVerifier [0x00CFA03A+521194]\n\tGetHandleVerifier [0x00CF8DA0+516432]\n\tOrdinal0 [0x00C0682C+1665068]\n\tOrdinal0 [0x00C0B128+1683752]\n\tOrdinal0 [0x00C0B215+1683989]\n\tOrdinal0 [0x00C16484+1729668]\n\tBaseThreadInitThunk [0x766C8744+36]\n\tRtlGetAppContainerNamedObjectPath [0x773D582D+253]\n\tRtlGetAppContainerNamedObjectPath [0x773D57FD+205]\n"
     ]
    }
   ],
   "source": [
    "srch=driver.find_element(By.XPATH,'//a[@title=\"Ed Sheeran\"]')\n",
    "srch"
   ]
  },
  {
   "cell_type": "code",
   "execution_count": 60,
   "id": "355ebe41",
   "metadata": {},
   "outputs": [
    {
     "data": {
      "text/plain": [
       "['Top 30 most-viewed YouTube videos[3]\\nNo. Video name Uploader Views (billions) Publication date Note\\n1. \"Baby Shark Dance\"[4] Pinkfong Baby Shark - Kids\\' Songs & Stories 11.74 June 17, 2016 [A]\\n2. \"Despacito\"[7] Luis Fonsi 8.01 January 12, 2017 [B]\\n3. \"Johny Johny Yes Papa\"[14] LooLoo Kids 6.53 October 8, 2016 [C]\\n4. \"Shape of You\"[15] Ed Sheeran 5.85 January 30, 2017 [D]\\n5. \"Bath Song\"[17] Cocomelon – Nursery Rhymes 5.77 May 2, 2018 [E]\\n6. \"See You Again\"[18] Wiz Khalifa 5.70 April 6, 2015 [F]\\n7. \"Phonics Song with Two Words\"[23] ChuChu TV 5.02 March 6, 2014 [G]\\n8. \"Uptown Funk\"[24] Mark Ronson 4.76 November 19, 2014 [H]\\n9. \"Learning Colors – Colorful Eggs on a Farm\"[25] Miroshka TV 4.73 February 27, 2018 [I]\\n10. \"Wheels on the Bus\"[26] Cocomelon – Nursery Rhymes 4.63 May 24, 2018\\n11. \"Gangnam Style\"[27] Psy 4.61 July 15, 2012 [J]\\n12. \"Masha and the Bear – Recipe for Disaster\"[32] Get Movies 4.51 January 31, 2012 [K]\\n13. \"Dame Tu Cosita\"[33] El Chombo 4.14 April 5, 2018\\n14. \"Sugar\"[34] Maroon 5 3.78 January 14, 2015\\n15. \"Roar\"[35] Katy Perry 3.69 September 5, 2013\\n16. \"Counting Stars\"[36] OneRepublic 3.68 May 31, 2013\\n17. \"Axel F\"[37] Crazy Frog 3.61 June 16, 2009\\n18. \"Sorry\"[38] Justin Bieber 3.61 October 22, 2015\\n19. \"Thinking Out Loud\"[39] Ed Sheeran 3.52 October 7, 2014\\n20. \"Baa Baa Black Sheep\"[40] Cocomelon – Nursery Rhymes 3.43 June 25, 2018\\n21. \"Dark Horse\"[41] Katy Perry 3.40 February 20, 2014\\n22. \"Faded\"[42] Alan Walker 3.37 December 3, 2015\\n23. \"Girls Like You\"[43] Maroon 5 3.35 May 31, 2018\\n24. \"Let Her Go\"[44] Passenger 3.34 July 25, 2012\\n25. \"Waka Waka (This Time for Africa)\"[45] Shakira 3.31 June 4, 2010\\n26. \"Perfect\"[46] Ed Sheeran 3.30 November 9, 2017\\n27. \"Bailando\"[47] Enrique Iglesias 3.30 April 11, 2014\\n28. \"Lean On\"[48] Major Lazer 3.29 March 22, 2015\\n29. \"Humpty the train on a fruits ride\"[49] Kiddiestv Hindi – Nursery Rhymes & Kids Songs 3.23 January 26, 2018\\n30. \"Shake It Off\"[50] Taylor Swift 3.23 August 18, 2014\\nAs of November 27, 2022',\n",
       " 'Progression of the most-viewed video on YouTube\\nVideo name Uploader Views at\\nachievement* Publication date Date achieved Days after\\nupload Days\\nheld Takedown\\ndate Ref Notes\\n\"Baby Shark Dance\"[4] Pinkfong Baby Shark - Kids\\' Songs & Stories 7,046,700,000 June 17, 2016 November 2, 2020 1600 765\\n\"Despacito\"[7] Luis Fonsi 2,993,700,000 January 12, 2017 August 4, 2017 206 1,186 [62] [B]\\n\"See You Again\"[18] Wiz Khalifa 2,894,000,000 April 6, 2015 July 10, 2017 826 25 [19]\\n\"Gangnam Style\"⁂[27] Psy 803,700,000 July 15, 2012 November 24, 2012 134 1,689 [28] [J]\\n\"Baby\"*[63] Justin Bieber 245,400,000 February 19, 2010 July 16, 2010 149 862 [64] [L]\\n\"Bad Romance\"[67] Lady Gaga 178,400,000 November 24, 2009 April 14, 2010 143 93 [68] [M]\\n\"Charlie Bit My Finger\"‡[71] HDCYT 128,900,000 May 22, 2007 October 25, 2009 887 171 late July 2021[72] [73]\\n\"Evolution of Dance\"[74] Judson Laipply 118,900,000 April 6, 2006 May 2, 2009 1062 176 [75]\\n\"Girlfriend\"‡[76][77] RCA Records 92,600,000 February 27, 2007 July 17, 2008 508 289 no data [78] [N]\\n\"Evolution of Dance\"[74] Judson Laipply 78,400,000 April 6, 2006 March 15, 2008 651 124 [80]\\n\"Music Is My Hot Hot Sex\"‡[81] CLARUSBARTEL72 76,600,000 April 9, 2007 March 1, 2008 327 14 mid-2008[82] [83] [O]\\n\"Evolution of Dance\"*[74] Judson Laipply 10,600,000 April 6, 2006 May 19, 2006 16 652 [86] [P]\\n\"Pokémon Theme Music Video\"‡[87] Smosh 4,300,000 November 28, 2005 March 12, 2006 105 68 June 2007[88] [89] [Q]\\n\"Myspace – The Movie\"‡[92][93] eggtea 2,700,000 January 31, 2006 February 18, 2006 18 22 mid-2006[94] [95]\\n\"Phony Photo Booth\"‡[96] mugenized 3,400,000 December 1, 2005 January 21, 2006 50 28 no data [97] [R]\\n\"The Chronic of Narnia Rap\"‡[98] youtubedude 2,300,000 December 18, 2005 January 9, 2006 22 12 no data [99]\\n\"Ronaldinho: Touch of Gold\"‡*[100] Nikesoccer 255,000 October 21, 2005 October 31, 2005 10 70 no data [101] [S]\\n\"I/O Brush\"‡*[103] larfus 247,000 October 5, 2005 October 29, 2005 24 2 no data [104]\\n\"Me at the zoo\"[105] jawed 1 April 23, 2005 April 23, 2005 0 189 [106]\\nAs of December 7, 2022']"
      ]
     },
     "execution_count": 60,
     "metadata": {},
     "output_type": "execute_result"
    }
   ],
   "source": [
    "table=[]\n",
    "table_tags=driver.find_elements(By.XPATH,'//table[@class=\"wikitable sortable jquery-tablesorter\"]')\n",
    "for i in table_tags:\n",
    "    table.append(i.text)\n",
    "table"
   ]
  },
  {
   "cell_type": "code",
   "execution_count": 61,
   "id": "b77bfef5",
   "metadata": {},
   "outputs": [],
   "source": [
    "driver.close()"
   ]
  },
  {
   "cell_type": "code",
   "execution_count": 2,
   "id": "bbeb20b7",
   "metadata": {},
   "outputs": [],
   "source": [
    "#Q2"
   ]
  },
  {
   "cell_type": "code",
   "execution_count": 3,
   "id": "73728b35",
   "metadata": {},
   "outputs": [
    {
     "data": {
      "text/plain": [
       "<selenium.webdriver.chrome.webdriver.WebDriver (session=\"455a84290b0ea431327f8e8301c13e47\")>"
      ]
     },
     "execution_count": 3,
     "metadata": {},
     "output_type": "execute_result"
    }
   ],
   "source": [
    "# lets first connect to webdriver\n",
    "driver=webdriver.Chrome(r\"C:\\Users\\hp\\Downloads\\chromedriver_win32\\chromedriver.exe\")\n",
    "driver"
   ]
  },
  {
   "cell_type": "code",
   "execution_count": 4,
   "id": "4b29a899",
   "metadata": {},
   "outputs": [],
   "source": [
    "# lets maximize the window\n",
    "driver.maximize_window()"
   ]
  },
  {
   "cell_type": "code",
   "execution_count": 5,
   "id": "15d7ee14",
   "metadata": {},
   "outputs": [],
   "source": [
    "url='https://www.bcci.tv/.'\n",
    "driver.get(url)"
   ]
  },
  {
   "cell_type": "code",
   "execution_count": 7,
   "id": "ba147dd2",
   "metadata": {},
   "outputs": [
    {
     "data": {
      "text/plain": [
       "['1st T20I -', '3rd ODI -', '2nd T20I -', '1st Test -']"
      ]
     },
     "execution_count": 7,
     "metadata": {},
     "output_type": "execute_result"
    }
   ],
   "source": [
    "match_title=[]\n",
    "match_tag=driver.find_elements(By.XPATH,'//span[@class=\"matchOrderText ng-binding ng-scope\"]')\n",
    "for i in match_tag[0:4]:\n",
    "    match_title.append(i.text)\n",
    "match_title"
   ]
  },
  {
   "cell_type": "code",
   "execution_count": 10,
   "id": "39a1d623",
   "metadata": {},
   "outputs": [
    {
     "data": {
      "text/plain": [
       "['AUSTRALIA WOMEN TOUR OF INDIA 2022',\n",
       " 'INDIA TOUR OF BANGLADESH ODI SERIES 2022-23',\n",
       " 'AUSTRALIA WOMEN TOUR OF INDIA 2022',\n",
       " 'INDIA TOUR OF BANGLADESH TEST SERIES 2022-23']"
      ]
     },
     "execution_count": 10,
     "metadata": {},
     "output_type": "execute_result"
    }
   ],
   "source": [
    "series_title=[]\n",
    "series_tag=driver.find_elements(By.XPATH,'//span[@class=\"ng-binding\"]')\n",
    "for i in series_tag[0:4]:\n",
    "    series_title.append(i.text)\n",
    "series_title"
   ]
  },
  {
   "cell_type": "code",
   "execution_count": 12,
   "id": "014c15ee",
   "metadata": {},
   "outputs": [
    {
     "data": {
      "text/plain": [
       "['- DY Patil Stadium, NAVI MUMBAI',\n",
       " ' Zahur Ahmed Chowdhury Stadium, Chattogram',\n",
       " '- DY Patil Stadium, NAVI MUMBAI',\n",
       " '- Zahur Ahmed Chowdhury Stadium, Chattogram']"
      ]
     },
     "execution_count": 12,
     "metadata": {},
     "output_type": "execute_result"
    }
   ],
   "source": [
    "place_title=[]\n",
    "place_tag=driver.find_elements(By.XPATH,'//p[@class=\"match-place ng-binding\"]')\n",
    "for i in place_tag[0:4]:\n",
    "    place_title.append(i.text[9:])\n",
    "place_title"
   ]
  },
  {
   "cell_type": "code",
   "execution_count": 14,
   "id": "ae4c264c",
   "metadata": {},
   "outputs": [
    {
     "data": {
      "text/plain": [
       "['9 DEC 2022', '10 DEC 2022', '11 DEC 2022', '14 DEC 2022']"
      ]
     },
     "execution_count": 14,
     "metadata": {},
     "output_type": "execute_result"
    }
   ],
   "source": [
    "date_title=[]\n",
    "date_tag=driver.find_elements(By.XPATH,'//h5[@class=\"ng-binding\"]')\n",
    "for i in date_tag[0:4]:\n",
    "    date_title.append(i.text)\n",
    "date_title"
   ]
  },
  {
   "cell_type": "code",
   "execution_count": 17,
   "id": "a5a5d70d",
   "metadata": {},
   "outputs": [
    {
     "data": {
      "text/plain": [
       "['7:00 PM IST', '11:30 AM IST', '7:00 PM IST', '']"
      ]
     },
     "execution_count": 17,
     "metadata": {},
     "output_type": "execute_result"
    }
   ],
   "source": [
    "time_title=[]\n",
    "time_tag=driver.find_elements(By.XPATH,'//h5[@class=\"match-time ng-binding\"]')\n",
    "for i in time_tag[0:4]:\n",
    "    time_title.append(i.text)\n",
    "time_title"
   ]
  },
  {
   "cell_type": "code",
   "execution_count": 18,
   "id": "8f91f466",
   "metadata": {},
   "outputs": [],
   "source": [
    "btn=driver.find_element(By.XPATH,'/html/body/nav/div[1]/button')\n",
    "btn.click()"
   ]
  },
  {
   "cell_type": "code",
   "execution_count": 19,
   "id": "4955fd79",
   "metadata": {},
   "outputs": [],
   "source": [
    "clk=driver.find_element(By.XPATH,'/html/body/nav/div[1]/div[2]/ul[1]/li[2]/a')\n",
    "clk.click()"
   ]
  },
  {
   "cell_type": "code",
   "execution_count": 4,
   "id": "fbc0644f",
   "metadata": {},
   "outputs": [],
   "source": [
    "#Q2 completed \n",
    "#closing the driver window\n",
    "driver.close()"
   ]
  },
  {
   "cell_type": "code",
   "execution_count": 5,
   "id": "4c416eed",
   "metadata": {},
   "outputs": [
    {
     "data": {
      "text/plain": [
       "<selenium.webdriver.chrome.webdriver.WebDriver (session=\"1862a9f5667e222ff67b0c58880fc18c\")>"
      ]
     },
     "execution_count": 5,
     "metadata": {},
     "output_type": "execute_result"
    }
   ],
   "source": [
    "# lets first connect to webdriver\n",
    "driver=webdriver.Chrome(r\"C:\\Users\\hp\\Downloads\\chromedriver_win32\\chromedriver.exe\")\n",
    "driver"
   ]
  },
  {
   "cell_type": "code",
   "execution_count": 4,
   "id": "27b896d8",
   "metadata": {},
   "outputs": [],
   "source": [
    "# lets maximize the window\n",
    "driver.maximize_window()"
   ]
  },
  {
   "cell_type": "code",
   "execution_count": 6,
   "id": "34d52334",
   "metadata": {},
   "outputs": [],
   "source": [
    "url='https://www.guru99.com/'\n",
    "driver.get(url)"
   ]
  },
  {
   "cell_type": "code",
   "execution_count": 8,
   "id": "9d4e7a45",
   "metadata": {},
   "outputs": [],
   "source": [
    "btn=driver.find_element(By.XPATH,'/html/body/div[1]/div/div/div/main/div/article/div/div[1]/div[1]/div[2]/div/div[1]/div/div/div/form/table/tbody/tr/td[1]/div/table/tbody/tr/td[1]/input')\n",
    "btn.send_keys(\"selenium exceptions\")"
   ]
  },
  {
   "cell_type": "code",
   "execution_count": 9,
   "id": "e33a0c60",
   "metadata": {},
   "outputs": [],
   "source": [
    "button=driver.find_element(By.XPATH,'/html/body/div[1]/div/div/div/main/div/article/div/div[1]/div[1]/div[2]/div/div[1]/div/div/div/form/table/tbody/tr/td[2]/button')\n",
    "button.click()"
   ]
  },
  {
   "cell_type": "code",
   "execution_count": 10,
   "id": "95e321de",
   "metadata": {},
   "outputs": [],
   "source": [
    "clk=driver.find_element(By.XPATH,'/html/body/div[1]/div/div/div/main/div/article/div/div[1]/div[1]/div[2]/div/div[1]/div/div/div/div[1]/div[6]/div[2]/div/div/div[1]/div[1]/div[1]/div[1]/div/a')\n",
    "clk.click()"
   ]
  },
  {
   "cell_type": "code",
   "execution_count": 13,
   "id": "68aff4ec",
   "metadata": {},
   "outputs": [],
   "source": [
    "from selenium.common.exceptions import NoSuchElementException"
   ]
  },
  {
   "cell_type": "code",
   "execution_count": 14,
   "id": "dd57186d",
   "metadata": {},
   "outputs": [
    {
     "name": "stdout",
     "output_type": "stream",
     "text": [
      "Guru99 is totally new kind of learning experience.\n",
      "We make tons of efforts to take boredom out of learning and make it fun\n",
      "Search for your Favorite Course\n",
      "About 831 results (0.28 seconds)\n",
      "Sort by:\n",
      "Relevance\n",
      "Exception Handling in Selenium Webdriver (Types)\n",
      "Guru99 › exception-handling-selenium\n",
      "29-Oct-2022 ... Types of Exceptions in Selenium Webdriver · 1. ElementNotVisibleException: · 2. ElementNotSelectableException: · 3. NoSuchElementException: · 4.\n",
      "Selenium Wait – Implicit, Explicit and Fluent Waits\n",
      "Guru99 › implicit-explicit-waits-selenium\n",
      "29-Oct-2022 ... The Implicit Wait in Selenium is used to tell the web driver to wait for a certain amount of time before it throws a “No Such Element Exception” ...\n",
      "Try Catch in Java: Exception Handling Example\n",
      "Guru99 › java-exception-handling\n",
      "05-Nov-2022 ... In Java, exceptions are mainly used for indicating different types of error conditions. In this tutorial, you will learn-. What is Exception?\n",
      "Selenium Tutorial\n",
      "Guru99 › selenium-tutorial\n",
      "29-Oct-2022 ... Selenium Tutorial for Beginners: Learn Selenium Basics ✔️ TestNG ... Tutorial, Selenium Exception Handling (Common Exceptions List) ...\n",
      "Python Exception Handling: try, catch, finally & raise [Example]\n",
      "Guru99 › python-exception-handling\n",
      "12-Nov-2022 ... Raise Statement in Python; Important Python Errors; Other Important Python Exceptions; Error vs. Exceptions. Common Examples of Exception:.\n",
      "How to Create User Defined Exception in Java\n",
      "Guru99 › java-user-defined-exception\n",
      "05-Nov-2022 ... User Defined Exception or custom exception is creating your own exception class and throw that exception using 'throw' keyword.\n",
      "Download Geckodriver: How to Install Using Firefox for Selenium\n",
      "Guru99 › gecko-marionette-driver-selenium\n",
      "22-Oct-2022 ... Common exceptions occurred while using Gecko Driver: · 1. The path to driver executable must be set by webdriver.gecko.driver system property: · 2 ...\n",
      "JUnit Expected Exception Test: @Test(expected)\n",
      "Guru99 › junit-exception-test\n",
      "22-Oct-2022 ... While Testing exception, you need to ensure that exception class you are providing in that optional parameter of @test annotation is the same.\n",
      "C++ Exception Handling: Try, Catch, throw Example\n",
      "Guru99 › cpp-exceptions-handling\n",
      "12-Nov-2022 ... To catch the exceptions, you place some section of code under exception inspection. The section of code is placed within the try-catch block. If ...\n",
      "Exception Handling in VB.Net: Try & Catch Handling Examples\n",
      "Guru99 › try-catch-finally-vb-net\n",
      "22-Oct-2022 ... In this VB.Net Exception Handling tutorial, we will learn What is Exception Handling in VB.Net with Try, Catch, Finally, & Throw Exception ...\n",
      "12345678910\n",
      "Search for selenium exceptions on Google\n",
      "Tutorials Library\n",
      "\n",
      "TESTING\n",
      "➤ Software Testing\n",
      "➤ QTP (Quick Test Professional)\n",
      "➤ Selenium\n",
      "SAP\n",
      "➤ SAP Beginner\n",
      "➤ SAP ABAP\n",
      "➤ SAP HR/HCM\n",
      "➤ SAP FICO\n",
      "AI\n",
      "➤ TensorFlow\n",
      "➤ R Programming\n",
      "➤ NLTK\n",
      "➤ Artificial Intelligence\n",
      "MUST LEARN!\n",
      "➤ Web Development\n",
      "➤ Online Courses\n",
      "➤ Reviews\n",
      "➤ Excel Tutorials\n"
     ]
    }
   ],
   "source": [
    "try:\n",
    "    element=driver.find_element(By.XPATH,'//div[@class=\"entry-content single-content\"]')\n",
    "    print(element.text)\n",
    "except NoSuchElementException as e:\n",
    "    print(\"exception raised\",e)\n",
    "    element=driver.find_element(By.XPATH,'/html/body/div[1]/div/div/div/main/div/article/div/div/p[1]/strong')\n",
    "    print(element.text)\n",
    "    \n",
    "    "
   ]
  },
  {
   "cell_type": "code",
   "execution_count": 15,
   "id": "da37f9fb",
   "metadata": {},
   "outputs": [],
   "source": [
    "btn=driver.find_element(By.XPATH,'/html/body/div[1]/div/div/div/main/div/article/div/div[1]/div[1]/div[2]/div/div[1]/div/div/div/form/table/tbody/tr/td[1]/div/table/tbody/tr/td[1]/input')\n",
    "btn.send_keys(\"selenium exception handling\")"
   ]
  },
  {
   "cell_type": "code",
   "execution_count": 16,
   "id": "37ccd403",
   "metadata": {},
   "outputs": [],
   "source": [
    "button=driver.find_element(By.XPATH,'/html/body/div[1]/div/div/div/main/div/article/div/div[1]/div[1]/div[2]/div/div[1]/div/div/div/form/table/tbody/tr/td[2]/button')\n",
    "button.click()"
   ]
  },
  {
   "cell_type": "code",
   "execution_count": 17,
   "id": "0cfd561e",
   "metadata": {},
   "outputs": [],
   "source": [
    "cli=driver.find_element(By.XPATH,'/html/body/div[1]/div/div/div/main/div/article/div/div[1]/div[1]/div[2]/div/div[1]/div/div/div/div[1]/div[6]/div[2]/div/div/div[1]/div[1]/div[1]/div[1]/div/a')\n",
    "cli.click()"
   ]
  },
  {
   "cell_type": "code",
   "execution_count": 18,
   "id": "a6a3bf9e",
   "metadata": {},
   "outputs": [],
   "source": [
    "#Q3 completed lets close the driver window\n",
    "driver.close()"
   ]
  },
  {
   "cell_type": "code",
   "execution_count": 9,
   "id": "c968e955",
   "metadata": {},
   "outputs": [
    {
     "data": {
      "text/plain": [
       "<selenium.webdriver.chrome.webdriver.WebDriver (session=\"53d59e5ab56a2d8bfa393ffd08c496e3\")>"
      ]
     },
     "execution_count": 9,
     "metadata": {},
     "output_type": "execute_result"
    }
   ],
   "source": [
    "#Q4 \n",
    "# lets first connect to webdriver\n",
    "driver=webdriver.Chrome(r\"C:\\Users\\hp\\Downloads\\chromedriver_win32\\chromedriver.exe\")\n",
    "driver\n"
   ]
  },
  {
   "cell_type": "code",
   "execution_count": 10,
   "id": "e3eccf10",
   "metadata": {},
   "outputs": [],
   "source": [
    "# lets maximize the window\n",
    "driver.maximize_window()"
   ]
  },
  {
   "cell_type": "code",
   "execution_count": 11,
   "id": "c3081b89",
   "metadata": {},
   "outputs": [],
   "source": [
    "url='http://statisticstimes.com/'\n",
    "driver.get(url)"
   ]
  },
  {
   "cell_type": "code",
   "execution_count": 14,
   "id": "55038636",
   "metadata": {},
   "outputs": [],
   "source": [
    "button=driver.find_element(By.XPATH,'/html/body/div[2]/div[1]/div[2]/div[2]/button/i')\n",
    "button.click()"
   ]
  },
  {
   "cell_type": "code",
   "execution_count": 8,
   "id": "4529254f",
   "metadata": {},
   "outputs": [],
   "source": [
    "driver.close()"
   ]
  },
  {
   "cell_type": "code",
   "execution_count": 16,
   "id": "7db6730f",
   "metadata": {},
   "outputs": [],
   "source": [
    "butto=driver.find_element(By.XPATH,'/html/body/div[2]/div[1]/div[2]')\n",
    "butto.click()"
   ]
  },
  {
   "cell_type": "code",
   "execution_count": 19,
   "id": "1ea7063e",
   "metadata": {},
   "outputs": [],
   "source": [
    "click_1=driver.find_element(By.XPATH,'/html/body/div[2]/div[2]/div[2]/ul/li[1]/a')\n",
    "click_1.click()"
   ]
  },
  {
   "cell_type": "code",
   "execution_count": 22,
   "id": "41add6ba",
   "metadata": {},
   "outputs": [],
   "source": [
    "# scrapping the rank from statistics.com"
   ]
  },
  {
   "cell_type": "code",
   "execution_count": 21,
   "id": "d663ef7f",
   "metadata": {},
   "outputs": [
    {
     "data": {
      "text/plain": [
       "68"
      ]
     },
     "execution_count": 21,
     "metadata": {},
     "output_type": "execute_result"
    }
   ],
   "source": [
    "rank=[]\n",
    "rank_tag=driver.find_elements(By.XPATH,'//td[@class=\"data1\"]')\n",
    "for i in rank_tag:\n",
    "    rank.append(i.text)\n",
    "len(rank)"
   ]
  },
  {
   "cell_type": "code",
   "execution_count": 23,
   "id": "576b68d9",
   "metadata": {},
   "outputs": [
    {
     "data": {
      "text/plain": [
       "['Maharashtra',\n",
       " 'Tamil Nadu',\n",
       " 'Uttar Pradesh',\n",
       " 'Gujarat',\n",
       " 'Karnataka',\n",
       " 'West Bengal',\n",
       " 'Rajasthan',\n",
       " 'Andhra Pradesh',\n",
       " 'Telangana',\n",
       " 'Madhya Pradesh',\n",
       " 'Kerala',\n",
       " 'Delhi',\n",
       " 'Haryana',\n",
       " 'Bihar',\n",
       " 'Punjab',\n",
       " 'Odisha',\n",
       " 'Assam',\n",
       " 'Chhattisgarh',\n",
       " 'Jharkhand',\n",
       " 'Uttarakhand',\n",
       " 'Jammu & Kashmir',\n",
       " 'Himachal Pradesh',\n",
       " 'Goa',\n",
       " 'Tripura',\n",
       " 'Chandigarh',\n",
       " 'Puducherry',\n",
       " 'Meghalaya',\n",
       " 'Sikkim',\n",
       " 'Manipur',\n",
       " 'Nagaland',\n",
       " 'Arunachal Pradesh',\n",
       " 'Mizoram',\n",
       " 'Andaman & Nicobar Islands']"
      ]
     },
     "execution_count": 23,
     "metadata": {},
     "output_type": "execute_result"
    }
   ],
   "source": [
    "#scrapping the states\n",
    "states=[]\n",
    "state_tag=driver.find_elements(By.XPATH,'//td[@class=\"name\"]')\n",
    "for i in state_tag[0:33]:\n",
    "    states.append(i.text)\n",
    "states"
   ]
  },
  {
   "cell_type": "code",
   "execution_count": 24,
   "id": "c7831c71",
   "metadata": {},
   "outputs": [
    {
     "data": {
      "text/plain": [
       "33"
      ]
     },
     "execution_count": 24,
     "metadata": {},
     "output_type": "execute_result"
    }
   ],
   "source": [
    "len(states)"
   ]
  },
  {
   "cell_type": "code",
   "execution_count": 25,
   "id": "18e368f2",
   "metadata": {},
   "outputs": [],
   "source": [
    "# scrapping gsdp(18-19)at current prices"
   ]
  },
  {
   "cell_type": "code",
   "execution_count": 26,
   "id": "94f58354",
   "metadata": {},
   "outputs": [
    {
     "data": {
      "text/plain": [
       "['2,632,792',\n",
       " '1,630,208',\n",
       " '1,584,764',\n",
       " '1,502,899',\n",
       " '1,493,127',\n",
       " '1,089,898',\n",
       " '942,586',\n",
       " '862,957',\n",
       " '861,031',\n",
       " '809,592',\n",
       " '781,653',\n",
       " '774,870',\n",
       " '734,163',\n",
       " '530,363',\n",
       " '526,376',\n",
       " '487,805',\n",
       " '315,881',\n",
       " '304,063',\n",
       " '297,204',\n",
       " '245,895',\n",
       " '155,956',\n",
       " '153,845',\n",
       " '73,170',\n",
       " '49,845',\n",
       " '42,114',\n",
       " '34,433',\n",
       " '33,481',\n",
       " '28,723',\n",
       " '27,870',\n",
       " '27,283',\n",
       " '24,603',\n",
       " '22,287',\n",
       " '-']"
      ]
     },
     "execution_count": 26,
     "metadata": {},
     "output_type": "execute_result"
    }
   ],
   "source": [
    "#scrapping the states\n",
    "gsdp=[]\n",
    "gsdp_tag=driver.find_elements(By.XPATH,'//td[@class=\"data sorting_1\"]')\n",
    "for i in gsdp_tag[0:33]:\n",
    "    gsdp.append(i.text)\n",
    "gsdp"
   ]
  },
  {
   "cell_type": "code",
   "execution_count": 27,
   "id": "fdd8e850",
   "metadata": {},
   "outputs": [
    {
     "data": {
      "text/plain": [
       "33"
      ]
     },
     "execution_count": 27,
     "metadata": {},
     "output_type": "execute_result"
    }
   ],
   "source": [
    "len(gsdp)"
   ]
  },
  {
   "cell_type": "code",
   "execution_count": 28,
   "id": "b66acd75",
   "metadata": {},
   "outputs": [],
   "source": [
    "# scrapping gsdp(19-20)at current prices"
   ]
  },
  {
   "cell_type": "code",
   "execution_count": 31,
   "id": "3ca7625b",
   "metadata": {},
   "outputs": [
    {
     "data": {
      "text/plain": [
       "['-',\n",
       " '13.94%',\n",
       " '399.921',\n",
       " '-',\n",
       " '2,039,074',\n",
       " '1,845,853',\n",
       " '8.63%',\n",
       " '247.629',\n",
       " '1,312,929',\n",
       " '1,215,307',\n",
       " '1,687,818',\n",
       " '8.39%',\n",
       " '240.726',\n",
       " '1,166,817',\n",
       " '1,123,982',\n",
       " '-',\n",
       " '7.96%',\n",
       " '228.290',\n",
       " '-',\n",
       " '1,186,379',\n",
       " '1,631,977',\n",
       " '7.91%',\n",
       " '226.806',\n",
       " '1,156,039',\n",
       " '1,091,077',\n",
       " '1,253,832',\n",
       " '5.77%',\n",
       " '165.556',\n",
       " '793,223',\n",
       " '739,525',\n",
       " '1,020,989',\n",
       " '4.99%',\n",
       " '143.179']"
      ]
     },
     "execution_count": 31,
     "metadata": {},
     "output_type": "execute_result"
    }
   ],
   "source": [
    "\n",
    "gsdp_1=[]\n",
    "gsd_tag=driver.find_elements(By.XPATH,'//td[@class=\"data\"]')\n",
    "for i in gsd_tag[0:33]:\n",
    "    gsdp_1.append(i.text)\n",
    "gsdp_1"
   ]
  },
  {
   "cell_type": "code",
   "execution_count": 32,
   "id": "20398478",
   "metadata": {},
   "outputs": [],
   "source": [
    "#share (18-19)"
   ]
  },
  {
   "cell_type": "code",
   "execution_count": 37,
   "id": "88f5ec81",
   "metadata": {},
   "outputs": [],
   "source": [
    "from selenium.common.exceptions import ElementNotInteractableException"
   ]
  },
  {
   "cell_type": "code",
   "execution_count": 41,
   "id": "3c7f1769",
   "metadata": {},
   "outputs": [
    {
     "name": "stdout",
     "output_type": "stream",
     "text": [
      "[<selenium.webdriver.remote.webelement.WebElement (session=\"53d59e5ab56a2d8bfa393ffd08c496e3\", element=\"0575eaf4-b0f3-4b38-930b-763f7e9f8d8f\")>, <selenium.webdriver.remote.webelement.WebElement (session=\"53d59e5ab56a2d8bfa393ffd08c496e3\", element=\"ae0c9ae5-4014-4911-9125-f7ce09b06c22\")>, <selenium.webdriver.remote.webelement.WebElement (session=\"53d59e5ab56a2d8bfa393ffd08c496e3\", element=\"96e864fb-fff7-48bc-b53b-88effb855b09\")>, <selenium.webdriver.remote.webelement.WebElement (session=\"53d59e5ab56a2d8bfa393ffd08c496e3\", element=\"4e86e724-bc39-427a-ba9f-ed9acacf1591\")>, <selenium.webdriver.remote.webelement.WebElement (session=\"53d59e5ab56a2d8bfa393ffd08c496e3\", element=\"2ff6d7c7-11d2-4291-9574-1986efc7ba25\")>, <selenium.webdriver.remote.webelement.WebElement (session=\"53d59e5ab56a2d8bfa393ffd08c496e3\", element=\"343f281e-6cfb-4547-a4c9-66a61328c798\")>, <selenium.webdriver.remote.webelement.WebElement (session=\"53d59e5ab56a2d8bfa393ffd08c496e3\", element=\"886c9535-6e80-4904-b20f-fa2099af9d64\")>, <selenium.webdriver.remote.webelement.WebElement (session=\"53d59e5ab56a2d8bfa393ffd08c496e3\", element=\"c095f743-d85a-411f-ab53-4fd6ded27846\")>, <selenium.webdriver.remote.webelement.WebElement (session=\"53d59e5ab56a2d8bfa393ffd08c496e3\", element=\"c75e6e5e-b338-437d-9618-064876dd345a\")>, <selenium.webdriver.remote.webelement.WebElement (session=\"53d59e5ab56a2d8bfa393ffd08c496e3\", element=\"80901e30-2a5d-449c-a6f6-c17c635bfd30\")>, <selenium.webdriver.remote.webelement.WebElement (session=\"53d59e5ab56a2d8bfa393ffd08c496e3\", element=\"fdeda08a-5f80-4c1c-ab88-5d5ce2d365a2\")>, <selenium.webdriver.remote.webelement.WebElement (session=\"53d59e5ab56a2d8bfa393ffd08c496e3\", element=\"4c850d51-6e03-43bc-9feb-b140aa402644\")>, <selenium.webdriver.remote.webelement.WebElement (session=\"53d59e5ab56a2d8bfa393ffd08c496e3\", element=\"9ff4b0e8-e0c2-41b0-b73a-3ee16b650075\")>, <selenium.webdriver.remote.webelement.WebElement (session=\"53d59e5ab56a2d8bfa393ffd08c496e3\", element=\"a24eb090-0442-4fb5-9fff-c5ddf011de04\")>, <selenium.webdriver.remote.webelement.WebElement (session=\"53d59e5ab56a2d8bfa393ffd08c496e3\", element=\"5c7a3287-99ae-4d74-9e59-02cc2959dd6c\")>, <selenium.webdriver.remote.webelement.WebElement (session=\"53d59e5ab56a2d8bfa393ffd08c496e3\", element=\"127fbd76-2ece-4296-a892-6100693f7e0d\")>, <selenium.webdriver.remote.webelement.WebElement (session=\"53d59e5ab56a2d8bfa393ffd08c496e3\", element=\"14583d1d-465d-4b08-9ed9-c8b220ef5ea4\")>, <selenium.webdriver.remote.webelement.WebElement (session=\"53d59e5ab56a2d8bfa393ffd08c496e3\", element=\"3b4a12bb-7dac-4d46-b624-55e2f2033e39\")>, <selenium.webdriver.remote.webelement.WebElement (session=\"53d59e5ab56a2d8bfa393ffd08c496e3\", element=\"d631acdb-c18c-4708-b387-4fa534946875\")>, <selenium.webdriver.remote.webelement.WebElement (session=\"53d59e5ab56a2d8bfa393ffd08c496e3\", element=\"062dc375-fca7-4891-bcd9-00c73a9a88e2\")>, <selenium.webdriver.remote.webelement.WebElement (session=\"53d59e5ab56a2d8bfa393ffd08c496e3\", element=\"4716b8b0-aaf2-45bc-8f7a-aaa21174f2be\")>, <selenium.webdriver.remote.webelement.WebElement (session=\"53d59e5ab56a2d8bfa393ffd08c496e3\", element=\"a4ed8dac-eed4-40f7-acf4-518163152541\")>, <selenium.webdriver.remote.webelement.WebElement (session=\"53d59e5ab56a2d8bfa393ffd08c496e3\", element=\"5a314abe-cccf-4ced-86ab-82e124d2f6ad\")>, <selenium.webdriver.remote.webelement.WebElement (session=\"53d59e5ab56a2d8bfa393ffd08c496e3\", element=\"5e687265-90cf-44c2-b272-943cd588d889\")>, <selenium.webdriver.remote.webelement.WebElement (session=\"53d59e5ab56a2d8bfa393ffd08c496e3\", element=\"a07bd046-f0df-48d3-bcc8-cc821ab6501b\")>, <selenium.webdriver.remote.webelement.WebElement (session=\"53d59e5ab56a2d8bfa393ffd08c496e3\", element=\"77ae0bb2-8e87-4954-bd3a-9aa5aa15dd12\")>, <selenium.webdriver.remote.webelement.WebElement (session=\"53d59e5ab56a2d8bfa393ffd08c496e3\", element=\"875d3139-ac73-48d1-b778-5b5d4874001e\")>, <selenium.webdriver.remote.webelement.WebElement (session=\"53d59e5ab56a2d8bfa393ffd08c496e3\", element=\"f08ec2af-520b-4712-bcab-7d1643a44c4d\")>, <selenium.webdriver.remote.webelement.WebElement (session=\"53d59e5ab56a2d8bfa393ffd08c496e3\", element=\"554b9ed2-064e-46c2-8f19-0096b738f191\")>, <selenium.webdriver.remote.webelement.WebElement (session=\"53d59e5ab56a2d8bfa393ffd08c496e3\", element=\"65e632c1-cd0c-43d4-ac8b-d59101222225\")>, <selenium.webdriver.remote.webelement.WebElement (session=\"53d59e5ab56a2d8bfa393ffd08c496e3\", element=\"c0dbad4c-f3a7-4a9d-955a-867913d7535e\")>, <selenium.webdriver.remote.webelement.WebElement (session=\"53d59e5ab56a2d8bfa393ffd08c496e3\", element=\"708d3944-c009-42e2-9651-e0b4e31e4f17\")>, <selenium.webdriver.remote.webelement.WebElement (session=\"53d59e5ab56a2d8bfa393ffd08c496e3\", element=\"9efc1d77-4aec-46b2-812b-cdee8625a1fa\")>, <selenium.webdriver.remote.webelement.WebElement (session=\"53d59e5ab56a2d8bfa393ffd08c496e3\", element=\"132e63c3-58f7-4d3a-8c2a-d2ffda989d11\")>, <selenium.webdriver.remote.webelement.WebElement (session=\"53d59e5ab56a2d8bfa393ffd08c496e3\", element=\"fdd72dee-26c7-40e4-93de-4d919c744dcf\")>, <selenium.webdriver.remote.webelement.WebElement (session=\"53d59e5ab56a2d8bfa393ffd08c496e3\", element=\"7c8194a1-2338-43a4-9401-a5cb86bca208\")>, <selenium.webdriver.remote.webelement.WebElement (session=\"53d59e5ab56a2d8bfa393ffd08c496e3\", element=\"65893394-1ea9-4aac-bd08-609d7a735eb4\")>, <selenium.webdriver.remote.webelement.WebElement (session=\"53d59e5ab56a2d8bfa393ffd08c496e3\", element=\"71536046-df40-48c8-85b5-3338a030ed42\")>, <selenium.webdriver.remote.webelement.WebElement (session=\"53d59e5ab56a2d8bfa393ffd08c496e3\", element=\"a2fbe4bf-bfd3-464a-a5c8-b1545df1f61e\")>, <selenium.webdriver.remote.webelement.WebElement (session=\"53d59e5ab56a2d8bfa393ffd08c496e3\", element=\"f362f8fd-516d-4b9f-9b09-d42c895c8404\")>, <selenium.webdriver.remote.webelement.WebElement (session=\"53d59e5ab56a2d8bfa393ffd08c496e3\", element=\"5faea4ac-624a-432a-862e-9c547aa88cf4\")>, <selenium.webdriver.remote.webelement.WebElement (session=\"53d59e5ab56a2d8bfa393ffd08c496e3\", element=\"b08e6636-98a6-469e-870a-7e1ff460b227\")>, <selenium.webdriver.remote.webelement.WebElement (session=\"53d59e5ab56a2d8bfa393ffd08c496e3\", element=\"47e79201-cb54-4199-a093-fd94f8a17054\")>, <selenium.webdriver.remote.webelement.WebElement (session=\"53d59e5ab56a2d8bfa393ffd08c496e3\", element=\"4ee75eb6-5d04-4973-b10b-c3bdb2ccfaba\")>, <selenium.webdriver.remote.webelement.WebElement (session=\"53d59e5ab56a2d8bfa393ffd08c496e3\", element=\"fc0c214c-f527-4356-a589-08b059fe9078\")>, <selenium.webdriver.remote.webelement.WebElement (session=\"53d59e5ab56a2d8bfa393ffd08c496e3\", element=\"8b31f57b-2850-43d1-9705-af4f7cb134a2\")>, <selenium.webdriver.remote.webelement.WebElement (session=\"53d59e5ab56a2d8bfa393ffd08c496e3\", element=\"33aed751-509b-4d04-9565-30d224663f42\")>, <selenium.webdriver.remote.webelement.WebElement (session=\"53d59e5ab56a2d8bfa393ffd08c496e3\", element=\"8315465a-d5d9-46c4-9ff6-f2172ef960e5\")>, <selenium.webdriver.remote.webelement.WebElement (session=\"53d59e5ab56a2d8bfa393ffd08c496e3\", element=\"8636b07b-1900-4002-8868-b7539ee26297\")>, <selenium.webdriver.remote.webelement.WebElement (session=\"53d59e5ab56a2d8bfa393ffd08c496e3\", element=\"b0b0a4bf-9389-4552-a0dc-c6a837600f69\")>, <selenium.webdriver.remote.webelement.WebElement (session=\"53d59e5ab56a2d8bfa393ffd08c496e3\", element=\"659ca5f9-a9de-40f7-92be-edd85169d075\")>, <selenium.webdriver.remote.webelement.WebElement (session=\"53d59e5ab56a2d8bfa393ffd08c496e3\", element=\"7c930fc3-fc2b-4273-b4fa-ff2c2e73f2d5\")>, <selenium.webdriver.remote.webelement.WebElement (session=\"53d59e5ab56a2d8bfa393ffd08c496e3\", element=\"b9587172-3472-4aa7-ac4c-0cadd9bae18e\")>, <selenium.webdriver.remote.webelement.WebElement (session=\"53d59e5ab56a2d8bfa393ffd08c496e3\", element=\"d99432ce-5b56-4d69-9288-8a1489e596d8\")>, <selenium.webdriver.remote.webelement.WebElement (session=\"53d59e5ab56a2d8bfa393ffd08c496e3\", element=\"5839e597-c529-4260-9a9c-f2ef784033b8\")>, <selenium.webdriver.remote.webelement.WebElement (session=\"53d59e5ab56a2d8bfa393ffd08c496e3\", element=\"3124c530-c44d-4ad1-98b6-2593b94dd33f\")>, <selenium.webdriver.remote.webelement.WebElement (session=\"53d59e5ab56a2d8bfa393ffd08c496e3\", element=\"f716b277-c386-48f8-a00e-85f2c6e3a3e8\")>, <selenium.webdriver.remote.webelement.WebElement (session=\"53d59e5ab56a2d8bfa393ffd08c496e3\", element=\"1a41c0c0-a2af-4dcb-8458-68a400f7ea14\")>, <selenium.webdriver.remote.webelement.WebElement (session=\"53d59e5ab56a2d8bfa393ffd08c496e3\", element=\"055a8521-75da-4f63-8882-a0f98bbaa1b4\")>, <selenium.webdriver.remote.webelement.WebElement (session=\"53d59e5ab56a2d8bfa393ffd08c496e3\", element=\"6c5a4b0e-dbf4-4897-a044-cdbfa05a627e\")>, <selenium.webdriver.remote.webelement.WebElement (session=\"53d59e5ab56a2d8bfa393ffd08c496e3\", element=\"97f27e3e-1041-4ef9-a434-f5f259d25658\")>, <selenium.webdriver.remote.webelement.WebElement (session=\"53d59e5ab56a2d8bfa393ffd08c496e3\", element=\"25b0bece-b94c-4ffe-b920-db4c5922e868\")>, <selenium.webdriver.remote.webelement.WebElement (session=\"53d59e5ab56a2d8bfa393ffd08c496e3\", element=\"d6c6c31f-6a25-4be1-943d-1bbd4e1c4acc\")>, <selenium.webdriver.remote.webelement.WebElement (session=\"53d59e5ab56a2d8bfa393ffd08c496e3\", element=\"35402bcf-9d8c-4048-99eb-2808e245bfb3\")>, <selenium.webdriver.remote.webelement.WebElement (session=\"53d59e5ab56a2d8bfa393ffd08c496e3\", element=\"b7f5e652-bcbb-46f8-a4ee-579aca4a8107\")>, <selenium.webdriver.remote.webelement.WebElement (session=\"53d59e5ab56a2d8bfa393ffd08c496e3\", element=\"482cd4d9-9a8c-484a-9c88-9ab3759c1f37\")>, <selenium.webdriver.remote.webelement.WebElement (session=\"53d59e5ab56a2d8bfa393ffd08c496e3\", element=\"b1267435-a814-4bf1-8fc7-8b2fd8ff0502\")>, <selenium.webdriver.remote.webelement.WebElement (session=\"53d59e5ab56a2d8bfa393ffd08c496e3\", element=\"64278eb9-1dab-467b-8c25-ee17f9462da1\")>, <selenium.webdriver.remote.webelement.WebElement (session=\"53d59e5ab56a2d8bfa393ffd08c496e3\", element=\"48eab1ed-37bd-4a72-890d-e79bc5dc37cd\")>, <selenium.webdriver.remote.webelement.WebElement (session=\"53d59e5ab56a2d8bfa393ffd08c496e3\", element=\"2cd0cca2-c602-4604-b938-80d982738386\")>, <selenium.webdriver.remote.webelement.WebElement (session=\"53d59e5ab56a2d8bfa393ffd08c496e3\", element=\"a2f90292-7b4b-4fcb-8736-fd16c84fc80c\")>, <selenium.webdriver.remote.webelement.WebElement (session=\"53d59e5ab56a2d8bfa393ffd08c496e3\", element=\"b8e77a1d-2b43-4344-8290-bc878de0a8b1\")>, <selenium.webdriver.remote.webelement.WebElement (session=\"53d59e5ab56a2d8bfa393ffd08c496e3\", element=\"d0cf2312-d62e-48f7-b8b8-95088dcdc635\")>, <selenium.webdriver.remote.webelement.WebElement (session=\"53d59e5ab56a2d8bfa393ffd08c496e3\", element=\"6add06d5-9595-4e3b-b64a-ea7079235761\")>, <selenium.webdriver.remote.webelement.WebElement (session=\"53d59e5ab56a2d8bfa393ffd08c496e3\", element=\"25e226ca-d6e5-40ec-8110-d95aa3882af4\")>, <selenium.webdriver.remote.webelement.WebElement (session=\"53d59e5ab56a2d8bfa393ffd08c496e3\", element=\"1649a495-ee85-4b2c-8951-142347549eb1\")>, <selenium.webdriver.remote.webelement.WebElement (session=\"53d59e5ab56a2d8bfa393ffd08c496e3\", element=\"42718ec7-dde4-462c-b53f-fd7d8f18b081\")>, <selenium.webdriver.remote.webelement.WebElement (session=\"53d59e5ab56a2d8bfa393ffd08c496e3\", element=\"cc74fedd-599e-4fd9-bd95-d4af3ac18ed8\")>, <selenium.webdriver.remote.webelement.WebElement (session=\"53d59e5ab56a2d8bfa393ffd08c496e3\", element=\"502e3e94-910b-4b66-90e7-4d25042af72d\")>, <selenium.webdriver.remote.webelement.WebElement (session=\"53d59e5ab56a2d8bfa393ffd08c496e3\", element=\"5dcae600-79e1-4e9e-85cf-3cdcd5e8e494\")>, <selenium.webdriver.remote.webelement.WebElement (session=\"53d59e5ab56a2d8bfa393ffd08c496e3\", element=\"835f8724-a1ff-493d-bf52-c3b27b5d1ce8\")>, <selenium.webdriver.remote.webelement.WebElement (session=\"53d59e5ab56a2d8bfa393ffd08c496e3\", element=\"5c0714f2-0ba1-4d7f-b1be-d25a4bf2607a\")>, <selenium.webdriver.remote.webelement.WebElement (session=\"53d59e5ab56a2d8bfa393ffd08c496e3\", element=\"ab502428-7d60-40aa-bf49-20ee7a216ea8\")>, <selenium.webdriver.remote.webelement.WebElement (session=\"53d59e5ab56a2d8bfa393ffd08c496e3\", element=\"8e2baa9e-31e4-492d-8e21-d9efec972f7d\")>, <selenium.webdriver.remote.webelement.WebElement (session=\"53d59e5ab56a2d8bfa393ffd08c496e3\", element=\"be46e6a6-39cc-45b0-b74c-6cea93c6a879\")>, <selenium.webdriver.remote.webelement.WebElement (session=\"53d59e5ab56a2d8bfa393ffd08c496e3\", element=\"cd71f682-b829-4d94-9e0a-82ef42f9603b\")>, <selenium.webdriver.remote.webelement.WebElement (session=\"53d59e5ab56a2d8bfa393ffd08c496e3\", element=\"9a0662fb-5412-4f7f-9f83-79076b7cdf7d\")>, <selenium.webdriver.remote.webelement.WebElement (session=\"53d59e5ab56a2d8bfa393ffd08c496e3\", element=\"018b3c42-45e3-4504-835c-84b321627e56\")>, <selenium.webdriver.remote.webelement.WebElement (session=\"53d59e5ab56a2d8bfa393ffd08c496e3\", element=\"f1b6ae37-f9c0-4e38-ab99-b9a948b32797\")>, <selenium.webdriver.remote.webelement.WebElement (session=\"53d59e5ab56a2d8bfa393ffd08c496e3\", element=\"4d49e76a-2722-4ef6-988a-560e26081553\")>, <selenium.webdriver.remote.webelement.WebElement (session=\"53d59e5ab56a2d8bfa393ffd08c496e3\", element=\"4f0076ad-16f4-49aa-8d7b-5363013ad772\")>, <selenium.webdriver.remote.webelement.WebElement (session=\"53d59e5ab56a2d8bfa393ffd08c496e3\", element=\"1e0a46ff-8638-488f-aaa7-1db438f2d00d\")>, <selenium.webdriver.remote.webelement.WebElement (session=\"53d59e5ab56a2d8bfa393ffd08c496e3\", element=\"9b608e8f-ccb5-4eb2-a2ab-e7649d5b49a4\")>, <selenium.webdriver.remote.webelement.WebElement (session=\"53d59e5ab56a2d8bfa393ffd08c496e3\", element=\"bfaf87c7-6927-46a3-952b-1a82b21d1922\")>, <selenium.webdriver.remote.webelement.WebElement (session=\"53d59e5ab56a2d8bfa393ffd08c496e3\", element=\"a1ceda5e-68f9-4a77-9667-e3a1e9907263\")>, <selenium.webdriver.remote.webelement.WebElement (session=\"53d59e5ab56a2d8bfa393ffd08c496e3\", element=\"ae9455a6-8ad2-4cba-82b9-5b4ac0abf2d2\")>, <selenium.webdriver.remote.webelement.WebElement (session=\"53d59e5ab56a2d8bfa393ffd08c496e3\", element=\"ad2374e3-d435-4781-bf9e-279b3826ea3b\")>, <selenium.webdriver.remote.webelement.WebElement (session=\"53d59e5ab56a2d8bfa393ffd08c496e3\", element=\"ca71cf9a-50b4-4b6f-b811-536851b97650\")>, <selenium.webdriver.remote.webelement.WebElement (session=\"53d59e5ab56a2d8bfa393ffd08c496e3\", element=\"c9f34ea9-8e40-40c5-aef3-068cfe2a0f9e\")>, <selenium.webdriver.remote.webelement.WebElement (session=\"53d59e5ab56a2d8bfa393ffd08c496e3\", element=\"81288c0a-1375-4ee1-a0ca-ffbfed9ee9e4\")>, <selenium.webdriver.remote.webelement.WebElement (session=\"53d59e5ab56a2d8bfa393ffd08c496e3\", element=\"cdbd543a-204d-4755-bede-2734f8bcd5ca\")>, <selenium.webdriver.remote.webelement.WebElement (session=\"53d59e5ab56a2d8bfa393ffd08c496e3\", element=\"0ecf1620-a07c-4e47-a7ed-30c259255604\")>, <selenium.webdriver.remote.webelement.WebElement (session=\"53d59e5ab56a2d8bfa393ffd08c496e3\", element=\"103e1c3a-72ee-41b3-8d7f-9497e8336ab0\")>, <selenium.webdriver.remote.webelement.WebElement (session=\"53d59e5ab56a2d8bfa393ffd08c496e3\", element=\"e1865e58-4138-4204-abaf-db1e7d6fc1b0\")>, <selenium.webdriver.remote.webelement.WebElement (session=\"53d59e5ab56a2d8bfa393ffd08c496e3\", element=\"0ecc94bf-2911-44b6-8e15-3e18f33df75a\")>, <selenium.webdriver.remote.webelement.WebElement (session=\"53d59e5ab56a2d8bfa393ffd08c496e3\", element=\"03c75a40-96c4-48ae-ae76-fdf3a5568262\")>, <selenium.webdriver.remote.webelement.WebElement (session=\"53d59e5ab56a2d8bfa393ffd08c496e3\", element=\"d041c0d8-c60c-4c21-bcf0-abb913478f90\")>, <selenium.webdriver.remote.webelement.WebElement (session=\"53d59e5ab56a2d8bfa393ffd08c496e3\", element=\"855fbe9d-303c-4d56-8b1e-b9f17d691fd1\")>, <selenium.webdriver.remote.webelement.WebElement (session=\"53d59e5ab56a2d8bfa393ffd08c496e3\", element=\"b1f10e4d-7139-4cf3-ba7c-ee15e3bf7a71\")>, <selenium.webdriver.remote.webelement.WebElement (session=\"53d59e5ab56a2d8bfa393ffd08c496e3\", element=\"51cbef74-16ae-41e1-b086-a4666ddfda91\")>, <selenium.webdriver.remote.webelement.WebElement (session=\"53d59e5ab56a2d8bfa393ffd08c496e3\", element=\"8045074f-6fd7-4db5-aed5-9a2c3a70026c\")>, <selenium.webdriver.remote.webelement.WebElement (session=\"53d59e5ab56a2d8bfa393ffd08c496e3\", element=\"f625df3c-813d-4ad4-b1e3-efd23695f1e3\")>, <selenium.webdriver.remote.webelement.WebElement (session=\"53d59e5ab56a2d8bfa393ffd08c496e3\", element=\"4b590f44-473b-4f57-b826-37a4532ac218\")>, <selenium.webdriver.remote.webelement.WebElement (session=\"53d59e5ab56a2d8bfa393ffd08c496e3\", element=\"1fffffa3-a773-48dd-908b-686259063858\")>, <selenium.webdriver.remote.webelement.WebElement (session=\"53d59e5ab56a2d8bfa393ffd08c496e3\", element=\"0080a241-0d86-44b3-b547-326720ffea80\")>, <selenium.webdriver.remote.webelement.WebElement (session=\"53d59e5ab56a2d8bfa393ffd08c496e3\", element=\"1535b954-1123-4dd2-8bbe-9db64d7c20d6\")>, <selenium.webdriver.remote.webelement.WebElement (session=\"53d59e5ab56a2d8bfa393ffd08c496e3\", element=\"c94f5a30-98f3-4866-95a4-34356751a225\")>, <selenium.webdriver.remote.webelement.WebElement (session=\"53d59e5ab56a2d8bfa393ffd08c496e3\", element=\"b349af4b-fe5d-4df0-99ff-85d3a9df7b43\")>, <selenium.webdriver.remote.webelement.WebElement (session=\"53d59e5ab56a2d8bfa393ffd08c496e3\", element=\"57258f54-1de3-488a-857c-32fe50061b11\")>, <selenium.webdriver.remote.webelement.WebElement (session=\"53d59e5ab56a2d8bfa393ffd08c496e3\", element=\"9d6e902a-046b-478c-bd46-153852e2b2f9\")>, <selenium.webdriver.remote.webelement.WebElement (session=\"53d59e5ab56a2d8bfa393ffd08c496e3\", element=\"96ef0087-eb09-4b11-b603-7a3d31694a87\")>, <selenium.webdriver.remote.webelement.WebElement (session=\"53d59e5ab56a2d8bfa393ffd08c496e3\", element=\"4fac2098-98d4-4d7a-bdbe-864c2f90c46d\")>, <selenium.webdriver.remote.webelement.WebElement (session=\"53d59e5ab56a2d8bfa393ffd08c496e3\", element=\"43e6977a-698e-4561-ba6c-2d6580fa7542\")>, <selenium.webdriver.remote.webelement.WebElement (session=\"53d59e5ab56a2d8bfa393ffd08c496e3\", element=\"52ddf363-72e4-4591-8718-4156fd38d242\")>, <selenium.webdriver.remote.webelement.WebElement (session=\"53d59e5ab56a2d8bfa393ffd08c496e3\", element=\"f86f775c-d5fd-4b81-89e8-bf91eee8860f\")>, <selenium.webdriver.remote.webelement.WebElement (session=\"53d59e5ab56a2d8bfa393ffd08c496e3\", element=\"d2d3e100-cc58-4180-89da-5054dd750d3a\")>, <selenium.webdriver.remote.webelement.WebElement (session=\"53d59e5ab56a2d8bfa393ffd08c496e3\", element=\"8ff2434b-6e50-4ab3-8d13-6daa7313007d\")>, <selenium.webdriver.remote.webelement.WebElement (session=\"53d59e5ab56a2d8bfa393ffd08c496e3\", element=\"ce570c25-4f4a-4b7a-96d5-fdeb081f4827\")>, <selenium.webdriver.remote.webelement.WebElement (session=\"53d59e5ab56a2d8bfa393ffd08c496e3\", element=\"e97bccf7-d852-4f47-aaf5-bee222ef9deb\")>, <selenium.webdriver.remote.webelement.WebElement (session=\"53d59e5ab56a2d8bfa393ffd08c496e3\", element=\"7cb0a960-7815-45a2-92da-56b8df5dcd8f\")>, <selenium.webdriver.remote.webelement.WebElement (session=\"53d59e5ab56a2d8bfa393ffd08c496e3\", element=\"d700d6db-039d-4075-933b-d293d1cc8a40\")>, <selenium.webdriver.remote.webelement.WebElement (session=\"53d59e5ab56a2d8bfa393ffd08c496e3\", element=\"b7b381b1-a6eb-47c8-9466-cd95129e15d4\")>, <selenium.webdriver.remote.webelement.WebElement (session=\"53d59e5ab56a2d8bfa393ffd08c496e3\", element=\"a4bdf471-8d6d-452f-8d3b-e146ba71d936\")>, <selenium.webdriver.remote.webelement.WebElement (session=\"53d59e5ab56a2d8bfa393ffd08c496e3\", element=\"d563ea29-99e1-4a36-bfce-e42999b6fd01\")>, <selenium.webdriver.remote.webelement.WebElement (session=\"53d59e5ab56a2d8bfa393ffd08c496e3\", element=\"05d7b439-ec54-4ebe-8591-80605a91856e\")>, <selenium.webdriver.remote.webelement.WebElement (session=\"53d59e5ab56a2d8bfa393ffd08c496e3\", element=\"447e0f6e-baea-449d-a174-59da5bfc6003\")>, <selenium.webdriver.remote.webelement.WebElement (session=\"53d59e5ab56a2d8bfa393ffd08c496e3\", element=\"60dc4dd8-e061-4fe4-9e07-0e18ded08d24\")>, <selenium.webdriver.remote.webelement.WebElement (session=\"53d59e5ab56a2d8bfa393ffd08c496e3\", element=\"8eea53ee-b220-4f0d-9949-8627a3fb08e7\")>, <selenium.webdriver.remote.webelement.WebElement (session=\"53d59e5ab56a2d8bfa393ffd08c496e3\", element=\"bb377840-c5f3-4c11-aba8-3db245372e8a\")>, <selenium.webdriver.remote.webelement.WebElement (session=\"53d59e5ab56a2d8bfa393ffd08c496e3\", element=\"a8b34259-c086-4cf4-af76-387691c9de2d\")>, <selenium.webdriver.remote.webelement.WebElement (session=\"53d59e5ab56a2d8bfa393ffd08c496e3\", element=\"91082823-a2f5-477b-8e89-6e8b7bbb533b\")>, <selenium.webdriver.remote.webelement.WebElement (session=\"53d59e5ab56a2d8bfa393ffd08c496e3\", element=\"e1096ad4-9779-4bee-b722-659078504990\")>, <selenium.webdriver.remote.webelement.WebElement (session=\"53d59e5ab56a2d8bfa393ffd08c496e3\", element=\"70a73900-340b-444d-beda-c424751de0f0\")>, <selenium.webdriver.remote.webelement.WebElement (session=\"53d59e5ab56a2d8bfa393ffd08c496e3\", element=\"12ecc952-ec27-4cd7-b9ab-0b6c452793c8\")>, <selenium.webdriver.remote.webelement.WebElement (session=\"53d59e5ab56a2d8bfa393ffd08c496e3\", element=\"b5337d83-891b-4c32-a15c-43b9236440ac\")>, <selenium.webdriver.remote.webelement.WebElement (session=\"53d59e5ab56a2d8bfa393ffd08c496e3\", element=\"cec4d730-af79-45ab-9dad-cff2dc35b5c0\")>, <selenium.webdriver.remote.webelement.WebElement (session=\"53d59e5ab56a2d8bfa393ffd08c496e3\", element=\"3395f4a1-3a40-4709-ac89-19be7f3cf34b\")>, <selenium.webdriver.remote.webelement.WebElement (session=\"53d59e5ab56a2d8bfa393ffd08c496e3\", element=\"e31aa4a0-f58f-4074-a141-687fe65b8700\")>, <selenium.webdriver.remote.webelement.WebElement (session=\"53d59e5ab56a2d8bfa393ffd08c496e3\", element=\"fda19a9e-40c3-4112-8531-1e4607a6e48b\")>, <selenium.webdriver.remote.webelement.WebElement (session=\"53d59e5ab56a2d8bfa393ffd08c496e3\", element=\"86ccb327-91f7-4a7e-ad54-b3cb62d8f83d\")>, <selenium.webdriver.remote.webelement.WebElement (session=\"53d59e5ab56a2d8bfa393ffd08c496e3\", element=\"a5c1d93f-8fb5-40ad-8f9e-62aeb9d47a9e\")>, <selenium.webdriver.remote.webelement.WebElement (session=\"53d59e5ab56a2d8bfa393ffd08c496e3\", element=\"f8c2b862-8575-4a98-bb1e-76435c2d4d64\")>, <selenium.webdriver.remote.webelement.WebElement (session=\"53d59e5ab56a2d8bfa393ffd08c496e3\", element=\"be765683-52f6-43b5-826d-1ba7a07cb1c5\")>, <selenium.webdriver.remote.webelement.WebElement (session=\"53d59e5ab56a2d8bfa393ffd08c496e3\", element=\"e6bc59eb-27df-4b85-87de-736cfb34c738\")>, <selenium.webdriver.remote.webelement.WebElement (session=\"53d59e5ab56a2d8bfa393ffd08c496e3\", element=\"8d401869-2bfd-44a3-a5e1-0e8d1e21671c\")>, <selenium.webdriver.remote.webelement.WebElement (session=\"53d59e5ab56a2d8bfa393ffd08c496e3\", element=\"263812f0-e5fb-450b-8497-9e045427b75f\")>, <selenium.webdriver.remote.webelement.WebElement (session=\"53d59e5ab56a2d8bfa393ffd08c496e3\", element=\"5c6172e0-43d0-4d21-8ab0-abbe45bbd568\")>, <selenium.webdriver.remote.webelement.WebElement (session=\"53d59e5ab56a2d8bfa393ffd08c496e3\", element=\"da855084-29d5-498e-80c6-362342b87a09\")>, <selenium.webdriver.remote.webelement.WebElement (session=\"53d59e5ab56a2d8bfa393ffd08c496e3\", element=\"43e37da4-b660-49f9-a4ca-9ef585003fca\")>, <selenium.webdriver.remote.webelement.WebElement (session=\"53d59e5ab56a2d8bfa393ffd08c496e3\", element=\"fa9404b8-9094-4929-84c2-0a5278356802\")>, <selenium.webdriver.remote.webelement.WebElement (session=\"53d59e5ab56a2d8bfa393ffd08c496e3\", element=\"d78d8eec-67d3-4519-851d-e6998c664857\")>, <selenium.webdriver.remote.webelement.WebElement (session=\"53d59e5ab56a2d8bfa393ffd08c496e3\", element=\"33ed95d8-879a-40a2-a4b1-8613eceeba7a\")>, <selenium.webdriver.remote.webelement.WebElement (session=\"53d59e5ab56a2d8bfa393ffd08c496e3\", element=\"2cf23dde-3dbc-4235-828f-b666ae163931\")>, <selenium.webdriver.remote.webelement.WebElement (session=\"53d59e5ab56a2d8bfa393ffd08c496e3\", element=\"8b54e013-ce26-4166-b266-c811b7631ec1\")>, <selenium.webdriver.remote.webelement.WebElement (session=\"53d59e5ab56a2d8bfa393ffd08c496e3\", element=\"3bf33245-c191-4e24-a1fd-0b8ff0064639\")>, <selenium.webdriver.remote.webelement.WebElement (session=\"53d59e5ab56a2d8bfa393ffd08c496e3\", element=\"e83c155b-9fcf-4e8c-86b7-dd930a759da4\")>, <selenium.webdriver.remote.webelement.WebElement (session=\"53d59e5ab56a2d8bfa393ffd08c496e3\", element=\"a4143ca8-fee3-437c-bd70-aa780d5849a9\")>, <selenium.webdriver.remote.webelement.WebElement (session=\"53d59e5ab56a2d8bfa393ffd08c496e3\", element=\"7bb49007-5fca-4f37-8aec-4622efcff3f8\")>, <selenium.webdriver.remote.webelement.WebElement (session=\"53d59e5ab56a2d8bfa393ffd08c496e3\", element=\"8d254392-a326-44a3-98b2-c928fab154a8\")>, <selenium.webdriver.remote.webelement.WebElement (session=\"53d59e5ab56a2d8bfa393ffd08c496e3\", element=\"2b24e9b6-b10d-4ecc-a602-d7d570b25f82\")>, <selenium.webdriver.remote.webelement.WebElement (session=\"53d59e5ab56a2d8bfa393ffd08c496e3\", element=\"db1b2adc-f9a4-432f-a42d-d67157e6ff0b\")>, <selenium.webdriver.remote.webelement.WebElement (session=\"53d59e5ab56a2d8bfa393ffd08c496e3\", element=\"14ca1a27-d7d7-4645-964c-4d8ab689d11c\")>, <selenium.webdriver.remote.webelement.WebElement (session=\"53d59e5ab56a2d8bfa393ffd08c496e3\", element=\"72ea960d-9203-4475-bc33-aa0bdc835503\")>, <selenium.webdriver.remote.webelement.WebElement (session=\"53d59e5ab56a2d8bfa393ffd08c496e3\", element=\"e0b6881d-fe14-4a86-b233-cce95d5edfe7\")>, <selenium.webdriver.remote.webelement.WebElement (session=\"53d59e5ab56a2d8bfa393ffd08c496e3\", element=\"e7e53a16-90e7-482a-b3ac-626beb459fa8\")>, <selenium.webdriver.remote.webelement.WebElement (session=\"53d59e5ab56a2d8bfa393ffd08c496e3\", element=\"e1350bb0-3aae-44de-9434-f3338d47e779\")>, <selenium.webdriver.remote.webelement.WebElement (session=\"53d59e5ab56a2d8bfa393ffd08c496e3\", element=\"d4a35e2e-084a-4123-bdde-9615c6bf2835\")>, <selenium.webdriver.remote.webelement.WebElement (session=\"53d59e5ab56a2d8bfa393ffd08c496e3\", element=\"281ca1e4-8e86-45a5-b88a-540287df7414\")>, <selenium.webdriver.remote.webelement.WebElement (session=\"53d59e5ab56a2d8bfa393ffd08c496e3\", element=\"51e70e4e-8439-4e18-941e-8dcad18c333a\")>, <selenium.webdriver.remote.webelement.WebElement (session=\"53d59e5ab56a2d8bfa393ffd08c496e3\", element=\"e7f1119b-dfdd-4c53-ba59-2363980874c3\")>, <selenium.webdriver.remote.webelement.WebElement (session=\"53d59e5ab56a2d8bfa393ffd08c496e3\", element=\"ee9f3a6b-2b38-436c-86b3-b323c4985923\")>, <selenium.webdriver.remote.webelement.WebElement (session=\"53d59e5ab56a2d8bfa393ffd08c496e3\", element=\"465a6fe1-4533-4265-96fd-f296cc5a9593\")>, <selenium.webdriver.remote.webelement.WebElement (session=\"53d59e5ab56a2d8bfa393ffd08c496e3\", element=\"b9ca606a-6098-427e-bec1-e1dba4728b0f\")>, <selenium.webdriver.remote.webelement.WebElement (session=\"53d59e5ab56a2d8bfa393ffd08c496e3\", element=\"8376e7ea-07dc-4225-9943-d54c9fbb7b2c\")>, <selenium.webdriver.remote.webelement.WebElement (session=\"53d59e5ab56a2d8bfa393ffd08c496e3\", element=\"8696def0-ac22-47ef-a22a-1602a7b67126\")>, <selenium.webdriver.remote.webelement.WebElement (session=\"53d59e5ab56a2d8bfa393ffd08c496e3\", element=\"684ace3e-1e6e-4122-9431-a115b81a7ac5\")>, <selenium.webdriver.remote.webelement.WebElement (session=\"53d59e5ab56a2d8bfa393ffd08c496e3\", element=\"ef4c71b9-cb0a-4801-9667-b1fb89ea7658\")>, <selenium.webdriver.remote.webelement.WebElement (session=\"53d59e5ab56a2d8bfa393ffd08c496e3\", element=\"5e910a4a-c29e-4fae-8d42-f77602274d06\")>, <selenium.webdriver.remote.webelement.WebElement (session=\"53d59e5ab56a2d8bfa393ffd08c496e3\", element=\"dc7508f1-49f0-4a80-98f8-606a1b686721\")>, <selenium.webdriver.remote.webelement.WebElement (session=\"53d59e5ab56a2d8bfa393ffd08c496e3\", element=\"a520fa7a-a63e-4dd2-9bab-a3eb79048ec8\")>, <selenium.webdriver.remote.webelement.WebElement (session=\"53d59e5ab56a2d8bfa393ffd08c496e3\", element=\"16665982-ebfe-4925-bbbc-b960e907d3d8\")>, <selenium.webdriver.remote.webelement.WebElement (session=\"53d59e5ab56a2d8bfa393ffd08c496e3\", element=\"c33358de-715d-4927-a1df-2694b62108c9\")>, <selenium.webdriver.remote.webelement.WebElement (session=\"53d59e5ab56a2d8bfa393ffd08c496e3\", element=\"8fd9d063-dc19-4fa9-990a-aa8cc4e406bd\")>, <selenium.webdriver.remote.webelement.WebElement (session=\"53d59e5ab56a2d8bfa393ffd08c496e3\", element=\"27a55a6f-1aa9-4d37-98f6-a4e4b19efb1f\")>, <selenium.webdriver.remote.webelement.WebElement (session=\"53d59e5ab56a2d8bfa393ffd08c496e3\", element=\"12ccb6b8-a82b-442e-818b-27a4c9d1a7ee\")>, <selenium.webdriver.remote.webelement.WebElement (session=\"53d59e5ab56a2d8bfa393ffd08c496e3\", element=\"1350e40a-1798-489e-8e79-b376a460e67b\")>, <selenium.webdriver.remote.webelement.WebElement (session=\"53d59e5ab56a2d8bfa393ffd08c496e3\", element=\"17bf7519-609a-4db0-a3e2-96c4931a5893\")>, <selenium.webdriver.remote.webelement.WebElement (session=\"53d59e5ab56a2d8bfa393ffd08c496e3\", element=\"781c8f25-0032-4283-ae10-b62d07a521a7\")>, <selenium.webdriver.remote.webelement.WebElement (session=\"53d59e5ab56a2d8bfa393ffd08c496e3\", element=\"5ed92b6a-452f-4eea-a411-6fbe12123640\")>, <selenium.webdriver.remote.webelement.WebElement (session=\"53d59e5ab56a2d8bfa393ffd08c496e3\", element=\"446dc59f-faf8-44e1-8687-0d038f20f6e8\")>, <selenium.webdriver.remote.webelement.WebElement (session=\"53d59e5ab56a2d8bfa393ffd08c496e3\", element=\"ae7cf487-9763-4633-9659-10b8233cfdf4\")>, <selenium.webdriver.remote.webelement.WebElement (session=\"53d59e5ab56a2d8bfa393ffd08c496e3\", element=\"a23df308-9964-4a8f-ac15-576270e66c4f\")>, <selenium.webdriver.remote.webelement.WebElement (session=\"53d59e5ab56a2d8bfa393ffd08c496e3\", element=\"7a276b47-9a42-45f5-8478-58139db38b29\")>, <selenium.webdriver.remote.webelement.WebElement (session=\"53d59e5ab56a2d8bfa393ffd08c496e3\", element=\"30845204-f141-4b46-8c16-7278a53d4650\")>, <selenium.webdriver.remote.webelement.WebElement (session=\"53d59e5ab56a2d8bfa393ffd08c496e3\", element=\"958ec6bd-b7fa-4355-a192-e6f207f8c737\")>, <selenium.webdriver.remote.webelement.WebElement (session=\"53d59e5ab56a2d8bfa393ffd08c496e3\", element=\"a55225f1-7412-41e2-b93c-ccc1f6c027f4\")>, <selenium.webdriver.remote.webelement.WebElement (session=\"53d59e5ab56a2d8bfa393ffd08c496e3\", element=\"f2ae506a-4f2c-4f1c-9837-36cea732d224\")>, <selenium.webdriver.remote.webelement.WebElement (session=\"53d59e5ab56a2d8bfa393ffd08c496e3\", element=\"09fe9081-1939-48da-be1d-0daa976d32f0\")>, <selenium.webdriver.remote.webelement.WebElement (session=\"53d59e5ab56a2d8bfa393ffd08c496e3\", element=\"3f8c69ad-d3ae-486c-8065-c490a15b8532\")>, <selenium.webdriver.remote.webelement.WebElement (session=\"53d59e5ab56a2d8bfa393ffd08c496e3\", element=\"ba7dd447-9800-4fe4-b421-fa9603011a01\")>, <selenium.webdriver.remote.webelement.WebElement (session=\"53d59e5ab56a2d8bfa393ffd08c496e3\", element=\"01d4cf2c-21fe-4a1a-ba83-137bb377f13d\")>, <selenium.webdriver.remote.webelement.WebElement (session=\"53d59e5ab56a2d8bfa393ffd08c496e3\", element=\"00960375-386f-48e0-b114-3f76c4548056\")>, <selenium.webdriver.remote.webelement.WebElement (session=\"53d59e5ab56a2d8bfa393ffd08c496e3\", element=\"a8b28abd-f75c-4b57-9eb3-e041a2f25ac6\")>, <selenium.webdriver.remote.webelement.WebElement (session=\"53d59e5ab56a2d8bfa393ffd08c496e3\", element=\"d879445a-da8e-49b5-9e57-f93c01ca3f65\")>, <selenium.webdriver.remote.webelement.WebElement (session=\"53d59e5ab56a2d8bfa393ffd08c496e3\", element=\"5a5369d6-06b9-4f55-9414-9ccb7358410b\")>, <selenium.webdriver.remote.webelement.WebElement (session=\"53d59e5ab56a2d8bfa393ffd08c496e3\", element=\"ba94ff6f-d4a5-44f4-bc6e-6edc9b276172\")>, <selenium.webdriver.remote.webelement.WebElement (session=\"53d59e5ab56a2d8bfa393ffd08c496e3\", element=\"9481bd18-be63-4527-8a0f-d02045c36062\")>, <selenium.webdriver.remote.webelement.WebElement (session=\"53d59e5ab56a2d8bfa393ffd08c496e3\", element=\"05e9fd76-1ba0-4f2a-a678-07cd9a76a4a4\")>, <selenium.webdriver.remote.webelement.WebElement (session=\"53d59e5ab56a2d8bfa393ffd08c496e3\", element=\"5d9cb880-1fbe-4a76-84e2-49b806e7c073\")>, <selenium.webdriver.remote.webelement.WebElement (session=\"53d59e5ab56a2d8bfa393ffd08c496e3\", element=\"931a7133-cf6d-430b-b7fc-876f9f20328a\")>, <selenium.webdriver.remote.webelement.WebElement (session=\"53d59e5ab56a2d8bfa393ffd08c496e3\", element=\"82c97c6f-0f63-44eb-8825-9c05959498c7\")>, <selenium.webdriver.remote.webelement.WebElement (session=\"53d59e5ab56a2d8bfa393ffd08c496e3\", element=\"27924103-b303-45e2-af91-6b9862adc7bb\")>, <selenium.webdriver.remote.webelement.WebElement (session=\"53d59e5ab56a2d8bfa393ffd08c496e3\", element=\"2dfb9e09-a94f-4534-a57e-c40e2e12cd78\")>, <selenium.webdriver.remote.webelement.WebElement (session=\"53d59e5ab56a2d8bfa393ffd08c496e3\", element=\"b4518f18-8ed1-4359-abea-4e7e0212fbbf\")>, <selenium.webdriver.remote.webelement.WebElement (session=\"53d59e5ab56a2d8bfa393ffd08c496e3\", element=\"8373fc0b-19de-441b-9c82-305155acb228\")>, <selenium.webdriver.remote.webelement.WebElement (session=\"53d59e5ab56a2d8bfa393ffd08c496e3\", element=\"a589d410-804e-42b2-b934-0826950cf83a\")>, <selenium.webdriver.remote.webelement.WebElement (session=\"53d59e5ab56a2d8bfa393ffd08c496e3\", element=\"763b3a45-1f54-4b37-aa59-c6d451041871\")>, <selenium.webdriver.remote.webelement.WebElement (session=\"53d59e5ab56a2d8bfa393ffd08c496e3\", element=\"5b862972-3e7d-4949-9022-4b18f9b9faa0\")>, <selenium.webdriver.remote.webelement.WebElement (session=\"53d59e5ab56a2d8bfa393ffd08c496e3\", element=\"3118e7e8-6d00-4fe4-bc22-4a0d54f68276\")>, <selenium.webdriver.remote.webelement.WebElement (session=\"53d59e5ab56a2d8bfa393ffd08c496e3\", element=\"6b701d90-baa7-4d02-8fe8-a44039e5df90\")>, <selenium.webdriver.remote.webelement.WebElement (session=\"53d59e5ab56a2d8bfa393ffd08c496e3\", element=\"22ef4471-259f-4fe0-8ba7-89fe99e4e981\")>, <selenium.webdriver.remote.webelement.WebElement (session=\"53d59e5ab56a2d8bfa393ffd08c496e3\", element=\"4d9f9769-d8b2-474f-89b6-70c238653841\")>, <selenium.webdriver.remote.webelement.WebElement (session=\"53d59e5ab56a2d8bfa393ffd08c496e3\", element=\"1bd9a239-b055-4a0b-8563-d3d21abd216b\")>, <selenium.webdriver.remote.webelement.WebElement (session=\"53d59e5ab56a2d8bfa393ffd08c496e3\", element=\"21762b60-c8cb-4588-8734-d61e088c3742\")>, <selenium.webdriver.remote.webelement.WebElement (session=\"53d59e5ab56a2d8bfa393ffd08c496e3\", element=\"8d108326-4f4d-4b1b-bd33-035af35d1fc2\")>, <selenium.webdriver.remote.webelement.WebElement (session=\"53d59e5ab56a2d8bfa393ffd08c496e3\", element=\"3945bd8e-380a-463f-b77d-8986c7f7855d\")>, <selenium.webdriver.remote.webelement.WebElement (session=\"53d59e5ab56a2d8bfa393ffd08c496e3\", element=\"5c0de1eb-b979-4192-b8c5-23c17787c36e\")>, <selenium.webdriver.remote.webelement.WebElement (session=\"53d59e5ab56a2d8bfa393ffd08c496e3\", element=\"f4ce5440-8a6f-4bde-b077-f2c5202f2119\")>, <selenium.webdriver.remote.webelement.WebElement (session=\"53d59e5ab56a2d8bfa393ffd08c496e3\", element=\"fa226e10-ce57-4146-bb3f-1616693913d6\")>, <selenium.webdriver.remote.webelement.WebElement (session=\"53d59e5ab56a2d8bfa393ffd08c496e3\", element=\"f276f897-31ea-436d-ba30-f5775ef52dcb\")>, <selenium.webdriver.remote.webelement.WebElement (session=\"53d59e5ab56a2d8bfa393ffd08c496e3\", element=\"09e871fa-b697-4756-8453-2d24e197182b\")>, <selenium.webdriver.remote.webelement.WebElement (session=\"53d59e5ab56a2d8bfa393ffd08c496e3\", element=\"c539b41c-8f2d-4ae9-8793-d774b005e4f6\")>, <selenium.webdriver.remote.webelement.WebElement (session=\"53d59e5ab56a2d8bfa393ffd08c496e3\", element=\"6119d50f-461a-484a-b597-8219c621f85d\")>, <selenium.webdriver.remote.webelement.WebElement (session=\"53d59e5ab56a2d8bfa393ffd08c496e3\", element=\"b939217d-f0d4-4549-87db-0c7026d0eb0c\")>, <selenium.webdriver.remote.webelement.WebElement (session=\"53d59e5ab56a2d8bfa393ffd08c496e3\", element=\"231ea3b2-8337-430c-9237-7473800a15f5\")>, <selenium.webdriver.remote.webelement.WebElement (session=\"53d59e5ab56a2d8bfa393ffd08c496e3\", element=\"d48700ef-2f73-4001-8ae3-a8ac095c3719\")>, <selenium.webdriver.remote.webelement.WebElement (session=\"53d59e5ab56a2d8bfa393ffd08c496e3\", element=\"8b93038d-4c74-4d52-bc87-5c4bdf037632\")>, <selenium.webdriver.remote.webelement.WebElement (session=\"53d59e5ab56a2d8bfa393ffd08c496e3\", element=\"27d537a1-5837-45f5-8a41-8f18d173468d\")>, <selenium.webdriver.remote.webelement.WebElement (session=\"53d59e5ab56a2d8bfa393ffd08c496e3\", element=\"0a08ebd8-3d90-4b7c-8a46-7f6722f5aab9\")>, <selenium.webdriver.remote.webelement.WebElement (session=\"53d59e5ab56a2d8bfa393ffd08c496e3\", element=\"d0c1bfa3-4151-409c-af3b-9fbc9d0893e6\")>, <selenium.webdriver.remote.webelement.WebElement (session=\"53d59e5ab56a2d8bfa393ffd08c496e3\", element=\"547f7472-6759-4f05-b911-8753435ad7b9\")>, <selenium.webdriver.remote.webelement.WebElement (session=\"53d59e5ab56a2d8bfa393ffd08c496e3\", element=\"387e35ca-c321-4bb7-a1b8-87010f06a871\")>, <selenium.webdriver.remote.webelement.WebElement (session=\"53d59e5ab56a2d8bfa393ffd08c496e3\", element=\"2628b7f6-248d-47d7-a596-8e320e7c13bb\")>, <selenium.webdriver.remote.webelement.WebElement (session=\"53d59e5ab56a2d8bfa393ffd08c496e3\", element=\"8e94f662-c70f-4f9e-8a48-499f072d44c6\")>, <selenium.webdriver.remote.webelement.WebElement (session=\"53d59e5ab56a2d8bfa393ffd08c496e3\", element=\"9b5150a1-12dc-41c4-b4d1-bb9d6d5c44e9\")>, <selenium.webdriver.remote.webelement.WebElement (session=\"53d59e5ab56a2d8bfa393ffd08c496e3\", element=\"f218f404-5309-4069-8295-3966e7bca380\")>, <selenium.webdriver.remote.webelement.WebElement (session=\"53d59e5ab56a2d8bfa393ffd08c496e3\", element=\"a30fc432-5391-4add-8264-29ed69c9c1d1\")>, <selenium.webdriver.remote.webelement.WebElement (session=\"53d59e5ab56a2d8bfa393ffd08c496e3\", element=\"f0f5d078-a7e9-479b-a93d-dbeb9183063a\")>, <selenium.webdriver.remote.webelement.WebElement (session=\"53d59e5ab56a2d8bfa393ffd08c496e3\", element=\"3f1b516a-5423-4119-af65-40277c9426f0\")>, <selenium.webdriver.remote.webelement.WebElement (session=\"53d59e5ab56a2d8bfa393ffd08c496e3\", element=\"d1f2ce18-87b4-4d19-97a1-7fbbefdabf43\")>, <selenium.webdriver.remote.webelement.WebElement (session=\"53d59e5ab56a2d8bfa393ffd08c496e3\", element=\"15f150cd-d3db-4b04-ba2a-1a6b2e301db1\")>, <selenium.webdriver.remote.webelement.WebElement (session=\"53d59e5ab56a2d8bfa393ffd08c496e3\", element=\"24f1bcad-21b4-43d2-b800-05a8801f6677\")>, <selenium.webdriver.remote.webelement.WebElement (session=\"53d59e5ab56a2d8bfa393ffd08c496e3\", element=\"a4868749-d2b0-48f7-aeb1-ad3db3fa8357\")>, <selenium.webdriver.remote.webelement.WebElement (session=\"53d59e5ab56a2d8bfa393ffd08c496e3\", element=\"d05d40da-acc1-475a-a306-731d6b65cbc3\")>, <selenium.webdriver.remote.webelement.WebElement (session=\"53d59e5ab56a2d8bfa393ffd08c496e3\", element=\"c208710c-0f26-4dba-990d-316f4bd49c8b\")>, <selenium.webdriver.remote.webelement.WebElement (session=\"53d59e5ab56a2d8bfa393ffd08c496e3\", element=\"04001d59-05e8-4c39-a6e0-9de67c466c3d\")>, <selenium.webdriver.remote.webelement.WebElement (session=\"53d59e5ab56a2d8bfa393ffd08c496e3\", element=\"e755ba45-aa9b-42ff-ad47-fe8c70ad1a08\")>, <selenium.webdriver.remote.webelement.WebElement (session=\"53d59e5ab56a2d8bfa393ffd08c496e3\", element=\"ae046a3a-9fdd-469b-9948-92e55316bc95\")>, <selenium.webdriver.remote.webelement.WebElement (session=\"53d59e5ab56a2d8bfa393ffd08c496e3\", element=\"d7149328-dcbf-4abf-b75e-489b9f5620a9\")>, <selenium.webdriver.remote.webelement.WebElement (session=\"53d59e5ab56a2d8bfa393ffd08c496e3\", element=\"a2c9106f-287d-41f4-978b-0a34e296dd41\")>, <selenium.webdriver.remote.webelement.WebElement (session=\"53d59e5ab56a2d8bfa393ffd08c496e3\", element=\"6c419b17-7741-41a2-a5d2-0240f094b8d9\")>, <selenium.webdriver.remote.webelement.WebElement (session=\"53d59e5ab56a2d8bfa393ffd08c496e3\", element=\"91b0fe21-ccc3-4653-bddc-1049c87dbe87\")>, <selenium.webdriver.remote.webelement.WebElement (session=\"53d59e5ab56a2d8bfa393ffd08c496e3\", element=\"04a25ca4-ac6f-475d-a75f-26cb7eca4ca6\")>, <selenium.webdriver.remote.webelement.WebElement (session=\"53d59e5ab56a2d8bfa393ffd08c496e3\", element=\"fc831f34-d3f3-4ac9-9a42-4e54b6f7b31c\")>, <selenium.webdriver.remote.webelement.WebElement (session=\"53d59e5ab56a2d8bfa393ffd08c496e3\", element=\"52feb3bc-3f06-4b5a-b44f-bd3176682c6a\")>, <selenium.webdriver.remote.webelement.WebElement (session=\"53d59e5ab56a2d8bfa393ffd08c496e3\", element=\"6dddf7aa-57e7-4a60-8222-bb7d034f8d80\")>, <selenium.webdriver.remote.webelement.WebElement (session=\"53d59e5ab56a2d8bfa393ffd08c496e3\", element=\"e3cb08ff-4147-4b1b-94b4-6dd6780807b1\")>, <selenium.webdriver.remote.webelement.WebElement (session=\"53d59e5ab56a2d8bfa393ffd08c496e3\", element=\"7520a68e-ef9e-482d-8022-279cb83f3dcd\")>, <selenium.webdriver.remote.webelement.WebElement (session=\"53d59e5ab56a2d8bfa393ffd08c496e3\", element=\"8eaf93d0-a519-48f5-b2a4-0aa633a76c04\")>, <selenium.webdriver.remote.webelement.WebElement (session=\"53d59e5ab56a2d8bfa393ffd08c496e3\", element=\"aad938a2-d105-4cbb-b067-d1305084067d\")>, <selenium.webdriver.remote.webelement.WebElement (session=\"53d59e5ab56a2d8bfa393ffd08c496e3\", element=\"78218e33-a92b-44e5-a70c-ef0024074022\")>, <selenium.webdriver.remote.webelement.WebElement (session=\"53d59e5ab56a2d8bfa393ffd08c496e3\", element=\"b9f93d04-bc8f-4fe7-be4f-a2f67abaf01c\")>, <selenium.webdriver.remote.webelement.WebElement (session=\"53d59e5ab56a2d8bfa393ffd08c496e3\", element=\"3dd6a876-e370-4294-a0d8-1eebd65ce3c0\")>, <selenium.webdriver.remote.webelement.WebElement (session=\"53d59e5ab56a2d8bfa393ffd08c496e3\", element=\"128d96a4-2390-438b-9cc9-d57fa1a8b7e1\")>, <selenium.webdriver.remote.webelement.WebElement (session=\"53d59e5ab56a2d8bfa393ffd08c496e3\", element=\"6882881b-c67f-4ddc-b774-3852a6e88c8b\")>, <selenium.webdriver.remote.webelement.WebElement (session=\"53d59e5ab56a2d8bfa393ffd08c496e3\", element=\"a51b8aa1-ad1d-4ef5-a9ba-75c49a9d04f1\")>, <selenium.webdriver.remote.webelement.WebElement (session=\"53d59e5ab56a2d8bfa393ffd08c496e3\", element=\"3c6be6a8-2e7a-4b47-9e7f-ca036adc3ece\")>, <selenium.webdriver.remote.webelement.WebElement (session=\"53d59e5ab56a2d8bfa393ffd08c496e3\", element=\"fb901f4f-0ab3-4ab3-82c0-0119ce8aa993\")>, <selenium.webdriver.remote.webelement.WebElement (session=\"53d59e5ab56a2d8bfa393ffd08c496e3\", element=\"081a438e-04be-4514-8a6f-a8e359f3ff72\")>, <selenium.webdriver.remote.webelement.WebElement (session=\"53d59e5ab56a2d8bfa393ffd08c496e3\", element=\"22a53cda-a5f7-47bc-8211-3528d570e9a1\")>, <selenium.webdriver.remote.webelement.WebElement (session=\"53d59e5ab56a2d8bfa393ffd08c496e3\", element=\"a2c5610c-caea-4833-8a7b-54ff3046ae0c\")>, <selenium.webdriver.remote.webelement.WebElement (session=\"53d59e5ab56a2d8bfa393ffd08c496e3\", element=\"fe1b7d9b-b0a1-4586-9fbe-c3b615299562\")>, <selenium.webdriver.remote.webelement.WebElement (session=\"53d59e5ab56a2d8bfa393ffd08c496e3\", element=\"0206f082-6781-4a3c-93b5-ea184426bef6\")>, <selenium.webdriver.remote.webelement.WebElement (session=\"53d59e5ab56a2d8bfa393ffd08c496e3\", element=\"2851afa1-658d-4893-9c0a-26789f3cc658\")>, <selenium.webdriver.remote.webelement.WebElement (session=\"53d59e5ab56a2d8bfa393ffd08c496e3\", element=\"a8925ded-8ff8-458e-8cf3-0f2d82e62dc4\")>, <selenium.webdriver.remote.webelement.WebElement (session=\"53d59e5ab56a2d8bfa393ffd08c496e3\", element=\"b88f1a87-bf17-475d-9fd4-a59a6d5b6736\")>, <selenium.webdriver.remote.webelement.WebElement (session=\"53d59e5ab56a2d8bfa393ffd08c496e3\", element=\"f48cd397-b67a-4cc2-a5ad-f8239495b068\")>, <selenium.webdriver.remote.webelement.WebElement (session=\"53d59e5ab56a2d8bfa393ffd08c496e3\", element=\"be263e1b-a5bb-485e-8dfe-87a1b9caee2b\")>, <selenium.webdriver.remote.webelement.WebElement (session=\"53d59e5ab56a2d8bfa393ffd08c496e3\", element=\"915676c1-3e52-45f1-86c7-fa9ce1d2f617\")>, <selenium.webdriver.remote.webelement.WebElement (session=\"53d59e5ab56a2d8bfa393ffd08c496e3\", element=\"db03f9a6-7453-4ec7-b1d0-0feffc7764f8\")>, <selenium.webdriver.remote.webelement.WebElement (session=\"53d59e5ab56a2d8bfa393ffd08c496e3\", element=\"cec19de5-d1d3-4a95-9eee-a504574ef0a7\")>, <selenium.webdriver.remote.webelement.WebElement (session=\"53d59e5ab56a2d8bfa393ffd08c496e3\", element=\"36b46443-c09c-4915-b723-79197480e4a3\")>, <selenium.webdriver.remote.webelement.WebElement (session=\"53d59e5ab56a2d8bfa393ffd08c496e3\", element=\"81f63df7-4265-42d3-ab1b-c22aedca5535\")>, <selenium.webdriver.remote.webelement.WebElement (session=\"53d59e5ab56a2d8bfa393ffd08c496e3\", element=\"2cce5ebf-690b-4537-942a-85dda6bc3507\")>, <selenium.webdriver.remote.webelement.WebElement (session=\"53d59e5ab56a2d8bfa393ffd08c496e3\", element=\"35c8be18-ad5e-4c17-a19c-9680c79bc22d\")>, <selenium.webdriver.remote.webelement.WebElement (session=\"53d59e5ab56a2d8bfa393ffd08c496e3\", element=\"46fcbb73-6f32-4d3c-8332-d40936c83a27\")>, <selenium.webdriver.remote.webelement.WebElement (session=\"53d59e5ab56a2d8bfa393ffd08c496e3\", element=\"26bd8241-a05f-44f7-ad24-3d280fa0a5ec\")>, <selenium.webdriver.remote.webelement.WebElement (session=\"53d59e5ab56a2d8bfa393ffd08c496e3\", element=\"6369fc23-26b2-41fe-93e9-ad11119cdaca\")>]\n",
      "[<selenium.webdriver.remote.webelement.WebElement (session=\"53d59e5ab56a2d8bfa393ffd08c496e3\", element=\"0575eaf4-b0f3-4b38-930b-763f7e9f8d8f\")>, <selenium.webdriver.remote.webelement.WebElement (session=\"53d59e5ab56a2d8bfa393ffd08c496e3\", element=\"ae0c9ae5-4014-4911-9125-f7ce09b06c22\")>, <selenium.webdriver.remote.webelement.WebElement (session=\"53d59e5ab56a2d8bfa393ffd08c496e3\", element=\"96e864fb-fff7-48bc-b53b-88effb855b09\")>, <selenium.webdriver.remote.webelement.WebElement (session=\"53d59e5ab56a2d8bfa393ffd08c496e3\", element=\"4e86e724-bc39-427a-ba9f-ed9acacf1591\")>, <selenium.webdriver.remote.webelement.WebElement (session=\"53d59e5ab56a2d8bfa393ffd08c496e3\", element=\"2ff6d7c7-11d2-4291-9574-1986efc7ba25\")>, <selenium.webdriver.remote.webelement.WebElement (session=\"53d59e5ab56a2d8bfa393ffd08c496e3\", element=\"343f281e-6cfb-4547-a4c9-66a61328c798\")>, <selenium.webdriver.remote.webelement.WebElement (session=\"53d59e5ab56a2d8bfa393ffd08c496e3\", element=\"886c9535-6e80-4904-b20f-fa2099af9d64\")>, <selenium.webdriver.remote.webelement.WebElement (session=\"53d59e5ab56a2d8bfa393ffd08c496e3\", element=\"c095f743-d85a-411f-ab53-4fd6ded27846\")>, <selenium.webdriver.remote.webelement.WebElement (session=\"53d59e5ab56a2d8bfa393ffd08c496e3\", element=\"c75e6e5e-b338-437d-9618-064876dd345a\")>, <selenium.webdriver.remote.webelement.WebElement (session=\"53d59e5ab56a2d8bfa393ffd08c496e3\", element=\"80901e30-2a5d-449c-a6f6-c17c635bfd30\")>, <selenium.webdriver.remote.webelement.WebElement (session=\"53d59e5ab56a2d8bfa393ffd08c496e3\", element=\"fdeda08a-5f80-4c1c-ab88-5d5ce2d365a2\")>, <selenium.webdriver.remote.webelement.WebElement (session=\"53d59e5ab56a2d8bfa393ffd08c496e3\", element=\"4c850d51-6e03-43bc-9feb-b140aa402644\")>, <selenium.webdriver.remote.webelement.WebElement (session=\"53d59e5ab56a2d8bfa393ffd08c496e3\", element=\"9ff4b0e8-e0c2-41b0-b73a-3ee16b650075\")>, <selenium.webdriver.remote.webelement.WebElement (session=\"53d59e5ab56a2d8bfa393ffd08c496e3\", element=\"a24eb090-0442-4fb5-9fff-c5ddf011de04\")>, <selenium.webdriver.remote.webelement.WebElement (session=\"53d59e5ab56a2d8bfa393ffd08c496e3\", element=\"5c7a3287-99ae-4d74-9e59-02cc2959dd6c\")>, <selenium.webdriver.remote.webelement.WebElement (session=\"53d59e5ab56a2d8bfa393ffd08c496e3\", element=\"127fbd76-2ece-4296-a892-6100693f7e0d\")>, <selenium.webdriver.remote.webelement.WebElement (session=\"53d59e5ab56a2d8bfa393ffd08c496e3\", element=\"14583d1d-465d-4b08-9ed9-c8b220ef5ea4\")>, <selenium.webdriver.remote.webelement.WebElement (session=\"53d59e5ab56a2d8bfa393ffd08c496e3\", element=\"3b4a12bb-7dac-4d46-b624-55e2f2033e39\")>, <selenium.webdriver.remote.webelement.WebElement (session=\"53d59e5ab56a2d8bfa393ffd08c496e3\", element=\"d631acdb-c18c-4708-b387-4fa534946875\")>, <selenium.webdriver.remote.webelement.WebElement (session=\"53d59e5ab56a2d8bfa393ffd08c496e3\", element=\"062dc375-fca7-4891-bcd9-00c73a9a88e2\")>, <selenium.webdriver.remote.webelement.WebElement (session=\"53d59e5ab56a2d8bfa393ffd08c496e3\", element=\"4716b8b0-aaf2-45bc-8f7a-aaa21174f2be\")>, <selenium.webdriver.remote.webelement.WebElement (session=\"53d59e5ab56a2d8bfa393ffd08c496e3\", element=\"a4ed8dac-eed4-40f7-acf4-518163152541\")>, <selenium.webdriver.remote.webelement.WebElement (session=\"53d59e5ab56a2d8bfa393ffd08c496e3\", element=\"5a314abe-cccf-4ced-86ab-82e124d2f6ad\")>, <selenium.webdriver.remote.webelement.WebElement (session=\"53d59e5ab56a2d8bfa393ffd08c496e3\", element=\"5e687265-90cf-44c2-b272-943cd588d889\")>, <selenium.webdriver.remote.webelement.WebElement (session=\"53d59e5ab56a2d8bfa393ffd08c496e3\", element=\"a07bd046-f0df-48d3-bcc8-cc821ab6501b\")>, <selenium.webdriver.remote.webelement.WebElement (session=\"53d59e5ab56a2d8bfa393ffd08c496e3\", element=\"77ae0bb2-8e87-4954-bd3a-9aa5aa15dd12\")>, <selenium.webdriver.remote.webelement.WebElement (session=\"53d59e5ab56a2d8bfa393ffd08c496e3\", element=\"875d3139-ac73-48d1-b778-5b5d4874001e\")>, <selenium.webdriver.remote.webelement.WebElement (session=\"53d59e5ab56a2d8bfa393ffd08c496e3\", element=\"f08ec2af-520b-4712-bcab-7d1643a44c4d\")>, <selenium.webdriver.remote.webelement.WebElement (session=\"53d59e5ab56a2d8bfa393ffd08c496e3\", element=\"554b9ed2-064e-46c2-8f19-0096b738f191\")>, <selenium.webdriver.remote.webelement.WebElement (session=\"53d59e5ab56a2d8bfa393ffd08c496e3\", element=\"65e632c1-cd0c-43d4-ac8b-d59101222225\")>, <selenium.webdriver.remote.webelement.WebElement (session=\"53d59e5ab56a2d8bfa393ffd08c496e3\", element=\"c0dbad4c-f3a7-4a9d-955a-867913d7535e\")>, <selenium.webdriver.remote.webelement.WebElement (session=\"53d59e5ab56a2d8bfa393ffd08c496e3\", element=\"708d3944-c009-42e2-9651-e0b4e31e4f17\")>, <selenium.webdriver.remote.webelement.WebElement (session=\"53d59e5ab56a2d8bfa393ffd08c496e3\", element=\"9efc1d77-4aec-46b2-812b-cdee8625a1fa\")>, <selenium.webdriver.remote.webelement.WebElement (session=\"53d59e5ab56a2d8bfa393ffd08c496e3\", element=\"132e63c3-58f7-4d3a-8c2a-d2ffda989d11\")>, <selenium.webdriver.remote.webelement.WebElement (session=\"53d59e5ab56a2d8bfa393ffd08c496e3\", element=\"fdd72dee-26c7-40e4-93de-4d919c744dcf\")>, <selenium.webdriver.remote.webelement.WebElement (session=\"53d59e5ab56a2d8bfa393ffd08c496e3\", element=\"7c8194a1-2338-43a4-9401-a5cb86bca208\")>, <selenium.webdriver.remote.webelement.WebElement (session=\"53d59e5ab56a2d8bfa393ffd08c496e3\", element=\"65893394-1ea9-4aac-bd08-609d7a735eb4\")>, <selenium.webdriver.remote.webelement.WebElement (session=\"53d59e5ab56a2d8bfa393ffd08c496e3\", element=\"71536046-df40-48c8-85b5-3338a030ed42\")>, <selenium.webdriver.remote.webelement.WebElement (session=\"53d59e5ab56a2d8bfa393ffd08c496e3\", element=\"a2fbe4bf-bfd3-464a-a5c8-b1545df1f61e\")>, <selenium.webdriver.remote.webelement.WebElement (session=\"53d59e5ab56a2d8bfa393ffd08c496e3\", element=\"f362f8fd-516d-4b9f-9b09-d42c895c8404\")>, <selenium.webdriver.remote.webelement.WebElement (session=\"53d59e5ab56a2d8bfa393ffd08c496e3\", element=\"5faea4ac-624a-432a-862e-9c547aa88cf4\")>, <selenium.webdriver.remote.webelement.WebElement (session=\"53d59e5ab56a2d8bfa393ffd08c496e3\", element=\"b08e6636-98a6-469e-870a-7e1ff460b227\")>, <selenium.webdriver.remote.webelement.WebElement (session=\"53d59e5ab56a2d8bfa393ffd08c496e3\", element=\"47e79201-cb54-4199-a093-fd94f8a17054\")>, <selenium.webdriver.remote.webelement.WebElement (session=\"53d59e5ab56a2d8bfa393ffd08c496e3\", element=\"4ee75eb6-5d04-4973-b10b-c3bdb2ccfaba\")>, <selenium.webdriver.remote.webelement.WebElement (session=\"53d59e5ab56a2d8bfa393ffd08c496e3\", element=\"fc0c214c-f527-4356-a589-08b059fe9078\")>, <selenium.webdriver.remote.webelement.WebElement (session=\"53d59e5ab56a2d8bfa393ffd08c496e3\", element=\"8b31f57b-2850-43d1-9705-af4f7cb134a2\")>, <selenium.webdriver.remote.webelement.WebElement (session=\"53d59e5ab56a2d8bfa393ffd08c496e3\", element=\"33aed751-509b-4d04-9565-30d224663f42\")>, <selenium.webdriver.remote.webelement.WebElement (session=\"53d59e5ab56a2d8bfa393ffd08c496e3\", element=\"8315465a-d5d9-46c4-9ff6-f2172ef960e5\")>, <selenium.webdriver.remote.webelement.WebElement (session=\"53d59e5ab56a2d8bfa393ffd08c496e3\", element=\"8636b07b-1900-4002-8868-b7539ee26297\")>, <selenium.webdriver.remote.webelement.WebElement (session=\"53d59e5ab56a2d8bfa393ffd08c496e3\", element=\"b0b0a4bf-9389-4552-a0dc-c6a837600f69\")>, <selenium.webdriver.remote.webelement.WebElement (session=\"53d59e5ab56a2d8bfa393ffd08c496e3\", element=\"659ca5f9-a9de-40f7-92be-edd85169d075\")>, <selenium.webdriver.remote.webelement.WebElement (session=\"53d59e5ab56a2d8bfa393ffd08c496e3\", element=\"7c930fc3-fc2b-4273-b4fa-ff2c2e73f2d5\")>, <selenium.webdriver.remote.webelement.WebElement (session=\"53d59e5ab56a2d8bfa393ffd08c496e3\", element=\"b9587172-3472-4aa7-ac4c-0cadd9bae18e\")>, <selenium.webdriver.remote.webelement.WebElement (session=\"53d59e5ab56a2d8bfa393ffd08c496e3\", element=\"d99432ce-5b56-4d69-9288-8a1489e596d8\")>, <selenium.webdriver.remote.webelement.WebElement (session=\"53d59e5ab56a2d8bfa393ffd08c496e3\", element=\"5839e597-c529-4260-9a9c-f2ef784033b8\")>, <selenium.webdriver.remote.webelement.WebElement (session=\"53d59e5ab56a2d8bfa393ffd08c496e3\", element=\"3124c530-c44d-4ad1-98b6-2593b94dd33f\")>, <selenium.webdriver.remote.webelement.WebElement (session=\"53d59e5ab56a2d8bfa393ffd08c496e3\", element=\"f716b277-c386-48f8-a00e-85f2c6e3a3e8\")>, <selenium.webdriver.remote.webelement.WebElement (session=\"53d59e5ab56a2d8bfa393ffd08c496e3\", element=\"1a41c0c0-a2af-4dcb-8458-68a400f7ea14\")>, <selenium.webdriver.remote.webelement.WebElement (session=\"53d59e5ab56a2d8bfa393ffd08c496e3\", element=\"055a8521-75da-4f63-8882-a0f98bbaa1b4\")>, <selenium.webdriver.remote.webelement.WebElement (session=\"53d59e5ab56a2d8bfa393ffd08c496e3\", element=\"6c5a4b0e-dbf4-4897-a044-cdbfa05a627e\")>, <selenium.webdriver.remote.webelement.WebElement (session=\"53d59e5ab56a2d8bfa393ffd08c496e3\", element=\"97f27e3e-1041-4ef9-a434-f5f259d25658\")>, <selenium.webdriver.remote.webelement.WebElement (session=\"53d59e5ab56a2d8bfa393ffd08c496e3\", element=\"25b0bece-b94c-4ffe-b920-db4c5922e868\")>, <selenium.webdriver.remote.webelement.WebElement (session=\"53d59e5ab56a2d8bfa393ffd08c496e3\", element=\"d6c6c31f-6a25-4be1-943d-1bbd4e1c4acc\")>, <selenium.webdriver.remote.webelement.WebElement (session=\"53d59e5ab56a2d8bfa393ffd08c496e3\", element=\"35402bcf-9d8c-4048-99eb-2808e245bfb3\")>, <selenium.webdriver.remote.webelement.WebElement (session=\"53d59e5ab56a2d8bfa393ffd08c496e3\", element=\"b7f5e652-bcbb-46f8-a4ee-579aca4a8107\")>, <selenium.webdriver.remote.webelement.WebElement (session=\"53d59e5ab56a2d8bfa393ffd08c496e3\", element=\"482cd4d9-9a8c-484a-9c88-9ab3759c1f37\")>, <selenium.webdriver.remote.webelement.WebElement (session=\"53d59e5ab56a2d8bfa393ffd08c496e3\", element=\"b1267435-a814-4bf1-8fc7-8b2fd8ff0502\")>, <selenium.webdriver.remote.webelement.WebElement (session=\"53d59e5ab56a2d8bfa393ffd08c496e3\", element=\"64278eb9-1dab-467b-8c25-ee17f9462da1\")>, <selenium.webdriver.remote.webelement.WebElement (session=\"53d59e5ab56a2d8bfa393ffd08c496e3\", element=\"48eab1ed-37bd-4a72-890d-e79bc5dc37cd\")>, <selenium.webdriver.remote.webelement.WebElement (session=\"53d59e5ab56a2d8bfa393ffd08c496e3\", element=\"2cd0cca2-c602-4604-b938-80d982738386\")>, <selenium.webdriver.remote.webelement.WebElement (session=\"53d59e5ab56a2d8bfa393ffd08c496e3\", element=\"a2f90292-7b4b-4fcb-8736-fd16c84fc80c\")>, <selenium.webdriver.remote.webelement.WebElement (session=\"53d59e5ab56a2d8bfa393ffd08c496e3\", element=\"b8e77a1d-2b43-4344-8290-bc878de0a8b1\")>, <selenium.webdriver.remote.webelement.WebElement (session=\"53d59e5ab56a2d8bfa393ffd08c496e3\", element=\"d0cf2312-d62e-48f7-b8b8-95088dcdc635\")>, <selenium.webdriver.remote.webelement.WebElement (session=\"53d59e5ab56a2d8bfa393ffd08c496e3\", element=\"6add06d5-9595-4e3b-b64a-ea7079235761\")>, <selenium.webdriver.remote.webelement.WebElement (session=\"53d59e5ab56a2d8bfa393ffd08c496e3\", element=\"25e226ca-d6e5-40ec-8110-d95aa3882af4\")>, <selenium.webdriver.remote.webelement.WebElement (session=\"53d59e5ab56a2d8bfa393ffd08c496e3\", element=\"1649a495-ee85-4b2c-8951-142347549eb1\")>, <selenium.webdriver.remote.webelement.WebElement (session=\"53d59e5ab56a2d8bfa393ffd08c496e3\", element=\"42718ec7-dde4-462c-b53f-fd7d8f18b081\")>, <selenium.webdriver.remote.webelement.WebElement (session=\"53d59e5ab56a2d8bfa393ffd08c496e3\", element=\"cc74fedd-599e-4fd9-bd95-d4af3ac18ed8\")>, <selenium.webdriver.remote.webelement.WebElement (session=\"53d59e5ab56a2d8bfa393ffd08c496e3\", element=\"502e3e94-910b-4b66-90e7-4d25042af72d\")>, <selenium.webdriver.remote.webelement.WebElement (session=\"53d59e5ab56a2d8bfa393ffd08c496e3\", element=\"5dcae600-79e1-4e9e-85cf-3cdcd5e8e494\")>, <selenium.webdriver.remote.webelement.WebElement (session=\"53d59e5ab56a2d8bfa393ffd08c496e3\", element=\"835f8724-a1ff-493d-bf52-c3b27b5d1ce8\")>, <selenium.webdriver.remote.webelement.WebElement (session=\"53d59e5ab56a2d8bfa393ffd08c496e3\", element=\"5c0714f2-0ba1-4d7f-b1be-d25a4bf2607a\")>, <selenium.webdriver.remote.webelement.WebElement (session=\"53d59e5ab56a2d8bfa393ffd08c496e3\", element=\"ab502428-7d60-40aa-bf49-20ee7a216ea8\")>, <selenium.webdriver.remote.webelement.WebElement (session=\"53d59e5ab56a2d8bfa393ffd08c496e3\", element=\"8e2baa9e-31e4-492d-8e21-d9efec972f7d\")>, <selenium.webdriver.remote.webelement.WebElement (session=\"53d59e5ab56a2d8bfa393ffd08c496e3\", element=\"be46e6a6-39cc-45b0-b74c-6cea93c6a879\")>, <selenium.webdriver.remote.webelement.WebElement (session=\"53d59e5ab56a2d8bfa393ffd08c496e3\", element=\"cd71f682-b829-4d94-9e0a-82ef42f9603b\")>, <selenium.webdriver.remote.webelement.WebElement (session=\"53d59e5ab56a2d8bfa393ffd08c496e3\", element=\"9a0662fb-5412-4f7f-9f83-79076b7cdf7d\")>, <selenium.webdriver.remote.webelement.WebElement (session=\"53d59e5ab56a2d8bfa393ffd08c496e3\", element=\"018b3c42-45e3-4504-835c-84b321627e56\")>, <selenium.webdriver.remote.webelement.WebElement (session=\"53d59e5ab56a2d8bfa393ffd08c496e3\", element=\"f1b6ae37-f9c0-4e38-ab99-b9a948b32797\")>, <selenium.webdriver.remote.webelement.WebElement (session=\"53d59e5ab56a2d8bfa393ffd08c496e3\", element=\"4d49e76a-2722-4ef6-988a-560e26081553\")>, <selenium.webdriver.remote.webelement.WebElement (session=\"53d59e5ab56a2d8bfa393ffd08c496e3\", element=\"4f0076ad-16f4-49aa-8d7b-5363013ad772\")>, <selenium.webdriver.remote.webelement.WebElement (session=\"53d59e5ab56a2d8bfa393ffd08c496e3\", element=\"1e0a46ff-8638-488f-aaa7-1db438f2d00d\")>, <selenium.webdriver.remote.webelement.WebElement (session=\"53d59e5ab56a2d8bfa393ffd08c496e3\", element=\"9b608e8f-ccb5-4eb2-a2ab-e7649d5b49a4\")>, <selenium.webdriver.remote.webelement.WebElement (session=\"53d59e5ab56a2d8bfa393ffd08c496e3\", element=\"bfaf87c7-6927-46a3-952b-1a82b21d1922\")>, <selenium.webdriver.remote.webelement.WebElement (session=\"53d59e5ab56a2d8bfa393ffd08c496e3\", element=\"a1ceda5e-68f9-4a77-9667-e3a1e9907263\")>, <selenium.webdriver.remote.webelement.WebElement (session=\"53d59e5ab56a2d8bfa393ffd08c496e3\", element=\"ae9455a6-8ad2-4cba-82b9-5b4ac0abf2d2\")>, <selenium.webdriver.remote.webelement.WebElement (session=\"53d59e5ab56a2d8bfa393ffd08c496e3\", element=\"ad2374e3-d435-4781-bf9e-279b3826ea3b\")>, <selenium.webdriver.remote.webelement.WebElement (session=\"53d59e5ab56a2d8bfa393ffd08c496e3\", element=\"ca71cf9a-50b4-4b6f-b811-536851b97650\")>, <selenium.webdriver.remote.webelement.WebElement (session=\"53d59e5ab56a2d8bfa393ffd08c496e3\", element=\"c9f34ea9-8e40-40c5-aef3-068cfe2a0f9e\")>, <selenium.webdriver.remote.webelement.WebElement (session=\"53d59e5ab56a2d8bfa393ffd08c496e3\", element=\"81288c0a-1375-4ee1-a0ca-ffbfed9ee9e4\")>, <selenium.webdriver.remote.webelement.WebElement (session=\"53d59e5ab56a2d8bfa393ffd08c496e3\", element=\"cdbd543a-204d-4755-bede-2734f8bcd5ca\")>, <selenium.webdriver.remote.webelement.WebElement (session=\"53d59e5ab56a2d8bfa393ffd08c496e3\", element=\"0ecf1620-a07c-4e47-a7ed-30c259255604\")>, <selenium.webdriver.remote.webelement.WebElement (session=\"53d59e5ab56a2d8bfa393ffd08c496e3\", element=\"103e1c3a-72ee-41b3-8d7f-9497e8336ab0\")>, <selenium.webdriver.remote.webelement.WebElement (session=\"53d59e5ab56a2d8bfa393ffd08c496e3\", element=\"e1865e58-4138-4204-abaf-db1e7d6fc1b0\")>, <selenium.webdriver.remote.webelement.WebElement (session=\"53d59e5ab56a2d8bfa393ffd08c496e3\", element=\"0ecc94bf-2911-44b6-8e15-3e18f33df75a\")>, <selenium.webdriver.remote.webelement.WebElement (session=\"53d59e5ab56a2d8bfa393ffd08c496e3\", element=\"03c75a40-96c4-48ae-ae76-fdf3a5568262\")>, <selenium.webdriver.remote.webelement.WebElement (session=\"53d59e5ab56a2d8bfa393ffd08c496e3\", element=\"d041c0d8-c60c-4c21-bcf0-abb913478f90\")>, <selenium.webdriver.remote.webelement.WebElement (session=\"53d59e5ab56a2d8bfa393ffd08c496e3\", element=\"855fbe9d-303c-4d56-8b1e-b9f17d691fd1\")>, <selenium.webdriver.remote.webelement.WebElement (session=\"53d59e5ab56a2d8bfa393ffd08c496e3\", element=\"b1f10e4d-7139-4cf3-ba7c-ee15e3bf7a71\")>, <selenium.webdriver.remote.webelement.WebElement (session=\"53d59e5ab56a2d8bfa393ffd08c496e3\", element=\"51cbef74-16ae-41e1-b086-a4666ddfda91\")>, <selenium.webdriver.remote.webelement.WebElement (session=\"53d59e5ab56a2d8bfa393ffd08c496e3\", element=\"8045074f-6fd7-4db5-aed5-9a2c3a70026c\")>, <selenium.webdriver.remote.webelement.WebElement (session=\"53d59e5ab56a2d8bfa393ffd08c496e3\", element=\"f625df3c-813d-4ad4-b1e3-efd23695f1e3\")>, <selenium.webdriver.remote.webelement.WebElement (session=\"53d59e5ab56a2d8bfa393ffd08c496e3\", element=\"4b590f44-473b-4f57-b826-37a4532ac218\")>, <selenium.webdriver.remote.webelement.WebElement (session=\"53d59e5ab56a2d8bfa393ffd08c496e3\", element=\"1fffffa3-a773-48dd-908b-686259063858\")>, <selenium.webdriver.remote.webelement.WebElement (session=\"53d59e5ab56a2d8bfa393ffd08c496e3\", element=\"0080a241-0d86-44b3-b547-326720ffea80\")>, <selenium.webdriver.remote.webelement.WebElement (session=\"53d59e5ab56a2d8bfa393ffd08c496e3\", element=\"1535b954-1123-4dd2-8bbe-9db64d7c20d6\")>, <selenium.webdriver.remote.webelement.WebElement (session=\"53d59e5ab56a2d8bfa393ffd08c496e3\", element=\"c94f5a30-98f3-4866-95a4-34356751a225\")>, <selenium.webdriver.remote.webelement.WebElement (session=\"53d59e5ab56a2d8bfa393ffd08c496e3\", element=\"b349af4b-fe5d-4df0-99ff-85d3a9df7b43\")>, <selenium.webdriver.remote.webelement.WebElement (session=\"53d59e5ab56a2d8bfa393ffd08c496e3\", element=\"57258f54-1de3-488a-857c-32fe50061b11\")>, <selenium.webdriver.remote.webelement.WebElement (session=\"53d59e5ab56a2d8bfa393ffd08c496e3\", element=\"9d6e902a-046b-478c-bd46-153852e2b2f9\")>, <selenium.webdriver.remote.webelement.WebElement (session=\"53d59e5ab56a2d8bfa393ffd08c496e3\", element=\"96ef0087-eb09-4b11-b603-7a3d31694a87\")>, <selenium.webdriver.remote.webelement.WebElement (session=\"53d59e5ab56a2d8bfa393ffd08c496e3\", element=\"4fac2098-98d4-4d7a-bdbe-864c2f90c46d\")>, <selenium.webdriver.remote.webelement.WebElement (session=\"53d59e5ab56a2d8bfa393ffd08c496e3\", element=\"43e6977a-698e-4561-ba6c-2d6580fa7542\")>, <selenium.webdriver.remote.webelement.WebElement (session=\"53d59e5ab56a2d8bfa393ffd08c496e3\", element=\"52ddf363-72e4-4591-8718-4156fd38d242\")>, <selenium.webdriver.remote.webelement.WebElement (session=\"53d59e5ab56a2d8bfa393ffd08c496e3\", element=\"f86f775c-d5fd-4b81-89e8-bf91eee8860f\")>, <selenium.webdriver.remote.webelement.WebElement (session=\"53d59e5ab56a2d8bfa393ffd08c496e3\", element=\"d2d3e100-cc58-4180-89da-5054dd750d3a\")>, <selenium.webdriver.remote.webelement.WebElement (session=\"53d59e5ab56a2d8bfa393ffd08c496e3\", element=\"8ff2434b-6e50-4ab3-8d13-6daa7313007d\")>, <selenium.webdriver.remote.webelement.WebElement (session=\"53d59e5ab56a2d8bfa393ffd08c496e3\", element=\"ce570c25-4f4a-4b7a-96d5-fdeb081f4827\")>, <selenium.webdriver.remote.webelement.WebElement (session=\"53d59e5ab56a2d8bfa393ffd08c496e3\", element=\"e97bccf7-d852-4f47-aaf5-bee222ef9deb\")>, <selenium.webdriver.remote.webelement.WebElement (session=\"53d59e5ab56a2d8bfa393ffd08c496e3\", element=\"7cb0a960-7815-45a2-92da-56b8df5dcd8f\")>, <selenium.webdriver.remote.webelement.WebElement (session=\"53d59e5ab56a2d8bfa393ffd08c496e3\", element=\"d700d6db-039d-4075-933b-d293d1cc8a40\")>, <selenium.webdriver.remote.webelement.WebElement (session=\"53d59e5ab56a2d8bfa393ffd08c496e3\", element=\"b7b381b1-a6eb-47c8-9466-cd95129e15d4\")>, <selenium.webdriver.remote.webelement.WebElement (session=\"53d59e5ab56a2d8bfa393ffd08c496e3\", element=\"a4bdf471-8d6d-452f-8d3b-e146ba71d936\")>, <selenium.webdriver.remote.webelement.WebElement (session=\"53d59e5ab56a2d8bfa393ffd08c496e3\", element=\"d563ea29-99e1-4a36-bfce-e42999b6fd01\")>, <selenium.webdriver.remote.webelement.WebElement (session=\"53d59e5ab56a2d8bfa393ffd08c496e3\", element=\"05d7b439-ec54-4ebe-8591-80605a91856e\")>, <selenium.webdriver.remote.webelement.WebElement (session=\"53d59e5ab56a2d8bfa393ffd08c496e3\", element=\"447e0f6e-baea-449d-a174-59da5bfc6003\")>, <selenium.webdriver.remote.webelement.WebElement (session=\"53d59e5ab56a2d8bfa393ffd08c496e3\", element=\"60dc4dd8-e061-4fe4-9e07-0e18ded08d24\")>, <selenium.webdriver.remote.webelement.WebElement (session=\"53d59e5ab56a2d8bfa393ffd08c496e3\", element=\"8eea53ee-b220-4f0d-9949-8627a3fb08e7\")>, <selenium.webdriver.remote.webelement.WebElement (session=\"53d59e5ab56a2d8bfa393ffd08c496e3\", element=\"bb377840-c5f3-4c11-aba8-3db245372e8a\")>, <selenium.webdriver.remote.webelement.WebElement (session=\"53d59e5ab56a2d8bfa393ffd08c496e3\", element=\"a8b34259-c086-4cf4-af76-387691c9de2d\")>, <selenium.webdriver.remote.webelement.WebElement (session=\"53d59e5ab56a2d8bfa393ffd08c496e3\", element=\"91082823-a2f5-477b-8e89-6e8b7bbb533b\")>, <selenium.webdriver.remote.webelement.WebElement (session=\"53d59e5ab56a2d8bfa393ffd08c496e3\", element=\"e1096ad4-9779-4bee-b722-659078504990\")>, <selenium.webdriver.remote.webelement.WebElement (session=\"53d59e5ab56a2d8bfa393ffd08c496e3\", element=\"70a73900-340b-444d-beda-c424751de0f0\")>, <selenium.webdriver.remote.webelement.WebElement (session=\"53d59e5ab56a2d8bfa393ffd08c496e3\", element=\"12ecc952-ec27-4cd7-b9ab-0b6c452793c8\")>, <selenium.webdriver.remote.webelement.WebElement (session=\"53d59e5ab56a2d8bfa393ffd08c496e3\", element=\"b5337d83-891b-4c32-a15c-43b9236440ac\")>, <selenium.webdriver.remote.webelement.WebElement (session=\"53d59e5ab56a2d8bfa393ffd08c496e3\", element=\"cec4d730-af79-45ab-9dad-cff2dc35b5c0\")>, <selenium.webdriver.remote.webelement.WebElement (session=\"53d59e5ab56a2d8bfa393ffd08c496e3\", element=\"3395f4a1-3a40-4709-ac89-19be7f3cf34b\")>, <selenium.webdriver.remote.webelement.WebElement (session=\"53d59e5ab56a2d8bfa393ffd08c496e3\", element=\"e31aa4a0-f58f-4074-a141-687fe65b8700\")>, <selenium.webdriver.remote.webelement.WebElement (session=\"53d59e5ab56a2d8bfa393ffd08c496e3\", element=\"fda19a9e-40c3-4112-8531-1e4607a6e48b\")>, <selenium.webdriver.remote.webelement.WebElement (session=\"53d59e5ab56a2d8bfa393ffd08c496e3\", element=\"86ccb327-91f7-4a7e-ad54-b3cb62d8f83d\")>, <selenium.webdriver.remote.webelement.WebElement (session=\"53d59e5ab56a2d8bfa393ffd08c496e3\", element=\"a5c1d93f-8fb5-40ad-8f9e-62aeb9d47a9e\")>, <selenium.webdriver.remote.webelement.WebElement (session=\"53d59e5ab56a2d8bfa393ffd08c496e3\", element=\"f8c2b862-8575-4a98-bb1e-76435c2d4d64\")>, <selenium.webdriver.remote.webelement.WebElement (session=\"53d59e5ab56a2d8bfa393ffd08c496e3\", element=\"be765683-52f6-43b5-826d-1ba7a07cb1c5\")>, <selenium.webdriver.remote.webelement.WebElement (session=\"53d59e5ab56a2d8bfa393ffd08c496e3\", element=\"e6bc59eb-27df-4b85-87de-736cfb34c738\")>, <selenium.webdriver.remote.webelement.WebElement (session=\"53d59e5ab56a2d8bfa393ffd08c496e3\", element=\"8d401869-2bfd-44a3-a5e1-0e8d1e21671c\")>, <selenium.webdriver.remote.webelement.WebElement (session=\"53d59e5ab56a2d8bfa393ffd08c496e3\", element=\"263812f0-e5fb-450b-8497-9e045427b75f\")>, <selenium.webdriver.remote.webelement.WebElement (session=\"53d59e5ab56a2d8bfa393ffd08c496e3\", element=\"5c6172e0-43d0-4d21-8ab0-abbe45bbd568\")>, <selenium.webdriver.remote.webelement.WebElement (session=\"53d59e5ab56a2d8bfa393ffd08c496e3\", element=\"da855084-29d5-498e-80c6-362342b87a09\")>, <selenium.webdriver.remote.webelement.WebElement (session=\"53d59e5ab56a2d8bfa393ffd08c496e3\", element=\"43e37da4-b660-49f9-a4ca-9ef585003fca\")>, <selenium.webdriver.remote.webelement.WebElement (session=\"53d59e5ab56a2d8bfa393ffd08c496e3\", element=\"fa9404b8-9094-4929-84c2-0a5278356802\")>, <selenium.webdriver.remote.webelement.WebElement (session=\"53d59e5ab56a2d8bfa393ffd08c496e3\", element=\"d78d8eec-67d3-4519-851d-e6998c664857\")>, <selenium.webdriver.remote.webelement.WebElement (session=\"53d59e5ab56a2d8bfa393ffd08c496e3\", element=\"33ed95d8-879a-40a2-a4b1-8613eceeba7a\")>, <selenium.webdriver.remote.webelement.WebElement (session=\"53d59e5ab56a2d8bfa393ffd08c496e3\", element=\"2cf23dde-3dbc-4235-828f-b666ae163931\")>, <selenium.webdriver.remote.webelement.WebElement (session=\"53d59e5ab56a2d8bfa393ffd08c496e3\", element=\"8b54e013-ce26-4166-b266-c811b7631ec1\")>, <selenium.webdriver.remote.webelement.WebElement (session=\"53d59e5ab56a2d8bfa393ffd08c496e3\", element=\"3bf33245-c191-4e24-a1fd-0b8ff0064639\")>, <selenium.webdriver.remote.webelement.WebElement (session=\"53d59e5ab56a2d8bfa393ffd08c496e3\", element=\"e83c155b-9fcf-4e8c-86b7-dd930a759da4\")>, <selenium.webdriver.remote.webelement.WebElement (session=\"53d59e5ab56a2d8bfa393ffd08c496e3\", element=\"a4143ca8-fee3-437c-bd70-aa780d5849a9\")>, <selenium.webdriver.remote.webelement.WebElement (session=\"53d59e5ab56a2d8bfa393ffd08c496e3\", element=\"7bb49007-5fca-4f37-8aec-4622efcff3f8\")>, <selenium.webdriver.remote.webelement.WebElement (session=\"53d59e5ab56a2d8bfa393ffd08c496e3\", element=\"8d254392-a326-44a3-98b2-c928fab154a8\")>, <selenium.webdriver.remote.webelement.WebElement (session=\"53d59e5ab56a2d8bfa393ffd08c496e3\", element=\"2b24e9b6-b10d-4ecc-a602-d7d570b25f82\")>, <selenium.webdriver.remote.webelement.WebElement (session=\"53d59e5ab56a2d8bfa393ffd08c496e3\", element=\"db1b2adc-f9a4-432f-a42d-d67157e6ff0b\")>, <selenium.webdriver.remote.webelement.WebElement (session=\"53d59e5ab56a2d8bfa393ffd08c496e3\", element=\"14ca1a27-d7d7-4645-964c-4d8ab689d11c\")>, <selenium.webdriver.remote.webelement.WebElement (session=\"53d59e5ab56a2d8bfa393ffd08c496e3\", element=\"72ea960d-9203-4475-bc33-aa0bdc835503\")>, <selenium.webdriver.remote.webelement.WebElement (session=\"53d59e5ab56a2d8bfa393ffd08c496e3\", element=\"e0b6881d-fe14-4a86-b233-cce95d5edfe7\")>, <selenium.webdriver.remote.webelement.WebElement (session=\"53d59e5ab56a2d8bfa393ffd08c496e3\", element=\"e7e53a16-90e7-482a-b3ac-626beb459fa8\")>, <selenium.webdriver.remote.webelement.WebElement (session=\"53d59e5ab56a2d8bfa393ffd08c496e3\", element=\"e1350bb0-3aae-44de-9434-f3338d47e779\")>, <selenium.webdriver.remote.webelement.WebElement (session=\"53d59e5ab56a2d8bfa393ffd08c496e3\", element=\"d4a35e2e-084a-4123-bdde-9615c6bf2835\")>, <selenium.webdriver.remote.webelement.WebElement (session=\"53d59e5ab56a2d8bfa393ffd08c496e3\", element=\"281ca1e4-8e86-45a5-b88a-540287df7414\")>, <selenium.webdriver.remote.webelement.WebElement (session=\"53d59e5ab56a2d8bfa393ffd08c496e3\", element=\"51e70e4e-8439-4e18-941e-8dcad18c333a\")>, <selenium.webdriver.remote.webelement.WebElement (session=\"53d59e5ab56a2d8bfa393ffd08c496e3\", element=\"e7f1119b-dfdd-4c53-ba59-2363980874c3\")>, <selenium.webdriver.remote.webelement.WebElement (session=\"53d59e5ab56a2d8bfa393ffd08c496e3\", element=\"ee9f3a6b-2b38-436c-86b3-b323c4985923\")>, <selenium.webdriver.remote.webelement.WebElement (session=\"53d59e5ab56a2d8bfa393ffd08c496e3\", element=\"465a6fe1-4533-4265-96fd-f296cc5a9593\")>, <selenium.webdriver.remote.webelement.WebElement (session=\"53d59e5ab56a2d8bfa393ffd08c496e3\", element=\"b9ca606a-6098-427e-bec1-e1dba4728b0f\")>, <selenium.webdriver.remote.webelement.WebElement (session=\"53d59e5ab56a2d8bfa393ffd08c496e3\", element=\"8376e7ea-07dc-4225-9943-d54c9fbb7b2c\")>, <selenium.webdriver.remote.webelement.WebElement (session=\"53d59e5ab56a2d8bfa393ffd08c496e3\", element=\"8696def0-ac22-47ef-a22a-1602a7b67126\")>, <selenium.webdriver.remote.webelement.WebElement (session=\"53d59e5ab56a2d8bfa393ffd08c496e3\", element=\"684ace3e-1e6e-4122-9431-a115b81a7ac5\")>, <selenium.webdriver.remote.webelement.WebElement (session=\"53d59e5ab56a2d8bfa393ffd08c496e3\", element=\"ef4c71b9-cb0a-4801-9667-b1fb89ea7658\")>, <selenium.webdriver.remote.webelement.WebElement (session=\"53d59e5ab56a2d8bfa393ffd08c496e3\", element=\"5e910a4a-c29e-4fae-8d42-f77602274d06\")>, <selenium.webdriver.remote.webelement.WebElement (session=\"53d59e5ab56a2d8bfa393ffd08c496e3\", element=\"dc7508f1-49f0-4a80-98f8-606a1b686721\")>, <selenium.webdriver.remote.webelement.WebElement (session=\"53d59e5ab56a2d8bfa393ffd08c496e3\", element=\"a520fa7a-a63e-4dd2-9bab-a3eb79048ec8\")>, <selenium.webdriver.remote.webelement.WebElement (session=\"53d59e5ab56a2d8bfa393ffd08c496e3\", element=\"16665982-ebfe-4925-bbbc-b960e907d3d8\")>, <selenium.webdriver.remote.webelement.WebElement (session=\"53d59e5ab56a2d8bfa393ffd08c496e3\", element=\"c33358de-715d-4927-a1df-2694b62108c9\")>, <selenium.webdriver.remote.webelement.WebElement (session=\"53d59e5ab56a2d8bfa393ffd08c496e3\", element=\"8fd9d063-dc19-4fa9-990a-aa8cc4e406bd\")>, <selenium.webdriver.remote.webelement.WebElement (session=\"53d59e5ab56a2d8bfa393ffd08c496e3\", element=\"27a55a6f-1aa9-4d37-98f6-a4e4b19efb1f\")>, <selenium.webdriver.remote.webelement.WebElement (session=\"53d59e5ab56a2d8bfa393ffd08c496e3\", element=\"12ccb6b8-a82b-442e-818b-27a4c9d1a7ee\")>, <selenium.webdriver.remote.webelement.WebElement (session=\"53d59e5ab56a2d8bfa393ffd08c496e3\", element=\"1350e40a-1798-489e-8e79-b376a460e67b\")>, <selenium.webdriver.remote.webelement.WebElement (session=\"53d59e5ab56a2d8bfa393ffd08c496e3\", element=\"17bf7519-609a-4db0-a3e2-96c4931a5893\")>, <selenium.webdriver.remote.webelement.WebElement (session=\"53d59e5ab56a2d8bfa393ffd08c496e3\", element=\"781c8f25-0032-4283-ae10-b62d07a521a7\")>, <selenium.webdriver.remote.webelement.WebElement (session=\"53d59e5ab56a2d8bfa393ffd08c496e3\", element=\"5ed92b6a-452f-4eea-a411-6fbe12123640\")>, <selenium.webdriver.remote.webelement.WebElement (session=\"53d59e5ab56a2d8bfa393ffd08c496e3\", element=\"446dc59f-faf8-44e1-8687-0d038f20f6e8\")>, <selenium.webdriver.remote.webelement.WebElement (session=\"53d59e5ab56a2d8bfa393ffd08c496e3\", element=\"ae7cf487-9763-4633-9659-10b8233cfdf4\")>, <selenium.webdriver.remote.webelement.WebElement (session=\"53d59e5ab56a2d8bfa393ffd08c496e3\", element=\"a23df308-9964-4a8f-ac15-576270e66c4f\")>, <selenium.webdriver.remote.webelement.WebElement (session=\"53d59e5ab56a2d8bfa393ffd08c496e3\", element=\"7a276b47-9a42-45f5-8478-58139db38b29\")>, <selenium.webdriver.remote.webelement.WebElement (session=\"53d59e5ab56a2d8bfa393ffd08c496e3\", element=\"30845204-f141-4b46-8c16-7278a53d4650\")>, <selenium.webdriver.remote.webelement.WebElement (session=\"53d59e5ab56a2d8bfa393ffd08c496e3\", element=\"958ec6bd-b7fa-4355-a192-e6f207f8c737\")>, <selenium.webdriver.remote.webelement.WebElement (session=\"53d59e5ab56a2d8bfa393ffd08c496e3\", element=\"a55225f1-7412-41e2-b93c-ccc1f6c027f4\")>, <selenium.webdriver.remote.webelement.WebElement (session=\"53d59e5ab56a2d8bfa393ffd08c496e3\", element=\"f2ae506a-4f2c-4f1c-9837-36cea732d224\")>, <selenium.webdriver.remote.webelement.WebElement (session=\"53d59e5ab56a2d8bfa393ffd08c496e3\", element=\"09fe9081-1939-48da-be1d-0daa976d32f0\")>, <selenium.webdriver.remote.webelement.WebElement (session=\"53d59e5ab56a2d8bfa393ffd08c496e3\", element=\"3f8c69ad-d3ae-486c-8065-c490a15b8532\")>, <selenium.webdriver.remote.webelement.WebElement (session=\"53d59e5ab56a2d8bfa393ffd08c496e3\", element=\"ba7dd447-9800-4fe4-b421-fa9603011a01\")>, <selenium.webdriver.remote.webelement.WebElement (session=\"53d59e5ab56a2d8bfa393ffd08c496e3\", element=\"01d4cf2c-21fe-4a1a-ba83-137bb377f13d\")>, <selenium.webdriver.remote.webelement.WebElement (session=\"53d59e5ab56a2d8bfa393ffd08c496e3\", element=\"00960375-386f-48e0-b114-3f76c4548056\")>, <selenium.webdriver.remote.webelement.WebElement (session=\"53d59e5ab56a2d8bfa393ffd08c496e3\", element=\"a8b28abd-f75c-4b57-9eb3-e041a2f25ac6\")>, <selenium.webdriver.remote.webelement.WebElement (session=\"53d59e5ab56a2d8bfa393ffd08c496e3\", element=\"d879445a-da8e-49b5-9e57-f93c01ca3f65\")>, <selenium.webdriver.remote.webelement.WebElement (session=\"53d59e5ab56a2d8bfa393ffd08c496e3\", element=\"5a5369d6-06b9-4f55-9414-9ccb7358410b\")>, <selenium.webdriver.remote.webelement.WebElement (session=\"53d59e5ab56a2d8bfa393ffd08c496e3\", element=\"ba94ff6f-d4a5-44f4-bc6e-6edc9b276172\")>, <selenium.webdriver.remote.webelement.WebElement (session=\"53d59e5ab56a2d8bfa393ffd08c496e3\", element=\"9481bd18-be63-4527-8a0f-d02045c36062\")>, <selenium.webdriver.remote.webelement.WebElement (session=\"53d59e5ab56a2d8bfa393ffd08c496e3\", element=\"05e9fd76-1ba0-4f2a-a678-07cd9a76a4a4\")>, <selenium.webdriver.remote.webelement.WebElement (session=\"53d59e5ab56a2d8bfa393ffd08c496e3\", element=\"5d9cb880-1fbe-4a76-84e2-49b806e7c073\")>, <selenium.webdriver.remote.webelement.WebElement (session=\"53d59e5ab56a2d8bfa393ffd08c496e3\", element=\"931a7133-cf6d-430b-b7fc-876f9f20328a\")>, <selenium.webdriver.remote.webelement.WebElement (session=\"53d59e5ab56a2d8bfa393ffd08c496e3\", element=\"82c97c6f-0f63-44eb-8825-9c05959498c7\")>, <selenium.webdriver.remote.webelement.WebElement (session=\"53d59e5ab56a2d8bfa393ffd08c496e3\", element=\"27924103-b303-45e2-af91-6b9862adc7bb\")>, <selenium.webdriver.remote.webelement.WebElement (session=\"53d59e5ab56a2d8bfa393ffd08c496e3\", element=\"2dfb9e09-a94f-4534-a57e-c40e2e12cd78\")>, <selenium.webdriver.remote.webelement.WebElement (session=\"53d59e5ab56a2d8bfa393ffd08c496e3\", element=\"b4518f18-8ed1-4359-abea-4e7e0212fbbf\")>, <selenium.webdriver.remote.webelement.WebElement (session=\"53d59e5ab56a2d8bfa393ffd08c496e3\", element=\"8373fc0b-19de-441b-9c82-305155acb228\")>, <selenium.webdriver.remote.webelement.WebElement (session=\"53d59e5ab56a2d8bfa393ffd08c496e3\", element=\"a589d410-804e-42b2-b934-0826950cf83a\")>, <selenium.webdriver.remote.webelement.WebElement (session=\"53d59e5ab56a2d8bfa393ffd08c496e3\", element=\"763b3a45-1f54-4b37-aa59-c6d451041871\")>, <selenium.webdriver.remote.webelement.WebElement (session=\"53d59e5ab56a2d8bfa393ffd08c496e3\", element=\"5b862972-3e7d-4949-9022-4b18f9b9faa0\")>, <selenium.webdriver.remote.webelement.WebElement (session=\"53d59e5ab56a2d8bfa393ffd08c496e3\", element=\"3118e7e8-6d00-4fe4-bc22-4a0d54f68276\")>, <selenium.webdriver.remote.webelement.WebElement (session=\"53d59e5ab56a2d8bfa393ffd08c496e3\", element=\"6b701d90-baa7-4d02-8fe8-a44039e5df90\")>, <selenium.webdriver.remote.webelement.WebElement (session=\"53d59e5ab56a2d8bfa393ffd08c496e3\", element=\"22ef4471-259f-4fe0-8ba7-89fe99e4e981\")>, <selenium.webdriver.remote.webelement.WebElement (session=\"53d59e5ab56a2d8bfa393ffd08c496e3\", element=\"4d9f9769-d8b2-474f-89b6-70c238653841\")>, <selenium.webdriver.remote.webelement.WebElement (session=\"53d59e5ab56a2d8bfa393ffd08c496e3\", element=\"1bd9a239-b055-4a0b-8563-d3d21abd216b\")>, <selenium.webdriver.remote.webelement.WebElement (session=\"53d59e5ab56a2d8bfa393ffd08c496e3\", element=\"21762b60-c8cb-4588-8734-d61e088c3742\")>, <selenium.webdriver.remote.webelement.WebElement (session=\"53d59e5ab56a2d8bfa393ffd08c496e3\", element=\"8d108326-4f4d-4b1b-bd33-035af35d1fc2\")>, <selenium.webdriver.remote.webelement.WebElement (session=\"53d59e5ab56a2d8bfa393ffd08c496e3\", element=\"3945bd8e-380a-463f-b77d-8986c7f7855d\")>, <selenium.webdriver.remote.webelement.WebElement (session=\"53d59e5ab56a2d8bfa393ffd08c496e3\", element=\"5c0de1eb-b979-4192-b8c5-23c17787c36e\")>, <selenium.webdriver.remote.webelement.WebElement (session=\"53d59e5ab56a2d8bfa393ffd08c496e3\", element=\"f4ce5440-8a6f-4bde-b077-f2c5202f2119\")>, <selenium.webdriver.remote.webelement.WebElement (session=\"53d59e5ab56a2d8bfa393ffd08c496e3\", element=\"fa226e10-ce57-4146-bb3f-1616693913d6\")>, <selenium.webdriver.remote.webelement.WebElement (session=\"53d59e5ab56a2d8bfa393ffd08c496e3\", element=\"f276f897-31ea-436d-ba30-f5775ef52dcb\")>, <selenium.webdriver.remote.webelement.WebElement (session=\"53d59e5ab56a2d8bfa393ffd08c496e3\", element=\"09e871fa-b697-4756-8453-2d24e197182b\")>, <selenium.webdriver.remote.webelement.WebElement (session=\"53d59e5ab56a2d8bfa393ffd08c496e3\", element=\"c539b41c-8f2d-4ae9-8793-d774b005e4f6\")>, <selenium.webdriver.remote.webelement.WebElement (session=\"53d59e5ab56a2d8bfa393ffd08c496e3\", element=\"6119d50f-461a-484a-b597-8219c621f85d\")>, <selenium.webdriver.remote.webelement.WebElement (session=\"53d59e5ab56a2d8bfa393ffd08c496e3\", element=\"b939217d-f0d4-4549-87db-0c7026d0eb0c\")>, <selenium.webdriver.remote.webelement.WebElement (session=\"53d59e5ab56a2d8bfa393ffd08c496e3\", element=\"231ea3b2-8337-430c-9237-7473800a15f5\")>, <selenium.webdriver.remote.webelement.WebElement (session=\"53d59e5ab56a2d8bfa393ffd08c496e3\", element=\"d48700ef-2f73-4001-8ae3-a8ac095c3719\")>, <selenium.webdriver.remote.webelement.WebElement (session=\"53d59e5ab56a2d8bfa393ffd08c496e3\", element=\"8b93038d-4c74-4d52-bc87-5c4bdf037632\")>, <selenium.webdriver.remote.webelement.WebElement (session=\"53d59e5ab56a2d8bfa393ffd08c496e3\", element=\"27d537a1-5837-45f5-8a41-8f18d173468d\")>, <selenium.webdriver.remote.webelement.WebElement (session=\"53d59e5ab56a2d8bfa393ffd08c496e3\", element=\"0a08ebd8-3d90-4b7c-8a46-7f6722f5aab9\")>, <selenium.webdriver.remote.webelement.WebElement (session=\"53d59e5ab56a2d8bfa393ffd08c496e3\", element=\"d0c1bfa3-4151-409c-af3b-9fbc9d0893e6\")>, <selenium.webdriver.remote.webelement.WebElement (session=\"53d59e5ab56a2d8bfa393ffd08c496e3\", element=\"547f7472-6759-4f05-b911-8753435ad7b9\")>, <selenium.webdriver.remote.webelement.WebElement (session=\"53d59e5ab56a2d8bfa393ffd08c496e3\", element=\"387e35ca-c321-4bb7-a1b8-87010f06a871\")>, <selenium.webdriver.remote.webelement.WebElement (session=\"53d59e5ab56a2d8bfa393ffd08c496e3\", element=\"2628b7f6-248d-47d7-a596-8e320e7c13bb\")>, <selenium.webdriver.remote.webelement.WebElement (session=\"53d59e5ab56a2d8bfa393ffd08c496e3\", element=\"8e94f662-c70f-4f9e-8a48-499f072d44c6\")>, <selenium.webdriver.remote.webelement.WebElement (session=\"53d59e5ab56a2d8bfa393ffd08c496e3\", element=\"9b5150a1-12dc-41c4-b4d1-bb9d6d5c44e9\")>, <selenium.webdriver.remote.webelement.WebElement (session=\"53d59e5ab56a2d8bfa393ffd08c496e3\", element=\"f218f404-5309-4069-8295-3966e7bca380\")>, <selenium.webdriver.remote.webelement.WebElement (session=\"53d59e5ab56a2d8bfa393ffd08c496e3\", element=\"a30fc432-5391-4add-8264-29ed69c9c1d1\")>, <selenium.webdriver.remote.webelement.WebElement (session=\"53d59e5ab56a2d8bfa393ffd08c496e3\", element=\"f0f5d078-a7e9-479b-a93d-dbeb9183063a\")>, <selenium.webdriver.remote.webelement.WebElement (session=\"53d59e5ab56a2d8bfa393ffd08c496e3\", element=\"3f1b516a-5423-4119-af65-40277c9426f0\")>, <selenium.webdriver.remote.webelement.WebElement (session=\"53d59e5ab56a2d8bfa393ffd08c496e3\", element=\"d1f2ce18-87b4-4d19-97a1-7fbbefdabf43\")>, <selenium.webdriver.remote.webelement.WebElement (session=\"53d59e5ab56a2d8bfa393ffd08c496e3\", element=\"15f150cd-d3db-4b04-ba2a-1a6b2e301db1\")>, <selenium.webdriver.remote.webelement.WebElement (session=\"53d59e5ab56a2d8bfa393ffd08c496e3\", element=\"24f1bcad-21b4-43d2-b800-05a8801f6677\")>, <selenium.webdriver.remote.webelement.WebElement (session=\"53d59e5ab56a2d8bfa393ffd08c496e3\", element=\"a4868749-d2b0-48f7-aeb1-ad3db3fa8357\")>, <selenium.webdriver.remote.webelement.WebElement (session=\"53d59e5ab56a2d8bfa393ffd08c496e3\", element=\"d05d40da-acc1-475a-a306-731d6b65cbc3\")>, <selenium.webdriver.remote.webelement.WebElement (session=\"53d59e5ab56a2d8bfa393ffd08c496e3\", element=\"c208710c-0f26-4dba-990d-316f4bd49c8b\")>, <selenium.webdriver.remote.webelement.WebElement (session=\"53d59e5ab56a2d8bfa393ffd08c496e3\", element=\"04001d59-05e8-4c39-a6e0-9de67c466c3d\")>, <selenium.webdriver.remote.webelement.WebElement (session=\"53d59e5ab56a2d8bfa393ffd08c496e3\", element=\"e755ba45-aa9b-42ff-ad47-fe8c70ad1a08\")>, <selenium.webdriver.remote.webelement.WebElement (session=\"53d59e5ab56a2d8bfa393ffd08c496e3\", element=\"ae046a3a-9fdd-469b-9948-92e55316bc95\")>, <selenium.webdriver.remote.webelement.WebElement (session=\"53d59e5ab56a2d8bfa393ffd08c496e3\", element=\"d7149328-dcbf-4abf-b75e-489b9f5620a9\")>, <selenium.webdriver.remote.webelement.WebElement (session=\"53d59e5ab56a2d8bfa393ffd08c496e3\", element=\"a2c9106f-287d-41f4-978b-0a34e296dd41\")>, <selenium.webdriver.remote.webelement.WebElement (session=\"53d59e5ab56a2d8bfa393ffd08c496e3\", element=\"6c419b17-7741-41a2-a5d2-0240f094b8d9\")>, <selenium.webdriver.remote.webelement.WebElement (session=\"53d59e5ab56a2d8bfa393ffd08c496e3\", element=\"91b0fe21-ccc3-4653-bddc-1049c87dbe87\")>, <selenium.webdriver.remote.webelement.WebElement (session=\"53d59e5ab56a2d8bfa393ffd08c496e3\", element=\"04a25ca4-ac6f-475d-a75f-26cb7eca4ca6\")>, <selenium.webdriver.remote.webelement.WebElement (session=\"53d59e5ab56a2d8bfa393ffd08c496e3\", element=\"fc831f34-d3f3-4ac9-9a42-4e54b6f7b31c\")>, <selenium.webdriver.remote.webelement.WebElement (session=\"53d59e5ab56a2d8bfa393ffd08c496e3\", element=\"52feb3bc-3f06-4b5a-b44f-bd3176682c6a\")>, <selenium.webdriver.remote.webelement.WebElement (session=\"53d59e5ab56a2d8bfa393ffd08c496e3\", element=\"6dddf7aa-57e7-4a60-8222-bb7d034f8d80\")>, <selenium.webdriver.remote.webelement.WebElement (session=\"53d59e5ab56a2d8bfa393ffd08c496e3\", element=\"e3cb08ff-4147-4b1b-94b4-6dd6780807b1\")>, <selenium.webdriver.remote.webelement.WebElement (session=\"53d59e5ab56a2d8bfa393ffd08c496e3\", element=\"7520a68e-ef9e-482d-8022-279cb83f3dcd\")>, <selenium.webdriver.remote.webelement.WebElement (session=\"53d59e5ab56a2d8bfa393ffd08c496e3\", element=\"8eaf93d0-a519-48f5-b2a4-0aa633a76c04\")>, <selenium.webdriver.remote.webelement.WebElement (session=\"53d59e5ab56a2d8bfa393ffd08c496e3\", element=\"aad938a2-d105-4cbb-b067-d1305084067d\")>, <selenium.webdriver.remote.webelement.WebElement (session=\"53d59e5ab56a2d8bfa393ffd08c496e3\", element=\"78218e33-a92b-44e5-a70c-ef0024074022\")>, <selenium.webdriver.remote.webelement.WebElement (session=\"53d59e5ab56a2d8bfa393ffd08c496e3\", element=\"b9f93d04-bc8f-4fe7-be4f-a2f67abaf01c\")>, <selenium.webdriver.remote.webelement.WebElement (session=\"53d59e5ab56a2d8bfa393ffd08c496e3\", element=\"3dd6a876-e370-4294-a0d8-1eebd65ce3c0\")>, <selenium.webdriver.remote.webelement.WebElement (session=\"53d59e5ab56a2d8bfa393ffd08c496e3\", element=\"128d96a4-2390-438b-9cc9-d57fa1a8b7e1\")>, <selenium.webdriver.remote.webelement.WebElement (session=\"53d59e5ab56a2d8bfa393ffd08c496e3\", element=\"6882881b-c67f-4ddc-b774-3852a6e88c8b\")>, <selenium.webdriver.remote.webelement.WebElement (session=\"53d59e5ab56a2d8bfa393ffd08c496e3\", element=\"a51b8aa1-ad1d-4ef5-a9ba-75c49a9d04f1\")>, <selenium.webdriver.remote.webelement.WebElement (session=\"53d59e5ab56a2d8bfa393ffd08c496e3\", element=\"3c6be6a8-2e7a-4b47-9e7f-ca036adc3ece\")>, <selenium.webdriver.remote.webelement.WebElement (session=\"53d59e5ab56a2d8bfa393ffd08c496e3\", element=\"fb901f4f-0ab3-4ab3-82c0-0119ce8aa993\")>, <selenium.webdriver.remote.webelement.WebElement (session=\"53d59e5ab56a2d8bfa393ffd08c496e3\", element=\"081a438e-04be-4514-8a6f-a8e359f3ff72\")>, <selenium.webdriver.remote.webelement.WebElement (session=\"53d59e5ab56a2d8bfa393ffd08c496e3\", element=\"22a53cda-a5f7-47bc-8211-3528d570e9a1\")>, <selenium.webdriver.remote.webelement.WebElement (session=\"53d59e5ab56a2d8bfa393ffd08c496e3\", element=\"a2c5610c-caea-4833-8a7b-54ff3046ae0c\")>, <selenium.webdriver.remote.webelement.WebElement (session=\"53d59e5ab56a2d8bfa393ffd08c496e3\", element=\"fe1b7d9b-b0a1-4586-9fbe-c3b615299562\")>, <selenium.webdriver.remote.webelement.WebElement (session=\"53d59e5ab56a2d8bfa393ffd08c496e3\", element=\"0206f082-6781-4a3c-93b5-ea184426bef6\")>, <selenium.webdriver.remote.webelement.WebElement (session=\"53d59e5ab56a2d8bfa393ffd08c496e3\", element=\"2851afa1-658d-4893-9c0a-26789f3cc658\")>, <selenium.webdriver.remote.webelement.WebElement (session=\"53d59e5ab56a2d8bfa393ffd08c496e3\", element=\"a8925ded-8ff8-458e-8cf3-0f2d82e62dc4\")>, <selenium.webdriver.remote.webelement.WebElement (session=\"53d59e5ab56a2d8bfa393ffd08c496e3\", element=\"b88f1a87-bf17-475d-9fd4-a59a6d5b6736\")>, <selenium.webdriver.remote.webelement.WebElement (session=\"53d59e5ab56a2d8bfa393ffd08c496e3\", element=\"f48cd397-b67a-4cc2-a5ad-f8239495b068\")>, <selenium.webdriver.remote.webelement.WebElement (session=\"53d59e5ab56a2d8bfa393ffd08c496e3\", element=\"be263e1b-a5bb-485e-8dfe-87a1b9caee2b\")>, <selenium.webdriver.remote.webelement.WebElement (session=\"53d59e5ab56a2d8bfa393ffd08c496e3\", element=\"915676c1-3e52-45f1-86c7-fa9ce1d2f617\")>, <selenium.webdriver.remote.webelement.WebElement (session=\"53d59e5ab56a2d8bfa393ffd08c496e3\", element=\"db03f9a6-7453-4ec7-b1d0-0feffc7764f8\")>, <selenium.webdriver.remote.webelement.WebElement (session=\"53d59e5ab56a2d8bfa393ffd08c496e3\", element=\"cec19de5-d1d3-4a95-9eee-a504574ef0a7\")>, <selenium.webdriver.remote.webelement.WebElement (session=\"53d59e5ab56a2d8bfa393ffd08c496e3\", element=\"36b46443-c09c-4915-b723-79197480e4a3\")>, <selenium.webdriver.remote.webelement.WebElement (session=\"53d59e5ab56a2d8bfa393ffd08c496e3\", element=\"81f63df7-4265-42d3-ab1b-c22aedca5535\")>, <selenium.webdriver.remote.webelement.WebElement (session=\"53d59e5ab56a2d8bfa393ffd08c496e3\", element=\"2cce5ebf-690b-4537-942a-85dda6bc3507\")>, <selenium.webdriver.remote.webelement.WebElement (session=\"53d59e5ab56a2d8bfa393ffd08c496e3\", element=\"35c8be18-ad5e-4c17-a19c-9680c79bc22d\")>, <selenium.webdriver.remote.webelement.WebElement (session=\"53d59e5ab56a2d8bfa393ffd08c496e3\", element=\"46fcbb73-6f32-4d3c-8332-d40936c83a27\")>, <selenium.webdriver.remote.webelement.WebElement (session=\"53d59e5ab56a2d8bfa393ffd08c496e3\", element=\"26bd8241-a05f-44f7-ad24-3d280fa0a5ec\")>, <selenium.webdriver.remote.webelement.WebElement (session=\"53d59e5ab56a2d8bfa393ffd08c496e3\", element=\"6369fc23-26b2-41fe-93e9-ad11119cdaca\")>]\n"
     ]
    }
   ],
   "source": [
    "try:\n",
    "    element=driver.find_elements(By.XPATH,'//td[@class=\"data\"]')\n",
    "    print(element)\n",
    "except ElementNotInteractableException as e:\n",
    "    print(\"exception raised\",e)\n",
    "    element=driver.find_elements(By.XPATH,'//*[@id=\"table_id\"]/tbody/tr[1]/td[5]')\n",
    "    element\n",
    "print(element)"
   ]
  },
  {
   "cell_type": "code",
   "execution_count": 42,
   "id": "807b9853",
   "metadata": {},
   "outputs": [
    {
     "data": {
      "text/plain": [
       "['-',\n",
       " '13.94%',\n",
       " '399.921',\n",
       " '-',\n",
       " '2,039,074',\n",
       " '1,845,853',\n",
       " '8.63%',\n",
       " '247.629',\n",
       " '1,312,929',\n",
       " '1,215,307',\n",
       " '1,687,818',\n",
       " '8.39%',\n",
       " '240.726',\n",
       " '1,166,817',\n",
       " '1,123,982',\n",
       " '-',\n",
       " '7.96%',\n",
       " '228.290',\n",
       " '-',\n",
       " '1,186,379',\n",
       " '1,631,977',\n",
       " '7.91%',\n",
       " '226.806',\n",
       " '1,156,039',\n",
       " '1,091,077',\n",
       " '1,253,832',\n",
       " '5.77%',\n",
       " '165.556',\n",
       " '793,223',\n",
       " '739,525',\n",
       " '1,020,989',\n",
       " '4.99%',\n",
       " '143.179',\n",
       " '711,627',\n",
       " '677,428',\n",
       " '972,782',\n",
       " '4.57%',\n",
       " '131.083',\n",
       " '672,018',\n",
       " '621,301',\n",
       " '969,604',\n",
       " '4.56%',\n",
       " '130.791',\n",
       " '663,258',\n",
       " '612,828',\n",
       " '906,672',\n",
       " '4.29%',\n",
       " '122.977',\n",
       " '561,801',\n",
       " '522,009',\n",
       " '-',\n",
       " '4.14%',\n",
       " '118.733',\n",
       " '-',\n",
       " '559,412',\n",
       " '856,112',\n",
       " '4.10%',\n",
       " '117.703',\n",
       " '634,408',\n",
       " '590,569',\n",
       " '831,610',\n",
       " '3.89%',\n",
       " '111.519',\n",
       " '572,240',\n",
       " '531,085',\n",
       " '611,804',\n",
       " '2.81%',\n",
       " '80.562',\n",
       " '414,977',\n",
       " '375,651',\n",
       " '574,760',\n",
       " '2.79%',\n",
       " '79.957',\n",
       " '418,868',\n",
       " '397,669',\n",
       " '521,275',\n",
       " '2.58%',\n",
       " '74.098',\n",
       " '396,499',\n",
       " '376,877',\n",
       " '-',\n",
       " '1.67%',\n",
       " '47.982',\n",
       " '-',\n",
       " '234,048',\n",
       " '329,180',\n",
       " '1.61%',\n",
       " '46.187',\n",
       " '243,477',\n",
       " '231,182',\n",
       " '328,598',\n",
       " '1.57%',\n",
       " '45.145',\n",
       " '240,036',\n",
       " '224,986',\n",
       " '-',\n",
       " '1.30%',\n",
       " '37.351',\n",
       " '-',\n",
       " '193,273',\n",
       " '-',\n",
       " '0.83%',\n",
       " '23.690',\n",
       " '-',\n",
       " '112,755',\n",
       " '165,472',\n",
       " '0.81%',\n",
       " '23.369',\n",
       " '124,403',\n",
       " '117,851',\n",
       " '80,449',\n",
       " '0.39%',\n",
       " '11.115',\n",
       " '63,408',\n",
       " '57,787',\n",
       " '55,984',\n",
       " '0.26%',\n",
       " '7.571',\n",
       " '40,583',\n",
       " '36,963',\n",
       " '-',\n",
       " '0.22%',\n",
       " '6.397',\n",
       " '-',\n",
       " '31,192',\n",
       " '38,253',\n",
       " '0.18%',\n",
       " '5.230',\n",
       " '25,093',\n",
       " '23,013',\n",
       " '36,572',\n",
       " '0.18%',\n",
       " '5.086',\n",
       " '26,695',\n",
       " '24,682',\n",
       " '32,496',\n",
       " '0.15%',\n",
       " '4.363',\n",
       " '20,017',\n",
       " '18,722',\n",
       " '31,790',\n",
       " '0.15%',\n",
       " '4.233',\n",
       " '20,673',\n",
       " '19,300',\n",
       " '-',\n",
       " '0.14%',\n",
       " '4.144',\n",
       " '-',\n",
       " '17,647',\n",
       " '-',\n",
       " '0.13%',\n",
       " '3.737',\n",
       " '-',\n",
       " '16,676',\n",
       " '26,503',\n",
       " '0.12%',\n",
       " '3.385',\n",
       " '18,797',\n",
       " '16,478',\n",
       " '-',\n",
       " '-',\n",
       " '-',\n",
       " '-',\n",
       " '-',\n",
       " '20,351,013',\n",
       " '18,886,957',\n",
       " '',\n",
       " '2,869',\n",
       " '14,569,268',\n",
       " '14,003,316',\n",
       " '-',\n",
       " '13.97%',\n",
       " '-',\n",
       " '1,794,123',\n",
       " '1,659,210',\n",
       " '8.77%',\n",
       " '1,167,776',\n",
       " '1,079,894',\n",
       " '1,495,758',\n",
       " '8.41%',\n",
       " '1,015,735',\n",
       " '979,159',\n",
       " '1,476,983',\n",
       " '8.09%',\n",
       " '1,035,131',\n",
       " '976,948',\n",
       " '-',\n",
       " '7.92%',\n",
       " '-',\n",
       " '1,036,859',\n",
       " '1,150,711',\n",
       " '5.96%',\n",
       " '713,376',\n",
       " '662,432',\n",
       " '916,014',\n",
       " '5.06%',\n",
       " '630,693',\n",
       " '600,433',\n",
       " '881,873',\n",
       " '4.68%',\n",
       " '594,806',\n",
       " '549,481',\n",
       " '875,429',\n",
       " '4.65%',\n",
       " '595,605',\n",
       " '550,584',\n",
       " '827,019',\n",
       " '4.41%',\n",
       " '496,798',\n",
       " '461,903',\n",
       " '-',\n",
       " '4.24%',\n",
       " '-',\n",
       " '513,322',\n",
       " '779,647',\n",
       " '4.22%',\n",
       " '568,265',\n",
       " '529,739',\n",
       " '755,790',\n",
       " '3.99%',\n",
       " '514,983',\n",
       " '477,834',\n",
       " '562,710',\n",
       " '2.91%',\n",
       " '377,276',\n",
       " '340,512',\n",
       " '517,521',\n",
       " '2.83%',\n",
       " '374,015',\n",
       " '354,830',\n",
       " '457,757',\n",
       " '2.56%',\n",
       " '344,437',\n",
       " '327,805',\n",
       " '-',\n",
       " '1.69%',\n",
       " '-',\n",
       " '207,193',\n",
       " '301,242',\n",
       " '1.63%',\n",
       " '218,232',\n",
       " '204,423',\n",
       " '288,041',\n",
       " '1.60%',\n",
       " '210,837',\n",
       " '200,453',\n",
       " '-',\n",
       " '1.33%',\n",
       " '-',\n",
       " '173,211',\n",
       " '143,063',\n",
       " '0.80%',\n",
       " '107,171',\n",
       " '101,534',\n",
       " '-',\n",
       " '0.78%',\n",
       " '-',\n",
       " '91,666',\n",
       " '72,181',\n",
       " '0.40%',\n",
       " '56,810',\n",
       " '51,878',\n",
       " '50,227',\n",
       " '0.27%',\n",
       " '35,980',\n",
       " '32,830',\n",
       " '-',\n",
       " '0.22%',\n",
       " '-',\n",
       " '27,565',\n",
       " '34,823',\n",
       " '0.19%',\n",
       " '22,291',\n",
       " '20,534',\n",
       " '32,833',\n",
       " '0.18%',\n",
       " '23,564',\n",
       " '21,779',\n",
       " '29,148',\n",
       " '0.15%',\n",
       " '18,549',\n",
       " '17,228',\n",
       " '28,391',\n",
       " '0.15%',\n",
       " '17,060',\n",
       " '15,972',\n",
       " '-',\n",
       " '0.15%',\n",
       " '-',\n",
       " '15,381',\n",
       " '-',\n",
       " '0.13%',\n",
       " '-',\n",
       " '15,013',\n",
       " '24,424',\n",
       " '0.13%',\n",
       " '17,797',\n",
       " '15,372',\n",
       " '-',\n",
       " '-',\n",
       " '-',\n",
       " '-',\n",
       " '17,994,301',\n",
       " '16,704,645',\n",
       " '',\n",
       " '12,681,246',\n",
       " '12,240,380']"
      ]
     },
     "execution_count": 42,
     "metadata": {},
     "output_type": "execute_result"
    }
   ],
   "source": [
    "\n",
    "share=[]\n",
    "share_tag=driver.find_elements(By.XPATH,'//td[@class=\"data\"]')\n",
    "for i in share_tag:\n",
    "    share.append(i.text)\n",
    "share"
   ]
  },
  {
   "cell_type": "code",
   "execution_count": 43,
   "id": "a77faa49",
   "metadata": {},
   "outputs": [
    {
     "data": {
      "text/plain": [
       "['399.921']"
      ]
     },
     "execution_count": 43,
     "metadata": {},
     "output_type": "execute_result"
    }
   ],
   "source": [
    "#gdp($ billion)\n",
    "\n",
    "billion=[]\n",
    "bill_tag=driver.find_elements(By.XPATH,'//*[@id=\"table_id\"]/tbody/tr[1]/td[6]')\n",
    "for i in bill_tag:\n",
    "    billion.append(i.text)\n",
    "billion"
   ]
  },
  {
   "cell_type": "code",
   "execution_count": 5,
   "id": "7e871821",
   "metadata": {},
   "outputs": [],
   "source": [
    "#Q4 completed\n",
    "#lets close the driver window\n",
    "driver.close()"
   ]
  },
  {
   "cell_type": "code",
   "execution_count": 15,
   "id": "56325f97",
   "metadata": {},
   "outputs": [
    {
     "data": {
      "text/plain": [
       "<selenium.webdriver.chrome.webdriver.WebDriver (session=\"776a0963625acd5491225cbf9a6bfae1\")>"
      ]
     },
     "execution_count": 15,
     "metadata": {},
     "output_type": "execute_result"
    }
   ],
   "source": [
    "#Q5 \n",
    "\n",
    "# lets first connect to webdriver\n",
    "driver=webdriver.Chrome(r\"C:\\Users\\hp\\Downloads\\chromedriver_win32\\chromedriver.exe\")\n",
    "driver\n"
   ]
  },
  {
   "cell_type": "code",
   "execution_count": 16,
   "id": "50a05203",
   "metadata": {},
   "outputs": [],
   "source": [
    "# lets maximize the window\n",
    "driver.maximize_window()"
   ]
  },
  {
   "cell_type": "code",
   "execution_count": 17,
   "id": "ca14de80",
   "metadata": {},
   "outputs": [],
   "source": [
    "url='https://github.com/'\n",
    "driver.get(url)"
   ]
  },
  {
   "cell_type": "code",
   "execution_count": 18,
   "id": "fb1fcfc2",
   "metadata": {},
   "outputs": [],
   "source": [
    "button=driver.find_element(By.XPATH,'/html/body/div[1]/div[1]/header/div/div[2]/div/div/div[1]/div/div/form/label/input[1]')\n",
    "button.send_keys(\"dsrscientist\")"
   ]
  },
  {
   "cell_type": "code",
   "execution_count": 19,
   "id": "146a4a9e",
   "metadata": {},
   "outputs": [],
   "source": [
    "clicked=driver.find_element(By.XPATH,'/html/body/div[1]/div[4]/main/div/div[3]/div/ul/li[9]/div[2]/div[1]/div')\n",
    "clicked.click()"
   ]
  },
  {
   "cell_type": "code",
   "execution_count": 24,
   "id": "c6b02642",
   "metadata": {},
   "outputs": [],
   "source": [
    "#scrapping the repostory title"
   ]
  },
  {
   "cell_type": "code",
   "execution_count": 23,
   "id": "7e7e42cb",
   "metadata": {},
   "outputs": [
    {
     "name": "stdout",
     "output_type": "stream",
     "text": [
      "https://github.com/AvichalV/Titanic_Classification_project\n"
     ]
    }
   ],
   "source": [
    "element=driver.find_element(By.XPATH,'/html/body/div[1]/div[4]/div/main/div/div[1]/div/div/strong/a')\n",
    "print(element.get_attribute('href'))"
   ]
  },
  {
   "cell_type": "code",
   "execution_count": 25,
   "id": "2daa851e",
   "metadata": {},
   "outputs": [],
   "source": [
    "# scrapping the repository description"
   ]
  },
  {
   "cell_type": "code",
   "execution_count": 34,
   "id": "c9071bed",
   "metadata": {},
   "outputs": [
    {
     "name": "stdout",
     "output_type": "stream",
     "text": [
      "[<selenium.webdriver.remote.webelement.WebElement (session=\"776a0963625acd5491225cbf9a6bfae1\", element=\"cac88b95-f2df-4fbb-b235-f771b47176e3\")>]\n"
     ]
    }
   ],
   "source": [
    "element=driver.find_elements(By.XPATH,'/html/body/div[1]/div[4]/div/main/turbo-frame/div/div/div/div[3]/div[1]/div[3]/div[2]')\n",
    "print(element)"
   ]
  },
  {
   "cell_type": "code",
   "execution_count": 35,
   "id": "2cf63cb0",
   "metadata": {},
   "outputs": [
    {
     "data": {
      "text/plain": [
       "['Titanic_Classification_project\\nTitanic Project Problem Statement: The Titanic Problem is based on the sinking of the ‘Unsinkable’ ship Titanic in early 1912. It gives you information about multiple people like their ages, sexes, sibling counts, embarkment points, and whether or not they survived the disaster. Based on these features, you have to predict if an arbitrary passenger on Titanic would survive the sinking or not. Note: You can find the dataset in the link below. Downlaod Files: https://github.com/dsrscientist/dataset1/blob/master/titanic_train.csv']"
      ]
     },
     "execution_count": 35,
     "metadata": {},
     "output_type": "execute_result"
    }
   ],
   "source": [
    "\n",
    "\n",
    "description=[]\n",
    "des_tag=driver.find_elements(By.XPATH,'//div[@class=\"Box-body px-5 pb-5\"]')\n",
    "for i in des_tag:\n",
    "    description.append(i.text)\n",
    "description"
   ]
  },
  {
   "cell_type": "code",
   "execution_count": 36,
   "id": "8dc56ea9",
   "metadata": {},
   "outputs": [],
   "source": [
    "#contribution\n",
    "btn=driver.find_element(By.XPATH,'/html/body/div[1]/div[4]/div/main/div/div[1]/div/div/span[1]')\n",
    "btn.click()"
   ]
  },
  {
   "cell_type": "code",
   "execution_count": 37,
   "id": "a4b94f87",
   "metadata": {},
   "outputs": [
    {
     "data": {
      "text/plain": [
       "['Avichal Vishwakarma']"
      ]
     },
     "execution_count": 37,
     "metadata": {},
     "output_type": "execute_result"
    }
   ],
   "source": [
    "# contribution\n",
    "\n",
    "contri=[]\n",
    "con_tag=driver.find_elements(By.XPATH,'/html/body/div[1]/div[4]/main/div[2]/div/div[1]/div/div[2]/div[1]/div[2]/h1/span[1]')\n",
    "for i in con_tag:\n",
    "    contri.append(i.text)\n",
    "contri"
   ]
  },
  {
   "cell_type": "code",
   "execution_count": 44,
   "id": "1f89dd27",
   "metadata": {},
   "outputs": [
    {
     "data": {
      "text/plain": [
       "['Jupyter Notebook\\n100.0%']"
      ]
     },
     "execution_count": 44,
     "metadata": {},
     "output_type": "execute_result"
    }
   ],
   "source": [
    "#language used\n",
    "\n",
    "\n",
    "language=[]\n",
    "lang_tag=driver.find_elements(By.XPATH,'/html/body/div[1]/div[4]/div/main/turbo-frame/div/div/div/div[3]/div[2]/div/div[5]/div/ul')\n",
    "for i in lang_tag:\n",
    "    language.append(i.text)\n",
    "language"
   ]
  },
  {
   "cell_type": "code",
   "execution_count": 46,
   "id": "160779d7",
   "metadata": {},
   "outputs": [],
   "source": [
    "clicked=driver.find_element(By.XPATH,'/html/body/div[1]/div[1]/header/div/div[2]/div/nav/ul/li[3]/button')\n",
    "clicked.click()"
   ]
  },
  {
   "cell_type": "code",
   "execution_count": 49,
   "id": "2cb95933",
   "metadata": {},
   "outputs": [
    {
     "name": "stdout",
     "output_type": "stream",
     "text": [
      "https://github.com/trending\n"
     ]
    }
   ],
   "source": [
    "element=driver.find_element(By.XPATH,'/html/body/div[1]/div[1]/header/div/div[2]/div/nav/ul/li[3]/div/ul[3]/li[3]/a')\n",
    "print(element.get_attribute('href'))"
   ]
  },
  {
   "cell_type": "code",
   "execution_count": 50,
   "id": "0d682ea9",
   "metadata": {},
   "outputs": [],
   "source": [
    "#Q5 completed \n",
    "#lets close the driver window\n",
    "driver.close()"
   ]
  },
  {
   "cell_type": "code",
   "execution_count": 57,
   "id": "7b4de356",
   "metadata": {},
   "outputs": [
    {
     "data": {
      "text/plain": [
       "<selenium.webdriver.chrome.webdriver.WebDriver (session=\"223f44f12e2e5c9094d3b862a524d946\")>"
      ]
     },
     "execution_count": 57,
     "metadata": {},
     "output_type": "execute_result"
    }
   ],
   "source": [
    "#Q6\n",
    "\n",
    "# lets first connect to webdriver\n",
    "driver=webdriver.Chrome(r\"C:\\Users\\hp\\Downloads\\chromedriver_win32\\chromedriver.exe\")\n",
    "driver\n"
   ]
  },
  {
   "cell_type": "code",
   "execution_count": 58,
   "id": "53f055a8",
   "metadata": {},
   "outputs": [],
   "source": [
    "# lets maximize the window\n",
    "driver.maximize_window()"
   ]
  },
  {
   "cell_type": "code",
   "execution_count": 60,
   "id": "7e6b23bf",
   "metadata": {},
   "outputs": [],
   "source": [
    "url='https:/www.billboard.com/'\n",
    "driver.get(url)"
   ]
  },
  {
   "cell_type": "code",
   "execution_count": 63,
   "id": "97750bd7",
   "metadata": {},
   "outputs": [],
   "source": [
    "clicked=driver.find_element(By.XPATH,'/html/body/div[3]/header/div/div[4]/div/div[1]/div[1]/button')\n",
    "clicked.click()"
   ]
  },
  {
   "cell_type": "code",
   "execution_count": 64,
   "id": "4d6b54c7",
   "metadata": {},
   "outputs": [],
   "source": [
    "button=driver.find_element(By.XPATH,'/html/body/div[3]/div[8]/div/div/div/ul/li[1]/h3/a')\n",
    "button.click()"
   ]
  },
  {
   "cell_type": "code",
   "execution_count": 65,
   "id": "7b308318",
   "metadata": {},
   "outputs": [
    {
     "data": {
      "text/plain": [
       "['Anti-Hero',\n",
       " 'All I Want For Christmas Is You',\n",
       " \"Rockin' Around The Christmas Tree\"]"
      ]
     },
     "execution_count": 65,
     "metadata": {},
     "output_type": "execute_result"
    }
   ],
   "source": [
    "#song name\n",
    "\n",
    "\n",
    "song=[]\n",
    "song_tag=driver.find_elements(By.XPATH,'//span[@class=\"c-label  a-font-primary-medium-l u-letter-spacing-0021\"]')\n",
    "for i in song_tag:\n",
    "    song.append(i.text)\n",
    "song"
   ]
  },
  {
   "cell_type": "code",
   "execution_count": 66,
   "id": "b553242a",
   "metadata": {},
   "outputs": [
    {
     "data": {
      "text/plain": [
       "['Taylor Swift', 'Mariah Carey', 'Brenda Lee']"
      ]
     },
     "execution_count": 66,
     "metadata": {},
     "output_type": "execute_result"
    }
   ],
   "source": [
    "#artists name\n",
    "\n",
    "\n",
    "artist=[]\n",
    "art_tag=driver.find_elements(By.XPATH,'//span[@class=\"c-label  a-font-primary-s u-letter-spacing-0021\"]')\n",
    "for i in art_tag:\n",
    "    artist.append(i.text)\n",
    "artist"
   ]
  },
  {
   "cell_type": "code",
   "execution_count": 67,
   "id": "d841d564",
   "metadata": {},
   "outputs": [
    {
     "data": {
      "text/plain": [
       "['1', '6', '6', '5', '1', '54', '6', '2', '48']"
      ]
     },
     "execution_count": 67,
     "metadata": {},
     "output_type": "execute_result"
    }
   ],
   "source": [
    "#last weak rank\n",
    "#artists name\n",
    "\n",
    "\n",
    "rank=[]\n",
    "rank_tag=driver.find_elements(By.XPATH,'//span[@class=\"c-label  lrv-a-unstyle-link a-font-primary-bold-l\"]')\n",
    "for i in rank_tag[]:\n",
    "    rank.append(i.text)\n",
    "rank"
   ]
  },
  {
   "cell_type": "code",
   "execution_count": 68,
   "id": "59776758",
   "metadata": {},
   "outputs": [
    {
     "data": {
      "text/plain": [
       "['1', '6', '6', '5', '1', '54', '6', '2', '48']"
      ]
     },
     "execution_count": 68,
     "metadata": {},
     "output_type": "execute_result"
    }
   ],
   "source": [
    "#peak rank\n",
    "\n",
    "\n",
    "\n",
    "\n",
    "peak=[]\n",
    "peak_tag=driver.find_elements(By.XPATH,'//span[@class=\"c-label  lrv-a-unstyle-link a-font-primary-bold-l\"]')\n",
    "for i in peak_tag:\n",
    "    peak.append(i.text)\n",
    "peak\n"
   ]
  },
  {
   "cell_type": "code",
   "execution_count": 71,
   "id": "9fcf5cd3",
   "metadata": {},
   "outputs": [
    {
     "name": "stdout",
     "output_type": "stream",
     "text": [
      "[<selenium.webdriver.remote.webelement.WebElement (session=\"223f44f12e2e5c9094d3b862a524d946\", element=\"5632c132-a96e-4cfa-9674-28243dd9875c\")>]\n"
     ]
    }
   ],
   "source": [
    "element=driver.find_elements(By.XPATH,'/html/body/div[3]/main/div[2]/div[1]/div[1]/div/div/div[2]/div/div/div[2]/div[2]/div[3]/div')\n",
    "print(element)"
   ]
  },
  {
   "cell_type": "code",
   "execution_count": 72,
   "id": "5b31228a",
   "metadata": {},
   "outputs": [],
   "source": [
    "#hot 100"
   ]
  },
  {
   "cell_type": "code",
   "execution_count": 73,
   "id": "65724db4",
   "metadata": {},
   "outputs": [],
   "source": [
    "button=driver.find_element(By.XPATH,'/html/body/div[3]/main/div[2]/div[3]/div/div/div[2]/div/div[1]/a/span/span')\n",
    "button.click()"
   ]
  },
  {
   "cell_type": "code",
   "execution_count": 74,
   "id": "c6b891f5",
   "metadata": {},
   "outputs": [],
   "source": [
    "#Q6 completed\n",
    "#lets close the window\n",
    "driver.close()"
   ]
  },
  {
   "cell_type": "code",
   "execution_count": 3,
   "id": "7525afea",
   "metadata": {},
   "outputs": [
    {
     "data": {
      "text/plain": [
       "<selenium.webdriver.chrome.webdriver.WebDriver (session=\"e644d0cca6322c8db0547f87c4a33bec\")>"
      ]
     },
     "execution_count": 3,
     "metadata": {},
     "output_type": "execute_result"
    }
   ],
   "source": [
    "#Q7\n",
    "# lets first connect to webdriver\n",
    "driver=webdriver.Chrome(r\"C:\\Users\\hp\\Downloads\\chromedriver_win32\\chromedriver.exe\")\n",
    "driver"
   ]
  },
  {
   "cell_type": "code",
   "execution_count": 4,
   "id": "948e0e05",
   "metadata": {},
   "outputs": [],
   "source": [
    "# lets maximize the window\n",
    "driver.maximize_window()"
   ]
  },
  {
   "cell_type": "code",
   "execution_count": 5,
   "id": "24426c80",
   "metadata": {},
   "outputs": [],
   "source": [
    "url='https://www.theguardian.com/news/datablog/2012/aug/09/best-selling-books-all-time-fifty-shades-grey-compare/'\n",
    "driver.get(url)"
   ]
  },
  {
   "cell_type": "code",
   "execution_count": 6,
   "id": "0dd9f82b",
   "metadata": {},
   "outputs": [
    {
     "data": {
      "text/plain": [
       "['1',\n",
       " 'Da Vinci Code,The',\n",
       " 'Brown, Dan',\n",
       " '5,094,805',\n",
       " 'Transworld',\n",
       " '2',\n",
       " 'Harry Potter and the Deathly Hallows',\n",
       " 'Rowling, J.K.',\n",
       " '4,475,152',\n",
       " 'Bloomsbury',\n",
       " '3',\n",
       " \"Harry Potter and the Philosopher's Stone\",\n",
       " 'Rowling, J.K.',\n",
       " '4,200,654',\n",
       " 'Bloomsbury',\n",
       " '4',\n",
       " 'Harry Potter and the Order of the Phoenix',\n",
       " 'Rowling, J.K.',\n",
       " '4,179,479',\n",
       " 'Bloomsbury',\n",
       " '5',\n",
       " 'Fifty Shades of Grey',\n",
       " 'James, E. L.',\n",
       " '3,758,936',\n",
       " 'Random House',\n",
       " '6',\n",
       " 'Harry Potter and the Goblet of Fire',\n",
       " 'Rowling, J.K.',\n",
       " '3,583,215',\n",
       " 'Bloomsbury',\n",
       " '7',\n",
       " 'Harry Potter and the Chamber of Secrets',\n",
       " 'Rowling, J.K.',\n",
       " '3,484,047',\n",
       " 'Bloomsbury',\n",
       " '8',\n",
       " 'Harry Potter and the Prisoner of Azkaban',\n",
       " 'Rowling, J.K.',\n",
       " '3,377,906',\n",
       " 'Bloomsbury',\n",
       " '9',\n",
       " 'Angels and Demons',\n",
       " 'Brown, Dan',\n",
       " '3,193,946',\n",
       " 'Transworld',\n",
       " '10',\n",
       " \"Harry Potter and the Half-blood Prince:Children's Edition\",\n",
       " 'Rowling, J.K.',\n",
       " '2,950,264',\n",
       " 'Bloomsbury',\n",
       " '11',\n",
       " 'Fifty Shades Darker',\n",
       " 'James, E. L.',\n",
       " '2,479,784',\n",
       " 'Random House',\n",
       " '12',\n",
       " 'Twilight',\n",
       " 'Meyer, Stephenie',\n",
       " '2,315,405',\n",
       " 'Little, Brown Book',\n",
       " '13',\n",
       " 'Girl with the Dragon Tattoo,The:Millennium Trilogy',\n",
       " 'Larsson, Stieg',\n",
       " '2,233,570',\n",
       " 'Quercus',\n",
       " '14',\n",
       " 'Fifty Shades Freed',\n",
       " 'James, E. L.',\n",
       " '2,193,928',\n",
       " 'Random House',\n",
       " '15',\n",
       " 'Lost Symbol,The',\n",
       " 'Brown, Dan',\n",
       " '2,183,031',\n",
       " 'Transworld',\n",
       " '16',\n",
       " 'New Moon',\n",
       " 'Meyer, Stephenie',\n",
       " '2,152,737',\n",
       " 'Little, Brown Book',\n",
       " '17',\n",
       " 'Deception Point',\n",
       " 'Brown, Dan',\n",
       " '2,062,145',\n",
       " 'Transworld',\n",
       " '18',\n",
       " 'Eclipse',\n",
       " 'Meyer, Stephenie',\n",
       " '2,052,876',\n",
       " 'Little, Brown Book',\n",
       " '19',\n",
       " 'Lovely Bones,The',\n",
       " 'Sebold, Alice',\n",
       " '2,005,598',\n",
       " 'Pan Macmillan',\n",
       " '20',\n",
       " 'Curious Incident of the Dog in the Night-time,The',\n",
       " 'Haddon, Mark',\n",
       " '1,979,552',\n",
       " 'Random House',\n",
       " '21',\n",
       " 'Digital Fortress',\n",
       " 'Brown, Dan',\n",
       " '1,928,900',\n",
       " 'Transworld',\n",
       " '22',\n",
       " 'Short History of Nearly Everything,A',\n",
       " 'Bryson, Bill',\n",
       " '1,852,919',\n",
       " 'Transworld',\n",
       " '23',\n",
       " 'Girl Who Played with Fire,The:Millennium Trilogy',\n",
       " 'Larsson, Stieg',\n",
       " '1,814,784',\n",
       " 'Quercus',\n",
       " '24',\n",
       " 'Breaking Dawn',\n",
       " 'Meyer, Stephenie',\n",
       " '1,787,118',\n",
       " 'Little, Brown Book',\n",
       " '25',\n",
       " 'Very Hungry Caterpillar,The:The Very Hungry Caterpillar',\n",
       " 'Carle, Eric',\n",
       " '1,783,535',\n",
       " 'Penguin',\n",
       " '26',\n",
       " 'Gruffalo,The',\n",
       " 'Donaldson, Julia',\n",
       " '1,781,269',\n",
       " 'Pan Macmillan',\n",
       " '27',\n",
       " \"Jamie's 30-Minute Meals\",\n",
       " 'Oliver, Jamie',\n",
       " '1,743,266',\n",
       " 'Penguin',\n",
       " '28',\n",
       " 'Kite Runner,The',\n",
       " 'Hosseini, Khaled',\n",
       " '1,629,119',\n",
       " 'Bloomsbury',\n",
       " '29',\n",
       " 'One Day',\n",
       " 'Nicholls, David',\n",
       " '1,616,068',\n",
       " 'Hodder & Stoughton',\n",
       " '30',\n",
       " 'Thousand Splendid Suns,A',\n",
       " 'Hosseini, Khaled',\n",
       " '1,583,992',\n",
       " 'Bloomsbury',\n",
       " '31',\n",
       " \"Girl Who Kicked the Hornets' Nest,The:Millennium Trilogy\",\n",
       " 'Larsson, Stieg',\n",
       " '1,555,135',\n",
       " 'Quercus',\n",
       " '32',\n",
       " \"Time Traveler's Wife,The\",\n",
       " 'Niffenegger, Audrey',\n",
       " '1,546,886',\n",
       " 'Random House',\n",
       " '33',\n",
       " 'Atonement',\n",
       " 'McEwan, Ian',\n",
       " '1,539,428',\n",
       " 'Random House',\n",
       " '34',\n",
       " \"Bridget Jones's Diary:A Novel\",\n",
       " 'Fielding, Helen',\n",
       " '1,508,205',\n",
       " 'Pan Macmillan',\n",
       " '35',\n",
       " 'World According to Clarkson,The',\n",
       " 'Clarkson, Jeremy',\n",
       " '1,489,403',\n",
       " 'Penguin',\n",
       " '36',\n",
       " \"Captain Corelli's Mandolin\",\n",
       " 'Bernieres, Louis de',\n",
       " '1,352,318',\n",
       " 'Random House',\n",
       " '37',\n",
       " 'Sound of Laughter,The',\n",
       " 'Kay, Peter',\n",
       " '1,310,207',\n",
       " 'Random House',\n",
       " '38',\n",
       " 'Life of Pi',\n",
       " 'Martel, Yann',\n",
       " '1,310,176',\n",
       " 'Canongate',\n",
       " '39',\n",
       " 'Billy Connolly',\n",
       " 'Stephenson, Pamela',\n",
       " '1,231,957',\n",
       " 'HarperCollins',\n",
       " '40',\n",
       " 'Child Called It,A',\n",
       " 'Pelzer, Dave',\n",
       " '1,217,712',\n",
       " 'Orion',\n",
       " '41',\n",
       " \"Gruffalo's Child,The\",\n",
       " 'Donaldson, Julia',\n",
       " '1,208,711',\n",
       " 'Pan Macmillan',\n",
       " '42',\n",
       " \"Angela's Ashes:A Memoir of a Childhood\",\n",
       " 'McCourt, Frank',\n",
       " '1,204,058',\n",
       " 'HarperCollins',\n",
       " '43',\n",
       " 'Birdsong',\n",
       " 'Faulks, Sebastian',\n",
       " '1,184,967',\n",
       " 'Random House',\n",
       " '44',\n",
       " 'Northern Lights:His Dark Materials S.',\n",
       " 'Pullman, Philip',\n",
       " '1,181,503',\n",
       " 'Scholastic Ltd.',\n",
       " '45',\n",
       " 'Labyrinth',\n",
       " 'Mosse, Kate',\n",
       " '1,181,093',\n",
       " 'Orion',\n",
       " '46',\n",
       " 'Harry Potter and the Half-blood Prince',\n",
       " 'Rowling, J.K.',\n",
       " '1,153,181',\n",
       " 'Bloomsbury',\n",
       " '47',\n",
       " 'Help,The',\n",
       " 'Stockett, Kathryn',\n",
       " '1,132,336',\n",
       " 'Penguin',\n",
       " '48',\n",
       " 'Man and Boy',\n",
       " 'Parsons, Tony',\n",
       " '1,130,802',\n",
       " 'HarperCollins',\n",
       " '49',\n",
       " 'Memoirs of a Geisha',\n",
       " 'Golden, Arthur',\n",
       " '1,126,337',\n",
       " 'Random House',\n",
       " '50',\n",
       " \"No.1 Ladies' Detective Agency,The:No.1 Ladies' Detective Agency S.\",\n",
       " 'McCall Smith, Alexander',\n",
       " '1,115,549',\n",
       " 'Little, Brown Book',\n",
       " '51',\n",
       " 'Island,The',\n",
       " 'Hislop, Victoria',\n",
       " '1,108,328',\n",
       " 'Headline',\n",
       " '52',\n",
       " 'PS, I Love You',\n",
       " 'Ahern, Cecelia',\n",
       " '1,107,379',\n",
       " 'HarperCollins',\n",
       " '53',\n",
       " 'You are What You Eat:The Plan That Will Change Your Life',\n",
       " 'McKeith, Gillian',\n",
       " '1,104,403',\n",
       " 'Penguin',\n",
       " '54',\n",
       " 'Shadow of the Wind,The',\n",
       " 'Zafon, Carlos Ruiz',\n",
       " '1,092,349',\n",
       " 'Orion',\n",
       " '55',\n",
       " 'Tales of Beedle the Bard,The',\n",
       " 'Rowling, J.K.',\n",
       " '1,090,847',\n",
       " 'Bloomsbury',\n",
       " '56',\n",
       " 'Broker,The',\n",
       " 'Grisham, John',\n",
       " '1,087,262',\n",
       " 'Random House',\n",
       " '57',\n",
       " \"Dr. Atkins' New Diet Revolution:The No-hunger, Luxurious Weight Loss P\",\n",
       " 'Atkins, Robert C.',\n",
       " '1,054,196',\n",
       " 'Random House',\n",
       " '58',\n",
       " 'Subtle Knife,The:His Dark Materials S.',\n",
       " 'Pullman, Philip',\n",
       " '1,037,160',\n",
       " 'Scholastic Ltd.',\n",
       " '59',\n",
       " 'Eats, Shoots and Leaves:The Zero Tolerance Approach to Punctuation',\n",
       " 'Truss, Lynne',\n",
       " '1,023,688',\n",
       " 'Profile Books Group',\n",
       " '60',\n",
       " \"Delia's How to Cook:(Bk.1)\",\n",
       " 'Smith, Delia',\n",
       " '1,015,956',\n",
       " 'Random House',\n",
       " '61',\n",
       " 'Chocolat',\n",
       " 'Harris, Joanne',\n",
       " '1,009,873',\n",
       " 'Transworld',\n",
       " '62',\n",
       " 'Boy in the Striped Pyjamas,The',\n",
       " 'Boyne, John',\n",
       " '1,004,414',\n",
       " 'Random House Childrens Books G',\n",
       " '63',\n",
       " \"My Sister's Keeper\",\n",
       " 'Picoult, Jodi',\n",
       " '1,003,780',\n",
       " 'Hodder & Stoughton',\n",
       " '64',\n",
       " 'Amber Spyglass,The:His Dark Materials S.',\n",
       " 'Pullman, Philip',\n",
       " '1,002,314',\n",
       " 'Scholastic Ltd.',\n",
       " '65',\n",
       " 'To Kill a Mockingbird',\n",
       " 'Lee, Harper',\n",
       " '998,213',\n",
       " 'Random House',\n",
       " '66',\n",
       " 'Men are from Mars, Women are from Venus:A Practical Guide for Improvin',\n",
       " 'Gray, John',\n",
       " '992,846',\n",
       " 'HarperCollins',\n",
       " '67',\n",
       " 'Dear Fatty',\n",
       " 'French, Dawn',\n",
       " '986,753',\n",
       " 'Random House',\n",
       " '68',\n",
       " 'Short History of Tractors in Ukrainian,A',\n",
       " 'Lewycka, Marina',\n",
       " '986,115',\n",
       " 'Penguin',\n",
       " '69',\n",
       " 'Hannibal',\n",
       " 'Harris, Thomas',\n",
       " '970,509',\n",
       " 'Random House',\n",
       " '70',\n",
       " 'Lord of the Rings,The',\n",
       " 'Tolkien, J. R. R.',\n",
       " '967,466',\n",
       " 'HarperCollins',\n",
       " '71',\n",
       " 'Stupid White Men:...and Other Sorry Excuses for the State of the Natio',\n",
       " 'Moore, Michael',\n",
       " '963,353',\n",
       " 'Penguin',\n",
       " '72',\n",
       " 'Interpretation of Murder,The',\n",
       " 'Rubenfeld, Jed',\n",
       " '962,515',\n",
       " 'Headline',\n",
       " '73',\n",
       " 'Sharon Osbourne Extreme:My Autobiography',\n",
       " 'Osbourne, Sharon',\n",
       " '959,496',\n",
       " 'Little, Brown Book',\n",
       " '74',\n",
       " 'Alchemist,The:A Fable About Following Your Dream',\n",
       " 'Coelho, Paulo',\n",
       " '956,114',\n",
       " 'HarperCollins',\n",
       " '75',\n",
       " \"At My Mother's Knee ...:and Other Low Joints\",\n",
       " \"O'Grady, Paul\",\n",
       " '945,640',\n",
       " 'Transworld',\n",
       " '76',\n",
       " 'Notes from a Small Island',\n",
       " 'Bryson, Bill',\n",
       " '931,312',\n",
       " 'Transworld',\n",
       " '77',\n",
       " 'Return of the Naked Chef,The',\n",
       " 'Oliver, Jamie',\n",
       " '925,425',\n",
       " 'Penguin',\n",
       " '78',\n",
       " 'Bridget Jones: The Edge of Reason',\n",
       " 'Fielding, Helen',\n",
       " '924,695',\n",
       " 'Pan Macmillan',\n",
       " '79',\n",
       " \"Jamie's Italy\",\n",
       " 'Oliver, Jamie',\n",
       " '906,968',\n",
       " 'Penguin',\n",
       " '80',\n",
       " 'I Can Make You Thin',\n",
       " 'McKenna, Paul',\n",
       " '905,086',\n",
       " 'Transworld',\n",
       " '81',\n",
       " 'Down Under',\n",
       " 'Bryson, Bill',\n",
       " '890,847',\n",
       " 'Transworld',\n",
       " '82',\n",
       " 'Summons,The',\n",
       " 'Grisham, John',\n",
       " '869,671',\n",
       " 'Random House',\n",
       " '83',\n",
       " 'Small Island',\n",
       " 'Levy, Andrea',\n",
       " '869,659',\n",
       " 'Headline',\n",
       " '84',\n",
       " 'Nigella Express',\n",
       " 'Lawson, Nigella',\n",
       " '862,602',\n",
       " 'Random House',\n",
       " '85',\n",
       " 'Brick Lane',\n",
       " 'Ali, Monica',\n",
       " '856,540',\n",
       " 'Transworld',\n",
       " '86',\n",
       " \"Memory Keeper's Daughter,The\",\n",
       " 'Edwards, Kim',\n",
       " '845,858',\n",
       " 'Penguin',\n",
       " '87',\n",
       " 'Room on the Broom',\n",
       " 'Donaldson, Julia',\n",
       " '842,535',\n",
       " 'Pan Macmillan',\n",
       " '88',\n",
       " 'About a Boy',\n",
       " 'Hornby, Nick',\n",
       " '828,215',\n",
       " 'Penguin',\n",
       " '89',\n",
       " 'My Booky Wook',\n",
       " 'Brand, Russell',\n",
       " '820,563',\n",
       " 'Hodder & Stoughton',\n",
       " '90',\n",
       " 'God Delusion,The',\n",
       " 'Dawkins, Richard',\n",
       " '816,907',\n",
       " 'Transworld',\n",
       " '91',\n",
       " '\"Beano\" Annual,The',\n",
       " '0',\n",
       " '816,585',\n",
       " 'D.C. Thomson',\n",
       " '92',\n",
       " 'White Teeth',\n",
       " 'Smith, Zadie',\n",
       " '815,586',\n",
       " 'Penguin',\n",
       " '93',\n",
       " 'House at Riverton,The',\n",
       " 'Morton, Kate',\n",
       " '814,370',\n",
       " 'Pan Macmillan',\n",
       " '94',\n",
       " 'Book Thief,The',\n",
       " 'Zusak, Markus',\n",
       " '809,641',\n",
       " 'Transworld',\n",
       " '95',\n",
       " 'Nights of Rain and Stars',\n",
       " 'Binchy, Maeve',\n",
       " '808,900',\n",
       " 'Orion',\n",
       " '96',\n",
       " 'Ghost,The',\n",
       " 'Harris, Robert',\n",
       " '807,311',\n",
       " 'Random House',\n",
       " '97',\n",
       " 'Happy Days with the Naked Chef',\n",
       " 'Oliver, Jamie',\n",
       " '794,201',\n",
       " 'Penguin',\n",
       " '98',\n",
       " 'Hunger Games,The:Hunger Games Trilogy',\n",
       " 'Collins, Suzanne',\n",
       " '792,187',\n",
       " 'Scholastic Ltd.',\n",
       " '99',\n",
       " \"Lost Boy,The:A Foster Child's Search for the Love of a Family\",\n",
       " 'Pelzer, Dave',\n",
       " '791,507',\n",
       " 'Orion',\n",
       " '100',\n",
       " \"Jamie's Ministry of Food:Anyone Can Learn to Cook in 24 Hours\",\n",
       " 'Oliver, Jamie',\n",
       " '791,095',\n",
       " 'Penguin']"
      ]
     },
     "execution_count": 6,
     "metadata": {},
     "output_type": "execute_result"
    }
   ],
   "source": [
    "\n",
    "#book name\n",
    "book=[]\n",
    "book_tag=driver.find_elements(By.XPATH,'//td[@class=\"left\"]')\n",
    "for i in book_tag:\n",
    "    book.append(i.text)\n",
    "book"
   ]
  },
  {
   "cell_type": "code",
   "execution_count": null,
   "id": "e970ba2c",
   "metadata": {},
   "outputs": [],
   "source": []
  },
  {
   "cell_type": "code",
   "execution_count": 7,
   "id": "80b2f373",
   "metadata": {},
   "outputs": [
    {
     "name": "stdout",
     "output_type": "stream",
     "text": [
      "[<selenium.webdriver.remote.webelement.WebElement (session=\"e644d0cca6322c8db0547f87c4a33bec\", element=\"13f82802-808d-4033-be27-f891a5e5ee06\")>]\n"
     ]
    }
   ],
   "source": [
    "element=driver.find_elements(By.XPATH,'/html/body/div/div[2]/div[2]/div/div[2]/div/table/tbody/tr[1]/td[2]')\n",
    "print(element)"
   ]
  },
  {
   "cell_type": "code",
   "execution_count": 8,
   "id": "3334ea0f",
   "metadata": {},
   "outputs": [],
   "source": [
    "#Q8 completed\n",
    "# closing driver\n",
    "driver.close()"
   ]
  },
  {
   "cell_type": "code",
   "execution_count": 9,
   "id": "a0b684ab",
   "metadata": {},
   "outputs": [
    {
     "data": {
      "text/plain": [
       "<selenium.webdriver.chrome.webdriver.WebDriver (session=\"dcb51fed34bfb9fa7f120c0bea20be4d\")>"
      ]
     },
     "execution_count": 9,
     "metadata": {},
     "output_type": "execute_result"
    }
   ],
   "source": [
    "#Q9\n",
    "#Q7\n",
    "# lets first connect to webdriver\n",
    "driver=webdriver.Chrome(r\"C:\\Users\\hp\\Downloads\\chromedriver_win32\\chromedriver.exe\")\n",
    "driver"
   ]
  },
  {
   "cell_type": "code",
   "execution_count": 10,
   "id": "0c779e35",
   "metadata": {},
   "outputs": [],
   "source": [
    "# lets maximize the window\n",
    "driver.maximize_window()"
   ]
  },
  {
   "cell_type": "code",
   "execution_count": 11,
   "id": "8a93ef3c",
   "metadata": {},
   "outputs": [],
   "source": [
    "url='https://www.imdb.com/list/ls095964455/'\n",
    "driver.get(url)"
   ]
  },
  {
   "cell_type": "code",
   "execution_count": 17,
   "id": "1f051a2d",
   "metadata": {},
   "outputs": [
    {
     "data": {
      "text/plain": [
       "['1. Game of Thrones (2011–2019)',\n",
       " '2. Stranger Things (2016– )',\n",
       " '3. The Walking Dead (2010–2022)',\n",
       " '4. 13 Reasons Why (2017–2020)',\n",
       " '5. The 100 (2014–2020)',\n",
       " '6. Orange Is the New Black (2013–2019)',\n",
       " '7. Riverdale (2017– )',\n",
       " \"8. Grey's Anatomy (2005– )\",\n",
       " '9. The Flash (2014–2023)',\n",
       " '10. Arrow (2012–2020)',\n",
       " '11. Money Heist (2017–2021)',\n",
       " '12. The Big Bang Theory (2007–2019)',\n",
       " '13. Black Mirror (2011–2019)',\n",
       " '14. Sherlock (2010–2017)',\n",
       " '15. Vikings (2013–2020)',\n",
       " '16. Pretty Little Liars (2010–2017)',\n",
       " '17. The Vampire Diaries (2009–2017)',\n",
       " '18. American Horror Story (2011– )',\n",
       " '19. Breaking Bad (2008–2013)',\n",
       " '20. Lucifer (2016–2021)',\n",
       " '21. Supernatural (2005–2020)',\n",
       " '22. Prison Break (2005–2017)',\n",
       " '23. How to Get Away with Murder (2014–2020)',\n",
       " '24. Teen Wolf (2011–2017)',\n",
       " '25. The Simpsons (1989– )',\n",
       " '26. Once Upon a Time (2011–2018)',\n",
       " '27. Narcos (2015–2017)',\n",
       " '28. Daredevil (2015–2018)',\n",
       " '29. Friends (1994–2004)',\n",
       " '30. How I Met Your Mother (2005–2014)',\n",
       " '31. Suits (2011–2019)',\n",
       " '32. Mr. Robot (2015–2019)',\n",
       " '33. The Originals (2013–2018)',\n",
       " '34. Supergirl (2015–2021)',\n",
       " '35. Gossip Girl (2007–2012)',\n",
       " '36. Sense8 (2015–2018)',\n",
       " '37. Gotham (2014–2019)',\n",
       " '38. Westworld (2016–2022)',\n",
       " '39. Jessica Jones (2015–2019)',\n",
       " '40. Modern Family (2009–2020)',\n",
       " '41. Rick and Morty (2013– )',\n",
       " '42. Shadowhunters: The Mortal Instruments (2016–2019)',\n",
       " '43. The End of the F***ing World (2017–2019)',\n",
       " '44. House of Cards (2013–2018)',\n",
       " '45. Dark (2017–2020)',\n",
       " '46. Elite (2018– )',\n",
       " '47. Sex Education (2019– )',\n",
       " '48. Shameless (2011–2021)',\n",
       " '49. New Girl (2011–2018)',\n",
       " '50. Agents of S.H.I.E.L.D. (2013–2020)',\n",
       " '51. You (2018– )',\n",
       " '52. Dexter (2006–2013)',\n",
       " '53. Fear the Walking Dead (2015– )',\n",
       " '54. Family Guy (1999– )',\n",
       " '55. The Blacklist (2013– )',\n",
       " '56. Lost (2004–2010)',\n",
       " '57. Peaky Blinders (2013–2022)',\n",
       " '58. House M.D. (2004–2012)',\n",
       " '59. Quantico (2015–2018)',\n",
       " '60. Orphan Black (2013–2017)',\n",
       " '61. Homeland (2011–2020)',\n",
       " '62. Blindspot (2015–2020)',\n",
       " '63. Legends of Tomorrow (2016–2022)',\n",
       " \"64. The Handmaid's Tale (2017– )\",\n",
       " '65. Chilling Adventures of Sabrina (2018–2020)',\n",
       " '66. The Good Doctor (2017– )',\n",
       " '67. Jane the Virgin (2014–2019)',\n",
       " '68. Glee (2009–2015)',\n",
       " '69. South Park (1997– )',\n",
       " '70. Brooklyn Nine-Nine (2013–2021)',\n",
       " '71. Under the Dome (2013–2015)',\n",
       " '72. The Umbrella Academy (2019–2023)',\n",
       " '73. True Detective (2014–2019)',\n",
       " '74. The OA (2016–2019)',\n",
       " '75. Desperate Housewives (2004–2012)',\n",
       " '76. Better Call Saul (2015–2022)',\n",
       " '77. Bates Motel (2013–2017)',\n",
       " '78. The Punisher (2017–2019)',\n",
       " '79. Atypical (2017–2021)',\n",
       " '80. Dynasty (2017–2022)',\n",
       " '81. This Is Us (2016–2022)',\n",
       " '82. The Good Place (2016–2020)',\n",
       " '83. Iron Fist (2017–2018)',\n",
       " '84. The Rain (2018–2020)',\n",
       " '85. Mindhunter (2017–2019)',\n",
       " '86. Revenge (2011–2015)',\n",
       " '87. Luke Cage (2016–2018)',\n",
       " '88. Scandal (2012–2018)',\n",
       " '89. The Defenders (2017)',\n",
       " '90. Big Little Lies (2017–2019)',\n",
       " '91. Insatiable (2018–2019)',\n",
       " '92. The Mentalist (2008–2015)',\n",
       " '93. The Crown (2016– )',\n",
       " '94. Chernobyl (2019)',\n",
       " '95. iZombie (2015–2019)',\n",
       " '96. Reign (2013–2017)',\n",
       " '97. A Series of Unfortunate Events (2017–2019)',\n",
       " '98. Criminal Minds (2005– )',\n",
       " '99. Scream: The TV Series (2015–2019)',\n",
       " '100. The Haunting of Hill House (2018)']"
      ]
     },
     "execution_count": 17,
     "metadata": {},
     "output_type": "execute_result"
    }
   ],
   "source": [
    "\n",
    "#tv series name\n",
    "name=[]\n",
    "name_tag=driver.find_elements(By.XPATH,'//h3[@class=\"lister-item-header\"]')\n",
    "for i in name_tag:\n",
    "    name.append(i.text)\n",
    "name"
   ]
  },
  {
   "cell_type": "code",
   "execution_count": 18,
   "id": "07fc4e6d",
   "metadata": {},
   "outputs": [
    {
     "data": {
      "text/plain": [
       "['Action, Adventure, Drama',\n",
       " 'Drama, Fantasy, Horror',\n",
       " 'Drama, Horror, Thriller',\n",
       " 'Drama, Mystery, Thriller',\n",
       " 'Drama, Mystery, Sci-Fi',\n",
       " 'Comedy, Crime, Drama',\n",
       " 'Crime, Drama, Mystery',\n",
       " 'Drama, Romance',\n",
       " 'Action, Adventure, Drama',\n",
       " 'Action, Adventure, Crime',\n",
       " 'Action, Crime, Drama',\n",
       " 'Comedy, Romance',\n",
       " 'Drama, Mystery, Sci-Fi',\n",
       " 'Crime, Drama, Mystery',\n",
       " 'Action, Adventure, Drama',\n",
       " 'Drama, Mystery, Romance',\n",
       " 'Drama, Fantasy, Horror',\n",
       " 'Drama, Horror, Sci-Fi',\n",
       " 'Crime, Drama, Thriller',\n",
       " 'Crime, Drama, Fantasy',\n",
       " 'Drama, Fantasy, Horror',\n",
       " 'Action, Crime, Drama',\n",
       " 'Crime, Drama, Mystery',\n",
       " 'Action, Drama, Fantasy',\n",
       " 'Animation, Comedy',\n",
       " 'Adventure, Fantasy, Romance',\n",
       " 'Biography, Crime, Drama',\n",
       " 'Action, Crime, Drama',\n",
       " 'Comedy, Romance',\n",
       " 'Comedy, Romance',\n",
       " 'Comedy, Drama',\n",
       " 'Crime, Drama, Thriller',\n",
       " 'Drama, Fantasy, Horror',\n",
       " 'Action, Adventure, Drama',\n",
       " 'Drama, Romance',\n",
       " 'Drama, Mystery, Sci-Fi',\n",
       " 'Action, Crime, Drama',\n",
       " 'Drama, Mystery, Sci-Fi',\n",
       " 'Action, Crime, Drama',\n",
       " 'Comedy, Drama, Romance',\n",
       " 'Animation, Adventure, Comedy',\n",
       " 'Action, Drama, Fantasy',\n",
       " 'Adventure, Comedy, Crime',\n",
       " 'Drama',\n",
       " 'Crime, Drama, Mystery',\n",
       " 'Crime, Drama, Thriller',\n",
       " 'Comedy, Drama',\n",
       " 'Comedy, Drama',\n",
       " 'Comedy, Romance',\n",
       " 'Action, Adventure, Drama',\n",
       " 'Crime, Drama, Romance',\n",
       " 'Crime, Drama, Mystery',\n",
       " 'Drama, Horror, Sci-Fi',\n",
       " 'Animation, Comedy',\n",
       " 'Crime, Drama, Mystery',\n",
       " 'Adventure, Drama, Fantasy',\n",
       " 'Crime, Drama',\n",
       " 'Drama, Mystery',\n",
       " 'Crime, Drama, Mystery',\n",
       " 'Drama, Sci-Fi, Thriller',\n",
       " 'Crime, Drama, Mystery',\n",
       " 'Action, Crime, Drama',\n",
       " 'Action, Adventure, Drama',\n",
       " 'Drama, Sci-Fi, Thriller',\n",
       " 'Drama, Fantasy, Horror',\n",
       " 'Drama',\n",
       " 'Comedy',\n",
       " 'Comedy, Drama, Music',\n",
       " 'Animation, Comedy',\n",
       " 'Comedy, Crime',\n",
       " 'Drama, Mystery, Sci-Fi',\n",
       " 'Action, Adventure, Comedy',\n",
       " 'Crime, Drama, Mystery',\n",
       " 'Drama, Fantasy, Mystery',\n",
       " 'Comedy, Drama, Mystery',\n",
       " 'Crime, Drama',\n",
       " 'Drama, Horror, Mystery',\n",
       " 'Action, Crime, Drama',\n",
       " 'Comedy, Drama',\n",
       " 'Drama',\n",
       " 'Comedy, Drama, Romance',\n",
       " 'Comedy, Drama, Fantasy',\n",
       " 'Action, Adventure, Crime',\n",
       " 'Drama, Sci-Fi, Thriller',\n",
       " 'Crime, Drama, Mystery',\n",
       " 'Drama, Mystery, Thriller',\n",
       " 'Action, Crime, Drama',\n",
       " 'Drama, Thriller',\n",
       " 'Action, Adventure, Crime',\n",
       " 'Crime, Drama, Mystery',\n",
       " 'Comedy, Drama, Thriller',\n",
       " 'Crime, Drama, Mystery',\n",
       " 'Biography, Drama, History',\n",
       " 'Drama, History, Thriller',\n",
       " 'Comedy, Crime, Drama',\n",
       " 'Drama',\n",
       " 'Adventure, Comedy, Drama',\n",
       " 'Crime, Drama, Mystery',\n",
       " 'Comedy, Crime, Drama',\n",
       " 'Drama, Horror, Mystery']"
      ]
     },
     "execution_count": 18,
     "metadata": {},
     "output_type": "execute_result"
    }
   ],
   "source": [
    "\n",
    "#genre\n",
    "genre=[]\n",
    "genre_tag=driver.find_elements(By.XPATH,'//span[@class=\"genre\"]')\n",
    "for i in genre_tag:\n",
    "    genre.append(i.text)\n",
    "genre"
   ]
  },
  {
   "cell_type": "code",
   "execution_count": 19,
   "id": "65cbfbc9",
   "metadata": {},
   "outputs": [
    {
     "data": {
      "text/plain": [
       "['57 min',\n",
       " '51 min',\n",
       " '44 min',\n",
       " '60 min',\n",
       " '43 min',\n",
       " '59 min',\n",
       " '45 min',\n",
       " '41 min',\n",
       " '43 min',\n",
       " '42 min',\n",
       " '70 min',\n",
       " '22 min',\n",
       " '60 min',\n",
       " '88 min',\n",
       " '44 min',\n",
       " '44 min',\n",
       " '43 min',\n",
       " '60 min',\n",
       " '49 min',\n",
       " '42 min',\n",
       " '44 min',\n",
       " '44 min',\n",
       " '43 min',\n",
       " '41 min',\n",
       " '22 min',\n",
       " '60 min',\n",
       " '49 min',\n",
       " '54 min',\n",
       " '22 min',\n",
       " '22 min',\n",
       " '44 min',\n",
       " '49 min',\n",
       " '45 min',\n",
       " '43 min',\n",
       " '42 min',\n",
       " '60 min',\n",
       " '42 min',\n",
       " '62 min',\n",
       " '56 min',\n",
       " '22 min',\n",
       " '23 min',\n",
       " '42 min',\n",
       " '25 min',\n",
       " '51 min',\n",
       " '60 min',\n",
       " '60 min',\n",
       " '45 min',\n",
       " '46 min',\n",
       " '22 min',\n",
       " '45 min',\n",
       " '45 min',\n",
       " '53 min',\n",
       " '44 min',\n",
       " '22 min',\n",
       " '43 min',\n",
       " '44 min',\n",
       " '60 min',\n",
       " '44 min',\n",
       " '42 min',\n",
       " '44 min',\n",
       " '55 min',\n",
       " '42 min',\n",
       " '42 min',\n",
       " '60 min',\n",
       " '60 min',\n",
       " '41 min',\n",
       " '60 min',\n",
       " '44 min',\n",
       " '22 min',\n",
       " '22 min',\n",
       " '43 min',\n",
       " '60 min',\n",
       " '55 min',\n",
       " '60 min',\n",
       " '45 min',\n",
       " '46 min',\n",
       " '45 min',\n",
       " '53 min',\n",
       " '30 min',\n",
       " '42 min',\n",
       " '45 min',\n",
       " '22 min',\n",
       " '55 min',\n",
       " '45 min',\n",
       " '60 min',\n",
       " '44 min',\n",
       " '55 min',\n",
       " '43 min',\n",
       " '50 min',\n",
       " '60 min',\n",
       " '45 min',\n",
       " '43 min',\n",
       " '58 min',\n",
       " '330 min',\n",
       " '42 min',\n",
       " '42 min',\n",
       " '50 min',\n",
       " '42 min',\n",
       " '45 min',\n",
       " '572 min']"
      ]
     },
     "execution_count": 19,
     "metadata": {},
     "output_type": "execute_result"
    }
   ],
   "source": [
    "# run time\n",
    "run_time=[]\n",
    "run_tag=driver.find_elements(By.XPATH,'//span[@class=\"runtime\"]')\n",
    "for i in run_tag:\n",
    "    run_time.append(i.text)\n",
    "run_time\n"
   ]
  },
  {
   "cell_type": "code",
   "execution_count": 20,
   "id": "6bece1d1",
   "metadata": {},
   "outputs": [
    {
     "data": {
      "text/plain": [
       "['9.2',\n",
       " '8.7',\n",
       " '8.1',\n",
       " '7.5',\n",
       " '7.6',\n",
       " '8.1',\n",
       " '6.6',\n",
       " '7.6',\n",
       " '7.6',\n",
       " '7.5',\n",
       " '8.2',\n",
       " '8.2',\n",
       " '8.8',\n",
       " '9.1',\n",
       " '8.5',\n",
       " '7.4',\n",
       " '7.7',\n",
       " '8',\n",
       " '9.5',\n",
       " '8.1',\n",
       " '8.4',\n",
       " '8.3',\n",
       " '8.1',\n",
       " '7.7',\n",
       " '8.7',\n",
       " '7.7',\n",
       " '8.8',\n",
       " '8.6',\n",
       " '8.9',\n",
       " '8.3',\n",
       " '8.5',\n",
       " '8.6',\n",
       " '8.3',\n",
       " '6.2',\n",
       " '7.5',\n",
       " '8.2',\n",
       " '7.8',\n",
       " '8.5',\n",
       " '7.9',\n",
       " '8.5',\n",
       " '9.1',\n",
       " '6.5',\n",
       " '8.1',\n",
       " '8.7',\n",
       " '8.7',\n",
       " '7.3',\n",
       " '8.4',\n",
       " '8.6',\n",
       " '7.8',\n",
       " '7.5',\n",
       " '7.7',\n",
       " '8.7',\n",
       " '6.8',\n",
       " '8.2',\n",
       " '8',\n",
       " '8.3',\n",
       " '8.8',\n",
       " '8.7',\n",
       " '6.7',\n",
       " '8.3',\n",
       " '8.3',\n",
       " '7.3',\n",
       " '6.8',\n",
       " '8.4',\n",
       " '7.4',\n",
       " '8.1',\n",
       " '7.9',\n",
       " '6.8',\n",
       " '8.7',\n",
       " '8.4',\n",
       " '6.5',\n",
       " '7.9',\n",
       " '8.9',\n",
       " '7.8',\n",
       " '7.6',\n",
       " '8.9',\n",
       " '8.1',\n",
       " '8.5',\n",
       " '8.3',\n",
       " '7.3',\n",
       " '8.7',\n",
       " '8.2',\n",
       " '6.4',\n",
       " '6.3',\n",
       " '8.6',\n",
       " '7.8',\n",
       " '7.3',\n",
       " '7.7',\n",
       " '7.2',\n",
       " '8.5',\n",
       " '6.5',\n",
       " '8.1',\n",
       " '8.7',\n",
       " '9.4',\n",
       " '7.8',\n",
       " '7.4',\n",
       " '7.8',\n",
       " '8.1',\n",
       " '7.1',\n",
       " '8.6']"
      ]
     },
     "execution_count": 20,
     "metadata": {},
     "output_type": "execute_result"
    }
   ],
   "source": [
    "#ratings\n",
    "\n",
    "ratings=[]\n",
    "rate_tag=driver.find_elements(By.XPATH,'//div[@class=\"ipl-rating-star small\"]')\n",
    "for i in rate_tag:\n",
    "    ratings.append(i.text)\n",
    "ratings\n"
   ]
  },
  {
   "cell_type": "code",
   "execution_count": 25,
   "id": "71f6ccfe",
   "metadata": {},
   "outputs": [
    {
     "data": {
      "text/plain": [
       "['2,091,090',\n",
       " '1,180,556',\n",
       " '989,523',\n",
       " '292,972',\n",
       " '252,133',\n",
       " '303,024',\n",
       " '145,550',\n",
       " '309,067',\n",
       " '346,406',\n",
       " '432,055',\n",
       " '476,275',\n",
       " '807,478',\n",
       " '545,988',\n",
       " '924,662',\n",
       " '531,941',\n",
       " '168,079',\n",
       " '322,399',\n",
       " '319,810',\n",
       " '1,873,926',\n",
       " '324,609',\n",
       " '445,886',\n",
       " '535,524',\n",
       " '152,333',\n",
       " '149,010',\n",
       " '407,592',\n",
       " '225,510',\n",
       " '422,157',\n",
       " '440,967',\n",
       " '993,280',\n",
       " '683,374',\n",
       " '411,023',\n",
       " '387,857',\n",
       " '136,663',\n",
       " '124,454',\n",
       " '175,523',\n",
       " '155,043',\n",
       " '230,991',\n",
       " '505,152',\n",
       " '215,239',\n",
       " '430,832',\n",
       " '520,038',\n",
       " '64,142',\n",
       " '191,017',\n",
       " '504,745',\n",
       " '385,739',\n",
       " '79,746',\n",
       " '280,790',\n",
       " '243,495',\n",
       " '225,165',\n",
       " '217,697',\n",
       " '240,701',\n",
       " '725,577',\n",
       " '130,488',\n",
       " '340,124',\n",
       " '249,871',\n",
       " '553,637',\n",
       " '546,865',\n",
       " '465,064',\n",
       " '61,280',\n",
       " '111,565',\n",
       " '342,116',\n",
       " '74,419',\n",
       " '105,264',\n",
       " '237,305',\n",
       " '95,864',\n",
       " '95,608',\n",
       " '51,185',\n",
       " '149,028',\n",
       " '369,715',\n",
       " '316,359',\n",
       " '107,056',\n",
       " '248,392',\n",
       " '570,655',\n",
       " '105,495',\n",
       " '129,651',\n",
       " '525,942',\n",
       " '108,762',\n",
       " '236,670',\n",
       " '89,508',\n",
       " '22,891',\n",
       " '144,489',\n",
       " '160,824',\n",
       " '131,781',\n",
       " '37,616',\n",
       " '288,900',\n",
       " '120,506',\n",
       " '131,876',\n",
       " '74,362',\n",
       " '108,525',\n",
       " '199,696',\n",
       " '29,138',\n",
       " '185,798',\n",
       " '217,162',\n",
       " '749,112',\n",
       " '68,726',\n",
       " '50,206',\n",
       " '61,512',\n",
       " '198,500',\n",
       " '41,589',\n",
       " '245,403']"
      ]
     },
     "execution_count": 25,
     "metadata": {},
     "output_type": "execute_result"
    }
   ],
   "source": [
    "#votes\n",
    "\n",
    "\n",
    "votes=[]\n",
    "vote_tag=driver.find_elements(By.XPATH,'//span[@name=\"nv\"]')\n",
    "for i in vote_tag:\n",
    "    votes.append(i.text)\n",
    "votes\n"
   ]
  },
  {
   "cell_type": "code",
   "execution_count": 26,
   "id": "a8534169",
   "metadata": {},
   "outputs": [],
   "source": [
    "#Q9 completed\n",
    "# lets close the driver window\n",
    "driver.close()"
   ]
  },
  {
   "cell_type": "code",
   "execution_count": 29,
   "id": "7b8470a9",
   "metadata": {},
   "outputs": [
    {
     "data": {
      "text/plain": [
       "<selenium.webdriver.chrome.webdriver.WebDriver (session=\"8076e65ff71a7847a1243a906cc17c17\")>"
      ]
     },
     "execution_count": 29,
     "metadata": {},
     "output_type": "execute_result"
    }
   ],
   "source": [
    "#Q10\n",
    "\n",
    "\n",
    "# lets first connect to webdriver\n",
    "driver=webdriver.Chrome(r\"C:\\Users\\hp\\Downloads\\chromedriver_win32\\chromedriver.exe\")\n",
    "driver"
   ]
  },
  {
   "cell_type": "code",
   "execution_count": 30,
   "id": "3f23deef",
   "metadata": {},
   "outputs": [],
   "source": [
    "# lets maximize the window\n",
    "driver.maximize_window()"
   ]
  },
  {
   "cell_type": "code",
   "execution_count": 31,
   "id": "e74ded26",
   "metadata": {},
   "outputs": [],
   "source": [
    "url='https://archive.ics.uci.edu/'\n",
    "driver.get(url)"
   ]
  },
  {
   "cell_type": "code",
   "execution_count": 32,
   "id": "b2a095fc",
   "metadata": {},
   "outputs": [],
   "source": [
    "button=driver.find_element(By.XPATH,'/html/body/table[1]/tbody/tr/td[2]/span[2]')\n",
    "button.click()"
   ]
  },
  {
   "cell_type": "code",
   "execution_count": 49,
   "id": "b86d01e0",
   "metadata": {},
   "outputs": [
    {
     "data": {
      "text/plain": [
       "['Abalone']"
      ]
     },
     "execution_count": 49,
     "metadata": {},
     "output_type": "execute_result"
    }
   ],
   "source": [
    "#name of dataset\n",
    "\n",
    "dataset=[]\n",
    "data_tag=driver.find_elements(By.XPATH,'/html/body/table[2]/tbody/tr/td[2]/table[2]/tbody/tr[2]/td[1]/table/tbody/tr/td[2]/p')\n",
    "for i in data_tag:\n",
    "    dataset.append(i.text)\n",
    "dataset\n"
   ]
  },
  {
   "cell_type": "code",
   "execution_count": 44,
   "id": "c76f04a0",
   "metadata": {},
   "outputs": [
    {
     "data": {
      "text/plain": [
       "['Classification (466)\\nRegression (151)\\nClustering (121)\\nOther (56)',\n",
       " 'Categorical (38)\\nNumerical (422)\\nMixed (55)',\n",
       " 'Multivariate (480)\\nUnivariate (30)\\nSequential (59)\\nTime-Series (126)\\nText (69)\\nDomain-Theory (23)\\nOther (21)',\n",
       " 'Life Sciences (147)\\nPhysical Sciences (57)\\nCS / Engineering (234)\\nSocial Sciences (41)\\nBusiness (45)\\nGame (12)\\nOther (81)',\n",
       " 'Less than 10 (166)\\n10 to 100 (279)\\nGreater than 100 (110)',\n",
       " 'Less than 100 (38)\\n100 to 1000 (210)\\nGreater than 1000 (339)',\n",
       " 'Matrix (439)\\nNon-Matrix (183)',\n",
       " 'Table View  List View',\n",
       " 'Abalone',\n",
       " 'Multivariate ',\n",
       " 'Classification ',\n",
       " 'Categorical, Integer, Real ',\n",
       " '4177 ',\n",
       " '8 ',\n",
       " '1995 ',\n",
       " 'Adult',\n",
       " 'Multivariate ',\n",
       " 'Classification ',\n",
       " 'Categorical, Integer ',\n",
       " '48842 ',\n",
       " '14 ',\n",
       " '1996 ',\n",
       " 'Annealing',\n",
       " 'Multivariate ',\n",
       " 'Classification ',\n",
       " 'Categorical, Integer, Real ',\n",
       " '798 ',\n",
       " '38 ',\n",
       " ' ',\n",
       " 'Anonymous Microsoft Web Data',\n",
       " ' ',\n",
       " 'Recommender-Systems ',\n",
       " 'Categorical ',\n",
       " '37711 ',\n",
       " '294 ',\n",
       " '1998 ',\n",
       " 'Arrhythmia',\n",
       " 'Multivariate ',\n",
       " 'Classification ',\n",
       " 'Categorical, Integer, Real ',\n",
       " '452 ',\n",
       " '279 ',\n",
       " '1998 ',\n",
       " 'Artificial Characters',\n",
       " 'Multivariate ',\n",
       " 'Classification ',\n",
       " 'Categorical, Integer, Real ',\n",
       " '6000 ',\n",
       " '7 ',\n",
       " '1992 ',\n",
       " 'Audiology (Original)',\n",
       " 'Multivariate ',\n",
       " 'Classification ',\n",
       " 'Categorical ',\n",
       " '226 ',\n",
       " ' ',\n",
       " '1987 ',\n",
       " 'Audiology (Standardized)',\n",
       " 'Multivariate ',\n",
       " 'Classification ',\n",
       " 'Categorical ',\n",
       " '226 ',\n",
       " '69 ',\n",
       " '1992 ',\n",
       " 'Auto MPG',\n",
       " 'Multivariate ',\n",
       " 'Regression ',\n",
       " 'Categorical, Real ',\n",
       " '398 ',\n",
       " '8 ',\n",
       " '1993 ',\n",
       " 'Automobile',\n",
       " 'Multivariate ',\n",
       " 'Regression ',\n",
       " 'Categorical, Integer, Real ',\n",
       " '205 ',\n",
       " '26 ',\n",
       " '1987 ',\n",
       " 'Badges',\n",
       " 'Univariate, Text ',\n",
       " 'Classification ',\n",
       " ' ',\n",
       " '294 ',\n",
       " '1 ',\n",
       " '1994 ',\n",
       " 'Balance Scale',\n",
       " 'Multivariate ',\n",
       " 'Classification ',\n",
       " 'Categorical ',\n",
       " '625 ',\n",
       " '4 ',\n",
       " '1994 ',\n",
       " 'Balloons',\n",
       " 'Multivariate ',\n",
       " 'Classification ',\n",
       " 'Categorical ',\n",
       " '16 ',\n",
       " '4 ',\n",
       " ' ',\n",
       " 'Breast Cancer']"
      ]
     },
     "execution_count": 44,
     "metadata": {},
     "output_type": "execute_result"
    }
   ],
   "source": [
    "#datatype\n",
    "datatype=[]\n",
    "type_tag=driver.find_elements(By.XPATH,'//p[@class=\"normal\"]')\n",
    "for i in type_tag[0:100]:\n",
    "    datatype.append(i.text)\n",
    "datatype\n"
   ]
  },
  {
   "cell_type": "code",
   "execution_count": 50,
   "id": "2aaa8e01",
   "metadata": {},
   "outputs": [
    {
     "data": {
      "text/plain": [
       "['Multivariate ']"
      ]
     },
     "execution_count": 50,
     "metadata": {},
     "output_type": "execute_result"
    }
   ],
   "source": [
    "#type of dataset\n",
    "\n",
    "datatype=[]\n",
    "type_tag=driver.find_elements(By.XPATH,'/html/body/table[2]/tbody/tr/td[2]/table[2]/tbody/tr[2]/td[2]/p')\n",
    "for i in type_tag:\n",
    "    datatype.append(i.text)\n",
    "datatype\n"
   ]
  },
  {
   "cell_type": "code",
   "execution_count": 51,
   "id": "ba58ffa8",
   "metadata": {},
   "outputs": [
    {
     "data": {
      "text/plain": [
       "['Classification ']"
      ]
     },
     "execution_count": 51,
     "metadata": {},
     "output_type": "execute_result"
    }
   ],
   "source": [
    "#task of dataset\n",
    "\n",
    "datatype=[]\n",
    "type_tag=driver.find_elements(By.XPATH,'/html/body/table[2]/tbody/tr/td[2]/table[2]/tbody/tr[2]/td[3]/p')\n",
    "for i in type_tag:\n",
    "    datatype.append(i.text)\n",
    "datatype\n"
   ]
  },
  {
   "cell_type": "code",
   "execution_count": 52,
   "id": "ed158617",
   "metadata": {},
   "outputs": [
    {
     "data": {
      "text/plain": [
       "['Categorical, Integer, Real ']"
      ]
     },
     "execution_count": 52,
     "metadata": {},
     "output_type": "execute_result"
    }
   ],
   "source": [
    "#attribute type\n",
    "\n",
    "attribute=[]\n",
    "att_tag=driver.find_elements(By.XPATH,'/html/body/table[2]/tbody/tr/td[2]/table[2]/tbody/tr[2]/td[4]/p')\n",
    "for i in att_tag:\n",
    "    attribute.append(i.text)\n",
    "attribute\n"
   ]
  },
  {
   "cell_type": "code",
   "execution_count": 53,
   "id": "2772152c",
   "metadata": {},
   "outputs": [
    {
     "data": {
      "text/plain": [
       "['4177 ']"
      ]
     },
     "execution_count": 53,
     "metadata": {},
     "output_type": "execute_result"
    }
   ],
   "source": [
    "#no.of instances\n",
    "\n",
    "instance=[]\n",
    "inc_tag=driver.find_elements(By.XPATH,'/html/body/table[2]/tbody/tr/td[2]/table[2]/tbody/tr[2]/td[5]/p')\n",
    "for i in inc_tag:\n",
    "    instance.append(i.text)\n",
    "instance\n"
   ]
  },
  {
   "cell_type": "code",
   "execution_count": 54,
   "id": "b65eef4e",
   "metadata": {},
   "outputs": [
    {
     "data": {
      "text/plain": [
       "['8 ']"
      ]
     },
     "execution_count": 54,
     "metadata": {},
     "output_type": "execute_result"
    }
   ],
   "source": [
    "#no.of attributes\n",
    "\n",
    "attribute=[]\n",
    "att_tag=driver.find_elements(By.XPATH,'/html/body/table[2]/tbody/tr/td[2]/table[2]/tbody/tr[2]/td[6]/p')\n",
    "for i in att_tag:\n",
    "    attribute.append(i.text)\n",
    "attribute\n"
   ]
  },
  {
   "cell_type": "code",
   "execution_count": 55,
   "id": "b43e8d21",
   "metadata": {},
   "outputs": [
    {
     "data": {
      "text/plain": [
       "['1995 ']"
      ]
     },
     "execution_count": 55,
     "metadata": {},
     "output_type": "execute_result"
    }
   ],
   "source": [
    "#year\n",
    "\n",
    "year=[]\n",
    "year_tag=driver.find_elements(By.XPATH,'/html/body/table[2]/tbody/tr/td[2]/table[2]/tbody/tr[2]/td[7]/p')\n",
    "for i in year_tag:\n",
    "    year.append(i.text)\n",
    "year\n"
   ]
  },
  {
   "cell_type": "code",
   "execution_count": 56,
   "id": "46ce157f",
   "metadata": {},
   "outputs": [],
   "source": [
    "#Q10 completed \n",
    "#lets close the browser\n",
    "driver.close()"
   ]
  },
  {
   "cell_type": "code",
   "execution_count": 68,
   "id": "89b15953",
   "metadata": {},
   "outputs": [
    {
     "data": {
      "text/plain": [
       "<selenium.webdriver.chrome.webdriver.WebDriver (session=\"2ff6506913874e0b8c2dbb60a77ab32b\")>"
      ]
     },
     "execution_count": 68,
     "metadata": {},
     "output_type": "execute_result"
    }
   ],
   "source": [
    "#Q7\n",
    "\n",
    "\n",
    "\n",
    "# lets first connect to webdriver\n",
    "driver=webdriver.Chrome(r\"C:\\Users\\hp\\Downloads\\chromedriver_win32\\chromedriver.exe\")\n",
    "driver\n"
   ]
  },
  {
   "cell_type": "code",
   "execution_count": 69,
   "id": "c77702a3",
   "metadata": {},
   "outputs": [],
   "source": [
    "# lets maximize the window\n",
    "driver.maximize_window()"
   ]
  },
  {
   "cell_type": "code",
   "execution_count": 70,
   "id": "d59eda40",
   "metadata": {},
   "outputs": [],
   "source": [
    "url='https://www.naukri.com/'\n",
    "driver.get(url)"
   ]
  },
  {
   "cell_type": "code",
   "execution_count": 65,
   "id": "b3cbc352",
   "metadata": {},
   "outputs": [],
   "source": [
    "srch_job=driver.find_element(By.CLASS_NAME,'suggestor-input')\n",
    "srch_job.send_keys(\"recruiter\")"
   ]
  },
  {
   "cell_type": "code",
   "execution_count": 66,
   "id": "094ac20f",
   "metadata": {},
   "outputs": [],
   "source": [
    "button=driver.find_element(By.CLASS_NAME,'qsbSubmit')\n",
    "button.click()"
   ]
  },
  {
   "cell_type": "code",
   "execution_count": 71,
   "id": "3b66849d",
   "metadata": {},
   "outputs": [],
   "source": [
    "srch_jobs=driver.find_element(By.CLASS_NAME,'suggestor-input')\n",
    "srch_jobs.send_keys(\"datascience\")"
   ]
  },
  {
   "cell_type": "code",
   "execution_count": 72,
   "id": "298c4cb8",
   "metadata": {},
   "outputs": [],
   "source": [
    "button=driver.find_element(By.CLASS_NAME,'qsbSubmit')\n",
    "button.click()"
   ]
  },
  {
   "cell_type": "code",
   "execution_count": 73,
   "id": "4e61c345",
   "metadata": {},
   "outputs": [],
   "source": [
    "btn=driver.find_element(By.XPATH,'/html/body/div[1]/div[4]/div/div/section[1]/div[2]/div[1]/div[2]/div[2]/label/i')\n",
    "btn.click()"
   ]
  },
  {
   "cell_type": "code",
   "execution_count": 74,
   "id": "64a35098",
   "metadata": {},
   "outputs": [
    {
     "data": {
      "text/plain": [
       "['Global Talent Pool',\n",
       " 'Acme Hr Consulting',\n",
       " 'Black Turtle',\n",
       " 'Black Turtle',\n",
       " 'Black Turtle',\n",
       " 'Black Turtle',\n",
       " 'Tiger Analytics',\n",
       " 'Talent Et Au-dela',\n",
       " 'Hackerearth',\n",
       " 'Black Turtle',\n",
       " 'Multi Recruit',\n",
       " 'Team4progress',\n",
       " 'Global Talent Pool',\n",
       " 'Myfuturejobs',\n",
       " 'Talent Zone Consultant',\n",
       " 'Seven Consultancy (HR Solution)',\n",
       " 'Seven Consultancy (HR Solution)',\n",
       " 'WSD Consultant',\n",
       " 'Lakshmi North East Solutions',\n",
       " 'Black Turtle']"
      ]
     },
     "execution_count": 74,
     "metadata": {},
     "output_type": "execute_result"
    }
   ],
   "source": [
    "# scrapping the name\n",
    "\n",
    "\n",
    "names=[]\n",
    "name_tag=driver.find_elements(By.XPATH,'//a[@class=\"subTitle ellipsis fleft\"]')\n",
    "for i in name_tag:\n",
    "    names.append(i.text)\n",
    "names\n"
   ]
  },
  {
   "cell_type": "code",
   "execution_count": 75,
   "id": "b4f18359",
   "metadata": {},
   "outputs": [
    {
     "data": {
      "text/plain": [
       "['data scientist',\n",
       " 'Sr. Data Scientist',\n",
       " 'Analyst/Associate - Statistics/Machine Learning/Predictive Modeling',\n",
       " 'Analyst/Associate - Statistics/Machine Learning/Predictive Modeling',\n",
       " 'Analyst/Associate - Statistics/Machine Learning/Predictive Modeling',\n",
       " 'Analyst/Associate - Statistics/Machine Learning/Predictive Modeling',\n",
       " 'Senior Analyst/ Data Scientist',\n",
       " 'Data Scientist',\n",
       " 'Team Lead - Machine Learning & Data Science',\n",
       " 'AVP - Data Scientist - BFSI - ISI/IIM/IIT/NIT',\n",
       " 'Lead Data Scientist',\n",
       " 'Lead Data Scientist',\n",
       " 'Data Scientist',\n",
       " 'Data Science/Analyst',\n",
       " 'Data Analyst',\n",
       " 'Senior Data Analyst',\n",
       " 'Data Analyst',\n",
       " 'Junior Data Scientist/ta',\n",
       " 'Data Scientist',\n",
       " 'Analyst/Associate - Statistics/Machine Learning - IIM/MDI/ISB/FMS']"
      ]
     },
     "execution_count": 75,
     "metadata": {},
     "output_type": "execute_result"
    }
   ],
   "source": [
    "#designation\n",
    "\n",
    "designation=[]\n",
    "desig_tag=driver.find_elements(By.XPATH,'//a[@class=\"title fw500 ellipsis\"]')\n",
    "for i in desig_tag:\n",
    "    designation.append(i.text)\n",
    "designation\n",
    "\n"
   ]
  },
  {
   "cell_type": "code",
   "execution_count": 76,
   "id": "d26b5563",
   "metadata": {},
   "outputs": [
    {
     "data": {
      "text/plain": [
       "['Graduate level math and statistics knowledge is preferred Good Python programmers with ...',\n",
       " 'The Senior Data Scientist oversees the activities of the junior data scientists and pro...',\n",
       " 'Analyst / Associate - Statistics / Machine Learning / Predictive Modeling - BFSI - IIM ...',\n",
       " 'Position: Analyst / Associate - Statistics / Machine Learning / Predictive Modeling - B...',\n",
       " 'Position: Analyst / Associate - Statistics / Machine Learning / Predictive Modeling - B...',\n",
       " 'Position: Analyst / Associate - Statistics / Machine Learning / Predictive Modeling - B...',\n",
       " '2 years of must-have hands-on experience in SAS and Python is mandatoryExperience worki...',\n",
       " 'Strong total 6-8 years experience and hands-on as a Data Scientist',\n",
       " 'must have) Hands-on experience in solving business problems (good to have) Hands-on exp...',\n",
       " 'PhD / Masters/Bachelors degree in a quantitative field such as Mathematics, Physics, Fi...',\n",
       " 'Experience with web analytics, social media analytics, analytics application of cloud c...',\n",
       " 'Experience of working on end-to-end data science pipeline: problem scoping, data gather...',\n",
       " 'Bachelor in Engineering, Data Science, Maths, Stats or Computer Science Capable of clea...',\n",
       " 'Proficient in debugging software using Python IDE Proficient in usage of all Data Analy...',\n",
       " 'graduate degree in Data Science or other quantitative field is preferred Experience in ...',\n",
       " 'Assist the data scientist in development of new analytical tools and methods as and whe...',\n",
       " 'Assist the data scientist in development of new analytical tools and methods as and whe...',\n",
       " 'Ques: Is the candidate willing to work full time as a Data Science program Manager Acad...',\n",
       " 'At least 3 years of experience in Data Science and Analysis of which a minimum of 2 yea...',\n",
       " 'Analyst / Associate - Statistics / Machine Learning / Predictive Modeling - BFSI - IIM ...']"
      ]
     },
     "execution_count": 76,
     "metadata": {},
     "output_type": "execute_result"
    }
   ],
   "source": [
    "#skills\n",
    "\n",
    "\n",
    "skills=[]\n",
    "skill_tag=driver.find_elements(By.XPATH,'//div[@class=\"job-description fs12 grey-text\"]')\n",
    "for i in skill_tag:\n",
    "    skills.append(i.text)\n",
    "skills\n",
    "\n",
    "\n"
   ]
  },
  {
   "cell_type": "code",
   "execution_count": 77,
   "id": "fe36873d",
   "metadata": {},
   "outputs": [
    {
     "data": {
      "text/plain": [
       "['Bangalore/Bengaluru',\n",
       " 'Bangalore/Bengaluru',\n",
       " 'Bangalore/Bengaluru',\n",
       " 'Bangalore/Bengaluru',\n",
       " 'Bangalore/Bengaluru',\n",
       " 'Bangalore/Bengaluru',\n",
       " 'Hyderabad/Secunderabad, Chennai, Bangalore/Bengaluru',\n",
       " 'Pune',\n",
       " 'Bangalore/Bengaluru',\n",
       " 'Delhi / NCR',\n",
       " 'Bangalore/Bengaluru',\n",
       " 'Mumbai, Pune, Bangalore/Bengaluru',\n",
       " 'Bengaluru',\n",
       " 'New Delhi',\n",
       " 'Bangalore/Bengaluru',\n",
       " 'Bangalore/Bengaluru',\n",
       " 'Bangalore/Bengaluru',\n",
       " 'Mumbai, Hyderabad, Pune, Gurgaon, Chennai, Bengaluru',\n",
       " 'Guwahati',\n",
       " 'Bangalore/Bengaluru']"
      ]
     },
     "execution_count": 77,
     "metadata": {},
     "output_type": "execute_result"
    }
   ],
   "source": [
    "# location\n",
    "\n",
    "\n",
    "\n",
    "location=[]\n",
    "loc_tag=driver.find_elements(By.XPATH,'//span[@class=\"ellipsis fleft fs12 lh16 locWdth\"]')\n",
    "for i in loc_tag:\n",
    "    location.append(i.text)\n",
    "location\n",
    "\n",
    "\n"
   ]
  },
  {
   "cell_type": "code",
   "execution_count": 78,
   "id": "bc9e7055",
   "metadata": {},
   "outputs": [],
   "source": [
    "# =====================thank you==================================="
   ]
  },
  {
   "cell_type": "code",
   "execution_count": null,
   "id": "bbb81c04",
   "metadata": {},
   "outputs": [],
   "source": []
  }
 ],
 "metadata": {
  "kernelspec": {
   "display_name": "Python 3 (ipykernel)",
   "language": "python",
   "name": "python3"
  },
  "language_info": {
   "codemirror_mode": {
    "name": "ipython",
    "version": 3
   },
   "file_extension": ".py",
   "mimetype": "text/x-python",
   "name": "python",
   "nbconvert_exporter": "python",
   "pygments_lexer": "ipython3",
   "version": "3.9.12"
  }
 },
 "nbformat": 4,
 "nbformat_minor": 5
}
