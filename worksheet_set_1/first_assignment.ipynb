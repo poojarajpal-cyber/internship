{
 "cells": [
  {
   "cell_type": "code",
   "execution_count": 1,
   "id": "3a09b479",
   "metadata": {},
   "outputs": [
    {
     "name": "stdout",
     "output_type": "stream",
     "text": [
      "enter a number6\n",
      "factorial of a given number is: 720\n"
     ]
    }
   ],
   "source": [
    "n=int(input(\"enter a number\"))\n",
    "fact=1\n",
    "if n>=1:\n",
    "    for i in range(1,n+1):\n",
    "        fact=fact*i\n",
    "print(\"factorial of a given number is:\",fact)"
   ]
  },
  {
   "cell_type": "code",
   "execution_count": 2,
   "id": "acf1a2db",
   "metadata": {},
   "outputs": [
    {
     "name": "stdout",
     "output_type": "stream",
     "text": [
      "enter any number6\n",
      "6 is composite number\n"
     ]
    }
   ],
   "source": [
    "n=int(input(\"enter any number\"))\n",
    "if n>1:\n",
    "    for i in range(2,n):\n",
    "        if(n%i==0):\n",
    "            print(n,\"is composite number\")\n",
    "            break\n",
    "        else:\n",
    "            print(n,\"is a prime number\")\n",
    "else:\n",
    "    print(\"please enter another number\")"
   ]
  },
  {
   "cell_type": "code",
   "execution_count": 3,
   "id": "7a6bf2f5",
   "metadata": {},
   "outputs": [
    {
     "name": "stdout",
     "output_type": "stream",
     "text": [
      "enter any wordlevel\n",
      "This word is palindrome\n"
     ]
    }
   ],
   "source": [
    "str=input(\"enter any word\")\n",
    "rev=str[::-1]\n",
    "if str==rev:\n",
    "    print(\"This word is palindrome\")\n",
    "else:\n",
    "    print(\"this word is not palindrome\")"
   ]
  },
  {
   "cell_type": "code",
   "execution_count": 4,
   "id": "b9252c5e",
   "metadata": {},
   "outputs": [],
   "source": [
    "import numpy as np"
   ]
  },
  {
   "cell_type": "code",
   "execution_count": 5,
   "id": "f7475d2c",
   "metadata": {},
   "outputs": [
    {
     "name": "stdout",
     "output_type": "stream",
     "text": [
      "enter base4\n",
      "enter height6\n",
      "hypotenuse= 7.211102550927978\n"
     ]
    }
   ],
   "source": [
    "a=float(input(\"enter base\"))\n",
    "b=float(input(\"enter height\"))\n",
    "c=np.sqrt(a**2+b**2)\n",
    "print(\"hypotenuse=\",c)"
   ]
  },
  {
   "cell_type": "code",
   "execution_count": 9,
   "id": "52459a53",
   "metadata": {},
   "outputs": [
    {
     "name": "stdout",
     "output_type": "stream",
     "text": [
      "enter any stringnitesh\n",
      "6\n"
     ]
    }
   ],
   "source": [
    "a=input(\"enter any string\")\n",
    "b=len(a)\n",
    "print(b)"
   ]
  },
  {
   "cell_type": "code",
   "execution_count": null,
   "id": "c3e9bf64",
   "metadata": {},
   "outputs": [],
   "source": []
  }
 ],
 "metadata": {
  "kernelspec": {
   "display_name": "Python 3 (ipykernel)",
   "language": "python",
   "name": "python3"
  },
  "language_info": {
   "codemirror_mode": {
    "name": "ipython",
    "version": 3
   },
   "file_extension": ".py",
   "mimetype": "text/x-python",
   "name": "python",
   "nbconvert_exporter": "python",
   "pygments_lexer": "ipython3",
   "version": "3.9.12"
  }
 },
 "nbformat": 4,
 "nbformat_minor": 5
}
